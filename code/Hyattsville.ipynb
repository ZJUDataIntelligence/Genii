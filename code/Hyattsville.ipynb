{
 "cells": [
  {
   "cell_type": "code",
   "execution_count": 1,
   "id": "a0d8bc56",
   "metadata": {},
   "outputs": [],
   "source": [
    "import pandas as pd\n",
    "import numpy as np\n",
    "import geopandas as gpd\n",
    "import shapely.geometry\n",
    "import datetime\n",
    "import time\n",
    "from collections import Counter\n",
    "from numpy import array\n",
    "from numpy import argmax\n",
    "from sklearn.preprocessing import LabelEncoder\n",
    "from sklearn.preprocessing import OneHotEncoder\n",
    "from intervals import Interval\n",
    "import warnings\n",
    "warnings.filterwarnings('ignore')"
   ]
  },
  {
   "cell_type": "markdown",
   "id": "13c0f847",
   "metadata": {},
   "source": [
    "## 垃圾数据处理"
   ]
  },
  {
   "cell_type": "code",
   "execution_count": 2,
   "id": "f580de09",
   "metadata": {},
   "outputs": [],
   "source": [
    "# 数据预处理\n",
    "data=pd.read_csv('./data/Hyattsville_OpenLitterMap.csv')"
   ]
  },
  {
   "cell_type": "code",
   "execution_count": 3,
   "id": "535614d0",
   "metadata": {},
   "outputs": [],
   "source": [
    "df = data.fillna(0)# 填充缺失值"
   ]
  },
  {
   "cell_type": "code",
   "execution_count": 4,
   "id": "edf95ddd",
   "metadata": {
    "scrolled": true
   },
   "outputs": [
    {
     "data": {
      "text/html": [
       "<div>\n",
       "<style scoped>\n",
       "    .dataframe tbody tr th:only-of-type {\n",
       "        vertical-align: middle;\n",
       "    }\n",
       "\n",
       "    .dataframe tbody tr th {\n",
       "        vertical-align: top;\n",
       "    }\n",
       "\n",
       "    .dataframe thead th {\n",
       "        text-align: right;\n",
       "    }\n",
       "</style>\n",
       "<table border=\"1\" class=\"dataframe\">\n",
       "  <thead>\n",
       "    <tr style=\"text-align: right;\">\n",
       "      <th></th>\n",
       "      <th>id</th>\n",
       "      <th>verification</th>\n",
       "      <th>phone</th>\n",
       "      <th>date_taken</th>\n",
       "      <th>date_uploaded</th>\n",
       "      <th>lat</th>\n",
       "      <th>lon</th>\n",
       "      <th>picked up</th>\n",
       "      <th>address</th>\n",
       "      <th>total_litter</th>\n",
       "      <th>...</th>\n",
       "      <th>ear_plugs</th>\n",
       "      <th>elec_small</th>\n",
       "      <th>elec_large</th>\n",
       "      <th>batteries</th>\n",
       "      <th>balloons.1</th>\n",
       "      <th>life_buoy</th>\n",
       "      <th>other</th>\n",
       "      <th>custom_tag_1</th>\n",
       "      <th>custom_tag_2</th>\n",
       "      <th>custom_tag_3</th>\n",
       "    </tr>\n",
       "  </thead>\n",
       "  <tbody>\n",
       "    <tr>\n",
       "      <th>0</th>\n",
       "      <td>115640</td>\n",
       "      <td>2</td>\n",
       "      <td>iPhone 11 Pro</td>\n",
       "      <td>2021-01-19 13:24:21</td>\n",
       "      <td>2021-01-19 22:15:06</td>\n",
       "      <td>38.950817</td>\n",
       "      <td>-76.959733</td>\n",
       "      <td>No</td>\n",
       "      <td>3621, Farragut St, Hyattsville, Prince George'...</td>\n",
       "      <td>1.0</td>\n",
       "      <td>...</td>\n",
       "      <td>0.0</td>\n",
       "      <td>0.0</td>\n",
       "      <td>0.0</td>\n",
       "      <td>0.0</td>\n",
       "      <td>0.0</td>\n",
       "      <td>0.0</td>\n",
       "      <td>0.0</td>\n",
       "      <td>0</td>\n",
       "      <td>0.0</td>\n",
       "      <td>0.0</td>\n",
       "    </tr>\n",
       "    <tr>\n",
       "      <th>1</th>\n",
       "      <td>115641</td>\n",
       "      <td>2</td>\n",
       "      <td>iPhone 11 Pro</td>\n",
       "      <td>2021-01-19 13:24:13</td>\n",
       "      <td>2021-01-19 22:15:10</td>\n",
       "      <td>38.950870</td>\n",
       "      <td>-76.959717</td>\n",
       "      <td>No</td>\n",
       "      <td>3621, Farragut St, Hyattsville, Prince George'...</td>\n",
       "      <td>1.0</td>\n",
       "      <td>...</td>\n",
       "      <td>0.0</td>\n",
       "      <td>0.0</td>\n",
       "      <td>0.0</td>\n",
       "      <td>0.0</td>\n",
       "      <td>0.0</td>\n",
       "      <td>0.0</td>\n",
       "      <td>0.0</td>\n",
       "      <td>0</td>\n",
       "      <td>0.0</td>\n",
       "      <td>0.0</td>\n",
       "    </tr>\n",
       "    <tr>\n",
       "      <th>2</th>\n",
       "      <td>115642</td>\n",
       "      <td>2</td>\n",
       "      <td>iPhone 11 Pro</td>\n",
       "      <td>2021-01-19 13:23:22</td>\n",
       "      <td>2021-01-19 22:15:14</td>\n",
       "      <td>38.950817</td>\n",
       "      <td>-76.959755</td>\n",
       "      <td>No</td>\n",
       "      <td>3619, Farragut St, Hyattsville, Prince George'...</td>\n",
       "      <td>1.0</td>\n",
       "      <td>...</td>\n",
       "      <td>0.0</td>\n",
       "      <td>0.0</td>\n",
       "      <td>0.0</td>\n",
       "      <td>0.0</td>\n",
       "      <td>0.0</td>\n",
       "      <td>0.0</td>\n",
       "      <td>0.0</td>\n",
       "      <td>0</td>\n",
       "      <td>0.0</td>\n",
       "      <td>0.0</td>\n",
       "    </tr>\n",
       "    <tr>\n",
       "      <th>3</th>\n",
       "      <td>115643</td>\n",
       "      <td>2</td>\n",
       "      <td>iPhone 11 Pro</td>\n",
       "      <td>2021-01-19 13:23:16</td>\n",
       "      <td>2021-01-19 22:15:18</td>\n",
       "      <td>38.950817</td>\n",
       "      <td>-76.959763</td>\n",
       "      <td>No</td>\n",
       "      <td>3619, Farragut St, Hyattsville, Prince George'...</td>\n",
       "      <td>1.0</td>\n",
       "      <td>...</td>\n",
       "      <td>0.0</td>\n",
       "      <td>0.0</td>\n",
       "      <td>0.0</td>\n",
       "      <td>0.0</td>\n",
       "      <td>0.0</td>\n",
       "      <td>0.0</td>\n",
       "      <td>0.0</td>\n",
       "      <td>0</td>\n",
       "      <td>0.0</td>\n",
       "      <td>0.0</td>\n",
       "    </tr>\n",
       "    <tr>\n",
       "      <th>4</th>\n",
       "      <td>115644</td>\n",
       "      <td>2</td>\n",
       "      <td>iPhone 11 Pro</td>\n",
       "      <td>2021-01-19 13:22:38</td>\n",
       "      <td>2021-01-19 22:15:22</td>\n",
       "      <td>38.950858</td>\n",
       "      <td>-76.959878</td>\n",
       "      <td>No</td>\n",
       "      <td>3617, Farragut St, Hyattsville, Prince George'...</td>\n",
       "      <td>1.0</td>\n",
       "      <td>...</td>\n",
       "      <td>0.0</td>\n",
       "      <td>0.0</td>\n",
       "      <td>0.0</td>\n",
       "      <td>0.0</td>\n",
       "      <td>0.0</td>\n",
       "      <td>0.0</td>\n",
       "      <td>0.0</td>\n",
       "      <td>0</td>\n",
       "      <td>0.0</td>\n",
       "      <td>0.0</td>\n",
       "    </tr>\n",
       "    <tr>\n",
       "      <th>...</th>\n",
       "      <td>...</td>\n",
       "      <td>...</td>\n",
       "      <td>...</td>\n",
       "      <td>...</td>\n",
       "      <td>...</td>\n",
       "      <td>...</td>\n",
       "      <td>...</td>\n",
       "      <td>...</td>\n",
       "      <td>...</td>\n",
       "      <td>...</td>\n",
       "      <td>...</td>\n",
       "      <td>...</td>\n",
       "      <td>...</td>\n",
       "      <td>...</td>\n",
       "      <td>...</td>\n",
       "      <td>...</td>\n",
       "      <td>...</td>\n",
       "      <td>...</td>\n",
       "      <td>...</td>\n",
       "      <td>...</td>\n",
       "      <td>...</td>\n",
       "    </tr>\n",
       "    <tr>\n",
       "      <th>9576</th>\n",
       "      <td>269604</td>\n",
       "      <td>2</td>\n",
       "      <td>iPhone 11 Pro</td>\n",
       "      <td>2022-03-11 16:06:33</td>\n",
       "      <td>2022-03-12 00:53:08</td>\n",
       "      <td>38.954769</td>\n",
       "      <td>-76.967614</td>\n",
       "      <td>Yes</td>\n",
       "      <td>2801, Hamilton Street, Hyattsville, Prince Geo...</td>\n",
       "      <td>1.0</td>\n",
       "      <td>...</td>\n",
       "      <td>0.0</td>\n",
       "      <td>0.0</td>\n",
       "      <td>0.0</td>\n",
       "      <td>0.0</td>\n",
       "      <td>0.0</td>\n",
       "      <td>0.0</td>\n",
       "      <td>0.0</td>\n",
       "      <td>0</td>\n",
       "      <td>0.0</td>\n",
       "      <td>0.0</td>\n",
       "    </tr>\n",
       "    <tr>\n",
       "      <th>9577</th>\n",
       "      <td>269605</td>\n",
       "      <td>2</td>\n",
       "      <td>iPhone 11 Pro</td>\n",
       "      <td>2022-03-11 16:06:27</td>\n",
       "      <td>2022-03-12 00:53:13</td>\n",
       "      <td>38.954761</td>\n",
       "      <td>-76.967606</td>\n",
       "      <td>Yes</td>\n",
       "      <td>2801, Hamilton Street, Hyattsville, Prince Geo...</td>\n",
       "      <td>1.0</td>\n",
       "      <td>...</td>\n",
       "      <td>0.0</td>\n",
       "      <td>0.0</td>\n",
       "      <td>0.0</td>\n",
       "      <td>0.0</td>\n",
       "      <td>0.0</td>\n",
       "      <td>0.0</td>\n",
       "      <td>0.0</td>\n",
       "      <td>0</td>\n",
       "      <td>0.0</td>\n",
       "      <td>0.0</td>\n",
       "    </tr>\n",
       "    <tr>\n",
       "      <th>9578</th>\n",
       "      <td>269606</td>\n",
       "      <td>2</td>\n",
       "      <td>iPhone 11 Pro</td>\n",
       "      <td>2022-03-11 16:05:44</td>\n",
       "      <td>2022-03-12 00:53:15</td>\n",
       "      <td>38.954747</td>\n",
       "      <td>-76.967653</td>\n",
       "      <td>Yes</td>\n",
       "      <td>2801, Hamilton Street, Hyattsville, Prince Geo...</td>\n",
       "      <td>1.0</td>\n",
       "      <td>...</td>\n",
       "      <td>0.0</td>\n",
       "      <td>0.0</td>\n",
       "      <td>0.0</td>\n",
       "      <td>0.0</td>\n",
       "      <td>0.0</td>\n",
       "      <td>0.0</td>\n",
       "      <td>0.0</td>\n",
       "      <td>0</td>\n",
       "      <td>0.0</td>\n",
       "      <td>0.0</td>\n",
       "    </tr>\n",
       "    <tr>\n",
       "      <th>9579</th>\n",
       "      <td>269607</td>\n",
       "      <td>2</td>\n",
       "      <td>iPhone 11 Pro</td>\n",
       "      <td>2022-03-11 16:04:50</td>\n",
       "      <td>2022-03-12 00:53:18</td>\n",
       "      <td>38.954728</td>\n",
       "      <td>-76.967675</td>\n",
       "      <td>Yes</td>\n",
       "      <td>2801, Hamilton Street, Hyattsville, Prince Geo...</td>\n",
       "      <td>1.0</td>\n",
       "      <td>...</td>\n",
       "      <td>0.0</td>\n",
       "      <td>0.0</td>\n",
       "      <td>0.0</td>\n",
       "      <td>0.0</td>\n",
       "      <td>0.0</td>\n",
       "      <td>0.0</td>\n",
       "      <td>0.0</td>\n",
       "      <td>0</td>\n",
       "      <td>0.0</td>\n",
       "      <td>0.0</td>\n",
       "    </tr>\n",
       "    <tr>\n",
       "      <th>9580</th>\n",
       "      <td>269608</td>\n",
       "      <td>2</td>\n",
       "      <td>iPhone 11 Pro</td>\n",
       "      <td>2022-03-11 16:04:13</td>\n",
       "      <td>2022-03-12 00:53:20</td>\n",
       "      <td>38.954708</td>\n",
       "      <td>-76.967658</td>\n",
       "      <td>Yes</td>\n",
       "      <td>2801, Hamilton Street, Hyattsville, Prince Geo...</td>\n",
       "      <td>2.0</td>\n",
       "      <td>...</td>\n",
       "      <td>0.0</td>\n",
       "      <td>0.0</td>\n",
       "      <td>0.0</td>\n",
       "      <td>0.0</td>\n",
       "      <td>0.0</td>\n",
       "      <td>0.0</td>\n",
       "      <td>0.0</td>\n",
       "      <td>0</td>\n",
       "      <td>0.0</td>\n",
       "      <td>0.0</td>\n",
       "    </tr>\n",
       "  </tbody>\n",
       "</table>\n",
       "<p>9581 rows × 292 columns</p>\n",
       "</div>"
      ],
      "text/plain": [
       "          id  verification          phone           date_taken  \\\n",
       "0     115640             2  iPhone 11 Pro  2021-01-19 13:24:21   \n",
       "1     115641             2  iPhone 11 Pro  2021-01-19 13:24:13   \n",
       "2     115642             2  iPhone 11 Pro  2021-01-19 13:23:22   \n",
       "3     115643             2  iPhone 11 Pro  2021-01-19 13:23:16   \n",
       "4     115644             2  iPhone 11 Pro  2021-01-19 13:22:38   \n",
       "...      ...           ...            ...                  ...   \n",
       "9576  269604             2  iPhone 11 Pro  2022-03-11 16:06:33   \n",
       "9577  269605             2  iPhone 11 Pro  2022-03-11 16:06:27   \n",
       "9578  269606             2  iPhone 11 Pro  2022-03-11 16:05:44   \n",
       "9579  269607             2  iPhone 11 Pro  2022-03-11 16:04:50   \n",
       "9580  269608             2  iPhone 11 Pro  2022-03-11 16:04:13   \n",
       "\n",
       "            date_uploaded        lat        lon picked up  \\\n",
       "0     2021-01-19 22:15:06  38.950817 -76.959733        No   \n",
       "1     2021-01-19 22:15:10  38.950870 -76.959717        No   \n",
       "2     2021-01-19 22:15:14  38.950817 -76.959755        No   \n",
       "3     2021-01-19 22:15:18  38.950817 -76.959763        No   \n",
       "4     2021-01-19 22:15:22  38.950858 -76.959878        No   \n",
       "...                   ...        ...        ...       ...   \n",
       "9576  2022-03-12 00:53:08  38.954769 -76.967614       Yes   \n",
       "9577  2022-03-12 00:53:13  38.954761 -76.967606       Yes   \n",
       "9578  2022-03-12 00:53:15  38.954747 -76.967653       Yes   \n",
       "9579  2022-03-12 00:53:18  38.954728 -76.967675       Yes   \n",
       "9580  2022-03-12 00:53:20  38.954708 -76.967658       Yes   \n",
       "\n",
       "                                                address  total_litter  ...  \\\n",
       "0     3621, Farragut St, Hyattsville, Prince George'...           1.0  ...   \n",
       "1     3621, Farragut St, Hyattsville, Prince George'...           1.0  ...   \n",
       "2     3619, Farragut St, Hyattsville, Prince George'...           1.0  ...   \n",
       "3     3619, Farragut St, Hyattsville, Prince George'...           1.0  ...   \n",
       "4     3617, Farragut St, Hyattsville, Prince George'...           1.0  ...   \n",
       "...                                                 ...           ...  ...   \n",
       "9576  2801, Hamilton Street, Hyattsville, Prince Geo...           1.0  ...   \n",
       "9577  2801, Hamilton Street, Hyattsville, Prince Geo...           1.0  ...   \n",
       "9578  2801, Hamilton Street, Hyattsville, Prince Geo...           1.0  ...   \n",
       "9579  2801, Hamilton Street, Hyattsville, Prince Geo...           1.0  ...   \n",
       "9580  2801, Hamilton Street, Hyattsville, Prince Geo...           2.0  ...   \n",
       "\n",
       "      ear_plugs  elec_small  elec_large  batteries  balloons.1  life_buoy  \\\n",
       "0           0.0         0.0         0.0        0.0         0.0        0.0   \n",
       "1           0.0         0.0         0.0        0.0         0.0        0.0   \n",
       "2           0.0         0.0         0.0        0.0         0.0        0.0   \n",
       "3           0.0         0.0         0.0        0.0         0.0        0.0   \n",
       "4           0.0         0.0         0.0        0.0         0.0        0.0   \n",
       "...         ...         ...         ...        ...         ...        ...   \n",
       "9576        0.0         0.0         0.0        0.0         0.0        0.0   \n",
       "9577        0.0         0.0         0.0        0.0         0.0        0.0   \n",
       "9578        0.0         0.0         0.0        0.0         0.0        0.0   \n",
       "9579        0.0         0.0         0.0        0.0         0.0        0.0   \n",
       "9580        0.0         0.0         0.0        0.0         0.0        0.0   \n",
       "\n",
       "      other  custom_tag_1  custom_tag_2  custom_tag_3  \n",
       "0       0.0             0           0.0           0.0  \n",
       "1       0.0             0           0.0           0.0  \n",
       "2       0.0             0           0.0           0.0  \n",
       "3       0.0             0           0.0           0.0  \n",
       "4       0.0             0           0.0           0.0  \n",
       "...     ...           ...           ...           ...  \n",
       "9576    0.0             0           0.0           0.0  \n",
       "9577    0.0             0           0.0           0.0  \n",
       "9578    0.0             0           0.0           0.0  \n",
       "9579    0.0             0           0.0           0.0  \n",
       "9580    0.0             0           0.0           0.0  \n",
       "\n",
       "[9581 rows x 292 columns]"
      ]
     },
     "execution_count": 4,
     "metadata": {},
     "output_type": "execute_result"
    }
   ],
   "source": [
    "df"
   ]
  },
  {
   "cell_type": "code",
   "execution_count": 5,
   "id": "8a909a8c",
   "metadata": {},
   "outputs": [
    {
     "data": {
      "text/plain": [
       "21410.0"
      ]
     },
     "execution_count": 5,
     "metadata": {},
     "output_type": "execute_result"
    }
   ],
   "source": [
    "sum(df['total_litter'])"
   ]
  },
  {
   "cell_type": "markdown",
   "id": "929a47ed",
   "metadata": {},
   "source": [
    "### 垃圾分类"
   ]
  },
  {
   "cell_type": "code",
   "execution_count": 5,
   "id": "f0fc4cf6",
   "metadata": {},
   "outputs": [],
   "source": [
    "# 垃圾分类\n",
    "def sumc(x):# 定义合并类的函数\n",
    "    count_sum = 0\n",
    "    for k in x.iteritems():\n",
    "        count_sum += k[1]\n",
    "    return count_sum"
   ]
  },
  {
   "cell_type": "code",
   "execution_count": 6,
   "id": "ada51d7e",
   "metadata": {},
   "outputs": [
    {
     "data": {
      "text/plain": [
       "909.0"
      ]
     },
     "execution_count": 6,
     "metadata": {},
     "output_type": "execute_result"
    }
   ],
   "source": [
    "df['SMOKING']=df.loc[:,'butts':'smokingOther'].apply(sumc,axis=1)\n",
    "df['SMOKING'].sum()"
   ]
  },
  {
   "cell_type": "code",
   "execution_count": 7,
   "id": "40e1b465",
   "metadata": {},
   "outputs": [],
   "source": [
    "df=df.drop(df.loc[:,'butts':'smokingOther'],axis=1)"
   ]
  },
  {
   "cell_type": "code",
   "execution_count": 8,
   "id": "f6c0ade7",
   "metadata": {},
   "outputs": [
    {
     "data": {
      "text/plain": [
       "2054.0"
      ]
     },
     "execution_count": 8,
     "metadata": {},
     "output_type": "execute_result"
    }
   ],
   "source": [
    "df['FOOD']=df.loc[:,'sweetWrappers':'chewing_gum'].apply(sumc,axis=1)\n",
    "df['FOOD'].sum()"
   ]
  },
  {
   "cell_type": "code",
   "execution_count": 9,
   "id": "dcd371f3",
   "metadata": {},
   "outputs": [],
   "source": [
    "df=df.drop(df.loc[:,'sweetWrappers':'chewing_gum'],axis=1)"
   ]
  },
  {
   "cell_type": "code",
   "execution_count": 10,
   "id": "2ab9d572",
   "metadata": {},
   "outputs": [
    {
     "data": {
      "text/plain": [
       "120.0"
      ]
     },
     "execution_count": 10,
     "metadata": {},
     "output_type": "execute_result"
    }
   ],
   "source": [
    "df['COFFEE']=df.loc[:,'coffeeCups':'coffeeOther'].apply(sumc,axis=1)\n",
    "df['COFFEE'].sum()"
   ]
  },
  {
   "cell_type": "code",
   "execution_count": 11,
   "id": "056b5396",
   "metadata": {},
   "outputs": [],
   "source": [
    "df=df.drop(df.loc[:,'coffeeCups':'coffeeOther'],axis=1)"
   ]
  },
  {
   "cell_type": "code",
   "execution_count": 12,
   "id": "8a6cb8a4",
   "metadata": {},
   "outputs": [
    {
     "data": {
      "text/plain": [
       "5281.0"
      ]
     },
     "execution_count": 12,
     "metadata": {},
     "output_type": "execute_result"
    }
   ],
   "source": [
    "df['ALCOHOL']=df.loc[:,'beerCan':'alcoholOther'].apply(sumc,axis=1)\n",
    "df['ALCOHOL'].sum()"
   ]
  },
  {
   "cell_type": "code",
   "execution_count": 13,
   "id": "d046b6a7",
   "metadata": {},
   "outputs": [],
   "source": [
    "df=df.drop(df.loc[:,'beerCan':'alcoholOther'],axis=1)"
   ]
  },
  {
   "cell_type": "code",
   "execution_count": 14,
   "id": "3881a17d",
   "metadata": {},
   "outputs": [
    {
     "data": {
      "text/plain": [
       "4659.0"
      ]
     },
     "execution_count": 14,
     "metadata": {},
     "output_type": "execute_result"
    }
   ],
   "source": [
    "df['SOFTDRINKS']=df.loc[:,'waterBottle':'softDrinkOther'].apply(sumc,axis=1)\n",
    "df['SOFTDRINKS'].sum()"
   ]
  },
  {
   "cell_type": "code",
   "execution_count": 15,
   "id": "07e208ed",
   "metadata": {},
   "outputs": [],
   "source": [
    "df=df.drop(df.loc[:,'waterBottle':'softDrinkOther'],axis=1)"
   ]
  },
  {
   "cell_type": "code",
   "execution_count": 16,
   "id": "9fe672fd",
   "metadata": {},
   "outputs": [
    {
     "data": {
      "text/plain": [
       "448.0"
      ]
     },
     "execution_count": 16,
     "metadata": {},
     "output_type": "execute_result"
    }
   ],
   "source": [
    "df['SANITARY']=df.loc[:,'condoms':'hand_sanitiser'].apply(sumc,axis=1)\n",
    "df['SANITARY'].sum()"
   ]
  },
  {
   "cell_type": "code",
   "execution_count": 17,
   "id": "66f8a595",
   "metadata": {},
   "outputs": [],
   "source": [
    "df=df.drop(df.loc[:,'condoms':'hand_sanitiser'],axis=1)"
   ]
  },
  {
   "cell_type": "code",
   "execution_count": 18,
   "id": "668e1513",
   "metadata": {},
   "outputs": [
    {
     "data": {
      "text/plain": [
       "337.0"
      ]
     },
     "execution_count": 18,
     "metadata": {},
     "output_type": "execute_result"
    }
   ],
   "source": [
    "df['COASTAL']=df.loc[:,'microplastics':'styro_large'].apply(sumc,axis=1)\n",
    "df['COASTAL'].sum()"
   ]
  },
  {
   "cell_type": "code",
   "execution_count": 19,
   "id": "c82367cb",
   "metadata": {},
   "outputs": [],
   "source": [
    "df=df.drop(df.loc[:,'microplastics':'styro_large'],axis=1)"
   ]
  },
  {
   "cell_type": "code",
   "execution_count": 20,
   "id": "535191b6",
   "metadata": {},
   "outputs": [
    {
     "data": {
      "text/plain": [
       "3.0"
      ]
     },
     "execution_count": 20,
     "metadata": {},
     "output_type": "execute_result"
    }
   ],
   "source": [
    "df['DUMPING']=df.loc[:,'small':'large'].apply(sumc,axis=1)\n",
    "df['DUMPING'].sum()"
   ]
  },
  {
   "cell_type": "code",
   "execution_count": 21,
   "id": "17fbfe60",
   "metadata": {},
   "outputs": [],
   "source": [
    "df=df.drop(df.loc[:,'small':'large'],axis=1)"
   ]
  },
  {
   "cell_type": "code",
   "execution_count": 22,
   "id": "356a8edf",
   "metadata": {},
   "outputs": [
    {
     "data": {
      "text/plain": [
       "31.0"
      ]
     },
     "execution_count": 22,
     "metadata": {},
     "output_type": "execute_result"
    }
   ],
   "source": [
    "df['INDUSTRIAL']=df.loc[:,'oil':'industrial_other'].apply(sumc,axis=1)\n",
    "df['INDUSTRIAL'].sum()"
   ]
  },
  {
   "cell_type": "code",
   "execution_count": 23,
   "id": "4867dd6b",
   "metadata": {},
   "outputs": [
    {
     "data": {
      "text/plain": [
       "4542.0"
      ]
     },
     "execution_count": 23,
     "metadata": {},
     "output_type": "execute_result"
    }
   ],
   "source": [
    "df['BRANDS']=df.loc[:,'aadrink':'wrigleys'].apply(sumc,axis=1)\n",
    "df['BRANDS'].sum()"
   ]
  },
  {
   "cell_type": "code",
   "execution_count": 24,
   "id": "0a3995b3",
   "metadata": {},
   "outputs": [],
   "source": [
    "df=df.drop(df.loc[:,'aadrink':'wrigleys'],axis=1)"
   ]
  },
  {
   "cell_type": "code",
   "execution_count": 25,
   "id": "c436b6b7",
   "metadata": {},
   "outputs": [],
   "source": [
    "df=df.drop(df.loc[:,'oil':'industrial_other'],axis=1)"
   ]
  },
  {
   "cell_type": "code",
   "execution_count": 26,
   "id": "0c23a9f8",
   "metadata": {},
   "outputs": [
    {
     "data": {
      "text/plain": [
       "21.0"
      ]
     },
     "execution_count": 26,
     "metadata": {},
     "output_type": "execute_result"
    }
   ],
   "source": [
    "df['DOGSHIT']=df.loc[:,'poo':'poo_in_bag'].apply(sumc,axis=1)\n",
    "df['DOGSHIT'].sum()"
   ]
  },
  {
   "cell_type": "code",
   "execution_count": 27,
   "id": "3cd57f92",
   "metadata": {},
   "outputs": [],
   "source": [
    "df=df.drop(df.loc[:,'poo':'poo_in_bag'],axis=1)"
   ]
  },
  {
   "cell_type": "code",
   "execution_count": 28,
   "id": "0fa76c4a",
   "metadata": {},
   "outputs": [],
   "source": [
    "df['ART']=df.loc[:,'item']"
   ]
  },
  {
   "cell_type": "code",
   "execution_count": 29,
   "id": "ad71fe5f",
   "metadata": {},
   "outputs": [
    {
     "data": {
      "text/plain": [
       "0.0"
      ]
     },
     "execution_count": 29,
     "metadata": {},
     "output_type": "execute_result"
    }
   ],
   "source": [
    "df['ART'].sum()"
   ]
  },
  {
   "cell_type": "code",
   "execution_count": 30,
   "id": "4bf5e083",
   "metadata": {},
   "outputs": [],
   "source": [
    "df['MATERIAL']=df.loc[:,'aluminium':'wood'].apply(sumc,axis=1)"
   ]
  },
  {
   "cell_type": "code",
   "execution_count": 31,
   "id": "9f45e42e",
   "metadata": {},
   "outputs": [
    {
     "data": {
      "text/plain": [
       "0.0"
      ]
     },
     "execution_count": 31,
     "metadata": {},
     "output_type": "execute_result"
    }
   ],
   "source": [
    "df['MATERIAL'].sum()"
   ]
  },
  {
   "cell_type": "code",
   "execution_count": 32,
   "id": "95f362d7",
   "metadata": {},
   "outputs": [],
   "source": [
    "df=df.drop(df.loc[:,'aluminium':'wood'],axis=1)"
   ]
  },
  {
   "cell_type": "code",
   "execution_count": 33,
   "id": "d3116e3e",
   "metadata": {},
   "outputs": [],
   "source": [
    "df=df.drop('item',axis=1)"
   ]
  },
  {
   "cell_type": "code",
   "execution_count": 34,
   "id": "1ae91732",
   "metadata": {},
   "outputs": [
    {
     "data": {
      "text/plain": [
       "3543.0"
      ]
     },
     "execution_count": 34,
     "metadata": {},
     "output_type": "execute_result"
    }
   ],
   "source": [
    "df['OTHER']=df.loc[:,'random_litter':'other'].apply(sumc,axis=1)\n",
    "df['OTHER'].sum()"
   ]
  },
  {
   "cell_type": "code",
   "execution_count": 35,
   "id": "b6b358ac",
   "metadata": {},
   "outputs": [],
   "source": [
    "df=df.drop(df.loc[:,'random_litter':'other'],axis=1)"
   ]
  },
  {
   "cell_type": "code",
   "execution_count": 36,
   "id": "6f74944d",
   "metadata": {},
   "outputs": [
    {
     "data": {
      "text/plain": [
       "Index(['id', 'verification', 'phone', 'date_taken', 'date_uploaded', 'lat',\n",
       "       'lon', 'picked up', 'address', 'total_litter', 'SMOKING', 'FOOD',\n",
       "       'COFFEE', 'ALCOHOL', 'SOFTDRINKS', 'SANITARY', 'COASTAL', 'DUMPING',\n",
       "       'INDUSTRIAL', 'BRANDS', 'DOGSHIT', 'ART', 'MATERIAL', 'OTHER',\n",
       "       'custom_tag_1', 'custom_tag_2', 'custom_tag_3'],\n",
       "      dtype='object')"
      ]
     },
     "execution_count": 36,
     "metadata": {},
     "output_type": "execute_result"
    }
   ],
   "source": [
    "df.columns"
   ]
  },
  {
   "cell_type": "code",
   "execution_count": 37,
   "id": "3b4735fd",
   "metadata": {},
   "outputs": [],
   "source": [
    "df=df.drop(df.loc[:,'custom_tag_1':'custom_tag_3'],axis=1)# 删除不需要的标签"
   ]
  },
  {
   "cell_type": "code",
   "execution_count": 38,
   "id": "1eaa6769",
   "metadata": {},
   "outputs": [],
   "source": [
    "df['OTHER']=df['OTHER']+df['ART']+df['DOGSHIT']+df['INDUSTRIAL']+df['DUMPING']+df['MATERIAL']"
   ]
  },
  {
   "cell_type": "code",
   "execution_count": 39,
   "id": "4500ea87",
   "metadata": {},
   "outputs": [
    {
     "data": {
      "text/plain": [
       "3598.0"
      ]
     },
     "execution_count": 39,
     "metadata": {},
     "output_type": "execute_result"
    }
   ],
   "source": [
    "df['OTHER'].sum()"
   ]
  },
  {
   "cell_type": "code",
   "execution_count": 40,
   "id": "8bf259ab",
   "metadata": {},
   "outputs": [],
   "source": [
    "df=df.drop(['ART','DOGSHIT','INDUSTRIAL','DUMPING','MATERIAL'],axis=1)"
   ]
  },
  {
   "cell_type": "code",
   "execution_count": 41,
   "id": "2d0910fd",
   "metadata": {},
   "outputs": [
    {
     "data": {
      "text/html": [
       "<div>\n",
       "<style scoped>\n",
       "    .dataframe tbody tr th:only-of-type {\n",
       "        vertical-align: middle;\n",
       "    }\n",
       "\n",
       "    .dataframe tbody tr th {\n",
       "        vertical-align: top;\n",
       "    }\n",
       "\n",
       "    .dataframe thead th {\n",
       "        text-align: right;\n",
       "    }\n",
       "</style>\n",
       "<table border=\"1\" class=\"dataframe\">\n",
       "  <thead>\n",
       "    <tr style=\"text-align: right;\">\n",
       "      <th></th>\n",
       "      <th>id</th>\n",
       "      <th>verification</th>\n",
       "      <th>phone</th>\n",
       "      <th>date_taken</th>\n",
       "      <th>date_uploaded</th>\n",
       "      <th>lat</th>\n",
       "      <th>lon</th>\n",
       "      <th>picked up</th>\n",
       "      <th>address</th>\n",
       "      <th>total_litter</th>\n",
       "      <th>SMOKING</th>\n",
       "      <th>FOOD</th>\n",
       "      <th>COFFEE</th>\n",
       "      <th>ALCOHOL</th>\n",
       "      <th>SOFTDRINKS</th>\n",
       "      <th>SANITARY</th>\n",
       "      <th>COASTAL</th>\n",
       "      <th>BRANDS</th>\n",
       "      <th>OTHER</th>\n",
       "    </tr>\n",
       "  </thead>\n",
       "  <tbody>\n",
       "    <tr>\n",
       "      <th>0</th>\n",
       "      <td>115640</td>\n",
       "      <td>2</td>\n",
       "      <td>iPhone 11 Pro</td>\n",
       "      <td>2021-01-19 13:24:21</td>\n",
       "      <td>2021-01-19 22:15:06</td>\n",
       "      <td>38.950817</td>\n",
       "      <td>-76.959733</td>\n",
       "      <td>No</td>\n",
       "      <td>3621, Farragut St, Hyattsville, Prince George'...</td>\n",
       "      <td>1.0</td>\n",
       "      <td>0.0</td>\n",
       "      <td>0.0</td>\n",
       "      <td>0.0</td>\n",
       "      <td>1.0</td>\n",
       "      <td>0.0</td>\n",
       "      <td>0.0</td>\n",
       "      <td>0.0</td>\n",
       "      <td>0.0</td>\n",
       "      <td>0.0</td>\n",
       "    </tr>\n",
       "    <tr>\n",
       "      <th>1</th>\n",
       "      <td>115641</td>\n",
       "      <td>2</td>\n",
       "      <td>iPhone 11 Pro</td>\n",
       "      <td>2021-01-19 13:24:13</td>\n",
       "      <td>2021-01-19 22:15:10</td>\n",
       "      <td>38.950870</td>\n",
       "      <td>-76.959717</td>\n",
       "      <td>No</td>\n",
       "      <td>3621, Farragut St, Hyattsville, Prince George'...</td>\n",
       "      <td>1.0</td>\n",
       "      <td>0.0</td>\n",
       "      <td>0.0</td>\n",
       "      <td>0.0</td>\n",
       "      <td>0.0</td>\n",
       "      <td>0.0</td>\n",
       "      <td>0.0</td>\n",
       "      <td>1.0</td>\n",
       "      <td>0.0</td>\n",
       "      <td>0.0</td>\n",
       "    </tr>\n",
       "    <tr>\n",
       "      <th>2</th>\n",
       "      <td>115642</td>\n",
       "      <td>2</td>\n",
       "      <td>iPhone 11 Pro</td>\n",
       "      <td>2021-01-19 13:23:22</td>\n",
       "      <td>2021-01-19 22:15:14</td>\n",
       "      <td>38.950817</td>\n",
       "      <td>-76.959755</td>\n",
       "      <td>No</td>\n",
       "      <td>3619, Farragut St, Hyattsville, Prince George'...</td>\n",
       "      <td>1.0</td>\n",
       "      <td>0.0</td>\n",
       "      <td>0.0</td>\n",
       "      <td>0.0</td>\n",
       "      <td>0.0</td>\n",
       "      <td>0.0</td>\n",
       "      <td>0.0</td>\n",
       "      <td>0.0</td>\n",
       "      <td>0.0</td>\n",
       "      <td>1.0</td>\n",
       "    </tr>\n",
       "    <tr>\n",
       "      <th>3</th>\n",
       "      <td>115643</td>\n",
       "      <td>2</td>\n",
       "      <td>iPhone 11 Pro</td>\n",
       "      <td>2021-01-19 13:23:16</td>\n",
       "      <td>2021-01-19 22:15:18</td>\n",
       "      <td>38.950817</td>\n",
       "      <td>-76.959763</td>\n",
       "      <td>No</td>\n",
       "      <td>3619, Farragut St, Hyattsville, Prince George'...</td>\n",
       "      <td>1.0</td>\n",
       "      <td>0.0</td>\n",
       "      <td>0.0</td>\n",
       "      <td>0.0</td>\n",
       "      <td>0.0</td>\n",
       "      <td>0.0</td>\n",
       "      <td>0.0</td>\n",
       "      <td>0.0</td>\n",
       "      <td>0.0</td>\n",
       "      <td>1.0</td>\n",
       "    </tr>\n",
       "    <tr>\n",
       "      <th>4</th>\n",
       "      <td>115644</td>\n",
       "      <td>2</td>\n",
       "      <td>iPhone 11 Pro</td>\n",
       "      <td>2021-01-19 13:22:38</td>\n",
       "      <td>2021-01-19 22:15:22</td>\n",
       "      <td>38.950858</td>\n",
       "      <td>-76.959878</td>\n",
       "      <td>No</td>\n",
       "      <td>3617, Farragut St, Hyattsville, Prince George'...</td>\n",
       "      <td>1.0</td>\n",
       "      <td>0.0</td>\n",
       "      <td>1.0</td>\n",
       "      <td>0.0</td>\n",
       "      <td>0.0</td>\n",
       "      <td>0.0</td>\n",
       "      <td>0.0</td>\n",
       "      <td>0.0</td>\n",
       "      <td>0.0</td>\n",
       "      <td>0.0</td>\n",
       "    </tr>\n",
       "    <tr>\n",
       "      <th>...</th>\n",
       "      <td>...</td>\n",
       "      <td>...</td>\n",
       "      <td>...</td>\n",
       "      <td>...</td>\n",
       "      <td>...</td>\n",
       "      <td>...</td>\n",
       "      <td>...</td>\n",
       "      <td>...</td>\n",
       "      <td>...</td>\n",
       "      <td>...</td>\n",
       "      <td>...</td>\n",
       "      <td>...</td>\n",
       "      <td>...</td>\n",
       "      <td>...</td>\n",
       "      <td>...</td>\n",
       "      <td>...</td>\n",
       "      <td>...</td>\n",
       "      <td>...</td>\n",
       "      <td>...</td>\n",
       "    </tr>\n",
       "    <tr>\n",
       "      <th>9576</th>\n",
       "      <td>269604</td>\n",
       "      <td>2</td>\n",
       "      <td>iPhone 11 Pro</td>\n",
       "      <td>2022-03-11 16:06:33</td>\n",
       "      <td>2022-03-12 00:53:08</td>\n",
       "      <td>38.954769</td>\n",
       "      <td>-76.967614</td>\n",
       "      <td>Yes</td>\n",
       "      <td>2801, Hamilton Street, Hyattsville, Prince Geo...</td>\n",
       "      <td>1.0</td>\n",
       "      <td>0.0</td>\n",
       "      <td>0.0</td>\n",
       "      <td>0.0</td>\n",
       "      <td>1.0</td>\n",
       "      <td>0.0</td>\n",
       "      <td>0.0</td>\n",
       "      <td>0.0</td>\n",
       "      <td>1.0</td>\n",
       "      <td>0.0</td>\n",
       "    </tr>\n",
       "    <tr>\n",
       "      <th>9577</th>\n",
       "      <td>269605</td>\n",
       "      <td>2</td>\n",
       "      <td>iPhone 11 Pro</td>\n",
       "      <td>2022-03-11 16:06:27</td>\n",
       "      <td>2022-03-12 00:53:13</td>\n",
       "      <td>38.954761</td>\n",
       "      <td>-76.967606</td>\n",
       "      <td>Yes</td>\n",
       "      <td>2801, Hamilton Street, Hyattsville, Prince Geo...</td>\n",
       "      <td>1.0</td>\n",
       "      <td>0.0</td>\n",
       "      <td>0.0</td>\n",
       "      <td>0.0</td>\n",
       "      <td>1.0</td>\n",
       "      <td>0.0</td>\n",
       "      <td>0.0</td>\n",
       "      <td>0.0</td>\n",
       "      <td>1.0</td>\n",
       "      <td>0.0</td>\n",
       "    </tr>\n",
       "    <tr>\n",
       "      <th>9578</th>\n",
       "      <td>269606</td>\n",
       "      <td>2</td>\n",
       "      <td>iPhone 11 Pro</td>\n",
       "      <td>2022-03-11 16:05:44</td>\n",
       "      <td>2022-03-12 00:53:15</td>\n",
       "      <td>38.954747</td>\n",
       "      <td>-76.967653</td>\n",
       "      <td>Yes</td>\n",
       "      <td>2801, Hamilton Street, Hyattsville, Prince Geo...</td>\n",
       "      <td>1.0</td>\n",
       "      <td>0.0</td>\n",
       "      <td>0.0</td>\n",
       "      <td>0.0</td>\n",
       "      <td>1.0</td>\n",
       "      <td>0.0</td>\n",
       "      <td>0.0</td>\n",
       "      <td>0.0</td>\n",
       "      <td>1.0</td>\n",
       "      <td>0.0</td>\n",
       "    </tr>\n",
       "    <tr>\n",
       "      <th>9579</th>\n",
       "      <td>269607</td>\n",
       "      <td>2</td>\n",
       "      <td>iPhone 11 Pro</td>\n",
       "      <td>2022-03-11 16:04:50</td>\n",
       "      <td>2022-03-12 00:53:18</td>\n",
       "      <td>38.954728</td>\n",
       "      <td>-76.967675</td>\n",
       "      <td>Yes</td>\n",
       "      <td>2801, Hamilton Street, Hyattsville, Prince Geo...</td>\n",
       "      <td>1.0</td>\n",
       "      <td>0.0</td>\n",
       "      <td>0.0</td>\n",
       "      <td>0.0</td>\n",
       "      <td>0.0</td>\n",
       "      <td>1.0</td>\n",
       "      <td>0.0</td>\n",
       "      <td>0.0</td>\n",
       "      <td>1.0</td>\n",
       "      <td>0.0</td>\n",
       "    </tr>\n",
       "    <tr>\n",
       "      <th>9580</th>\n",
       "      <td>269608</td>\n",
       "      <td>2</td>\n",
       "      <td>iPhone 11 Pro</td>\n",
       "      <td>2022-03-11 16:04:13</td>\n",
       "      <td>2022-03-12 00:53:20</td>\n",
       "      <td>38.954708</td>\n",
       "      <td>-76.967658</td>\n",
       "      <td>Yes</td>\n",
       "      <td>2801, Hamilton Street, Hyattsville, Prince Geo...</td>\n",
       "      <td>2.0</td>\n",
       "      <td>0.0</td>\n",
       "      <td>0.0</td>\n",
       "      <td>0.0</td>\n",
       "      <td>1.0</td>\n",
       "      <td>0.0</td>\n",
       "      <td>1.0</td>\n",
       "      <td>0.0</td>\n",
       "      <td>0.0</td>\n",
       "      <td>0.0</td>\n",
       "    </tr>\n",
       "  </tbody>\n",
       "</table>\n",
       "<p>9581 rows × 19 columns</p>\n",
       "</div>"
      ],
      "text/plain": [
       "          id  verification          phone           date_taken  \\\n",
       "0     115640             2  iPhone 11 Pro  2021-01-19 13:24:21   \n",
       "1     115641             2  iPhone 11 Pro  2021-01-19 13:24:13   \n",
       "2     115642             2  iPhone 11 Pro  2021-01-19 13:23:22   \n",
       "3     115643             2  iPhone 11 Pro  2021-01-19 13:23:16   \n",
       "4     115644             2  iPhone 11 Pro  2021-01-19 13:22:38   \n",
       "...      ...           ...            ...                  ...   \n",
       "9576  269604             2  iPhone 11 Pro  2022-03-11 16:06:33   \n",
       "9577  269605             2  iPhone 11 Pro  2022-03-11 16:06:27   \n",
       "9578  269606             2  iPhone 11 Pro  2022-03-11 16:05:44   \n",
       "9579  269607             2  iPhone 11 Pro  2022-03-11 16:04:50   \n",
       "9580  269608             2  iPhone 11 Pro  2022-03-11 16:04:13   \n",
       "\n",
       "            date_uploaded        lat        lon picked up  \\\n",
       "0     2021-01-19 22:15:06  38.950817 -76.959733        No   \n",
       "1     2021-01-19 22:15:10  38.950870 -76.959717        No   \n",
       "2     2021-01-19 22:15:14  38.950817 -76.959755        No   \n",
       "3     2021-01-19 22:15:18  38.950817 -76.959763        No   \n",
       "4     2021-01-19 22:15:22  38.950858 -76.959878        No   \n",
       "...                   ...        ...        ...       ...   \n",
       "9576  2022-03-12 00:53:08  38.954769 -76.967614       Yes   \n",
       "9577  2022-03-12 00:53:13  38.954761 -76.967606       Yes   \n",
       "9578  2022-03-12 00:53:15  38.954747 -76.967653       Yes   \n",
       "9579  2022-03-12 00:53:18  38.954728 -76.967675       Yes   \n",
       "9580  2022-03-12 00:53:20  38.954708 -76.967658       Yes   \n",
       "\n",
       "                                                address  total_litter  \\\n",
       "0     3621, Farragut St, Hyattsville, Prince George'...           1.0   \n",
       "1     3621, Farragut St, Hyattsville, Prince George'...           1.0   \n",
       "2     3619, Farragut St, Hyattsville, Prince George'...           1.0   \n",
       "3     3619, Farragut St, Hyattsville, Prince George'...           1.0   \n",
       "4     3617, Farragut St, Hyattsville, Prince George'...           1.0   \n",
       "...                                                 ...           ...   \n",
       "9576  2801, Hamilton Street, Hyattsville, Prince Geo...           1.0   \n",
       "9577  2801, Hamilton Street, Hyattsville, Prince Geo...           1.0   \n",
       "9578  2801, Hamilton Street, Hyattsville, Prince Geo...           1.0   \n",
       "9579  2801, Hamilton Street, Hyattsville, Prince Geo...           1.0   \n",
       "9580  2801, Hamilton Street, Hyattsville, Prince Geo...           2.0   \n",
       "\n",
       "      SMOKING  FOOD  COFFEE  ALCOHOL  SOFTDRINKS  SANITARY  COASTAL  BRANDS  \\\n",
       "0         0.0   0.0     0.0      1.0         0.0       0.0      0.0     0.0   \n",
       "1         0.0   0.0     0.0      0.0         0.0       0.0      1.0     0.0   \n",
       "2         0.0   0.0     0.0      0.0         0.0       0.0      0.0     0.0   \n",
       "3         0.0   0.0     0.0      0.0         0.0       0.0      0.0     0.0   \n",
       "4         0.0   1.0     0.0      0.0         0.0       0.0      0.0     0.0   \n",
       "...       ...   ...     ...      ...         ...       ...      ...     ...   \n",
       "9576      0.0   0.0     0.0      1.0         0.0       0.0      0.0     1.0   \n",
       "9577      0.0   0.0     0.0      1.0         0.0       0.0      0.0     1.0   \n",
       "9578      0.0   0.0     0.0      1.0         0.0       0.0      0.0     1.0   \n",
       "9579      0.0   0.0     0.0      0.0         1.0       0.0      0.0     1.0   \n",
       "9580      0.0   0.0     0.0      1.0         0.0       1.0      0.0     0.0   \n",
       "\n",
       "      OTHER  \n",
       "0       0.0  \n",
       "1       0.0  \n",
       "2       1.0  \n",
       "3       1.0  \n",
       "4       0.0  \n",
       "...     ...  \n",
       "9576    0.0  \n",
       "9577    0.0  \n",
       "9578    0.0  \n",
       "9579    0.0  \n",
       "9580    0.0  \n",
       "\n",
       "[9581 rows x 19 columns]"
      ]
     },
     "execution_count": 41,
     "metadata": {},
     "output_type": "execute_result"
    }
   ],
   "source": [
    "df # 分类完毕"
   ]
  },
  {
   "cell_type": "code",
   "execution_count": 42,
   "id": "ee3974b8",
   "metadata": {
    "scrolled": false
   },
   "outputs": [],
   "source": [
    "# df=df[-df['date_taken'].str.contains('2019')].reset_index(drop=True) # 删除2019年的零散数据"
   ]
  },
  {
   "cell_type": "code",
   "execution_count": 43,
   "id": "74f6dba2",
   "metadata": {
    "scrolled": true
   },
   "outputs": [],
   "source": [
    "# df=df[-df['date_taken'].str.contains('2020')].reset_index(drop=True) # 删除2020年的零散数据"
   ]
  },
  {
   "cell_type": "code",
   "execution_count": 44,
   "id": "50d337fb",
   "metadata": {},
   "outputs": [],
   "source": [
    "df=df[-df['date_taken'].str.contains('2022')].reset_index(drop=True) # 删除2022年的零散数据"
   ]
  },
  {
   "cell_type": "code",
   "execution_count": 45,
   "id": "ca06c5f1",
   "metadata": {},
   "outputs": [],
   "source": [
    "# df=df[-df['date_taken'].str.contains('2023')].reset_index(drop=True) # 删除2023年的零散数据"
   ]
  },
  {
   "cell_type": "code",
   "execution_count": 46,
   "id": "6660d180",
   "metadata": {},
   "outputs": [],
   "source": [
    "df=df.drop(columns=['date_uploaded'])"
   ]
  },
  {
   "cell_type": "code",
   "execution_count": 47,
   "id": "fb06895b",
   "metadata": {},
   "outputs": [],
   "source": [
    "df=df.rename(columns={'date_taken':'datetime'})"
   ]
  },
  {
   "cell_type": "code",
   "execution_count": 48,
   "id": "e084a73b",
   "metadata": {
    "scrolled": false
   },
   "outputs": [
    {
     "data": {
      "text/html": [
       "<div>\n",
       "<style scoped>\n",
       "    .dataframe tbody tr th:only-of-type {\n",
       "        vertical-align: middle;\n",
       "    }\n",
       "\n",
       "    .dataframe tbody tr th {\n",
       "        vertical-align: top;\n",
       "    }\n",
       "\n",
       "    .dataframe thead th {\n",
       "        text-align: right;\n",
       "    }\n",
       "</style>\n",
       "<table border=\"1\" class=\"dataframe\">\n",
       "  <thead>\n",
       "    <tr style=\"text-align: right;\">\n",
       "      <th></th>\n",
       "      <th>id</th>\n",
       "      <th>verification</th>\n",
       "      <th>phone</th>\n",
       "      <th>datetime</th>\n",
       "      <th>lat</th>\n",
       "      <th>lon</th>\n",
       "      <th>picked up</th>\n",
       "      <th>address</th>\n",
       "      <th>total_litter</th>\n",
       "      <th>SMOKING</th>\n",
       "      <th>FOOD</th>\n",
       "      <th>COFFEE</th>\n",
       "      <th>ALCOHOL</th>\n",
       "      <th>SOFTDRINKS</th>\n",
       "      <th>SANITARY</th>\n",
       "      <th>COASTAL</th>\n",
       "      <th>BRANDS</th>\n",
       "      <th>OTHER</th>\n",
       "    </tr>\n",
       "  </thead>\n",
       "  <tbody>\n",
       "    <tr>\n",
       "      <th>0</th>\n",
       "      <td>115640</td>\n",
       "      <td>2</td>\n",
       "      <td>iPhone 11 Pro</td>\n",
       "      <td>2021-01-19 13:24:21</td>\n",
       "      <td>38.950817</td>\n",
       "      <td>-76.959733</td>\n",
       "      <td>No</td>\n",
       "      <td>3621, Farragut St, Hyattsville, Prince George'...</td>\n",
       "      <td>1.0</td>\n",
       "      <td>0.0</td>\n",
       "      <td>0.0</td>\n",
       "      <td>0.0</td>\n",
       "      <td>1.0</td>\n",
       "      <td>0.0</td>\n",
       "      <td>0.0</td>\n",
       "      <td>0.0</td>\n",
       "      <td>0.0</td>\n",
       "      <td>0.0</td>\n",
       "    </tr>\n",
       "    <tr>\n",
       "      <th>1</th>\n",
       "      <td>115641</td>\n",
       "      <td>2</td>\n",
       "      <td>iPhone 11 Pro</td>\n",
       "      <td>2021-01-19 13:24:13</td>\n",
       "      <td>38.950870</td>\n",
       "      <td>-76.959717</td>\n",
       "      <td>No</td>\n",
       "      <td>3621, Farragut St, Hyattsville, Prince George'...</td>\n",
       "      <td>1.0</td>\n",
       "      <td>0.0</td>\n",
       "      <td>0.0</td>\n",
       "      <td>0.0</td>\n",
       "      <td>0.0</td>\n",
       "      <td>0.0</td>\n",
       "      <td>0.0</td>\n",
       "      <td>1.0</td>\n",
       "      <td>0.0</td>\n",
       "      <td>0.0</td>\n",
       "    </tr>\n",
       "    <tr>\n",
       "      <th>2</th>\n",
       "      <td>115642</td>\n",
       "      <td>2</td>\n",
       "      <td>iPhone 11 Pro</td>\n",
       "      <td>2021-01-19 13:23:22</td>\n",
       "      <td>38.950817</td>\n",
       "      <td>-76.959755</td>\n",
       "      <td>No</td>\n",
       "      <td>3619, Farragut St, Hyattsville, Prince George'...</td>\n",
       "      <td>1.0</td>\n",
       "      <td>0.0</td>\n",
       "      <td>0.0</td>\n",
       "      <td>0.0</td>\n",
       "      <td>0.0</td>\n",
       "      <td>0.0</td>\n",
       "      <td>0.0</td>\n",
       "      <td>0.0</td>\n",
       "      <td>0.0</td>\n",
       "      <td>1.0</td>\n",
       "    </tr>\n",
       "    <tr>\n",
       "      <th>3</th>\n",
       "      <td>115643</td>\n",
       "      <td>2</td>\n",
       "      <td>iPhone 11 Pro</td>\n",
       "      <td>2021-01-19 13:23:16</td>\n",
       "      <td>38.950817</td>\n",
       "      <td>-76.959763</td>\n",
       "      <td>No</td>\n",
       "      <td>3619, Farragut St, Hyattsville, Prince George'...</td>\n",
       "      <td>1.0</td>\n",
       "      <td>0.0</td>\n",
       "      <td>0.0</td>\n",
       "      <td>0.0</td>\n",
       "      <td>0.0</td>\n",
       "      <td>0.0</td>\n",
       "      <td>0.0</td>\n",
       "      <td>0.0</td>\n",
       "      <td>0.0</td>\n",
       "      <td>1.0</td>\n",
       "    </tr>\n",
       "    <tr>\n",
       "      <th>4</th>\n",
       "      <td>115644</td>\n",
       "      <td>2</td>\n",
       "      <td>iPhone 11 Pro</td>\n",
       "      <td>2021-01-19 13:22:38</td>\n",
       "      <td>38.950858</td>\n",
       "      <td>-76.959878</td>\n",
       "      <td>No</td>\n",
       "      <td>3617, Farragut St, Hyattsville, Prince George'...</td>\n",
       "      <td>1.0</td>\n",
       "      <td>0.0</td>\n",
       "      <td>1.0</td>\n",
       "      <td>0.0</td>\n",
       "      <td>0.0</td>\n",
       "      <td>0.0</td>\n",
       "      <td>0.0</td>\n",
       "      <td>0.0</td>\n",
       "      <td>0.0</td>\n",
       "      <td>0.0</td>\n",
       "    </tr>\n",
       "    <tr>\n",
       "      <th>...</th>\n",
       "      <td>...</td>\n",
       "      <td>...</td>\n",
       "      <td>...</td>\n",
       "      <td>...</td>\n",
       "      <td>...</td>\n",
       "      <td>...</td>\n",
       "      <td>...</td>\n",
       "      <td>...</td>\n",
       "      <td>...</td>\n",
       "      <td>...</td>\n",
       "      <td>...</td>\n",
       "      <td>...</td>\n",
       "      <td>...</td>\n",
       "      <td>...</td>\n",
       "      <td>...</td>\n",
       "      <td>...</td>\n",
       "      <td>...</td>\n",
       "      <td>...</td>\n",
       "    </tr>\n",
       "    <tr>\n",
       "      <th>9523</th>\n",
       "      <td>236827</td>\n",
       "      <td>2</td>\n",
       "      <td>iPhone 11 Pro</td>\n",
       "      <td>2021-12-22 20:24:47</td>\n",
       "      <td>38.954355</td>\n",
       "      <td>-76.968170</td>\n",
       "      <td>Yes</td>\n",
       "      <td>5400, Jamestown Road, Hyattsville, Prince Geor...</td>\n",
       "      <td>6.0</td>\n",
       "      <td>0.0</td>\n",
       "      <td>0.0</td>\n",
       "      <td>0.0</td>\n",
       "      <td>1.0</td>\n",
       "      <td>4.0</td>\n",
       "      <td>0.0</td>\n",
       "      <td>0.0</td>\n",
       "      <td>0.0</td>\n",
       "      <td>1.0</td>\n",
       "    </tr>\n",
       "    <tr>\n",
       "      <th>9524</th>\n",
       "      <td>237650</td>\n",
       "      <td>2</td>\n",
       "      <td>iPhone 11 Pro</td>\n",
       "      <td>2021-12-26 22:20:50</td>\n",
       "      <td>38.981400</td>\n",
       "      <td>-76.963105</td>\n",
       "      <td>Yes</td>\n",
       "      <td>3324, Stanford Street, Hyattsville, Prince Geo...</td>\n",
       "      <td>5.0</td>\n",
       "      <td>0.0</td>\n",
       "      <td>0.0</td>\n",
       "      <td>2.0</td>\n",
       "      <td>0.0</td>\n",
       "      <td>3.0</td>\n",
       "      <td>0.0</td>\n",
       "      <td>0.0</td>\n",
       "      <td>3.0</td>\n",
       "      <td>0.0</td>\n",
       "    </tr>\n",
       "    <tr>\n",
       "      <th>9525</th>\n",
       "      <td>237651</td>\n",
       "      <td>2</td>\n",
       "      <td>iPhone 11 Pro</td>\n",
       "      <td>2021-12-26 22:17:19</td>\n",
       "      <td>38.981280</td>\n",
       "      <td>-76.962617</td>\n",
       "      <td>Yes</td>\n",
       "      <td>3324, Stanford Street, Hyattsville, Prince Geo...</td>\n",
       "      <td>31.0</td>\n",
       "      <td>0.0</td>\n",
       "      <td>0.0</td>\n",
       "      <td>0.0</td>\n",
       "      <td>30.0</td>\n",
       "      <td>0.0</td>\n",
       "      <td>0.0</td>\n",
       "      <td>0.0</td>\n",
       "      <td>30.0</td>\n",
       "      <td>1.0</td>\n",
       "    </tr>\n",
       "    <tr>\n",
       "      <th>9526</th>\n",
       "      <td>237652</td>\n",
       "      <td>2</td>\n",
       "      <td>iPhone 11 Pro</td>\n",
       "      <td>2021-12-26 22:11:04</td>\n",
       "      <td>38.981278</td>\n",
       "      <td>-76.962687</td>\n",
       "      <td>Yes</td>\n",
       "      <td>3324, Stanford Street, Hyattsville, Prince Geo...</td>\n",
       "      <td>108.0</td>\n",
       "      <td>20.0</td>\n",
       "      <td>7.0</td>\n",
       "      <td>0.0</td>\n",
       "      <td>44.0</td>\n",
       "      <td>36.0</td>\n",
       "      <td>0.0</td>\n",
       "      <td>0.0</td>\n",
       "      <td>47.0</td>\n",
       "      <td>1.0</td>\n",
       "    </tr>\n",
       "    <tr>\n",
       "      <th>9527</th>\n",
       "      <td>237664</td>\n",
       "      <td>2</td>\n",
       "      <td>iPhone 11 Pro</td>\n",
       "      <td>2021-12-26 19:41:51</td>\n",
       "      <td>38.954630</td>\n",
       "      <td>-76.968038</td>\n",
       "      <td>Yes</td>\n",
       "      <td>5400, Jamestown Road, Hyattsville, Prince Geor...</td>\n",
       "      <td>37.0</td>\n",
       "      <td>27.0</td>\n",
       "      <td>1.0</td>\n",
       "      <td>0.0</td>\n",
       "      <td>2.0</td>\n",
       "      <td>6.0</td>\n",
       "      <td>0.0</td>\n",
       "      <td>0.0</td>\n",
       "      <td>31.0</td>\n",
       "      <td>1.0</td>\n",
       "    </tr>\n",
       "  </tbody>\n",
       "</table>\n",
       "<p>9528 rows × 18 columns</p>\n",
       "</div>"
      ],
      "text/plain": [
       "          id  verification          phone             datetime        lat  \\\n",
       "0     115640             2  iPhone 11 Pro  2021-01-19 13:24:21  38.950817   \n",
       "1     115641             2  iPhone 11 Pro  2021-01-19 13:24:13  38.950870   \n",
       "2     115642             2  iPhone 11 Pro  2021-01-19 13:23:22  38.950817   \n",
       "3     115643             2  iPhone 11 Pro  2021-01-19 13:23:16  38.950817   \n",
       "4     115644             2  iPhone 11 Pro  2021-01-19 13:22:38  38.950858   \n",
       "...      ...           ...            ...                  ...        ...   \n",
       "9523  236827             2  iPhone 11 Pro  2021-12-22 20:24:47  38.954355   \n",
       "9524  237650             2  iPhone 11 Pro  2021-12-26 22:20:50  38.981400   \n",
       "9525  237651             2  iPhone 11 Pro  2021-12-26 22:17:19  38.981280   \n",
       "9526  237652             2  iPhone 11 Pro  2021-12-26 22:11:04  38.981278   \n",
       "9527  237664             2  iPhone 11 Pro  2021-12-26 19:41:51  38.954630   \n",
       "\n",
       "            lon picked up                                            address  \\\n",
       "0    -76.959733        No  3621, Farragut St, Hyattsville, Prince George'...   \n",
       "1    -76.959717        No  3621, Farragut St, Hyattsville, Prince George'...   \n",
       "2    -76.959755        No  3619, Farragut St, Hyattsville, Prince George'...   \n",
       "3    -76.959763        No  3619, Farragut St, Hyattsville, Prince George'...   \n",
       "4    -76.959878        No  3617, Farragut St, Hyattsville, Prince George'...   \n",
       "...         ...       ...                                                ...   \n",
       "9523 -76.968170       Yes  5400, Jamestown Road, Hyattsville, Prince Geor...   \n",
       "9524 -76.963105       Yes  3324, Stanford Street, Hyattsville, Prince Geo...   \n",
       "9525 -76.962617       Yes  3324, Stanford Street, Hyattsville, Prince Geo...   \n",
       "9526 -76.962687       Yes  3324, Stanford Street, Hyattsville, Prince Geo...   \n",
       "9527 -76.968038       Yes  5400, Jamestown Road, Hyattsville, Prince Geor...   \n",
       "\n",
       "      total_litter  SMOKING  FOOD  COFFEE  ALCOHOL  SOFTDRINKS  SANITARY  \\\n",
       "0              1.0      0.0   0.0     0.0      1.0         0.0       0.0   \n",
       "1              1.0      0.0   0.0     0.0      0.0         0.0       0.0   \n",
       "2              1.0      0.0   0.0     0.0      0.0         0.0       0.0   \n",
       "3              1.0      0.0   0.0     0.0      0.0         0.0       0.0   \n",
       "4              1.0      0.0   1.0     0.0      0.0         0.0       0.0   \n",
       "...            ...      ...   ...     ...      ...         ...       ...   \n",
       "9523           6.0      0.0   0.0     0.0      1.0         4.0       0.0   \n",
       "9524           5.0      0.0   0.0     2.0      0.0         3.0       0.0   \n",
       "9525          31.0      0.0   0.0     0.0     30.0         0.0       0.0   \n",
       "9526         108.0     20.0   7.0     0.0     44.0        36.0       0.0   \n",
       "9527          37.0     27.0   1.0     0.0      2.0         6.0       0.0   \n",
       "\n",
       "      COASTAL  BRANDS  OTHER  \n",
       "0         0.0     0.0    0.0  \n",
       "1         1.0     0.0    0.0  \n",
       "2         0.0     0.0    1.0  \n",
       "3         0.0     0.0    1.0  \n",
       "4         0.0     0.0    0.0  \n",
       "...       ...     ...    ...  \n",
       "9523      0.0     0.0    1.0  \n",
       "9524      0.0     3.0    0.0  \n",
       "9525      0.0    30.0    1.0  \n",
       "9526      0.0    47.0    1.0  \n",
       "9527      0.0    31.0    1.0  \n",
       "\n",
       "[9528 rows x 18 columns]"
      ]
     },
     "execution_count": 48,
     "metadata": {},
     "output_type": "execute_result"
    }
   ],
   "source": [
    "df"
   ]
  },
  {
   "cell_type": "code",
   "execution_count": 49,
   "id": "d967ec57",
   "metadata": {},
   "outputs": [],
   "source": [
    "df.to_csv('./outdata/Hyattsville_preliminary.csv')"
   ]
  },
  {
   "cell_type": "markdown",
   "id": "f08fa09a",
   "metadata": {},
   "source": [
    "### 合并时间"
   ]
  },
  {
   "cell_type": "code",
   "execution_count": 48,
   "id": "e8bd65fa",
   "metadata": {
    "scrolled": true
   },
   "outputs": [],
   "source": [
    "# df=df.rename(columns={'date_taken':'datetime'})"
   ]
  },
  {
   "cell_type": "code",
   "execution_count": 50,
   "id": "dca83026",
   "metadata": {},
   "outputs": [],
   "source": [
    "df['datetime']=pd.to_datetime(df['datetime'])"
   ]
  },
  {
   "cell_type": "code",
   "execution_count": 51,
   "id": "5703e0aa",
   "metadata": {},
   "outputs": [
    {
     "data": {
      "text/plain": [
       "0      2021-01-19 13:24:21\n",
       "1      2021-01-19 13:24:13\n",
       "2      2021-01-19 13:23:22\n",
       "3      2021-01-19 13:23:16\n",
       "4      2021-01-19 13:22:38\n",
       "               ...        \n",
       "9523   2021-12-22 20:24:47\n",
       "9524   2021-12-26 22:20:50\n",
       "9525   2021-12-26 22:17:19\n",
       "9526   2021-12-26 22:11:04\n",
       "9527   2021-12-26 19:41:51\n",
       "Name: datetime, Length: 9528, dtype: datetime64[ns]"
      ]
     },
     "execution_count": 51,
     "metadata": {},
     "output_type": "execute_result"
    }
   ],
   "source": [
    "df['datetime']"
   ]
  },
  {
   "cell_type": "code",
   "execution_count": 52,
   "id": "ce2ed288",
   "metadata": {},
   "outputs": [
    {
     "data": {
      "text/html": [
       "<div>\n",
       "<style scoped>\n",
       "    .dataframe tbody tr th:only-of-type {\n",
       "        vertical-align: middle;\n",
       "    }\n",
       "\n",
       "    .dataframe tbody tr th {\n",
       "        vertical-align: top;\n",
       "    }\n",
       "\n",
       "    .dataframe thead th {\n",
       "        text-align: right;\n",
       "    }\n",
       "</style>\n",
       "<table border=\"1\" class=\"dataframe\">\n",
       "  <thead>\n",
       "    <tr style=\"text-align: right;\">\n",
       "      <th></th>\n",
       "      <th>total_litter</th>\n",
       "      <th>SMOKING</th>\n",
       "      <th>FOOD</th>\n",
       "      <th>COFFEE</th>\n",
       "      <th>ALCOHOL</th>\n",
       "      <th>SOFTDRINKS</th>\n",
       "      <th>SANITARY</th>\n",
       "      <th>COASTAL</th>\n",
       "      <th>BRANDS</th>\n",
       "      <th>OTHER</th>\n",
       "    </tr>\n",
       "    <tr>\n",
       "      <th>datetime</th>\n",
       "      <th></th>\n",
       "      <th></th>\n",
       "      <th></th>\n",
       "      <th></th>\n",
       "      <th></th>\n",
       "      <th></th>\n",
       "      <th></th>\n",
       "      <th></th>\n",
       "      <th></th>\n",
       "      <th></th>\n",
       "    </tr>\n",
       "  </thead>\n",
       "  <tbody>\n",
       "    <tr>\n",
       "      <th>2021-01-19</th>\n",
       "      <td>156.0</td>\n",
       "      <td>1.0</td>\n",
       "      <td>51.0</td>\n",
       "      <td>1.0</td>\n",
       "      <td>27.0</td>\n",
       "      <td>49.0</td>\n",
       "      <td>3.0</td>\n",
       "      <td>1.0</td>\n",
       "      <td>1.0</td>\n",
       "      <td>25.0</td>\n",
       "    </tr>\n",
       "    <tr>\n",
       "      <th>2021-01-20</th>\n",
       "      <td>105.0</td>\n",
       "      <td>4.0</td>\n",
       "      <td>37.0</td>\n",
       "      <td>3.0</td>\n",
       "      <td>12.0</td>\n",
       "      <td>37.0</td>\n",
       "      <td>1.0</td>\n",
       "      <td>1.0</td>\n",
       "      <td>0.0</td>\n",
       "      <td>10.0</td>\n",
       "    </tr>\n",
       "    <tr>\n",
       "      <th>2021-01-21</th>\n",
       "      <td>117.0</td>\n",
       "      <td>0.0</td>\n",
       "      <td>33.0</td>\n",
       "      <td>4.0</td>\n",
       "      <td>9.0</td>\n",
       "      <td>57.0</td>\n",
       "      <td>1.0</td>\n",
       "      <td>0.0</td>\n",
       "      <td>0.0</td>\n",
       "      <td>14.0</td>\n",
       "    </tr>\n",
       "    <tr>\n",
       "      <th>2021-01-22</th>\n",
       "      <td>183.0</td>\n",
       "      <td>1.0</td>\n",
       "      <td>95.0</td>\n",
       "      <td>0.0</td>\n",
       "      <td>19.0</td>\n",
       "      <td>57.0</td>\n",
       "      <td>1.0</td>\n",
       "      <td>1.0</td>\n",
       "      <td>3.0</td>\n",
       "      <td>6.0</td>\n",
       "    </tr>\n",
       "    <tr>\n",
       "      <th>2021-01-30</th>\n",
       "      <td>1.0</td>\n",
       "      <td>0.0</td>\n",
       "      <td>1.0</td>\n",
       "      <td>0.0</td>\n",
       "      <td>0.0</td>\n",
       "      <td>0.0</td>\n",
       "      <td>0.0</td>\n",
       "      <td>0.0</td>\n",
       "      <td>0.0</td>\n",
       "      <td>0.0</td>\n",
       "    </tr>\n",
       "    <tr>\n",
       "      <th>...</th>\n",
       "      <td>...</td>\n",
       "      <td>...</td>\n",
       "      <td>...</td>\n",
       "      <td>...</td>\n",
       "      <td>...</td>\n",
       "      <td>...</td>\n",
       "      <td>...</td>\n",
       "      <td>...</td>\n",
       "      <td>...</td>\n",
       "      <td>...</td>\n",
       "    </tr>\n",
       "    <tr>\n",
       "      <th>2021-12-13</th>\n",
       "      <td>44.0</td>\n",
       "      <td>2.0</td>\n",
       "      <td>10.0</td>\n",
       "      <td>2.0</td>\n",
       "      <td>1.0</td>\n",
       "      <td>8.0</td>\n",
       "      <td>0.0</td>\n",
       "      <td>9.0</td>\n",
       "      <td>13.0</td>\n",
       "      <td>12.0</td>\n",
       "    </tr>\n",
       "    <tr>\n",
       "      <th>2021-12-14</th>\n",
       "      <td>156.0</td>\n",
       "      <td>0.0</td>\n",
       "      <td>23.0</td>\n",
       "      <td>0.0</td>\n",
       "      <td>76.0</td>\n",
       "      <td>49.0</td>\n",
       "      <td>1.0</td>\n",
       "      <td>0.0</td>\n",
       "      <td>68.0</td>\n",
       "      <td>7.0</td>\n",
       "    </tr>\n",
       "    <tr>\n",
       "      <th>2021-12-20</th>\n",
       "      <td>164.0</td>\n",
       "      <td>32.0</td>\n",
       "      <td>12.0</td>\n",
       "      <td>0.0</td>\n",
       "      <td>58.0</td>\n",
       "      <td>38.0</td>\n",
       "      <td>0.0</td>\n",
       "      <td>0.0</td>\n",
       "      <td>53.0</td>\n",
       "      <td>24.0</td>\n",
       "    </tr>\n",
       "    <tr>\n",
       "      <th>2021-12-22</th>\n",
       "      <td>184.0</td>\n",
       "      <td>58.0</td>\n",
       "      <td>11.0</td>\n",
       "      <td>0.0</td>\n",
       "      <td>59.0</td>\n",
       "      <td>46.0</td>\n",
       "      <td>2.0</td>\n",
       "      <td>0.0</td>\n",
       "      <td>85.0</td>\n",
       "      <td>8.0</td>\n",
       "    </tr>\n",
       "    <tr>\n",
       "      <th>2021-12-26</th>\n",
       "      <td>181.0</td>\n",
       "      <td>47.0</td>\n",
       "      <td>8.0</td>\n",
       "      <td>2.0</td>\n",
       "      <td>76.0</td>\n",
       "      <td>45.0</td>\n",
       "      <td>0.0</td>\n",
       "      <td>0.0</td>\n",
       "      <td>111.0</td>\n",
       "      <td>3.0</td>\n",
       "    </tr>\n",
       "  </tbody>\n",
       "</table>\n",
       "<p>134 rows × 10 columns</p>\n",
       "</div>"
      ],
      "text/plain": [
       "            total_litter  SMOKING  FOOD  COFFEE  ALCOHOL  SOFTDRINKS  \\\n",
       "datetime                                                               \n",
       "2021-01-19         156.0      1.0  51.0     1.0     27.0        49.0   \n",
       "2021-01-20         105.0      4.0  37.0     3.0     12.0        37.0   \n",
       "2021-01-21         117.0      0.0  33.0     4.0      9.0        57.0   \n",
       "2021-01-22         183.0      1.0  95.0     0.0     19.0        57.0   \n",
       "2021-01-30           1.0      0.0   1.0     0.0      0.0         0.0   \n",
       "...                  ...      ...   ...     ...      ...         ...   \n",
       "2021-12-13          44.0      2.0  10.0     2.0      1.0         8.0   \n",
       "2021-12-14         156.0      0.0  23.0     0.0     76.0        49.0   \n",
       "2021-12-20         164.0     32.0  12.0     0.0     58.0        38.0   \n",
       "2021-12-22         184.0     58.0  11.0     0.0     59.0        46.0   \n",
       "2021-12-26         181.0     47.0   8.0     2.0     76.0        45.0   \n",
       "\n",
       "            SANITARY  COASTAL  BRANDS  OTHER  \n",
       "datetime                                      \n",
       "2021-01-19       3.0      1.0     1.0   25.0  \n",
       "2021-01-20       1.0      1.0     0.0   10.0  \n",
       "2021-01-21       1.0      0.0     0.0   14.0  \n",
       "2021-01-22       1.0      1.0     3.0    6.0  \n",
       "2021-01-30       0.0      0.0     0.0    0.0  \n",
       "...              ...      ...     ...    ...  \n",
       "2021-12-13       0.0      9.0    13.0   12.0  \n",
       "2021-12-14       1.0      0.0    68.0    7.0  \n",
       "2021-12-20       0.0      0.0    53.0   24.0  \n",
       "2021-12-22       2.0      0.0    85.0    8.0  \n",
       "2021-12-26       0.0      0.0   111.0    3.0  \n",
       "\n",
       "[134 rows x 10 columns]"
      ]
     },
     "execution_count": 52,
     "metadata": {},
     "output_type": "execute_result"
    }
   ],
   "source": [
    "Date=df['datetime'].dt.date\n",
    "df_dateconcat=df.loc[:,'total_litter':'OTHER'].groupby(Date).sum() # 合并同日期的垃圾数量\n",
    "df_dateconcat"
   ]
  },
  {
   "cell_type": "code",
   "execution_count": 53,
   "id": "968bd319",
   "metadata": {},
   "outputs": [
    {
     "data": {
      "text/plain": [
       "total_litter    512.0\n",
       "SMOKING          77.0\n",
       "FOOD             95.0\n",
       "COFFEE            7.0\n",
       "ALCOHOL         226.0\n",
       "SOFTDRINKS      125.0\n",
       "SANITARY         19.0\n",
       "COASTAL          39.0\n",
       "BRANDS          230.0\n",
       "OTHER           155.0\n",
       "dtype: float64"
      ]
     },
     "execution_count": 53,
     "metadata": {},
     "output_type": "execute_result"
    }
   ],
   "source": [
    "df_dateconcat.max()"
   ]
  },
  {
   "cell_type": "markdown",
   "id": "b75f6c73",
   "metadata": {},
   "source": [
    "### 对缺失的日期补0（舍弃）"
   ]
  },
  {
   "cell_type": "code",
   "execution_count": 53,
   "id": "03b1e789",
   "metadata": {},
   "outputs": [],
   "source": [
    "start = datetime.datetime(2022, 1, 1)\n",
    "end = datetime.datetime(2022, 12, 31)\n",
    "date_range = pd.date_range(start, end)"
   ]
  },
  {
   "cell_type": "code",
   "execution_count": 54,
   "id": "ce6ea0cb",
   "metadata": {},
   "outputs": [
    {
     "data": {
      "text/plain": [
       "DatetimeIndex(['2022-01-01', '2022-01-02', '2022-01-03', '2022-01-04',\n",
       "               '2022-01-05', '2022-01-06', '2022-01-07', '2022-01-08',\n",
       "               '2022-01-09', '2022-01-10',\n",
       "               ...\n",
       "               '2022-12-22', '2022-12-23', '2022-12-24', '2022-12-25',\n",
       "               '2022-12-26', '2022-12-27', '2022-12-28', '2022-12-29',\n",
       "               '2022-12-30', '2022-12-31'],\n",
       "              dtype='datetime64[ns]', length=365, freq='D')"
      ]
     },
     "execution_count": 54,
     "metadata": {},
     "output_type": "execute_result"
    }
   ],
   "source": [
    "date_range"
   ]
  },
  {
   "cell_type": "code",
   "execution_count": 55,
   "id": "cb2750ae",
   "metadata": {},
   "outputs": [],
   "source": [
    "# 筛选缺失的日期\n",
    "df_date=pd.to_datetime(df_dateconcat.index) \n",
    "dateflag=date_range.isin(df_date) "
   ]
  },
  {
   "cell_type": "code",
   "execution_count": 56,
   "id": "7e67fed7",
   "metadata": {},
   "outputs": [],
   "source": [
    "# date_all=np.concatenate((pd.Series(df_dateconcat.index).values,pd.Series(date_range[~dateflag].date).values),axis=0)# 合并两个时间\n",
    "# date_all.size\n",
    "# date_all与date_range相同，弃用data_all"
   ]
  },
  {
   "cell_type": "code",
   "execution_count": 57,
   "id": "1ec6508a",
   "metadata": {},
   "outputs": [
    {
     "data": {
      "text/plain": [
       "Counter({True: 249, False: 116})"
      ]
     },
     "execution_count": 57,
     "metadata": {},
     "output_type": "execute_result"
    }
   ],
   "source": [
    "Counter(dateflag)"
   ]
  },
  {
   "cell_type": "code",
   "execution_count": 58,
   "id": "572e2f20",
   "metadata": {},
   "outputs": [],
   "source": [
    "# 缺失的数据\n",
    "dfdif=pd.DataFrame(np.zeros(116*10).reshape(116,10),\n",
    "                   index=[pd.Series(date_range[~dateflag].date).values],\n",
    "                   columns=['total_litter','SMOKING','FOOD','COFFEE','ALCOHOL','SOFTDRINKS','SANITARY','BRANDS','MATERIAL','OTHER'])"
   ]
  },
  {
   "cell_type": "code",
   "execution_count": 59,
   "id": "1c9606b2",
   "metadata": {},
   "outputs": [],
   "source": [
    "df_dateall=pd.concat([df_dateconcat,dfdif])# 合并"
   ]
  },
  {
   "cell_type": "code",
   "execution_count": 60,
   "id": "b551569e",
   "metadata": {},
   "outputs": [],
   "source": [
    "df_dateall=df_dateall.loc[:,'total_litter':'OTHER'].groupby(date_range).sum()"
   ]
  },
  {
   "cell_type": "code",
   "execution_count": 138,
   "id": "ea02918d",
   "metadata": {},
   "outputs": [],
   "source": [
    "# df_dateall['datetime']=df_dateall.index"
   ]
  },
  {
   "cell_type": "code",
   "execution_count": 146,
   "id": "9b7de282",
   "metadata": {},
   "outputs": [
    {
     "data": {
      "text/html": [
       "<div>\n",
       "<style scoped>\n",
       "    .dataframe tbody tr th:only-of-type {\n",
       "        vertical-align: middle;\n",
       "    }\n",
       "\n",
       "    .dataframe tbody tr th {\n",
       "        vertical-align: top;\n",
       "    }\n",
       "\n",
       "    .dataframe thead th {\n",
       "        text-align: right;\n",
       "    }\n",
       "</style>\n",
       "<table border=\"1\" class=\"dataframe\">\n",
       "  <thead>\n",
       "    <tr style=\"text-align: right;\">\n",
       "      <th></th>\n",
       "      <th>total_litter</th>\n",
       "      <th>SMOKING</th>\n",
       "      <th>FOOD</th>\n",
       "      <th>COFFEE</th>\n",
       "      <th>ALCOHOL</th>\n",
       "      <th>SOFTDRINKS</th>\n",
       "      <th>SANITARY</th>\n",
       "      <th>BRANDS</th>\n",
       "      <th>MATERIAL</th>\n",
       "      <th>OTHER</th>\n",
       "      <th>datetime</th>\n",
       "    </tr>\n",
       "  </thead>\n",
       "  <tbody>\n",
       "    <tr>\n",
       "      <th>2022-01-01</th>\n",
       "      <td>57.0</td>\n",
       "      <td>1.0</td>\n",
       "      <td>0.0</td>\n",
       "      <td>2.0</td>\n",
       "      <td>12.0</td>\n",
       "      <td>32.0</td>\n",
       "      <td>4.0</td>\n",
       "      <td>28.0</td>\n",
       "      <td>0.0</td>\n",
       "      <td>6.0</td>\n",
       "      <td>2022-01-01</td>\n",
       "    </tr>\n",
       "    <tr>\n",
       "      <th>2022-01-02</th>\n",
       "      <td>48.0</td>\n",
       "      <td>1.0</td>\n",
       "      <td>2.0</td>\n",
       "      <td>0.0</td>\n",
       "      <td>7.0</td>\n",
       "      <td>17.0</td>\n",
       "      <td>10.0</td>\n",
       "      <td>20.0</td>\n",
       "      <td>0.0</td>\n",
       "      <td>11.0</td>\n",
       "      <td>2022-01-02</td>\n",
       "    </tr>\n",
       "    <tr>\n",
       "      <th>2022-01-03</th>\n",
       "      <td>2.0</td>\n",
       "      <td>0.0</td>\n",
       "      <td>0.0</td>\n",
       "      <td>0.0</td>\n",
       "      <td>0.0</td>\n",
       "      <td>2.0</td>\n",
       "      <td>0.0</td>\n",
       "      <td>2.0</td>\n",
       "      <td>0.0</td>\n",
       "      <td>0.0</td>\n",
       "      <td>2022-01-03</td>\n",
       "    </tr>\n",
       "    <tr>\n",
       "      <th>2022-01-04</th>\n",
       "      <td>41.0</td>\n",
       "      <td>0.0</td>\n",
       "      <td>0.0</td>\n",
       "      <td>0.0</td>\n",
       "      <td>1.0</td>\n",
       "      <td>36.0</td>\n",
       "      <td>3.0</td>\n",
       "      <td>22.0</td>\n",
       "      <td>0.0</td>\n",
       "      <td>1.0</td>\n",
       "      <td>2022-01-04</td>\n",
       "    </tr>\n",
       "    <tr>\n",
       "      <th>2022-01-05</th>\n",
       "      <td>2.0</td>\n",
       "      <td>0.0</td>\n",
       "      <td>0.0</td>\n",
       "      <td>0.0</td>\n",
       "      <td>0.0</td>\n",
       "      <td>0.0</td>\n",
       "      <td>0.0</td>\n",
       "      <td>0.0</td>\n",
       "      <td>0.0</td>\n",
       "      <td>2.0</td>\n",
       "      <td>2022-01-05</td>\n",
       "    </tr>\n",
       "    <tr>\n",
       "      <th>...</th>\n",
       "      <td>...</td>\n",
       "      <td>...</td>\n",
       "      <td>...</td>\n",
       "      <td>...</td>\n",
       "      <td>...</td>\n",
       "      <td>...</td>\n",
       "      <td>...</td>\n",
       "      <td>...</td>\n",
       "      <td>...</td>\n",
       "      <td>...</td>\n",
       "      <td>...</td>\n",
       "    </tr>\n",
       "    <tr>\n",
       "      <th>2022-12-27</th>\n",
       "      <td>0.0</td>\n",
       "      <td>0.0</td>\n",
       "      <td>0.0</td>\n",
       "      <td>0.0</td>\n",
       "      <td>0.0</td>\n",
       "      <td>0.0</td>\n",
       "      <td>0.0</td>\n",
       "      <td>0.0</td>\n",
       "      <td>0.0</td>\n",
       "      <td>0.0</td>\n",
       "      <td>2022-12-27</td>\n",
       "    </tr>\n",
       "    <tr>\n",
       "      <th>2022-12-28</th>\n",
       "      <td>0.0</td>\n",
       "      <td>0.0</td>\n",
       "      <td>0.0</td>\n",
       "      <td>0.0</td>\n",
       "      <td>0.0</td>\n",
       "      <td>0.0</td>\n",
       "      <td>0.0</td>\n",
       "      <td>0.0</td>\n",
       "      <td>0.0</td>\n",
       "      <td>0.0</td>\n",
       "      <td>2022-12-28</td>\n",
       "    </tr>\n",
       "    <tr>\n",
       "      <th>2022-12-29</th>\n",
       "      <td>0.0</td>\n",
       "      <td>0.0</td>\n",
       "      <td>0.0</td>\n",
       "      <td>0.0</td>\n",
       "      <td>0.0</td>\n",
       "      <td>0.0</td>\n",
       "      <td>0.0</td>\n",
       "      <td>0.0</td>\n",
       "      <td>0.0</td>\n",
       "      <td>0.0</td>\n",
       "      <td>2022-12-29</td>\n",
       "    </tr>\n",
       "    <tr>\n",
       "      <th>2022-12-30</th>\n",
       "      <td>0.0</td>\n",
       "      <td>0.0</td>\n",
       "      <td>0.0</td>\n",
       "      <td>0.0</td>\n",
       "      <td>0.0</td>\n",
       "      <td>0.0</td>\n",
       "      <td>0.0</td>\n",
       "      <td>0.0</td>\n",
       "      <td>0.0</td>\n",
       "      <td>0.0</td>\n",
       "      <td>2022-12-30</td>\n",
       "    </tr>\n",
       "    <tr>\n",
       "      <th>2022-12-31</th>\n",
       "      <td>0.0</td>\n",
       "      <td>0.0</td>\n",
       "      <td>0.0</td>\n",
       "      <td>0.0</td>\n",
       "      <td>0.0</td>\n",
       "      <td>0.0</td>\n",
       "      <td>0.0</td>\n",
       "      <td>0.0</td>\n",
       "      <td>0.0</td>\n",
       "      <td>0.0</td>\n",
       "      <td>2022-12-31</td>\n",
       "    </tr>\n",
       "  </tbody>\n",
       "</table>\n",
       "<p>365 rows × 11 columns</p>\n",
       "</div>"
      ],
      "text/plain": [
       "            total_litter  SMOKING  FOOD  COFFEE  ALCOHOL  SOFTDRINKS  \\\n",
       "2022-01-01          57.0      1.0   0.0     2.0     12.0        32.0   \n",
       "2022-01-02          48.0      1.0   2.0     0.0      7.0        17.0   \n",
       "2022-01-03           2.0      0.0   0.0     0.0      0.0         2.0   \n",
       "2022-01-04          41.0      0.0   0.0     0.0      1.0        36.0   \n",
       "2022-01-05           2.0      0.0   0.0     0.0      0.0         0.0   \n",
       "...                  ...      ...   ...     ...      ...         ...   \n",
       "2022-12-27           0.0      0.0   0.0     0.0      0.0         0.0   \n",
       "2022-12-28           0.0      0.0   0.0     0.0      0.0         0.0   \n",
       "2022-12-29           0.0      0.0   0.0     0.0      0.0         0.0   \n",
       "2022-12-30           0.0      0.0   0.0     0.0      0.0         0.0   \n",
       "2022-12-31           0.0      0.0   0.0     0.0      0.0         0.0   \n",
       "\n",
       "            SANITARY  BRANDS  MATERIAL  OTHER   datetime  \n",
       "2022-01-01       4.0    28.0       0.0    6.0 2022-01-01  \n",
       "2022-01-02      10.0    20.0       0.0   11.0 2022-01-02  \n",
       "2022-01-03       0.0     2.0       0.0    0.0 2022-01-03  \n",
       "2022-01-04       3.0    22.0       0.0    1.0 2022-01-04  \n",
       "2022-01-05       0.0     0.0       0.0    2.0 2022-01-05  \n",
       "...              ...     ...       ...    ...        ...  \n",
       "2022-12-27       0.0     0.0       0.0    0.0 2022-12-27  \n",
       "2022-12-28       0.0     0.0       0.0    0.0 2022-12-28  \n",
       "2022-12-29       0.0     0.0       0.0    0.0 2022-12-29  \n",
       "2022-12-30       0.0     0.0       0.0    0.0 2022-12-30  \n",
       "2022-12-31       0.0     0.0       0.0    0.0 2022-12-31  \n",
       "\n",
       "[365 rows x 11 columns]"
      ]
     },
     "execution_count": 146,
     "metadata": {},
     "output_type": "execute_result"
    }
   ],
   "source": [
    "df_dateall"
   ]
  },
  {
   "cell_type": "code",
   "execution_count": 145,
   "id": "006ff346",
   "metadata": {},
   "outputs": [],
   "source": [
    "# df_dateall.to_csv('./outdata/Krommenie_alldaylitter.csv')"
   ]
  },
  {
   "cell_type": "code",
   "execution_count": 62,
   "id": "bb3c8fdb",
   "metadata": {},
   "outputs": [
    {
     "data": {
      "text/plain": [
       "total_litter    466.0\n",
       "SMOKING         290.0\n",
       "FOOD            102.0\n",
       "COFFEE           12.0\n",
       "ALCOHOL          67.0\n",
       "SOFTDRINKS       86.0\n",
       "SANITARY         34.0\n",
       "BRANDS          156.0\n",
       "MATERIAL         19.0\n",
       "OTHER           193.0\n",
       "dtype: float64"
      ]
     },
     "execution_count": 62,
     "metadata": {},
     "output_type": "execute_result"
    }
   ],
   "source": [
    "df_dateall.max()"
   ]
  },
  {
   "cell_type": "markdown",
   "id": "02ade0e0",
   "metadata": {},
   "source": [
    "## 天气时间数据处理"
   ]
  },
  {
   "cell_type": "code",
   "execution_count": 53,
   "id": "29b8f21c",
   "metadata": {},
   "outputs": [],
   "source": [
    "weather = pd.read_csv('./data/Hyattsville_weather/Hyattsville_weather.csv')"
   ]
  },
  {
   "cell_type": "code",
   "execution_count": 54,
   "id": "4f22f2bc",
   "metadata": {},
   "outputs": [],
   "source": [
    "weather['date']=pd.to_datetime(weather['date'])"
   ]
  },
  {
   "cell_type": "code",
   "execution_count": 55,
   "id": "9298fa1c",
   "metadata": {},
   "outputs": [
    {
     "data": {
      "text/plain": [
       "Cloudy     232\n",
       "Sunny       97\n",
       "Showers     28\n",
       "Snow         8\n",
       "Name: weather, dtype: int64"
      ]
     },
     "execution_count": 55,
     "metadata": {},
     "output_type": "execute_result"
    }
   ],
   "source": [
    "weather['weather'].value_counts()"
   ]
  },
  {
   "cell_type": "code",
   "execution_count": 56,
   "id": "ef4e2427",
   "metadata": {},
   "outputs": [],
   "source": [
    "wtcdt=pd.read_csv('./data/Hyattsville_weather/Hyattsville.csv')"
   ]
  },
  {
   "cell_type": "code",
   "execution_count": 57,
   "id": "dfcbfaad",
   "metadata": {},
   "outputs": [],
   "source": [
    "wtcdt['date']=pd.to_datetime(wtcdt['date'])"
   ]
  },
  {
   "cell_type": "code",
   "execution_count": 58,
   "id": "6f31f63f",
   "metadata": {},
   "outputs": [],
   "source": [
    "wtcdt = pd.DataFrame(wtcdt).set_index('date') # 将时间作为索引"
   ]
  },
  {
   "cell_type": "code",
   "execution_count": 59,
   "id": "eee9c51f",
   "metadata": {},
   "outputs": [
    {
     "data": {
      "text/html": [
       "<div>\n",
       "<style scoped>\n",
       "    .dataframe tbody tr th:only-of-type {\n",
       "        vertical-align: middle;\n",
       "    }\n",
       "\n",
       "    .dataframe tbody tr th {\n",
       "        vertical-align: top;\n",
       "    }\n",
       "\n",
       "    .dataframe thead th {\n",
       "        text-align: right;\n",
       "    }\n",
       "</style>\n",
       "<table border=\"1\" class=\"dataframe\">\n",
       "  <thead>\n",
       "    <tr style=\"text-align: right;\">\n",
       "      <th></th>\n",
       "      <th>Max Temperature</th>\n",
       "      <th>Min Temperature</th>\n",
       "      <th>Max Dew Point</th>\n",
       "      <th>Min Dew Point</th>\n",
       "      <th>Max Humidity</th>\n",
       "      <th>Min Humidity</th>\n",
       "      <th>Max Wind Speed</th>\n",
       "      <th>Min Wind Speed</th>\n",
       "    </tr>\n",
       "    <tr>\n",
       "      <th>date</th>\n",
       "      <th></th>\n",
       "      <th></th>\n",
       "      <th></th>\n",
       "      <th></th>\n",
       "      <th></th>\n",
       "      <th></th>\n",
       "      <th></th>\n",
       "      <th></th>\n",
       "    </tr>\n",
       "  </thead>\n",
       "  <tbody>\n",
       "    <tr>\n",
       "      <th>2021-01-01</th>\n",
       "      <td>41</td>\n",
       "      <td>36</td>\n",
       "      <td>36</td>\n",
       "      <td>25</td>\n",
       "      <td>96</td>\n",
       "      <td>60</td>\n",
       "      <td>17</td>\n",
       "      <td>3</td>\n",
       "    </tr>\n",
       "    <tr>\n",
       "      <th>2021-01-02</th>\n",
       "      <td>57</td>\n",
       "      <td>37</td>\n",
       "      <td>44</td>\n",
       "      <td>35</td>\n",
       "      <td>100</td>\n",
       "      <td>57</td>\n",
       "      <td>14</td>\n",
       "      <td>0</td>\n",
       "    </tr>\n",
       "    <tr>\n",
       "      <th>2021-01-03</th>\n",
       "      <td>43</td>\n",
       "      <td>38</td>\n",
       "      <td>39</td>\n",
       "      <td>35</td>\n",
       "      <td>93</td>\n",
       "      <td>74</td>\n",
       "      <td>13</td>\n",
       "      <td>0</td>\n",
       "    </tr>\n",
       "    <tr>\n",
       "      <th>2021-01-04</th>\n",
       "      <td>46</td>\n",
       "      <td>35</td>\n",
       "      <td>36</td>\n",
       "      <td>31</td>\n",
       "      <td>93</td>\n",
       "      <td>68</td>\n",
       "      <td>10</td>\n",
       "      <td>0</td>\n",
       "    </tr>\n",
       "    <tr>\n",
       "      <th>2021-01-05</th>\n",
       "      <td>43</td>\n",
       "      <td>39</td>\n",
       "      <td>37</td>\n",
       "      <td>33</td>\n",
       "      <td>89</td>\n",
       "      <td>70</td>\n",
       "      <td>15</td>\n",
       "      <td>0</td>\n",
       "    </tr>\n",
       "    <tr>\n",
       "      <th>...</th>\n",
       "      <td>...</td>\n",
       "      <td>...</td>\n",
       "      <td>...</td>\n",
       "      <td>...</td>\n",
       "      <td>...</td>\n",
       "      <td>...</td>\n",
       "      <td>...</td>\n",
       "      <td>...</td>\n",
       "    </tr>\n",
       "    <tr>\n",
       "      <th>2021-12-27</th>\n",
       "      <td>43</td>\n",
       "      <td>39</td>\n",
       "      <td>34</td>\n",
       "      <td>28</td>\n",
       "      <td>82</td>\n",
       "      <td>58</td>\n",
       "      <td>12</td>\n",
       "      <td>0</td>\n",
       "    </tr>\n",
       "    <tr>\n",
       "      <th>2021-12-28</th>\n",
       "      <td>57</td>\n",
       "      <td>40</td>\n",
       "      <td>39</td>\n",
       "      <td>24</td>\n",
       "      <td>86</td>\n",
       "      <td>29</td>\n",
       "      <td>12</td>\n",
       "      <td>0</td>\n",
       "    </tr>\n",
       "    <tr>\n",
       "      <th>2021-12-29</th>\n",
       "      <td>54</td>\n",
       "      <td>48</td>\n",
       "      <td>46</td>\n",
       "      <td>32</td>\n",
       "      <td>90</td>\n",
       "      <td>48</td>\n",
       "      <td>13</td>\n",
       "      <td>0</td>\n",
       "    </tr>\n",
       "    <tr>\n",
       "      <th>2021-12-30</th>\n",
       "      <td>54</td>\n",
       "      <td>47</td>\n",
       "      <td>50</td>\n",
       "      <td>45</td>\n",
       "      <td>96</td>\n",
       "      <td>83</td>\n",
       "      <td>9</td>\n",
       "      <td>0</td>\n",
       "    </tr>\n",
       "    <tr>\n",
       "      <th>2021-12-31</th>\n",
       "      <td>58</td>\n",
       "      <td>50</td>\n",
       "      <td>53</td>\n",
       "      <td>48</td>\n",
       "      <td>96</td>\n",
       "      <td>78</td>\n",
       "      <td>12</td>\n",
       "      <td>0</td>\n",
       "    </tr>\n",
       "  </tbody>\n",
       "</table>\n",
       "<p>365 rows × 8 columns</p>\n",
       "</div>"
      ],
      "text/plain": [
       "            Max Temperature  Min Temperature  Max Dew Point  Min Dew Point  \\\n",
       "date                                                                         \n",
       "2021-01-01               41               36             36             25   \n",
       "2021-01-02               57               37             44             35   \n",
       "2021-01-03               43               38             39             35   \n",
       "2021-01-04               46               35             36             31   \n",
       "2021-01-05               43               39             37             33   \n",
       "...                     ...              ...            ...            ...   \n",
       "2021-12-27               43               39             34             28   \n",
       "2021-12-28               57               40             39             24   \n",
       "2021-12-29               54               48             46             32   \n",
       "2021-12-30               54               47             50             45   \n",
       "2021-12-31               58               50             53             48   \n",
       "\n",
       "            Max Humidity  Min Humidity  Max Wind Speed  Min Wind Speed  \n",
       "date                                                                    \n",
       "2021-01-01            96            60              17               3  \n",
       "2021-01-02           100            57              14               0  \n",
       "2021-01-03            93            74              13               0  \n",
       "2021-01-04            93            68              10               0  \n",
       "2021-01-05            89            70              15               0  \n",
       "...                  ...           ...             ...             ...  \n",
       "2021-12-27            82            58              12               0  \n",
       "2021-12-28            86            29              12               0  \n",
       "2021-12-29            90            48              13               0  \n",
       "2021-12-30            96            83               9               0  \n",
       "2021-12-31            96            78              12               0  \n",
       "\n",
       "[365 rows x 8 columns]"
      ]
     },
     "execution_count": 59,
     "metadata": {},
     "output_type": "execute_result"
    }
   ],
   "source": [
    "wtcdt"
   ]
  },
  {
   "cell_type": "markdown",
   "id": "b6e976b7",
   "metadata": {},
   "source": [
    "### 将天气状况加入补全后数据（舍弃）"
   ]
  },
  {
   "cell_type": "code",
   "execution_count": null,
   "id": "5dbbafc9",
   "metadata": {},
   "outputs": [],
   "source": [
    "M_test=pd.concat([df_dateall,wtcdt],axis=1)# 横向合并"
   ]
  },
  {
   "cell_type": "code",
   "execution_count": 71,
   "id": "a9d10726",
   "metadata": {
    "scrolled": true
   },
   "outputs": [
    {
     "data": {
      "text/html": [
       "<div>\n",
       "<style scoped>\n",
       "    .dataframe tbody tr th:only-of-type {\n",
       "        vertical-align: middle;\n",
       "    }\n",
       "\n",
       "    .dataframe tbody tr th {\n",
       "        vertical-align: top;\n",
       "    }\n",
       "\n",
       "    .dataframe thead th {\n",
       "        text-align: right;\n",
       "    }\n",
       "</style>\n",
       "<table border=\"1\" class=\"dataframe\">\n",
       "  <thead>\n",
       "    <tr style=\"text-align: right;\">\n",
       "      <th></th>\n",
       "      <th>total_litter</th>\n",
       "      <th>SMOKING</th>\n",
       "      <th>FOOD</th>\n",
       "      <th>COFFEE</th>\n",
       "      <th>ALCOHOL</th>\n",
       "      <th>SOFTDRINKS</th>\n",
       "      <th>SANITARY</th>\n",
       "      <th>BRANDS</th>\n",
       "      <th>MATERIAL</th>\n",
       "      <th>OTHER</th>\n",
       "      <th>Max Temperature</th>\n",
       "      <th>Min Temperature</th>\n",
       "      <th>Max Dew Point</th>\n",
       "      <th>Min Dew Point</th>\n",
       "      <th>Max Humidity</th>\n",
       "      <th>Min Humidity</th>\n",
       "      <th>Max Wind Speed</th>\n",
       "      <th>Min Wind Speed</th>\n",
       "    </tr>\n",
       "  </thead>\n",
       "  <tbody>\n",
       "    <tr>\n",
       "      <th>2022-01-01</th>\n",
       "      <td>57.0</td>\n",
       "      <td>1.0</td>\n",
       "      <td>0.0</td>\n",
       "      <td>2.0</td>\n",
       "      <td>12.0</td>\n",
       "      <td>32.0</td>\n",
       "      <td>4.0</td>\n",
       "      <td>28.0</td>\n",
       "      <td>0.0</td>\n",
       "      <td>6.0</td>\n",
       "      <td>54</td>\n",
       "      <td>52</td>\n",
       "      <td>50</td>\n",
       "      <td>50</td>\n",
       "      <td>88</td>\n",
       "      <td>88</td>\n",
       "      <td>12</td>\n",
       "      <td>12</td>\n",
       "    </tr>\n",
       "    <tr>\n",
       "      <th>2022-01-02</th>\n",
       "      <td>48.0</td>\n",
       "      <td>1.0</td>\n",
       "      <td>2.0</td>\n",
       "      <td>0.0</td>\n",
       "      <td>7.0</td>\n",
       "      <td>17.0</td>\n",
       "      <td>10.0</td>\n",
       "      <td>20.0</td>\n",
       "      <td>0.0</td>\n",
       "      <td>11.0</td>\n",
       "      <td>55</td>\n",
       "      <td>50</td>\n",
       "      <td>50</td>\n",
       "      <td>45</td>\n",
       "      <td>94</td>\n",
       "      <td>77</td>\n",
       "      <td>30</td>\n",
       "      <td>12</td>\n",
       "    </tr>\n",
       "    <tr>\n",
       "      <th>2022-01-03</th>\n",
       "      <td>2.0</td>\n",
       "      <td>0.0</td>\n",
       "      <td>0.0</td>\n",
       "      <td>0.0</td>\n",
       "      <td>0.0</td>\n",
       "      <td>2.0</td>\n",
       "      <td>0.0</td>\n",
       "      <td>2.0</td>\n",
       "      <td>0.0</td>\n",
       "      <td>0.0</td>\n",
       "      <td>52</td>\n",
       "      <td>46</td>\n",
       "      <td>46</td>\n",
       "      <td>45</td>\n",
       "      <td>93</td>\n",
       "      <td>76</td>\n",
       "      <td>25</td>\n",
       "      <td>10</td>\n",
       "    </tr>\n",
       "    <tr>\n",
       "      <th>2022-01-04</th>\n",
       "      <td>41.0</td>\n",
       "      <td>0.0</td>\n",
       "      <td>0.0</td>\n",
       "      <td>0.0</td>\n",
       "      <td>1.0</td>\n",
       "      <td>36.0</td>\n",
       "      <td>3.0</td>\n",
       "      <td>22.0</td>\n",
       "      <td>0.0</td>\n",
       "      <td>1.0</td>\n",
       "      <td>48</td>\n",
       "      <td>37</td>\n",
       "      <td>46</td>\n",
       "      <td>32</td>\n",
       "      <td>93</td>\n",
       "      <td>70</td>\n",
       "      <td>16</td>\n",
       "      <td>5</td>\n",
       "    </tr>\n",
       "    <tr>\n",
       "      <th>2022-01-05</th>\n",
       "      <td>2.0</td>\n",
       "      <td>0.0</td>\n",
       "      <td>0.0</td>\n",
       "      <td>0.0</td>\n",
       "      <td>0.0</td>\n",
       "      <td>0.0</td>\n",
       "      <td>0.0</td>\n",
       "      <td>0.0</td>\n",
       "      <td>0.0</td>\n",
       "      <td>2.0</td>\n",
       "      <td>46</td>\n",
       "      <td>37</td>\n",
       "      <td>41</td>\n",
       "      <td>30</td>\n",
       "      <td>93</td>\n",
       "      <td>70</td>\n",
       "      <td>30</td>\n",
       "      <td>10</td>\n",
       "    </tr>\n",
       "    <tr>\n",
       "      <th>...</th>\n",
       "      <td>...</td>\n",
       "      <td>...</td>\n",
       "      <td>...</td>\n",
       "      <td>...</td>\n",
       "      <td>...</td>\n",
       "      <td>...</td>\n",
       "      <td>...</td>\n",
       "      <td>...</td>\n",
       "      <td>...</td>\n",
       "      <td>...</td>\n",
       "      <td>...</td>\n",
       "      <td>...</td>\n",
       "      <td>...</td>\n",
       "      <td>...</td>\n",
       "      <td>...</td>\n",
       "      <td>...</td>\n",
       "      <td>...</td>\n",
       "      <td>...</td>\n",
       "    </tr>\n",
       "    <tr>\n",
       "      <th>2022-12-27</th>\n",
       "      <td>0.0</td>\n",
       "      <td>0.0</td>\n",
       "      <td>0.0</td>\n",
       "      <td>0.0</td>\n",
       "      <td>0.0</td>\n",
       "      <td>0.0</td>\n",
       "      <td>0.0</td>\n",
       "      <td>0.0</td>\n",
       "      <td>0.0</td>\n",
       "      <td>0.0</td>\n",
       "      <td>46</td>\n",
       "      <td>41</td>\n",
       "      <td>43</td>\n",
       "      <td>36</td>\n",
       "      <td>93</td>\n",
       "      <td>71</td>\n",
       "      <td>22</td>\n",
       "      <td>9</td>\n",
       "    </tr>\n",
       "    <tr>\n",
       "      <th>2022-12-28</th>\n",
       "      <td>0.0</td>\n",
       "      <td>0.0</td>\n",
       "      <td>0.0</td>\n",
       "      <td>0.0</td>\n",
       "      <td>0.0</td>\n",
       "      <td>0.0</td>\n",
       "      <td>0.0</td>\n",
       "      <td>0.0</td>\n",
       "      <td>0.0</td>\n",
       "      <td>0.0</td>\n",
       "      <td>52</td>\n",
       "      <td>43</td>\n",
       "      <td>50</td>\n",
       "      <td>41</td>\n",
       "      <td>100</td>\n",
       "      <td>87</td>\n",
       "      <td>30</td>\n",
       "      <td>20</td>\n",
       "    </tr>\n",
       "    <tr>\n",
       "      <th>2022-12-29</th>\n",
       "      <td>0.0</td>\n",
       "      <td>0.0</td>\n",
       "      <td>0.0</td>\n",
       "      <td>0.0</td>\n",
       "      <td>0.0</td>\n",
       "      <td>0.0</td>\n",
       "      <td>0.0</td>\n",
       "      <td>0.0</td>\n",
       "      <td>0.0</td>\n",
       "      <td>0.0</td>\n",
       "      <td>52</td>\n",
       "      <td>45</td>\n",
       "      <td>48</td>\n",
       "      <td>41</td>\n",
       "      <td>93</td>\n",
       "      <td>76</td>\n",
       "      <td>29</td>\n",
       "      <td>15</td>\n",
       "    </tr>\n",
       "    <tr>\n",
       "      <th>2022-12-30</th>\n",
       "      <td>0.0</td>\n",
       "      <td>0.0</td>\n",
       "      <td>0.0</td>\n",
       "      <td>0.0</td>\n",
       "      <td>0.0</td>\n",
       "      <td>0.0</td>\n",
       "      <td>0.0</td>\n",
       "      <td>0.0</td>\n",
       "      <td>0.0</td>\n",
       "      <td>0.0</td>\n",
       "      <td>54</td>\n",
       "      <td>39</td>\n",
       "      <td>52</td>\n",
       "      <td>39</td>\n",
       "      <td>100</td>\n",
       "      <td>81</td>\n",
       "      <td>29</td>\n",
       "      <td>12</td>\n",
       "    </tr>\n",
       "    <tr>\n",
       "      <th>2022-12-31</th>\n",
       "      <td>0.0</td>\n",
       "      <td>0.0</td>\n",
       "      <td>0.0</td>\n",
       "      <td>0.0</td>\n",
       "      <td>0.0</td>\n",
       "      <td>0.0</td>\n",
       "      <td>0.0</td>\n",
       "      <td>0.0</td>\n",
       "      <td>0.0</td>\n",
       "      <td>0.0</td>\n",
       "      <td>59</td>\n",
       "      <td>50</td>\n",
       "      <td>55</td>\n",
       "      <td>46</td>\n",
       "      <td>100</td>\n",
       "      <td>63</td>\n",
       "      <td>31</td>\n",
       "      <td>9</td>\n",
       "    </tr>\n",
       "  </tbody>\n",
       "</table>\n",
       "<p>365 rows × 18 columns</p>\n",
       "</div>"
      ],
      "text/plain": [
       "            total_litter  SMOKING  FOOD  COFFEE  ALCOHOL  SOFTDRINKS  \\\n",
       "2022-01-01          57.0      1.0   0.0     2.0     12.0        32.0   \n",
       "2022-01-02          48.0      1.0   2.0     0.0      7.0        17.0   \n",
       "2022-01-03           2.0      0.0   0.0     0.0      0.0         2.0   \n",
       "2022-01-04          41.0      0.0   0.0     0.0      1.0        36.0   \n",
       "2022-01-05           2.0      0.0   0.0     0.0      0.0         0.0   \n",
       "...                  ...      ...   ...     ...      ...         ...   \n",
       "2022-12-27           0.0      0.0   0.0     0.0      0.0         0.0   \n",
       "2022-12-28           0.0      0.0   0.0     0.0      0.0         0.0   \n",
       "2022-12-29           0.0      0.0   0.0     0.0      0.0         0.0   \n",
       "2022-12-30           0.0      0.0   0.0     0.0      0.0         0.0   \n",
       "2022-12-31           0.0      0.0   0.0     0.0      0.0         0.0   \n",
       "\n",
       "            SANITARY  BRANDS  MATERIAL  OTHER  Max Temperature  \\\n",
       "2022-01-01       4.0    28.0       0.0    6.0               54   \n",
       "2022-01-02      10.0    20.0       0.0   11.0               55   \n",
       "2022-01-03       0.0     2.0       0.0    0.0               52   \n",
       "2022-01-04       3.0    22.0       0.0    1.0               48   \n",
       "2022-01-05       0.0     0.0       0.0    2.0               46   \n",
       "...              ...     ...       ...    ...              ...   \n",
       "2022-12-27       0.0     0.0       0.0    0.0               46   \n",
       "2022-12-28       0.0     0.0       0.0    0.0               52   \n",
       "2022-12-29       0.0     0.0       0.0    0.0               52   \n",
       "2022-12-30       0.0     0.0       0.0    0.0               54   \n",
       "2022-12-31       0.0     0.0       0.0    0.0               59   \n",
       "\n",
       "            Min Temperature  Max Dew Point  Min Dew Point  Max Humidity  \\\n",
       "2022-01-01               52             50             50            88   \n",
       "2022-01-02               50             50             45            94   \n",
       "2022-01-03               46             46             45            93   \n",
       "2022-01-04               37             46             32            93   \n",
       "2022-01-05               37             41             30            93   \n",
       "...                     ...            ...            ...           ...   \n",
       "2022-12-27               41             43             36            93   \n",
       "2022-12-28               43             50             41           100   \n",
       "2022-12-29               45             48             41            93   \n",
       "2022-12-30               39             52             39           100   \n",
       "2022-12-31               50             55             46           100   \n",
       "\n",
       "            Min Humidity  Max Wind Speed  Min Wind Speed  \n",
       "2022-01-01            88              12              12  \n",
       "2022-01-02            77              30              12  \n",
       "2022-01-03            76              25              10  \n",
       "2022-01-04            70              16               5  \n",
       "2022-01-05            70              30              10  \n",
       "...                  ...             ...             ...  \n",
       "2022-12-27            71              22               9  \n",
       "2022-12-28            87              30              20  \n",
       "2022-12-29            76              29              15  \n",
       "2022-12-30            81              29              12  \n",
       "2022-12-31            63              31               9  \n",
       "\n",
       "[365 rows x 18 columns]"
      ]
     },
     "execution_count": 71,
     "metadata": {},
     "output_type": "execute_result"
    }
   ],
   "source": [
    "M_test"
   ]
  },
  {
   "cell_type": "markdown",
   "id": "3b3db23b",
   "metadata": {
    "heading_collapsed": true
   },
   "source": [
    "### 将天气状况加入未补全数据"
   ]
  },
  {
   "cell_type": "code",
   "execution_count": 60,
   "id": "04f8e408",
   "metadata": {
    "hidden": true
   },
   "outputs": [
    {
     "data": {
      "text/plain": [
       "Index([2021-01-19, 2021-01-20, 2021-01-21, 2021-01-22, 2021-01-30, 2021-02-05,\n",
       "       2021-02-06, 2021-02-09, 2021-02-10, 2021-02-21,\n",
       "       ...\n",
       "       2021-07-30, 2021-09-25, 2021-11-28, 2021-12-10, 2021-12-12, 2021-12-13,\n",
       "       2021-12-14, 2021-12-20, 2021-12-22, 2021-12-26],\n",
       "      dtype='object', name='datetime', length=134)"
      ]
     },
     "execution_count": 60,
     "metadata": {},
     "output_type": "execute_result"
    }
   ],
   "source": [
    "# 匹配时间\n",
    "df_dateconcat.index"
   ]
  },
  {
   "cell_type": "code",
   "execution_count": 61,
   "id": "47e62a78",
   "metadata": {
    "hidden": true
   },
   "outputs": [],
   "source": [
    "isindex1=wtcdt.index.isin(df_dateconcat.index)"
   ]
  },
  {
   "cell_type": "code",
   "execution_count": 62,
   "id": "174c38dc",
   "metadata": {
    "hidden": true
   },
   "outputs": [
    {
     "data": {
      "text/html": [
       "<div>\n",
       "<style scoped>\n",
       "    .dataframe tbody tr th:only-of-type {\n",
       "        vertical-align: middle;\n",
       "    }\n",
       "\n",
       "    .dataframe tbody tr th {\n",
       "        vertical-align: top;\n",
       "    }\n",
       "\n",
       "    .dataframe thead th {\n",
       "        text-align: right;\n",
       "    }\n",
       "</style>\n",
       "<table border=\"1\" class=\"dataframe\">\n",
       "  <thead>\n",
       "    <tr style=\"text-align: right;\">\n",
       "      <th></th>\n",
       "      <th>Max Temperature</th>\n",
       "      <th>Min Temperature</th>\n",
       "      <th>Max Dew Point</th>\n",
       "      <th>Min Dew Point</th>\n",
       "      <th>Max Humidity</th>\n",
       "      <th>Min Humidity</th>\n",
       "      <th>Max Wind Speed</th>\n",
       "      <th>Min Wind Speed</th>\n",
       "    </tr>\n",
       "    <tr>\n",
       "      <th>date</th>\n",
       "      <th></th>\n",
       "      <th></th>\n",
       "      <th></th>\n",
       "      <th></th>\n",
       "      <th></th>\n",
       "      <th></th>\n",
       "      <th></th>\n",
       "      <th></th>\n",
       "    </tr>\n",
       "  </thead>\n",
       "  <tbody>\n",
       "    <tr>\n",
       "      <th>2021-01-19</th>\n",
       "      <td>52</td>\n",
       "      <td>34</td>\n",
       "      <td>30</td>\n",
       "      <td>12</td>\n",
       "      <td>79</td>\n",
       "      <td>22</td>\n",
       "      <td>16</td>\n",
       "      <td>0</td>\n",
       "    </tr>\n",
       "    <tr>\n",
       "      <th>2021-01-20</th>\n",
       "      <td>45</td>\n",
       "      <td>31</td>\n",
       "      <td>29</td>\n",
       "      <td>14</td>\n",
       "      <td>76</td>\n",
       "      <td>34</td>\n",
       "      <td>28</td>\n",
       "      <td>0</td>\n",
       "    </tr>\n",
       "    <tr>\n",
       "      <th>2021-01-21</th>\n",
       "      <td>55</td>\n",
       "      <td>27</td>\n",
       "      <td>31</td>\n",
       "      <td>19</td>\n",
       "      <td>78</td>\n",
       "      <td>30</td>\n",
       "      <td>14</td>\n",
       "      <td>0</td>\n",
       "    </tr>\n",
       "    <tr>\n",
       "      <th>2021-01-22</th>\n",
       "      <td>50</td>\n",
       "      <td>33</td>\n",
       "      <td>31</td>\n",
       "      <td>17</td>\n",
       "      <td>85</td>\n",
       "      <td>29</td>\n",
       "      <td>20</td>\n",
       "      <td>0</td>\n",
       "    </tr>\n",
       "    <tr>\n",
       "      <th>2021-01-30</th>\n",
       "      <td>39</td>\n",
       "      <td>24</td>\n",
       "      <td>18</td>\n",
       "      <td>9</td>\n",
       "      <td>56</td>\n",
       "      <td>33</td>\n",
       "      <td>14</td>\n",
       "      <td>0</td>\n",
       "    </tr>\n",
       "    <tr>\n",
       "      <th>...</th>\n",
       "      <td>...</td>\n",
       "      <td>...</td>\n",
       "      <td>...</td>\n",
       "      <td>...</td>\n",
       "      <td>...</td>\n",
       "      <td>...</td>\n",
       "      <td>...</td>\n",
       "      <td>...</td>\n",
       "    </tr>\n",
       "    <tr>\n",
       "      <th>2021-12-13</th>\n",
       "      <td>51</td>\n",
       "      <td>33</td>\n",
       "      <td>34</td>\n",
       "      <td>22</td>\n",
       "      <td>75</td>\n",
       "      <td>35</td>\n",
       "      <td>10</td>\n",
       "      <td>0</td>\n",
       "    </tr>\n",
       "    <tr>\n",
       "      <th>2021-12-14</th>\n",
       "      <td>60</td>\n",
       "      <td>35</td>\n",
       "      <td>32</td>\n",
       "      <td>26</td>\n",
       "      <td>79</td>\n",
       "      <td>28</td>\n",
       "      <td>8</td>\n",
       "      <td>0</td>\n",
       "    </tr>\n",
       "    <tr>\n",
       "      <th>2021-12-20</th>\n",
       "      <td>41</td>\n",
       "      <td>28</td>\n",
       "      <td>25</td>\n",
       "      <td>13</td>\n",
       "      <td>70</td>\n",
       "      <td>32</td>\n",
       "      <td>10</td>\n",
       "      <td>0</td>\n",
       "    </tr>\n",
       "    <tr>\n",
       "      <th>2021-12-22</th>\n",
       "      <td>51</td>\n",
       "      <td>34</td>\n",
       "      <td>36</td>\n",
       "      <td>15</td>\n",
       "      <td>93</td>\n",
       "      <td>31</td>\n",
       "      <td>23</td>\n",
       "      <td>0</td>\n",
       "    </tr>\n",
       "    <tr>\n",
       "      <th>2021-12-26</th>\n",
       "      <td>62</td>\n",
       "      <td>43</td>\n",
       "      <td>52</td>\n",
       "      <td>29</td>\n",
       "      <td>78</td>\n",
       "      <td>43</td>\n",
       "      <td>14</td>\n",
       "      <td>0</td>\n",
       "    </tr>\n",
       "  </tbody>\n",
       "</table>\n",
       "<p>134 rows × 8 columns</p>\n",
       "</div>"
      ],
      "text/plain": [
       "            Max Temperature  Min Temperature  Max Dew Point  Min Dew Point  \\\n",
       "date                                                                         \n",
       "2021-01-19               52               34             30             12   \n",
       "2021-01-20               45               31             29             14   \n",
       "2021-01-21               55               27             31             19   \n",
       "2021-01-22               50               33             31             17   \n",
       "2021-01-30               39               24             18              9   \n",
       "...                     ...              ...            ...            ...   \n",
       "2021-12-13               51               33             34             22   \n",
       "2021-12-14               60               35             32             26   \n",
       "2021-12-20               41               28             25             13   \n",
       "2021-12-22               51               34             36             15   \n",
       "2021-12-26               62               43             52             29   \n",
       "\n",
       "            Max Humidity  Min Humidity  Max Wind Speed  Min Wind Speed  \n",
       "date                                                                    \n",
       "2021-01-19            79            22              16               0  \n",
       "2021-01-20            76            34              28               0  \n",
       "2021-01-21            78            30              14               0  \n",
       "2021-01-22            85            29              20               0  \n",
       "2021-01-30            56            33              14               0  \n",
       "...                  ...           ...             ...             ...  \n",
       "2021-12-13            75            35              10               0  \n",
       "2021-12-14            79            28               8               0  \n",
       "2021-12-20            70            32              10               0  \n",
       "2021-12-22            93            31              23               0  \n",
       "2021-12-26            78            43              14               0  \n",
       "\n",
       "[134 rows x 8 columns]"
      ]
     },
     "execution_count": 62,
     "metadata": {},
     "output_type": "execute_result"
    }
   ],
   "source": [
    "wtcdt[isindex1]"
   ]
  },
  {
   "cell_type": "code",
   "execution_count": 63,
   "id": "608dfee1",
   "metadata": {
    "hidden": true
   },
   "outputs": [],
   "source": [
    "isindex2=weather['date'].isin(df_dateconcat.index)"
   ]
  },
  {
   "cell_type": "code",
   "execution_count": 64,
   "id": "8f9bd46c",
   "metadata": {
    "hidden": true
   },
   "outputs": [
    {
     "data": {
      "text/plain": [
       "False    231\n",
       "True     134\n",
       "Name: date, dtype: int64"
      ]
     },
     "execution_count": 64,
     "metadata": {},
     "output_type": "execute_result"
    }
   ],
   "source": [
    "isindex2.value_counts()"
   ]
  },
  {
   "cell_type": "code",
   "execution_count": 65,
   "id": "05e7bf5a",
   "metadata": {
    "hidden": true
   },
   "outputs": [],
   "source": [
    "wtdf = pd.DataFrame(weather[isindex2]).set_index('date')"
   ]
  },
  {
   "cell_type": "code",
   "execution_count": 66,
   "id": "11497e55",
   "metadata": {
    "hidden": true
   },
   "outputs": [],
   "source": [
    "M=pd.concat([df_dateconcat,wtdf,wtcdt[isindex1]],axis=1)# 横向合并"
   ]
  },
  {
   "cell_type": "code",
   "execution_count": 67,
   "id": "5fa6c127",
   "metadata": {
    "hidden": true
   },
   "outputs": [
    {
     "data": {
      "text/html": [
       "<div>\n",
       "<style scoped>\n",
       "    .dataframe tbody tr th:only-of-type {\n",
       "        vertical-align: middle;\n",
       "    }\n",
       "\n",
       "    .dataframe tbody tr th {\n",
       "        vertical-align: top;\n",
       "    }\n",
       "\n",
       "    .dataframe thead th {\n",
       "        text-align: right;\n",
       "    }\n",
       "</style>\n",
       "<table border=\"1\" class=\"dataframe\">\n",
       "  <thead>\n",
       "    <tr style=\"text-align: right;\">\n",
       "      <th></th>\n",
       "      <th>total_litter</th>\n",
       "      <th>SMOKING</th>\n",
       "      <th>FOOD</th>\n",
       "      <th>COFFEE</th>\n",
       "      <th>ALCOHOL</th>\n",
       "      <th>SOFTDRINKS</th>\n",
       "      <th>SANITARY</th>\n",
       "      <th>COASTAL</th>\n",
       "      <th>BRANDS</th>\n",
       "      <th>OTHER</th>\n",
       "      <th>weather</th>\n",
       "      <th>Max Temperature</th>\n",
       "      <th>Min Temperature</th>\n",
       "      <th>Max Dew Point</th>\n",
       "      <th>Min Dew Point</th>\n",
       "      <th>Max Humidity</th>\n",
       "      <th>Min Humidity</th>\n",
       "      <th>Max Wind Speed</th>\n",
       "      <th>Min Wind Speed</th>\n",
       "    </tr>\n",
       "  </thead>\n",
       "  <tbody>\n",
       "    <tr>\n",
       "      <th>2021-01-19</th>\n",
       "      <td>156.0</td>\n",
       "      <td>1.0</td>\n",
       "      <td>51.0</td>\n",
       "      <td>1.0</td>\n",
       "      <td>27.0</td>\n",
       "      <td>49.0</td>\n",
       "      <td>3.0</td>\n",
       "      <td>1.0</td>\n",
       "      <td>1.0</td>\n",
       "      <td>25.0</td>\n",
       "      <td>Cloudy</td>\n",
       "      <td>52</td>\n",
       "      <td>34</td>\n",
       "      <td>30</td>\n",
       "      <td>12</td>\n",
       "      <td>79</td>\n",
       "      <td>22</td>\n",
       "      <td>16</td>\n",
       "      <td>0</td>\n",
       "    </tr>\n",
       "    <tr>\n",
       "      <th>2021-01-20</th>\n",
       "      <td>105.0</td>\n",
       "      <td>4.0</td>\n",
       "      <td>37.0</td>\n",
       "      <td>3.0</td>\n",
       "      <td>12.0</td>\n",
       "      <td>37.0</td>\n",
       "      <td>1.0</td>\n",
       "      <td>1.0</td>\n",
       "      <td>0.0</td>\n",
       "      <td>10.0</td>\n",
       "      <td>Cloudy</td>\n",
       "      <td>45</td>\n",
       "      <td>31</td>\n",
       "      <td>29</td>\n",
       "      <td>14</td>\n",
       "      <td>76</td>\n",
       "      <td>34</td>\n",
       "      <td>28</td>\n",
       "      <td>0</td>\n",
       "    </tr>\n",
       "    <tr>\n",
       "      <th>2021-01-21</th>\n",
       "      <td>117.0</td>\n",
       "      <td>0.0</td>\n",
       "      <td>33.0</td>\n",
       "      <td>4.0</td>\n",
       "      <td>9.0</td>\n",
       "      <td>57.0</td>\n",
       "      <td>1.0</td>\n",
       "      <td>0.0</td>\n",
       "      <td>0.0</td>\n",
       "      <td>14.0</td>\n",
       "      <td>Sunny</td>\n",
       "      <td>55</td>\n",
       "      <td>27</td>\n",
       "      <td>31</td>\n",
       "      <td>19</td>\n",
       "      <td>78</td>\n",
       "      <td>30</td>\n",
       "      <td>14</td>\n",
       "      <td>0</td>\n",
       "    </tr>\n",
       "    <tr>\n",
       "      <th>2021-01-22</th>\n",
       "      <td>183.0</td>\n",
       "      <td>1.0</td>\n",
       "      <td>95.0</td>\n",
       "      <td>0.0</td>\n",
       "      <td>19.0</td>\n",
       "      <td>57.0</td>\n",
       "      <td>1.0</td>\n",
       "      <td>1.0</td>\n",
       "      <td>3.0</td>\n",
       "      <td>6.0</td>\n",
       "      <td>Sunny</td>\n",
       "      <td>50</td>\n",
       "      <td>33</td>\n",
       "      <td>31</td>\n",
       "      <td>17</td>\n",
       "      <td>85</td>\n",
       "      <td>29</td>\n",
       "      <td>20</td>\n",
       "      <td>0</td>\n",
       "    </tr>\n",
       "    <tr>\n",
       "      <th>2021-01-30</th>\n",
       "      <td>1.0</td>\n",
       "      <td>0.0</td>\n",
       "      <td>1.0</td>\n",
       "      <td>0.0</td>\n",
       "      <td>0.0</td>\n",
       "      <td>0.0</td>\n",
       "      <td>0.0</td>\n",
       "      <td>0.0</td>\n",
       "      <td>0.0</td>\n",
       "      <td>0.0</td>\n",
       "      <td>Sunny</td>\n",
       "      <td>39</td>\n",
       "      <td>24</td>\n",
       "      <td>18</td>\n",
       "      <td>9</td>\n",
       "      <td>56</td>\n",
       "      <td>33</td>\n",
       "      <td>14</td>\n",
       "      <td>0</td>\n",
       "    </tr>\n",
       "    <tr>\n",
       "      <th>...</th>\n",
       "      <td>...</td>\n",
       "      <td>...</td>\n",
       "      <td>...</td>\n",
       "      <td>...</td>\n",
       "      <td>...</td>\n",
       "      <td>...</td>\n",
       "      <td>...</td>\n",
       "      <td>...</td>\n",
       "      <td>...</td>\n",
       "      <td>...</td>\n",
       "      <td>...</td>\n",
       "      <td>...</td>\n",
       "      <td>...</td>\n",
       "      <td>...</td>\n",
       "      <td>...</td>\n",
       "      <td>...</td>\n",
       "      <td>...</td>\n",
       "      <td>...</td>\n",
       "      <td>...</td>\n",
       "    </tr>\n",
       "    <tr>\n",
       "      <th>2021-12-13</th>\n",
       "      <td>44.0</td>\n",
       "      <td>2.0</td>\n",
       "      <td>10.0</td>\n",
       "      <td>2.0</td>\n",
       "      <td>1.0</td>\n",
       "      <td>8.0</td>\n",
       "      <td>0.0</td>\n",
       "      <td>9.0</td>\n",
       "      <td>13.0</td>\n",
       "      <td>12.0</td>\n",
       "      <td>Sunny</td>\n",
       "      <td>51</td>\n",
       "      <td>33</td>\n",
       "      <td>34</td>\n",
       "      <td>22</td>\n",
       "      <td>75</td>\n",
       "      <td>35</td>\n",
       "      <td>10</td>\n",
       "      <td>0</td>\n",
       "    </tr>\n",
       "    <tr>\n",
       "      <th>2021-12-14</th>\n",
       "      <td>156.0</td>\n",
       "      <td>0.0</td>\n",
       "      <td>23.0</td>\n",
       "      <td>0.0</td>\n",
       "      <td>76.0</td>\n",
       "      <td>49.0</td>\n",
       "      <td>1.0</td>\n",
       "      <td>0.0</td>\n",
       "      <td>68.0</td>\n",
       "      <td>7.0</td>\n",
       "      <td>Sunny</td>\n",
       "      <td>60</td>\n",
       "      <td>35</td>\n",
       "      <td>32</td>\n",
       "      <td>26</td>\n",
       "      <td>79</td>\n",
       "      <td>28</td>\n",
       "      <td>8</td>\n",
       "      <td>0</td>\n",
       "    </tr>\n",
       "    <tr>\n",
       "      <th>2021-12-20</th>\n",
       "      <td>164.0</td>\n",
       "      <td>32.0</td>\n",
       "      <td>12.0</td>\n",
       "      <td>0.0</td>\n",
       "      <td>58.0</td>\n",
       "      <td>38.0</td>\n",
       "      <td>0.0</td>\n",
       "      <td>0.0</td>\n",
       "      <td>53.0</td>\n",
       "      <td>24.0</td>\n",
       "      <td>Sunny</td>\n",
       "      <td>41</td>\n",
       "      <td>28</td>\n",
       "      <td>25</td>\n",
       "      <td>13</td>\n",
       "      <td>70</td>\n",
       "      <td>32</td>\n",
       "      <td>10</td>\n",
       "      <td>0</td>\n",
       "    </tr>\n",
       "    <tr>\n",
       "      <th>2021-12-22</th>\n",
       "      <td>184.0</td>\n",
       "      <td>58.0</td>\n",
       "      <td>11.0</td>\n",
       "      <td>0.0</td>\n",
       "      <td>59.0</td>\n",
       "      <td>46.0</td>\n",
       "      <td>2.0</td>\n",
       "      <td>0.0</td>\n",
       "      <td>85.0</td>\n",
       "      <td>8.0</td>\n",
       "      <td>Cloudy</td>\n",
       "      <td>51</td>\n",
       "      <td>34</td>\n",
       "      <td>36</td>\n",
       "      <td>15</td>\n",
       "      <td>93</td>\n",
       "      <td>31</td>\n",
       "      <td>23</td>\n",
       "      <td>0</td>\n",
       "    </tr>\n",
       "    <tr>\n",
       "      <th>2021-12-26</th>\n",
       "      <td>181.0</td>\n",
       "      <td>47.0</td>\n",
       "      <td>8.0</td>\n",
       "      <td>2.0</td>\n",
       "      <td>76.0</td>\n",
       "      <td>45.0</td>\n",
       "      <td>0.0</td>\n",
       "      <td>0.0</td>\n",
       "      <td>111.0</td>\n",
       "      <td>3.0</td>\n",
       "      <td>Sunny</td>\n",
       "      <td>62</td>\n",
       "      <td>43</td>\n",
       "      <td>52</td>\n",
       "      <td>29</td>\n",
       "      <td>78</td>\n",
       "      <td>43</td>\n",
       "      <td>14</td>\n",
       "      <td>0</td>\n",
       "    </tr>\n",
       "  </tbody>\n",
       "</table>\n",
       "<p>134 rows × 19 columns</p>\n",
       "</div>"
      ],
      "text/plain": [
       "            total_litter  SMOKING  FOOD  COFFEE  ALCOHOL  SOFTDRINKS  \\\n",
       "2021-01-19         156.0      1.0  51.0     1.0     27.0        49.0   \n",
       "2021-01-20         105.0      4.0  37.0     3.0     12.0        37.0   \n",
       "2021-01-21         117.0      0.0  33.0     4.0      9.0        57.0   \n",
       "2021-01-22         183.0      1.0  95.0     0.0     19.0        57.0   \n",
       "2021-01-30           1.0      0.0   1.0     0.0      0.0         0.0   \n",
       "...                  ...      ...   ...     ...      ...         ...   \n",
       "2021-12-13          44.0      2.0  10.0     2.0      1.0         8.0   \n",
       "2021-12-14         156.0      0.0  23.0     0.0     76.0        49.0   \n",
       "2021-12-20         164.0     32.0  12.0     0.0     58.0        38.0   \n",
       "2021-12-22         184.0     58.0  11.0     0.0     59.0        46.0   \n",
       "2021-12-26         181.0     47.0   8.0     2.0     76.0        45.0   \n",
       "\n",
       "            SANITARY  COASTAL  BRANDS  OTHER weather  Max Temperature  \\\n",
       "2021-01-19       3.0      1.0     1.0   25.0  Cloudy               52   \n",
       "2021-01-20       1.0      1.0     0.0   10.0  Cloudy               45   \n",
       "2021-01-21       1.0      0.0     0.0   14.0   Sunny               55   \n",
       "2021-01-22       1.0      1.0     3.0    6.0   Sunny               50   \n",
       "2021-01-30       0.0      0.0     0.0    0.0   Sunny               39   \n",
       "...              ...      ...     ...    ...     ...              ...   \n",
       "2021-12-13       0.0      9.0    13.0   12.0   Sunny               51   \n",
       "2021-12-14       1.0      0.0    68.0    7.0   Sunny               60   \n",
       "2021-12-20       0.0      0.0    53.0   24.0   Sunny               41   \n",
       "2021-12-22       2.0      0.0    85.0    8.0  Cloudy               51   \n",
       "2021-12-26       0.0      0.0   111.0    3.0   Sunny               62   \n",
       "\n",
       "            Min Temperature  Max Dew Point  Min Dew Point  Max Humidity  \\\n",
       "2021-01-19               34             30             12            79   \n",
       "2021-01-20               31             29             14            76   \n",
       "2021-01-21               27             31             19            78   \n",
       "2021-01-22               33             31             17            85   \n",
       "2021-01-30               24             18              9            56   \n",
       "...                     ...            ...            ...           ...   \n",
       "2021-12-13               33             34             22            75   \n",
       "2021-12-14               35             32             26            79   \n",
       "2021-12-20               28             25             13            70   \n",
       "2021-12-22               34             36             15            93   \n",
       "2021-12-26               43             52             29            78   \n",
       "\n",
       "            Min Humidity  Max Wind Speed  Min Wind Speed  \n",
       "2021-01-19            22              16               0  \n",
       "2021-01-20            34              28               0  \n",
       "2021-01-21            30              14               0  \n",
       "2021-01-22            29              20               0  \n",
       "2021-01-30            33              14               0  \n",
       "...                  ...             ...             ...  \n",
       "2021-12-13            35              10               0  \n",
       "2021-12-14            28               8               0  \n",
       "2021-12-20            32              10               0  \n",
       "2021-12-22            31              23               0  \n",
       "2021-12-26            43              14               0  \n",
       "\n",
       "[134 rows x 19 columns]"
      ]
     },
     "execution_count": 67,
     "metadata": {},
     "output_type": "execute_result"
    }
   ],
   "source": [
    "M"
   ]
  },
  {
   "cell_type": "code",
   "execution_count": 67,
   "id": "f9cd43d4",
   "metadata": {
    "hidden": true
   },
   "outputs": [],
   "source": [
    "# M_train=M.drop(M.loc[:,'SMOKING':'OTHER'],axis=1)# 舍弃分类"
   ]
  },
  {
   "cell_type": "markdown",
   "id": "580d71ca",
   "metadata": {},
   "source": [
    "### 对天气描述编码"
   ]
  },
  {
   "cell_type": "code",
   "execution_count": 68,
   "id": "a21f3630",
   "metadata": {},
   "outputs": [
    {
     "data": {
      "text/html": [
       "<div>\n",
       "<style scoped>\n",
       "    .dataframe tbody tr th:only-of-type {\n",
       "        vertical-align: middle;\n",
       "    }\n",
       "\n",
       "    .dataframe tbody tr th {\n",
       "        vertical-align: top;\n",
       "    }\n",
       "\n",
       "    .dataframe thead th {\n",
       "        text-align: right;\n",
       "    }\n",
       "</style>\n",
       "<table border=\"1\" class=\"dataframe\">\n",
       "  <thead>\n",
       "    <tr style=\"text-align: right;\">\n",
       "      <th></th>\n",
       "      <th>date</th>\n",
       "      <th>weather</th>\n",
       "    </tr>\n",
       "  </thead>\n",
       "  <tbody>\n",
       "    <tr>\n",
       "      <th>0</th>\n",
       "      <td>2021-01-01</td>\n",
       "      <td>Showers</td>\n",
       "    </tr>\n",
       "    <tr>\n",
       "      <th>1</th>\n",
       "      <td>2021-01-02</td>\n",
       "      <td>Cloudy</td>\n",
       "    </tr>\n",
       "    <tr>\n",
       "      <th>2</th>\n",
       "      <td>2021-01-03</td>\n",
       "      <td>Showers</td>\n",
       "    </tr>\n",
       "    <tr>\n",
       "      <th>3</th>\n",
       "      <td>2021-01-04</td>\n",
       "      <td>Cloudy</td>\n",
       "    </tr>\n",
       "    <tr>\n",
       "      <th>4</th>\n",
       "      <td>2021-01-05</td>\n",
       "      <td>Cloudy</td>\n",
       "    </tr>\n",
       "    <tr>\n",
       "      <th>...</th>\n",
       "      <td>...</td>\n",
       "      <td>...</td>\n",
       "    </tr>\n",
       "    <tr>\n",
       "      <th>360</th>\n",
       "      <td>2021-12-27</td>\n",
       "      <td>Cloudy</td>\n",
       "    </tr>\n",
       "    <tr>\n",
       "      <th>361</th>\n",
       "      <td>2021-12-28</td>\n",
       "      <td>Cloudy</td>\n",
       "    </tr>\n",
       "    <tr>\n",
       "      <th>362</th>\n",
       "      <td>2021-12-29</td>\n",
       "      <td>Cloudy</td>\n",
       "    </tr>\n",
       "    <tr>\n",
       "      <th>363</th>\n",
       "      <td>2021-12-30</td>\n",
       "      <td>Showers</td>\n",
       "    </tr>\n",
       "    <tr>\n",
       "      <th>364</th>\n",
       "      <td>2021-12-31</td>\n",
       "      <td>Cloudy</td>\n",
       "    </tr>\n",
       "  </tbody>\n",
       "</table>\n",
       "<p>365 rows × 2 columns</p>\n",
       "</div>"
      ],
      "text/plain": [
       "          date  weather\n",
       "0   2021-01-01  Showers\n",
       "1   2021-01-02   Cloudy\n",
       "2   2021-01-03  Showers\n",
       "3   2021-01-04   Cloudy\n",
       "4   2021-01-05   Cloudy\n",
       "..         ...      ...\n",
       "360 2021-12-27   Cloudy\n",
       "361 2021-12-28   Cloudy\n",
       "362 2021-12-29   Cloudy\n",
       "363 2021-12-30  Showers\n",
       "364 2021-12-31   Cloudy\n",
       "\n",
       "[365 rows x 2 columns]"
      ]
     },
     "execution_count": 68,
     "metadata": {},
     "output_type": "execute_result"
    }
   ],
   "source": [
    "weather"
   ]
  },
  {
   "cell_type": "code",
   "execution_count": 69,
   "id": "aa0809df",
   "metadata": {},
   "outputs": [],
   "source": [
    "weather = pd.DataFrame(weather).set_index('date') # 将时间作为索引"
   ]
  },
  {
   "cell_type": "code",
   "execution_count": 69,
   "id": "31f5ae91",
   "metadata": {},
   "outputs": [
    {
     "data": {
      "text/html": [
       "<div>\n",
       "<style scoped>\n",
       "    .dataframe tbody tr th:only-of-type {\n",
       "        vertical-align: middle;\n",
       "    }\n",
       "\n",
       "    .dataframe tbody tr th {\n",
       "        vertical-align: top;\n",
       "    }\n",
       "\n",
       "    .dataframe thead th {\n",
       "        text-align: right;\n",
       "    }\n",
       "</style>\n",
       "<table border=\"1\" class=\"dataframe\">\n",
       "  <thead>\n",
       "    <tr style=\"text-align: right;\">\n",
       "      <th></th>\n",
       "      <th>weather</th>\n",
       "    </tr>\n",
       "    <tr>\n",
       "      <th>date</th>\n",
       "      <th></th>\n",
       "    </tr>\n",
       "  </thead>\n",
       "  <tbody>\n",
       "    <tr>\n",
       "      <th>2021-01-19</th>\n",
       "      <td>Cloudy</td>\n",
       "    </tr>\n",
       "    <tr>\n",
       "      <th>2021-01-20</th>\n",
       "      <td>Cloudy</td>\n",
       "    </tr>\n",
       "    <tr>\n",
       "      <th>2021-01-21</th>\n",
       "      <td>Sunny</td>\n",
       "    </tr>\n",
       "    <tr>\n",
       "      <th>2021-01-22</th>\n",
       "      <td>Sunny</td>\n",
       "    </tr>\n",
       "    <tr>\n",
       "      <th>2021-01-30</th>\n",
       "      <td>Sunny</td>\n",
       "    </tr>\n",
       "    <tr>\n",
       "      <th>...</th>\n",
       "      <td>...</td>\n",
       "    </tr>\n",
       "    <tr>\n",
       "      <th>2021-12-13</th>\n",
       "      <td>Sunny</td>\n",
       "    </tr>\n",
       "    <tr>\n",
       "      <th>2021-12-14</th>\n",
       "      <td>Sunny</td>\n",
       "    </tr>\n",
       "    <tr>\n",
       "      <th>2021-12-20</th>\n",
       "      <td>Sunny</td>\n",
       "    </tr>\n",
       "    <tr>\n",
       "      <th>2021-12-22</th>\n",
       "      <td>Cloudy</td>\n",
       "    </tr>\n",
       "    <tr>\n",
       "      <th>2021-12-26</th>\n",
       "      <td>Sunny</td>\n",
       "    </tr>\n",
       "  </tbody>\n",
       "</table>\n",
       "<p>134 rows × 1 columns</p>\n",
       "</div>"
      ],
      "text/plain": [
       "           weather\n",
       "date              \n",
       "2021-01-19  Cloudy\n",
       "2021-01-20  Cloudy\n",
       "2021-01-21   Sunny\n",
       "2021-01-22   Sunny\n",
       "2021-01-30   Sunny\n",
       "...            ...\n",
       "2021-12-13   Sunny\n",
       "2021-12-14   Sunny\n",
       "2021-12-20   Sunny\n",
       "2021-12-22  Cloudy\n",
       "2021-12-26   Sunny\n",
       "\n",
       "[134 rows x 1 columns]"
      ]
     },
     "execution_count": 69,
     "metadata": {},
     "output_type": "execute_result"
    }
   ],
   "source": [
    "wtdf"
   ]
  },
  {
   "cell_type": "code",
   "execution_count": 70,
   "id": "b6d44630",
   "metadata": {},
   "outputs": [],
   "source": [
    "values_wt=wtdf['weather']"
   ]
  },
  {
   "cell_type": "code",
   "execution_count": 71,
   "id": "fba4242d",
   "metadata": {},
   "outputs": [
    {
     "data": {
      "text/plain": [
       "array([0, 0, 2, 2, 2, 0, 0, 0, 0, 2, 0, 2, 2, 0, 0, 2, 2, 0, 2, 0, 2, 0,\n",
       "       0, 2, 2, 0, 0, 0, 0, 0, 2, 2, 0, 2, 0, 0, 0, 0, 0, 0, 0, 0, 0, 0,\n",
       "       2, 0, 0, 2, 0, 2, 0, 0, 0, 2, 2, 0, 0, 0, 0, 0, 0, 2, 0, 0, 0, 2,\n",
       "       0, 0, 0, 0, 0, 0, 1, 0, 0, 0, 0, 0, 0, 2, 2, 0, 0, 0, 0, 1, 0, 2,\n",
       "       2, 2, 0, 0, 0, 2, 2, 0, 0, 0, 2, 2, 0, 1, 0, 0, 0, 2, 0, 0, 0, 0,\n",
       "       0, 0, 0, 0, 0, 2, 0, 0, 0, 0, 0, 2, 1, 0, 2, 0, 0, 0, 2, 2, 2, 2,\n",
       "       0, 2])"
      ]
     },
     "execution_count": 71,
     "metadata": {},
     "output_type": "execute_result"
    }
   ],
   "source": [
    "# 整数编码\n",
    "label_encoder_wt = LabelEncoder()\n",
    "integer_encoded_wt = label_encoder_wt.fit_transform(values_wt)\n",
    "integer_encoded_wt"
   ]
  },
  {
   "cell_type": "code",
   "execution_count": 72,
   "id": "2d2dd45a",
   "metadata": {},
   "outputs": [
    {
     "data": {
      "text/plain": [
       "(134, 3)"
      ]
     },
     "execution_count": 72,
     "metadata": {},
     "output_type": "execute_result"
    }
   ],
   "source": [
    "# 二进制编码\n",
    "wt_encoded = OneHotEncoder(sparse=False)\n",
    "integer_encoded_wt = integer_encoded_wt.reshape(len(integer_encoded_wt), 1)\n",
    "wt_encoded = wt_encoded.fit_transform(integer_encoded_wt)\n",
    "wt_encoded.shape"
   ]
  },
  {
   "cell_type": "code",
   "execution_count": 73,
   "id": "2f178acc",
   "metadata": {},
   "outputs": [
    {
     "data": {
      "text/plain": [
       "array(['Cloudy'], dtype=object)"
      ]
     },
     "execution_count": 73,
     "metadata": {},
     "output_type": "execute_result"
    }
   ],
   "source": [
    "# 第一个例子的反转\n",
    "inverted_wt = label_encoder_wt.inverse_transform([argmax(wt_encoded[0, :])])\n",
    "inverted_wt"
   ]
  },
  {
   "cell_type": "markdown",
   "id": "6ffbee09",
   "metadata": {
    "heading_collapsed": true
   },
   "source": [
    "### 天气特征归一化(舍弃)"
   ]
  },
  {
   "cell_type": "code",
   "execution_count": 78,
   "id": "918b5e2d",
   "metadata": {
    "hidden": true
   },
   "outputs": [],
   "source": [
    "from sklearn.preprocessing import MinMaxScaler\n",
    "from sklearn.preprocessing import StandardScaler"
   ]
  },
  {
   "cell_type": "code",
   "execution_count": 79,
   "id": "78396c04",
   "metadata": {
    "hidden": true
   },
   "outputs": [
    {
     "data": {
      "text/plain": [
       "array([[36.59],\n",
       "       [34.  ],\n",
       "       [39.  ],\n",
       "       ...,\n",
       "       [36.  ],\n",
       "       [27.  ],\n",
       "       [30.58]])"
      ]
     },
     "execution_count": 79,
     "metadata": {},
     "output_type": "execute_result"
    }
   ],
   "source": [
    "M_train.loc[:,'Actual Mean Temperature':'Actual Sea Level Pressure'].values.reshape(-1, 1)"
   ]
  },
  {
   "cell_type": "code",
   "execution_count": 80,
   "id": "3e1e13c2",
   "metadata": {
    "hidden": true
   },
   "outputs": [],
   "source": [
    "mm = MinMaxScaler()\n",
    "mm_data = mm.fit_transform(M_train.loc[:,'Actual Mean Temperature':'Actual Sea Level Pressure'].values.reshape(-1, 1))"
   ]
  },
  {
   "cell_type": "code",
   "execution_count": 81,
   "id": "230e02c8",
   "metadata": {
    "hidden": true
   },
   "outputs": [
    {
     "data": {
      "text/plain": [
       "array([[0.43559524, 0.4047619 , 0.46428571, ..., 0.42857143, 0.38095238,\n",
       "        0.35809524],\n",
       "       [0.44690476, 0.4047619 , 0.48809524, ..., 0.44047619, 0.38095238,\n",
       "        0.35666667],\n",
       "       [0.42809524, 0.35714286, 0.48809524, ..., 0.42857143, 0.35714286,\n",
       "        0.35869048],\n",
       "       ...,\n",
       "       [0.37857143, 0.32142857, 0.51190476, ..., 0.38095238, 0.32142857,\n",
       "        0.36154762],\n",
       "       [0.47130952, 0.42857143, 0.51190476, ..., 0.44047619, 0.33333333,\n",
       "        0.36333333],\n",
       "       [0.49380952, 0.42857143, 0.57142857, ..., 0.42857143, 0.32142857,\n",
       "        0.36404762]])"
      ]
     },
     "execution_count": 81,
     "metadata": {},
     "output_type": "execute_result"
    }
   ],
   "source": [
    "mm_weather=mm_data.reshape(228,10)\n",
    "mm_weather"
   ]
  },
  {
   "cell_type": "code",
   "execution_count": 232,
   "id": "85b4b5da",
   "metadata": {
    "hidden": true
   },
   "outputs": [],
   "source": [
    "# 合并归一化后的数据\n",
    "mm_weather_df=pd.DataFrame(mm_weather)\n",
    "mm_weather_df=mm_weather_df.set_index(wtdf.index)\n",
    "wt_encoded_df=pd.DataFrame(wt_encoded)\n",
    "wt_encoded_df=wt_encoded_df.set_index(wtdf.index)\n",
    "ML=pd.concat([wt_encoded_df,mm_weather_df,M_train['total_litter']],axis=1)"
   ]
  },
  {
   "cell_type": "code",
   "execution_count": 233,
   "id": "77f71c88",
   "metadata": {
    "hidden": true,
    "scrolled": false
   },
   "outputs": [
    {
     "data": {
      "text/html": [
       "<div>\n",
       "<style scoped>\n",
       "    .dataframe tbody tr th:only-of-type {\n",
       "        vertical-align: middle;\n",
       "    }\n",
       "\n",
       "    .dataframe tbody tr th {\n",
       "        vertical-align: top;\n",
       "    }\n",
       "\n",
       "    .dataframe thead th {\n",
       "        text-align: right;\n",
       "    }\n",
       "</style>\n",
       "<table border=\"1\" class=\"dataframe\">\n",
       "  <thead>\n",
       "    <tr style=\"text-align: right;\">\n",
       "      <th></th>\n",
       "      <th>0</th>\n",
       "      <th>1</th>\n",
       "      <th>2</th>\n",
       "      <th>3</th>\n",
       "      <th>0</th>\n",
       "      <th>1</th>\n",
       "      <th>2</th>\n",
       "      <th>3</th>\n",
       "      <th>4</th>\n",
       "      <th>5</th>\n",
       "      <th>6</th>\n",
       "      <th>7</th>\n",
       "      <th>8</th>\n",
       "      <th>9</th>\n",
       "      <th>total_litter</th>\n",
       "    </tr>\n",
       "  </thead>\n",
       "  <tbody>\n",
       "    <tr>\n",
       "      <th>2021-01-06</th>\n",
       "      <td>0.0</td>\n",
       "      <td>0.0</td>\n",
       "      <td>0.0</td>\n",
       "      <td>1.0</td>\n",
       "      <td>0.435595</td>\n",
       "      <td>0.404762</td>\n",
       "      <td>0.464286</td>\n",
       "      <td>0.369048</td>\n",
       "      <td>0.476190</td>\n",
       "      <td>0.178571</td>\n",
       "      <td>0.388214</td>\n",
       "      <td>0.428571</td>\n",
       "      <td>0.380952</td>\n",
       "      <td>0.358095</td>\n",
       "      <td>3.0</td>\n",
       "    </tr>\n",
       "    <tr>\n",
       "      <th>2021-01-07</th>\n",
       "      <td>0.0</td>\n",
       "      <td>0.0</td>\n",
       "      <td>1.0</td>\n",
       "      <td>0.0</td>\n",
       "      <td>0.446905</td>\n",
       "      <td>0.404762</td>\n",
       "      <td>0.488095</td>\n",
       "      <td>0.369048</td>\n",
       "      <td>0.476190</td>\n",
       "      <td>0.190476</td>\n",
       "      <td>0.420595</td>\n",
       "      <td>0.440476</td>\n",
       "      <td>0.380952</td>\n",
       "      <td>0.356667</td>\n",
       "      <td>2.0</td>\n",
       "    </tr>\n",
       "    <tr>\n",
       "      <th>2021-01-08</th>\n",
       "      <td>0.0</td>\n",
       "      <td>0.0</td>\n",
       "      <td>1.0</td>\n",
       "      <td>0.0</td>\n",
       "      <td>0.428095</td>\n",
       "      <td>0.357143</td>\n",
       "      <td>0.488095</td>\n",
       "      <td>0.369048</td>\n",
       "      <td>0.476190</td>\n",
       "      <td>0.083333</td>\n",
       "      <td>0.405833</td>\n",
       "      <td>0.428571</td>\n",
       "      <td>0.357143</td>\n",
       "      <td>0.358690</td>\n",
       "      <td>114.0</td>\n",
       "    </tr>\n",
       "    <tr>\n",
       "      <th>2021-01-09</th>\n",
       "      <td>0.0</td>\n",
       "      <td>1.0</td>\n",
       "      <td>0.0</td>\n",
       "      <td>0.0</td>\n",
       "      <td>0.386071</td>\n",
       "      <td>0.297619</td>\n",
       "      <td>0.511905</td>\n",
       "      <td>0.369048</td>\n",
       "      <td>0.476190</td>\n",
       "      <td>0.095238</td>\n",
       "      <td>0.352024</td>\n",
       "      <td>0.440476</td>\n",
       "      <td>0.297619</td>\n",
       "      <td>0.360476</td>\n",
       "      <td>58.0</td>\n",
       "    </tr>\n",
       "    <tr>\n",
       "      <th>2021-01-10</th>\n",
       "      <td>1.0</td>\n",
       "      <td>0.0</td>\n",
       "      <td>0.0</td>\n",
       "      <td>0.0</td>\n",
       "      <td>0.431429</td>\n",
       "      <td>0.333333</td>\n",
       "      <td>0.488095</td>\n",
       "      <td>0.369048</td>\n",
       "      <td>0.476190</td>\n",
       "      <td>0.142857</td>\n",
       "      <td>0.393690</td>\n",
       "      <td>0.440476</td>\n",
       "      <td>0.321429</td>\n",
       "      <td>0.360476</td>\n",
       "      <td>49.0</td>\n",
       "    </tr>\n",
       "    <tr>\n",
       "      <th>...</th>\n",
       "      <td>...</td>\n",
       "      <td>...</td>\n",
       "      <td>...</td>\n",
       "      <td>...</td>\n",
       "      <td>...</td>\n",
       "      <td>...</td>\n",
       "      <td>...</td>\n",
       "      <td>...</td>\n",
       "      <td>...</td>\n",
       "      <td>...</td>\n",
       "      <td>...</td>\n",
       "      <td>...</td>\n",
       "      <td>...</td>\n",
       "      <td>...</td>\n",
       "      <td>...</td>\n",
       "    </tr>\n",
       "    <tr>\n",
       "      <th>2021-12-19</th>\n",
       "      <td>0.0</td>\n",
       "      <td>0.0</td>\n",
       "      <td>1.0</td>\n",
       "      <td>0.0</td>\n",
       "      <td>0.536548</td>\n",
       "      <td>0.511905</td>\n",
       "      <td>0.547619</td>\n",
       "      <td>0.392857</td>\n",
       "      <td>0.500000</td>\n",
       "      <td>0.142857</td>\n",
       "      <td>0.518690</td>\n",
       "      <td>0.535714</td>\n",
       "      <td>0.488095</td>\n",
       "      <td>0.364762</td>\n",
       "      <td>92.0</td>\n",
       "    </tr>\n",
       "    <tr>\n",
       "      <th>2021-12-20</th>\n",
       "      <td>1.0</td>\n",
       "      <td>0.0</td>\n",
       "      <td>0.0</td>\n",
       "      <td>0.0</td>\n",
       "      <td>0.495595</td>\n",
       "      <td>0.380952</td>\n",
       "      <td>0.535714</td>\n",
       "      <td>0.392857</td>\n",
       "      <td>0.500000</td>\n",
       "      <td>0.083333</td>\n",
       "      <td>0.418690</td>\n",
       "      <td>0.464286</td>\n",
       "      <td>0.357143</td>\n",
       "      <td>0.361905</td>\n",
       "      <td>232.0</td>\n",
       "    </tr>\n",
       "    <tr>\n",
       "      <th>2021-12-21</th>\n",
       "      <td>0.0</td>\n",
       "      <td>0.0</td>\n",
       "      <td>0.0</td>\n",
       "      <td>1.0</td>\n",
       "      <td>0.378571</td>\n",
       "      <td>0.321429</td>\n",
       "      <td>0.511905</td>\n",
       "      <td>0.392857</td>\n",
       "      <td>0.500000</td>\n",
       "      <td>0.059524</td>\n",
       "      <td>0.339762</td>\n",
       "      <td>0.380952</td>\n",
       "      <td>0.321429</td>\n",
       "      <td>0.361548</td>\n",
       "      <td>14.0</td>\n",
       "    </tr>\n",
       "    <tr>\n",
       "      <th>2022-01-20</th>\n",
       "      <td>1.0</td>\n",
       "      <td>0.0</td>\n",
       "      <td>0.0</td>\n",
       "      <td>0.0</td>\n",
       "      <td>0.471310</td>\n",
       "      <td>0.428571</td>\n",
       "      <td>0.511905</td>\n",
       "      <td>0.369048</td>\n",
       "      <td>0.476190</td>\n",
       "      <td>0.357143</td>\n",
       "      <td>0.392024</td>\n",
       "      <td>0.440476</td>\n",
       "      <td>0.333333</td>\n",
       "      <td>0.363333</td>\n",
       "      <td>5.0</td>\n",
       "    </tr>\n",
       "    <tr>\n",
       "      <th>2022-03-20</th>\n",
       "      <td>0.0</td>\n",
       "      <td>0.0</td>\n",
       "      <td>0.0</td>\n",
       "      <td>1.0</td>\n",
       "      <td>0.493810</td>\n",
       "      <td>0.428571</td>\n",
       "      <td>0.571429</td>\n",
       "      <td>0.404762</td>\n",
       "      <td>0.583333</td>\n",
       "      <td>0.238095</td>\n",
       "      <td>0.381786</td>\n",
       "      <td>0.428571</td>\n",
       "      <td>0.321429</td>\n",
       "      <td>0.364048</td>\n",
       "      <td>27.0</td>\n",
       "    </tr>\n",
       "  </tbody>\n",
       "</table>\n",
       "<p>228 rows × 15 columns</p>\n",
       "</div>"
      ],
      "text/plain": [
       "              0    1    2    3         0         1         2         3  \\\n",
       "2021-01-06  0.0  0.0  0.0  1.0  0.435595  0.404762  0.464286  0.369048   \n",
       "2021-01-07  0.0  0.0  1.0  0.0  0.446905  0.404762  0.488095  0.369048   \n",
       "2021-01-08  0.0  0.0  1.0  0.0  0.428095  0.357143  0.488095  0.369048   \n",
       "2021-01-09  0.0  1.0  0.0  0.0  0.386071  0.297619  0.511905  0.369048   \n",
       "2021-01-10  1.0  0.0  0.0  0.0  0.431429  0.333333  0.488095  0.369048   \n",
       "...         ...  ...  ...  ...       ...       ...       ...       ...   \n",
       "2021-12-19  0.0  0.0  1.0  0.0  0.536548  0.511905  0.547619  0.392857   \n",
       "2021-12-20  1.0  0.0  0.0  0.0  0.495595  0.380952  0.535714  0.392857   \n",
       "2021-12-21  0.0  0.0  0.0  1.0  0.378571  0.321429  0.511905  0.392857   \n",
       "2022-01-20  1.0  0.0  0.0  0.0  0.471310  0.428571  0.511905  0.369048   \n",
       "2022-03-20  0.0  0.0  0.0  1.0  0.493810  0.428571  0.571429  0.404762   \n",
       "\n",
       "                   4         5         6         7         8         9  \\\n",
       "2021-01-06  0.476190  0.178571  0.388214  0.428571  0.380952  0.358095   \n",
       "2021-01-07  0.476190  0.190476  0.420595  0.440476  0.380952  0.356667   \n",
       "2021-01-08  0.476190  0.083333  0.405833  0.428571  0.357143  0.358690   \n",
       "2021-01-09  0.476190  0.095238  0.352024  0.440476  0.297619  0.360476   \n",
       "2021-01-10  0.476190  0.142857  0.393690  0.440476  0.321429  0.360476   \n",
       "...              ...       ...       ...       ...       ...       ...   \n",
       "2021-12-19  0.500000  0.142857  0.518690  0.535714  0.488095  0.364762   \n",
       "2021-12-20  0.500000  0.083333  0.418690  0.464286  0.357143  0.361905   \n",
       "2021-12-21  0.500000  0.059524  0.339762  0.380952  0.321429  0.361548   \n",
       "2022-01-20  0.476190  0.357143  0.392024  0.440476  0.333333  0.363333   \n",
       "2022-03-20  0.583333  0.238095  0.381786  0.428571  0.321429  0.364048   \n",
       "\n",
       "            total_litter  \n",
       "2021-01-06           3.0  \n",
       "2021-01-07           2.0  \n",
       "2021-01-08         114.0  \n",
       "2021-01-09          58.0  \n",
       "2021-01-10          49.0  \n",
       "...                  ...  \n",
       "2021-12-19          92.0  \n",
       "2021-12-20         232.0  \n",
       "2021-12-21          14.0  \n",
       "2022-01-20           5.0  \n",
       "2022-03-20          27.0  \n",
       "\n",
       "[228 rows x 15 columns]"
      ]
     },
     "execution_count": 233,
     "metadata": {},
     "output_type": "execute_result"
    }
   ],
   "source": [
    "ML"
   ]
  },
  {
   "cell_type": "code",
   "execution_count": 84,
   "id": "5a5b2ac0",
   "metadata": {
    "hidden": true
   },
   "outputs": [],
   "source": [
    "ML_array=np.array(ML)"
   ]
  },
  {
   "cell_type": "code",
   "execution_count": 85,
   "id": "3b29713b",
   "metadata": {
    "hidden": true
   },
   "outputs": [],
   "source": [
    "np.save('Hoorn_array', ML)"
   ]
  },
  {
   "cell_type": "markdown",
   "id": "8ef8db8b",
   "metadata": {
    "heading_collapsed": true
   },
   "source": [
    "## poi分类统计（舍弃）"
   ]
  },
  {
   "cell_type": "code",
   "execution_count": 6,
   "id": "6cc3c00f",
   "metadata": {
    "hidden": true
   },
   "outputs": [],
   "source": [
    "points=gpd.read_file('./data/Hyattsville_shape/points.shp')"
   ]
  },
  {
   "cell_type": "code",
   "execution_count": 7,
   "id": "9f2a228d",
   "metadata": {},
   "outputs": [
    {
     "data": {
      "text/html": [
       "<div>\n",
       "<style scoped>\n",
       "    .dataframe tbody tr th:only-of-type {\n",
       "        vertical-align: middle;\n",
       "    }\n",
       "\n",
       "    .dataframe tbody tr th {\n",
       "        vertical-align: top;\n",
       "    }\n",
       "\n",
       "    .dataframe thead th {\n",
       "        text-align: right;\n",
       "    }\n",
       "</style>\n",
       "<table border=\"1\" class=\"dataframe\">\n",
       "  <thead>\n",
       "    <tr style=\"text-align: right;\">\n",
       "      <th></th>\n",
       "      <th>osm_id</th>\n",
       "      <th>timestamp</th>\n",
       "      <th>name</th>\n",
       "      <th>type</th>\n",
       "      <th>geometry</th>\n",
       "    </tr>\n",
       "  </thead>\n",
       "  <tbody>\n",
       "    <tr>\n",
       "      <th>0</th>\n",
       "      <td>49159709</td>\n",
       "      <td>None</td>\n",
       "      <td>None</td>\n",
       "      <td>mini_roundabout</td>\n",
       "      <td>POINT (-76.98962 38.98505)</td>\n",
       "    </tr>\n",
       "    <tr>\n",
       "      <th>1</th>\n",
       "      <td>49173176</td>\n",
       "      <td>None</td>\n",
       "      <td>None</td>\n",
       "      <td>traffic_signals</td>\n",
       "      <td>POINT (-76.99501 38.98734)</td>\n",
       "    </tr>\n",
       "    <tr>\n",
       "      <th>2</th>\n",
       "      <td>49173198</td>\n",
       "      <td>None</td>\n",
       "      <td>None</td>\n",
       "      <td>traffic_signals</td>\n",
       "      <td>POINT (-76.99260 38.99394)</td>\n",
       "    </tr>\n",
       "    <tr>\n",
       "      <th>3</th>\n",
       "      <td>49175672</td>\n",
       "      <td>None</td>\n",
       "      <td>None</td>\n",
       "      <td>mini_roundabout</td>\n",
       "      <td>POINT (-76.99084 38.98727)</td>\n",
       "    </tr>\n",
       "    <tr>\n",
       "      <th>4</th>\n",
       "      <td>49197011</td>\n",
       "      <td>None</td>\n",
       "      <td>None</td>\n",
       "      <td>traffic_signals</td>\n",
       "      <td>POINT (-76.98781 38.98894)</td>\n",
       "    </tr>\n",
       "    <tr>\n",
       "      <th>...</th>\n",
       "      <td>...</td>\n",
       "      <td>...</td>\n",
       "      <td>...</td>\n",
       "      <td>...</td>\n",
       "      <td>...</td>\n",
       "    </tr>\n",
       "    <tr>\n",
       "      <th>5620</th>\n",
       "      <td>1545738384</td>\n",
       "      <td>None</td>\n",
       "      <td>None</td>\n",
       "      <td>street_lamp</td>\n",
       "      <td>POINT (-76.92892 38.97844)</td>\n",
       "    </tr>\n",
       "    <tr>\n",
       "      <th>5621</th>\n",
       "      <td>1545738385</td>\n",
       "      <td>None</td>\n",
       "      <td>None</td>\n",
       "      <td>street_lamp</td>\n",
       "      <td>POINT (-76.92891 38.97847)</td>\n",
       "    </tr>\n",
       "    <tr>\n",
       "      <th>5622</th>\n",
       "      <td>1582709459</td>\n",
       "      <td>None</td>\n",
       "      <td>Möge Tee</td>\n",
       "      <td>cafe</td>\n",
       "      <td>POINT (-76.93408 38.99112)</td>\n",
       "    </tr>\n",
       "    <tr>\n",
       "      <th>5623</th>\n",
       "      <td>1669775114</td>\n",
       "      <td>None</td>\n",
       "      <td>The Hotel at The University of Maryland</td>\n",
       "      <td>hotel</td>\n",
       "      <td>POINT (-76.93518 38.98697)</td>\n",
       "    </tr>\n",
       "    <tr>\n",
       "      <th>5624</th>\n",
       "      <td>1717262755</td>\n",
       "      <td>None</td>\n",
       "      <td>None</td>\n",
       "      <td>bus_stop</td>\n",
       "      <td>POINT (-76.95641 38.94840)</td>\n",
       "    </tr>\n",
       "  </tbody>\n",
       "</table>\n",
       "<p>5625 rows × 5 columns</p>\n",
       "</div>"
      ],
      "text/plain": [
       "          osm_id timestamp                                     name  \\\n",
       "0       49159709      None                                     None   \n",
       "1       49173176      None                                     None   \n",
       "2       49173198      None                                     None   \n",
       "3       49175672      None                                     None   \n",
       "4       49197011      None                                     None   \n",
       "...          ...       ...                                      ...   \n",
       "5620  1545738384      None                                     None   \n",
       "5621  1545738385      None                                     None   \n",
       "5622  1582709459      None                                 Möge Tee   \n",
       "5623  1669775114      None  The Hotel at The University of Maryland   \n",
       "5624  1717262755      None                                     None   \n",
       "\n",
       "                 type                    geometry  \n",
       "0     mini_roundabout  POINT (-76.98962 38.98505)  \n",
       "1     traffic_signals  POINT (-76.99501 38.98734)  \n",
       "2     traffic_signals  POINT (-76.99260 38.99394)  \n",
       "3     mini_roundabout  POINT (-76.99084 38.98727)  \n",
       "4     traffic_signals  POINT (-76.98781 38.98894)  \n",
       "...               ...                         ...  \n",
       "5620      street_lamp  POINT (-76.92892 38.97844)  \n",
       "5621      street_lamp  POINT (-76.92891 38.97847)  \n",
       "5622             cafe  POINT (-76.93408 38.99112)  \n",
       "5623            hotel  POINT (-76.93518 38.98697)  \n",
       "5624         bus_stop  POINT (-76.95641 38.94840)  \n",
       "\n",
       "[5625 rows x 5 columns]"
      ]
     },
     "execution_count": 7,
     "metadata": {},
     "output_type": "execute_result"
    }
   ],
   "source": [
    "points"
   ]
  },
  {
   "cell_type": "code",
   "execution_count": 117,
   "id": "44ffd9af",
   "metadata": {
    "hidden": true
   },
   "outputs": [],
   "source": [
    "public=points['type'].isin(['post_box', 'pub',  'school', 'social_facility','charging_station','childcare','arts_centre',\n",
    "\n",
    "'community_centre','kindergarten','library',  'elevator','fire_station','post_depot', \n",
    "\n",
    " 'social_centre', 'marketplace','police', 'theatre','yard','music_school','townhall'])"
   ]
  },
  {
   "cell_type": "code",
   "execution_count": 118,
   "id": "63d35e87",
   "metadata": {
    "hidden": true
   },
   "outputs": [],
   "source": [
    "poi_public=points['type'][public].value_counts()"
   ]
  },
  {
   "cell_type": "code",
   "execution_count": 119,
   "id": "42c4df20",
   "metadata": {
    "hidden": true
   },
   "outputs": [],
   "source": [
    "poi_public=poi_public.values.sum()"
   ]
  },
  {
   "cell_type": "code",
   "execution_count": 120,
   "id": "dbe610c7",
   "metadata": {
    "hidden": true
   },
   "outputs": [
    {
     "data": {
      "text/plain": [
       "53"
      ]
     },
     "execution_count": 120,
     "metadata": {},
     "output_type": "execute_result"
    }
   ],
   "source": [
    "poi_public"
   ]
  },
  {
   "cell_type": "code",
   "execution_count": 121,
   "id": "90a972e5",
   "metadata": {
    "hidden": true
   },
   "outputs": [],
   "source": [
    "points['type'][public]='public'"
   ]
  },
  {
   "cell_type": "code",
   "execution_count": 122,
   "id": "f3d552d5",
   "metadata": {
    "hidden": true
   },
   "outputs": [],
   "source": [
    "health=points['type'].isin(['dentist','doctors','pharmacy', 'veterinary','hospital', 'clinic'])"
   ]
  },
  {
   "cell_type": "code",
   "execution_count": 123,
   "id": "0fd25495",
   "metadata": {
    "hidden": true
   },
   "outputs": [],
   "source": [
    "poi_health=points['type'][health].value_counts()"
   ]
  },
  {
   "cell_type": "code",
   "execution_count": 124,
   "id": "a60f1798",
   "metadata": {
    "hidden": true
   },
   "outputs": [],
   "source": [
    "poi_health=poi_health.values.sum()"
   ]
  },
  {
   "cell_type": "code",
   "execution_count": 125,
   "id": "6a887d11",
   "metadata": {
    "hidden": true
   },
   "outputs": [],
   "source": [
    "points['type'][health]='health'"
   ]
  },
  {
   "cell_type": "code",
   "execution_count": 126,
   "id": "10dafdd9",
   "metadata": {
    "hidden": true
   },
   "outputs": [],
   "source": [
    "leisure=points['type'].isin(['cafe', 'cinema','casino'])"
   ]
  },
  {
   "cell_type": "code",
   "execution_count": 127,
   "id": "c3b46720",
   "metadata": {
    "hidden": true
   },
   "outputs": [],
   "source": [
    "poi_leisure=points['type'][leisure].value_counts()"
   ]
  },
  {
   "cell_type": "code",
   "execution_count": 128,
   "id": "0a7cfd67",
   "metadata": {
    "hidden": true
   },
   "outputs": [],
   "source": [
    "poi_leisure=poi_leisure.values.sum()"
   ]
  },
  {
   "cell_type": "code",
   "execution_count": 129,
   "id": "80cd007a",
   "metadata": {
    "hidden": true
   },
   "outputs": [
    {
     "data": {
      "text/plain": [
       "8"
      ]
     },
     "execution_count": 129,
     "metadata": {},
     "output_type": "execute_result"
    }
   ],
   "source": [
    "poi_leisure"
   ]
  },
  {
   "cell_type": "code",
   "execution_count": 130,
   "id": "fd85650e",
   "metadata": {
    "hidden": true
   },
   "outputs": [],
   "source": [
    "points['type'][leisure]='leisure'"
   ]
  },
  {
   "cell_type": "code",
   "execution_count": 131,
   "id": "671257ae",
   "metadata": {
    "hidden": true
   },
   "outputs": [],
   "source": [
    "catering=points['type'].isin([ 'restaurant','fast_food'])"
   ]
  },
  {
   "cell_type": "code",
   "execution_count": 132,
   "id": "83c8c8b1",
   "metadata": {
    "hidden": true
   },
   "outputs": [],
   "source": [
    "poi_catering=points['type'][catering].value_counts()"
   ]
  },
  {
   "cell_type": "code",
   "execution_count": 133,
   "id": "3f45b9d9",
   "metadata": {
    "hidden": true
   },
   "outputs": [],
   "source": [
    "poi_catering=poi_catering.values.sum()"
   ]
  },
  {
   "cell_type": "code",
   "execution_count": 134,
   "id": "adf31d70",
   "metadata": {
    "hidden": true
   },
   "outputs": [
    {
     "data": {
      "text/plain": [
       "28"
      ]
     },
     "execution_count": 134,
     "metadata": {},
     "output_type": "execute_result"
    }
   ],
   "source": [
    "poi_catering"
   ]
  },
  {
   "cell_type": "code",
   "execution_count": 135,
   "id": "b9fe2e23",
   "metadata": {
    "hidden": true
   },
   "outputs": [],
   "source": [
    "points['type'][catering]='catering'"
   ]
  },
  {
   "cell_type": "code",
   "execution_count": 136,
   "id": "f4d750ec",
   "metadata": {
    "hidden": true
   },
   "outputs": [],
   "source": [
    "accommodation=points['type'].isin(['hotel','shelter','caravan_site'])"
   ]
  },
  {
   "cell_type": "code",
   "execution_count": 137,
   "id": "2acbc00a",
   "metadata": {
    "hidden": true
   },
   "outputs": [],
   "source": [
    "poi_accommodation=points['type'][accommodation].value_counts()"
   ]
  },
  {
   "cell_type": "code",
   "execution_count": 138,
   "id": "3e55b0ad",
   "metadata": {
    "hidden": true
   },
   "outputs": [],
   "source": [
    "poi_accommodation=poi_accommodation.values.sum()"
   ]
  },
  {
   "cell_type": "code",
   "execution_count": 139,
   "id": "4197fb32",
   "metadata": {
    "hidden": true
   },
   "outputs": [
    {
     "data": {
      "text/plain": [
       "0"
      ]
     },
     "execution_count": 139,
     "metadata": {},
     "output_type": "execute_result"
    }
   ],
   "source": [
    "poi_accommodation"
   ]
  },
  {
   "cell_type": "code",
   "execution_count": 140,
   "id": "4abb83ce",
   "metadata": {
    "hidden": true
   },
   "outputs": [],
   "source": [
    "points['type'][accommodation]='accommodation'"
   ]
  },
  {
   "cell_type": "code",
   "execution_count": 141,
   "id": "a9d379b1",
   "metadata": {
    "hidden": true
   },
   "outputs": [],
   "source": [
    "shopping=points['type'].isin(['car_wash','vending_machine', 'car_sharing','ice_cream','parking', 'shower','bicycle_repair_s', 'car_rental','taxi'])"
   ]
  },
  {
   "cell_type": "code",
   "execution_count": 142,
   "id": "eb495095",
   "metadata": {
    "hidden": true
   },
   "outputs": [],
   "source": [
    "poi_shopping=points['type'][shopping].value_counts()"
   ]
  },
  {
   "cell_type": "code",
   "execution_count": 143,
   "id": "9dc94ff4",
   "metadata": {
    "hidden": true
   },
   "outputs": [],
   "source": [
    "poi_shopping=poi_shopping.values.sum()"
   ]
  },
  {
   "cell_type": "code",
   "execution_count": 144,
   "id": "9ff0174f",
   "metadata": {
    "hidden": true
   },
   "outputs": [
    {
     "data": {
      "text/plain": [
       "6"
      ]
     },
     "execution_count": 144,
     "metadata": {},
     "output_type": "execute_result"
    }
   ],
   "source": [
    "poi_shopping"
   ]
  },
  {
   "cell_type": "code",
   "execution_count": 145,
   "id": "0dccf3c1",
   "metadata": {
    "hidden": true
   },
   "outputs": [],
   "source": [
    "points['type'][shopping]='shopping'"
   ]
  },
  {
   "cell_type": "code",
   "execution_count": 146,
   "id": "126719ae",
   "metadata": {
    "hidden": true
   },
   "outputs": [],
   "source": [
    "money=points['type'].isin(['atm','bank'])"
   ]
  },
  {
   "cell_type": "code",
   "execution_count": 147,
   "id": "e13bbcdf",
   "metadata": {
    "hidden": true
   },
   "outputs": [],
   "source": [
    "poi_money=points['type'][money].value_counts()"
   ]
  },
  {
   "cell_type": "code",
   "execution_count": 148,
   "id": "98274b71",
   "metadata": {
    "hidden": true
   },
   "outputs": [],
   "source": [
    "poi_money=poi_money.values.sum()"
   ]
  },
  {
   "cell_type": "code",
   "execution_count": 149,
   "id": "f7d35608",
   "metadata": {
    "hidden": true
   },
   "outputs": [
    {
     "data": {
      "text/plain": [
       "4"
      ]
     },
     "execution_count": 149,
     "metadata": {},
     "output_type": "execute_result"
    }
   ],
   "source": [
    "poi_money"
   ]
  },
  {
   "cell_type": "code",
   "execution_count": 150,
   "id": "5d0a5b3b",
   "metadata": {
    "hidden": true
   },
   "outputs": [],
   "source": [
    "points['type'][money]='money'"
   ]
  },
  {
   "cell_type": "code",
   "execution_count": 151,
   "id": "26a2ac9c",
   "metadata": {
    "hidden": true
   },
   "outputs": [],
   "source": [
    "tourism=points['type'].isin(['artwork', 'memorial', 'gallery','museum','attraction', 'cannon',  'archaeological_s',  'viewpoint', 'picnic_site'])"
   ]
  },
  {
   "cell_type": "code",
   "execution_count": 152,
   "id": "71cfdb9c",
   "metadata": {
    "hidden": true
   },
   "outputs": [],
   "source": [
    "poi_tourism=points['type'][tourism].value_counts()"
   ]
  },
  {
   "cell_type": "code",
   "execution_count": 153,
   "id": "e2e827a1",
   "metadata": {
    "hidden": true
   },
   "outputs": [],
   "source": [
    "poi_tourism=poi_tourism.values.sum()"
   ]
  },
  {
   "cell_type": "code",
   "execution_count": 154,
   "id": "9ac6a593",
   "metadata": {
    "hidden": true
   },
   "outputs": [
    {
     "data": {
      "text/plain": [
       "7"
      ]
     },
     "execution_count": 154,
     "metadata": {},
     "output_type": "execute_result"
    }
   ],
   "source": [
    "poi_tourism"
   ]
  },
  {
   "cell_type": "code",
   "execution_count": 155,
   "id": "7cb2746c",
   "metadata": {
    "hidden": true
   },
   "outputs": [],
   "source": [
    "points['type'][tourism]='tourism'"
   ]
  },
  {
   "cell_type": "code",
   "execution_count": 156,
   "id": "50036c20",
   "metadata": {
    "hidden": true
   },
   "outputs": [],
   "source": [
    "miscpoi=points['type'].isin(['bench','waste_basket','tower','toilets','surveillance','works','drinking_water', 'windmill','fountain', 'water_well'])"
   ]
  },
  {
   "cell_type": "code",
   "execution_count": 157,
   "id": "1c3fb8ed",
   "metadata": {
    "hidden": true
   },
   "outputs": [],
   "source": [
    "poi_miscpoi=points['type'][miscpoi].value_counts()"
   ]
  },
  {
   "cell_type": "code",
   "execution_count": 158,
   "id": "f4321f77",
   "metadata": {
    "hidden": true
   },
   "outputs": [],
   "source": [
    "poi_miscpoi=poi_miscpoi.values.sum()"
   ]
  },
  {
   "cell_type": "code",
   "execution_count": 159,
   "id": "f4f5650e",
   "metadata": {
    "hidden": true
   },
   "outputs": [
    {
     "data": {
      "text/plain": [
       "34"
      ]
     },
     "execution_count": 159,
     "metadata": {},
     "output_type": "execute_result"
    }
   ],
   "source": [
    "poi_miscpoi"
   ]
  },
  {
   "cell_type": "code",
   "execution_count": 160,
   "id": "95d89db4",
   "metadata": {
    "hidden": true
   },
   "outputs": [],
   "source": [
    "points['type'][miscpoi]='miscpoi'"
   ]
  },
  {
   "cell_type": "code",
   "execution_count": 161,
   "id": "e93e6311",
   "metadata": {
    "hidden": true
   },
   "outputs": [],
   "source": [
    "other=points['type'].isin(['construction','give_way','clock','street_cabinet', 'studio', 'place_of_worship',  'crane',  'communications_t','flagpole', 'chimney', 'lighthouse','tram_stop', 'yes'])"
   ]
  },
  {
   "cell_type": "code",
   "execution_count": 162,
   "id": "694b87a2",
   "metadata": {
    "hidden": true
   },
   "outputs": [],
   "source": [
    "poi_other=points['type'][other].value_counts()"
   ]
  },
  {
   "cell_type": "code",
   "execution_count": 163,
   "id": "c8d46a21",
   "metadata": {
    "hidden": true
   },
   "outputs": [],
   "source": [
    "poi_other=poi_other.values.sum()"
   ]
  },
  {
   "cell_type": "code",
   "execution_count": 164,
   "id": "9e9d5185",
   "metadata": {
    "hidden": true
   },
   "outputs": [
    {
     "data": {
      "text/plain": [
       "4"
      ]
     },
     "execution_count": 164,
     "metadata": {},
     "output_type": "execute_result"
    }
   ],
   "source": [
    "poi_other"
   ]
  },
  {
   "cell_type": "code",
   "execution_count": 165,
   "id": "41839ff4",
   "metadata": {
    "hidden": true
   },
   "outputs": [],
   "source": [
    "points['type'][other]='other'"
   ]
  },
  {
   "cell_type": "code",
   "execution_count": 166,
   "id": "5d914f7e",
   "metadata": {
    "hidden": true
   },
   "outputs": [],
   "source": [
    "traffic=points['type'].isin(['mast','bicycle_parking','crossing', 'recycling', 'traffic_signals', 'signal','switch', 'level_crossing','motorway_junctio','ferry_terminal','turning_circle', 'buffer_stop', 'street_lamp','fuel', 'parking_entrance', 'stop', 'station','milestone','mini_roundabout',  'railway_crossing','junction'])"
   ]
  },
  {
   "cell_type": "code",
   "execution_count": 167,
   "id": "17bb9e56",
   "metadata": {
    "hidden": true
   },
   "outputs": [],
   "source": [
    "poi_traffic=points['type'][traffic].value_counts()"
   ]
  },
  {
   "cell_type": "code",
   "execution_count": 168,
   "id": "309a0af6",
   "metadata": {
    "hidden": true
   },
   "outputs": [],
   "source": [
    "poi_traffic=poi_traffic.values.sum()"
   ]
  },
  {
   "cell_type": "code",
   "execution_count": 169,
   "id": "cae55e15",
   "metadata": {
    "hidden": true
   },
   "outputs": [
    {
     "data": {
      "text/plain": [
       "207"
      ]
     },
     "execution_count": 169,
     "metadata": {},
     "output_type": "execute_result"
    }
   ],
   "source": [
    "poi_traffic"
   ]
  },
  {
   "cell_type": "code",
   "execution_count": 170,
   "id": "952b3eb1",
   "metadata": {
    "hidden": true
   },
   "outputs": [],
   "source": [
    "points['type'][traffic]='traffic'"
   ]
  },
  {
   "cell_type": "code",
   "execution_count": 182,
   "id": "388d8917",
   "metadata": {
    "hidden": true
   },
   "outputs": [],
   "source": [
    "poi=pd.DataFrame(np.array([poi_public,poi_health,poi_leisure,poi_catering,poi_shopping,poi_money,poi_tourism,poi_miscpoi,poi_traffic,poi_other]).reshape(1,10),\n",
    "                 columns=['poi_public','poi_health','poi_leisure','poi_catering','poi_shopping','poi_money','poi_tourism','poi_miscpoi','poi_traffic','poi_other'],\n",
    "                 index=['counter']\n",
    "                )# 去除数量为0的poi"
   ]
  },
  {
   "cell_type": "code",
   "execution_count": 183,
   "id": "69c1ded8",
   "metadata": {
    "hidden": true
   },
   "outputs": [
    {
     "data": {
      "text/html": [
       "<div>\n",
       "<style scoped>\n",
       "    .dataframe tbody tr th:only-of-type {\n",
       "        vertical-align: middle;\n",
       "    }\n",
       "\n",
       "    .dataframe tbody tr th {\n",
       "        vertical-align: top;\n",
       "    }\n",
       "\n",
       "    .dataframe thead th {\n",
       "        text-align: right;\n",
       "    }\n",
       "</style>\n",
       "<table border=\"1\" class=\"dataframe\">\n",
       "  <thead>\n",
       "    <tr style=\"text-align: right;\">\n",
       "      <th></th>\n",
       "      <th>poi_public</th>\n",
       "      <th>poi_health</th>\n",
       "      <th>poi_leisure</th>\n",
       "      <th>poi_catering</th>\n",
       "      <th>poi_shopping</th>\n",
       "      <th>poi_money</th>\n",
       "      <th>poi_tourism</th>\n",
       "      <th>poi_miscpoi</th>\n",
       "      <th>poi_traffic</th>\n",
       "      <th>poi_other</th>\n",
       "    </tr>\n",
       "  </thead>\n",
       "  <tbody>\n",
       "    <tr>\n",
       "      <th>counter</th>\n",
       "      <td>53</td>\n",
       "      <td>17</td>\n",
       "      <td>8</td>\n",
       "      <td>28</td>\n",
       "      <td>6</td>\n",
       "      <td>4</td>\n",
       "      <td>7</td>\n",
       "      <td>34</td>\n",
       "      <td>207</td>\n",
       "      <td>4</td>\n",
       "    </tr>\n",
       "  </tbody>\n",
       "</table>\n",
       "</div>"
      ],
      "text/plain": [
       "         poi_public  poi_health  poi_leisure  poi_catering  poi_shopping  \\\n",
       "counter          53          17            8            28             6   \n",
       "\n",
       "         poi_money  poi_tourism  poi_miscpoi  poi_traffic  poi_other  \n",
       "counter          4            7           34          207          4  "
      ]
     },
     "execution_count": 183,
     "metadata": {},
     "output_type": "execute_result"
    }
   ],
   "source": [
    "poi"
   ]
  },
  {
   "cell_type": "code",
   "execution_count": 173,
   "id": "afdc5f65",
   "metadata": {
    "hidden": true
   },
   "outputs": [],
   "source": [
    "# poi_other=poi_other+poi_money+poi_shopping+poi_accommodation+poi_health+poi_leisure"
   ]
  },
  {
   "cell_type": "code",
   "execution_count": 144,
   "id": "d4f09694",
   "metadata": {
    "hidden": true
   },
   "outputs": [],
   "source": [
    "# poi['poi_other']=poi_other"
   ]
  },
  {
   "cell_type": "code",
   "execution_count": 145,
   "id": "ab139e77",
   "metadata": {
    "hidden": true
   },
   "outputs": [],
   "source": [
    "# poi=poi.drop(['poi_health','poi_leisure','poi_accommodation','poi_shopping','poi_money'],axis=1)"
   ]
  },
  {
   "cell_type": "code",
   "execution_count": 146,
   "id": "cdd3d616",
   "metadata": {
    "hidden": true
   },
   "outputs": [],
   "source": [
    "# poi"
   ]
  },
  {
   "cell_type": "code",
   "execution_count": 184,
   "id": "f0ab8473",
   "metadata": {
    "hidden": true
   },
   "outputs": [],
   "source": [
    "poi_array=np.array(poi)"
   ]
  },
  {
   "cell_type": "code",
   "execution_count": 185,
   "id": "df19dec1",
   "metadata": {
    "hidden": true
   },
   "outputs": [],
   "source": [
    "poi_array=np.tile(poi,(249,1))"
   ]
  },
  {
   "cell_type": "code",
   "execution_count": 186,
   "id": "73e5bf90",
   "metadata": {
    "hidden": true
   },
   "outputs": [
    {
     "data": {
      "text/plain": [
       "array([[ 53,  17,   8, ...,  34, 207,   4],\n",
       "       [ 53,  17,   8, ...,  34, 207,   4],\n",
       "       [ 53,  17,   8, ...,  34, 207,   4],\n",
       "       ...,\n",
       "       [ 53,  17,   8, ...,  34, 207,   4],\n",
       "       [ 53,  17,   8, ...,  34, 207,   4],\n",
       "       [ 53,  17,   8, ...,  34, 207,   4]], dtype=int64)"
      ]
     },
     "execution_count": 186,
     "metadata": {},
     "output_type": "execute_result"
    }
   ],
   "source": [
    "poi_array"
   ]
  },
  {
   "cell_type": "code",
   "execution_count": 187,
   "id": "17f71e73",
   "metadata": {
    "hidden": true
   },
   "outputs": [],
   "source": [
    "poi_df=pd.DataFrame(poi_array,columns=poi.columns,index=M_train.index)"
   ]
  },
  {
   "cell_type": "code",
   "execution_count": 188,
   "id": "de1f0505",
   "metadata": {
    "hidden": true
   },
   "outputs": [
    {
     "data": {
      "text/html": [
       "<div>\n",
       "<style scoped>\n",
       "    .dataframe tbody tr th:only-of-type {\n",
       "        vertical-align: middle;\n",
       "    }\n",
       "\n",
       "    .dataframe tbody tr th {\n",
       "        vertical-align: top;\n",
       "    }\n",
       "\n",
       "    .dataframe thead th {\n",
       "        text-align: right;\n",
       "    }\n",
       "</style>\n",
       "<table border=\"1\" class=\"dataframe\">\n",
       "  <thead>\n",
       "    <tr style=\"text-align: right;\">\n",
       "      <th></th>\n",
       "      <th>poi_public</th>\n",
       "      <th>poi_health</th>\n",
       "      <th>poi_leisure</th>\n",
       "      <th>poi_catering</th>\n",
       "      <th>poi_shopping</th>\n",
       "      <th>poi_money</th>\n",
       "      <th>poi_tourism</th>\n",
       "      <th>poi_miscpoi</th>\n",
       "      <th>poi_traffic</th>\n",
       "      <th>poi_other</th>\n",
       "    </tr>\n",
       "  </thead>\n",
       "  <tbody>\n",
       "    <tr>\n",
       "      <th>2022-01-01</th>\n",
       "      <td>53</td>\n",
       "      <td>17</td>\n",
       "      <td>8</td>\n",
       "      <td>28</td>\n",
       "      <td>6</td>\n",
       "      <td>4</td>\n",
       "      <td>7</td>\n",
       "      <td>34</td>\n",
       "      <td>207</td>\n",
       "      <td>4</td>\n",
       "    </tr>\n",
       "    <tr>\n",
       "      <th>2022-01-02</th>\n",
       "      <td>53</td>\n",
       "      <td>17</td>\n",
       "      <td>8</td>\n",
       "      <td>28</td>\n",
       "      <td>6</td>\n",
       "      <td>4</td>\n",
       "      <td>7</td>\n",
       "      <td>34</td>\n",
       "      <td>207</td>\n",
       "      <td>4</td>\n",
       "    </tr>\n",
       "    <tr>\n",
       "      <th>2022-01-07</th>\n",
       "      <td>53</td>\n",
       "      <td>17</td>\n",
       "      <td>8</td>\n",
       "      <td>28</td>\n",
       "      <td>6</td>\n",
       "      <td>4</td>\n",
       "      <td>7</td>\n",
       "      <td>34</td>\n",
       "      <td>207</td>\n",
       "      <td>4</td>\n",
       "    </tr>\n",
       "    <tr>\n",
       "      <th>2022-01-10</th>\n",
       "      <td>53</td>\n",
       "      <td>17</td>\n",
       "      <td>8</td>\n",
       "      <td>28</td>\n",
       "      <td>6</td>\n",
       "      <td>4</td>\n",
       "      <td>7</td>\n",
       "      <td>34</td>\n",
       "      <td>207</td>\n",
       "      <td>4</td>\n",
       "    </tr>\n",
       "    <tr>\n",
       "      <th>2022-01-11</th>\n",
       "      <td>53</td>\n",
       "      <td>17</td>\n",
       "      <td>8</td>\n",
       "      <td>28</td>\n",
       "      <td>6</td>\n",
       "      <td>4</td>\n",
       "      <td>7</td>\n",
       "      <td>34</td>\n",
       "      <td>207</td>\n",
       "      <td>4</td>\n",
       "    </tr>\n",
       "    <tr>\n",
       "      <th>...</th>\n",
       "      <td>...</td>\n",
       "      <td>...</td>\n",
       "      <td>...</td>\n",
       "      <td>...</td>\n",
       "      <td>...</td>\n",
       "      <td>...</td>\n",
       "      <td>...</td>\n",
       "      <td>...</td>\n",
       "      <td>...</td>\n",
       "      <td>...</td>\n",
       "    </tr>\n",
       "    <tr>\n",
       "      <th>2022-12-25</th>\n",
       "      <td>53</td>\n",
       "      <td>17</td>\n",
       "      <td>8</td>\n",
       "      <td>28</td>\n",
       "      <td>6</td>\n",
       "      <td>4</td>\n",
       "      <td>7</td>\n",
       "      <td>34</td>\n",
       "      <td>207</td>\n",
       "      <td>4</td>\n",
       "    </tr>\n",
       "    <tr>\n",
       "      <th>2022-12-27</th>\n",
       "      <td>53</td>\n",
       "      <td>17</td>\n",
       "      <td>8</td>\n",
       "      <td>28</td>\n",
       "      <td>6</td>\n",
       "      <td>4</td>\n",
       "      <td>7</td>\n",
       "      <td>34</td>\n",
       "      <td>207</td>\n",
       "      <td>4</td>\n",
       "    </tr>\n",
       "    <tr>\n",
       "      <th>2022-12-29</th>\n",
       "      <td>53</td>\n",
       "      <td>17</td>\n",
       "      <td>8</td>\n",
       "      <td>28</td>\n",
       "      <td>6</td>\n",
       "      <td>4</td>\n",
       "      <td>7</td>\n",
       "      <td>34</td>\n",
       "      <td>207</td>\n",
       "      <td>4</td>\n",
       "    </tr>\n",
       "    <tr>\n",
       "      <th>2022-12-30</th>\n",
       "      <td>53</td>\n",
       "      <td>17</td>\n",
       "      <td>8</td>\n",
       "      <td>28</td>\n",
       "      <td>6</td>\n",
       "      <td>4</td>\n",
       "      <td>7</td>\n",
       "      <td>34</td>\n",
       "      <td>207</td>\n",
       "      <td>4</td>\n",
       "    </tr>\n",
       "    <tr>\n",
       "      <th>2022-12-31</th>\n",
       "      <td>53</td>\n",
       "      <td>17</td>\n",
       "      <td>8</td>\n",
       "      <td>28</td>\n",
       "      <td>6</td>\n",
       "      <td>4</td>\n",
       "      <td>7</td>\n",
       "      <td>34</td>\n",
       "      <td>207</td>\n",
       "      <td>4</td>\n",
       "    </tr>\n",
       "  </tbody>\n",
       "</table>\n",
       "<p>249 rows × 10 columns</p>\n",
       "</div>"
      ],
      "text/plain": [
       "            poi_public  poi_health  poi_leisure  poi_catering  poi_shopping  \\\n",
       "2022-01-01          53          17            8            28             6   \n",
       "2022-01-02          53          17            8            28             6   \n",
       "2022-01-07          53          17            8            28             6   \n",
       "2022-01-10          53          17            8            28             6   \n",
       "2022-01-11          53          17            8            28             6   \n",
       "...                ...         ...          ...           ...           ...   \n",
       "2022-12-25          53          17            8            28             6   \n",
       "2022-12-27          53          17            8            28             6   \n",
       "2022-12-29          53          17            8            28             6   \n",
       "2022-12-30          53          17            8            28             6   \n",
       "2022-12-31          53          17            8            28             6   \n",
       "\n",
       "            poi_money  poi_tourism  poi_miscpoi  poi_traffic  poi_other  \n",
       "2022-01-01          4            7           34          207          4  \n",
       "2022-01-02          4            7           34          207          4  \n",
       "2022-01-07          4            7           34          207          4  \n",
       "2022-01-10          4            7           34          207          4  \n",
       "2022-01-11          4            7           34          207          4  \n",
       "...               ...          ...          ...          ...        ...  \n",
       "2022-12-25          4            7           34          207          4  \n",
       "2022-12-27          4            7           34          207          4  \n",
       "2022-12-29          4            7           34          207          4  \n",
       "2022-12-30          4            7           34          207          4  \n",
       "2022-12-31          4            7           34          207          4  \n",
       "\n",
       "[249 rows x 10 columns]"
      ]
     },
     "execution_count": 188,
     "metadata": {},
     "output_type": "execute_result"
    }
   ],
   "source": [
    "poi_df"
   ]
  },
  {
   "cell_type": "code",
   "execution_count": 189,
   "id": "aebd241e",
   "metadata": {
    "hidden": true
   },
   "outputs": [],
   "source": [
    "M_train=pd.concat([M_train,poi_df],axis=1)"
   ]
  },
  {
   "cell_type": "code",
   "execution_count": 190,
   "id": "2fb3b9b0",
   "metadata": {
    "hidden": true,
    "scrolled": true
   },
   "outputs": [
    {
     "data": {
      "text/html": [
       "<div>\n",
       "<style scoped>\n",
       "    .dataframe tbody tr th:only-of-type {\n",
       "        vertical-align: middle;\n",
       "    }\n",
       "\n",
       "    .dataframe tbody tr th {\n",
       "        vertical-align: top;\n",
       "    }\n",
       "\n",
       "    .dataframe thead th {\n",
       "        text-align: right;\n",
       "    }\n",
       "</style>\n",
       "<table border=\"1\" class=\"dataframe\">\n",
       "  <thead>\n",
       "    <tr style=\"text-align: right;\">\n",
       "      <th></th>\n",
       "      <th>total_litter</th>\n",
       "      <th>weather</th>\n",
       "      <th>Max Temperature</th>\n",
       "      <th>Min Temperature</th>\n",
       "      <th>Max Dew Point</th>\n",
       "      <th>Min Dew Point</th>\n",
       "      <th>Max Humidity</th>\n",
       "      <th>Min Humidity</th>\n",
       "      <th>Max Wind Speed</th>\n",
       "      <th>Min Wind Speed</th>\n",
       "      <th>poi_public</th>\n",
       "      <th>poi_health</th>\n",
       "      <th>poi_leisure</th>\n",
       "      <th>poi_catering</th>\n",
       "      <th>poi_shopping</th>\n",
       "      <th>poi_money</th>\n",
       "      <th>poi_tourism</th>\n",
       "      <th>poi_miscpoi</th>\n",
       "      <th>poi_traffic</th>\n",
       "      <th>poi_other</th>\n",
       "    </tr>\n",
       "  </thead>\n",
       "  <tbody>\n",
       "    <tr>\n",
       "      <th>2022-01-01</th>\n",
       "      <td>57.0</td>\n",
       "      <td>Showers</td>\n",
       "      <td>54</td>\n",
       "      <td>52</td>\n",
       "      <td>50</td>\n",
       "      <td>50</td>\n",
       "      <td>88</td>\n",
       "      <td>88</td>\n",
       "      <td>12</td>\n",
       "      <td>12</td>\n",
       "      <td>53</td>\n",
       "      <td>17</td>\n",
       "      <td>8</td>\n",
       "      <td>28</td>\n",
       "      <td>6</td>\n",
       "      <td>4</td>\n",
       "      <td>7</td>\n",
       "      <td>34</td>\n",
       "      <td>207</td>\n",
       "      <td>4</td>\n",
       "    </tr>\n",
       "    <tr>\n",
       "      <th>2022-01-02</th>\n",
       "      <td>48.0</td>\n",
       "      <td>Showers</td>\n",
       "      <td>55</td>\n",
       "      <td>50</td>\n",
       "      <td>50</td>\n",
       "      <td>45</td>\n",
       "      <td>94</td>\n",
       "      <td>77</td>\n",
       "      <td>30</td>\n",
       "      <td>12</td>\n",
       "      <td>53</td>\n",
       "      <td>17</td>\n",
       "      <td>8</td>\n",
       "      <td>28</td>\n",
       "      <td>6</td>\n",
       "      <td>4</td>\n",
       "      <td>7</td>\n",
       "      <td>34</td>\n",
       "      <td>207</td>\n",
       "      <td>4</td>\n",
       "    </tr>\n",
       "    <tr>\n",
       "      <th>2022-01-07</th>\n",
       "      <td>2.0</td>\n",
       "      <td>Showers</td>\n",
       "      <td>45</td>\n",
       "      <td>36</td>\n",
       "      <td>39</td>\n",
       "      <td>32</td>\n",
       "      <td>93</td>\n",
       "      <td>70</td>\n",
       "      <td>24</td>\n",
       "      <td>5</td>\n",
       "      <td>53</td>\n",
       "      <td>17</td>\n",
       "      <td>8</td>\n",
       "      <td>28</td>\n",
       "      <td>6</td>\n",
       "      <td>4</td>\n",
       "      <td>7</td>\n",
       "      <td>34</td>\n",
       "      <td>207</td>\n",
       "      <td>4</td>\n",
       "    </tr>\n",
       "    <tr>\n",
       "      <th>2022-01-10</th>\n",
       "      <td>41.0</td>\n",
       "      <td>Cloudy</td>\n",
       "      <td>45</td>\n",
       "      <td>32</td>\n",
       "      <td>41</td>\n",
       "      <td>30</td>\n",
       "      <td>100</td>\n",
       "      <td>81</td>\n",
       "      <td>9</td>\n",
       "      <td>2</td>\n",
       "      <td>53</td>\n",
       "      <td>17</td>\n",
       "      <td>8</td>\n",
       "      <td>28</td>\n",
       "      <td>6</td>\n",
       "      <td>4</td>\n",
       "      <td>7</td>\n",
       "      <td>34</td>\n",
       "      <td>207</td>\n",
       "      <td>4</td>\n",
       "    </tr>\n",
       "    <tr>\n",
       "      <th>2022-01-11</th>\n",
       "      <td>2.0</td>\n",
       "      <td>Foggy</td>\n",
       "      <td>41</td>\n",
       "      <td>32</td>\n",
       "      <td>39</td>\n",
       "      <td>32</td>\n",
       "      <td>100</td>\n",
       "      <td>76</td>\n",
       "      <td>14</td>\n",
       "      <td>6</td>\n",
       "      <td>53</td>\n",
       "      <td>17</td>\n",
       "      <td>8</td>\n",
       "      <td>28</td>\n",
       "      <td>6</td>\n",
       "      <td>4</td>\n",
       "      <td>7</td>\n",
       "      <td>34</td>\n",
       "      <td>207</td>\n",
       "      <td>4</td>\n",
       "    </tr>\n",
       "    <tr>\n",
       "      <th>...</th>\n",
       "      <td>...</td>\n",
       "      <td>...</td>\n",
       "      <td>...</td>\n",
       "      <td>...</td>\n",
       "      <td>...</td>\n",
       "      <td>...</td>\n",
       "      <td>...</td>\n",
       "      <td>...</td>\n",
       "      <td>...</td>\n",
       "      <td>...</td>\n",
       "      <td>...</td>\n",
       "      <td>...</td>\n",
       "      <td>...</td>\n",
       "      <td>...</td>\n",
       "      <td>...</td>\n",
       "      <td>...</td>\n",
       "      <td>...</td>\n",
       "      <td>...</td>\n",
       "      <td>...</td>\n",
       "      <td>...</td>\n",
       "    </tr>\n",
       "    <tr>\n",
       "      <th>2022-12-25</th>\n",
       "      <td>229.0</td>\n",
       "      <td>Showers</td>\n",
       "      <td>48</td>\n",
       "      <td>45</td>\n",
       "      <td>48</td>\n",
       "      <td>45</td>\n",
       "      <td>100</td>\n",
       "      <td>93</td>\n",
       "      <td>12</td>\n",
       "      <td>5</td>\n",
       "      <td>53</td>\n",
       "      <td>17</td>\n",
       "      <td>8</td>\n",
       "      <td>28</td>\n",
       "      <td>6</td>\n",
       "      <td>4</td>\n",
       "      <td>7</td>\n",
       "      <td>34</td>\n",
       "      <td>207</td>\n",
       "      <td>4</td>\n",
       "    </tr>\n",
       "    <tr>\n",
       "      <th>2022-12-27</th>\n",
       "      <td>152.0</td>\n",
       "      <td>Cloudy</td>\n",
       "      <td>46</td>\n",
       "      <td>41</td>\n",
       "      <td>43</td>\n",
       "      <td>36</td>\n",
       "      <td>93</td>\n",
       "      <td>71</td>\n",
       "      <td>22</td>\n",
       "      <td>9</td>\n",
       "      <td>53</td>\n",
       "      <td>17</td>\n",
       "      <td>8</td>\n",
       "      <td>28</td>\n",
       "      <td>6</td>\n",
       "      <td>4</td>\n",
       "      <td>7</td>\n",
       "      <td>34</td>\n",
       "      <td>207</td>\n",
       "      <td>4</td>\n",
       "    </tr>\n",
       "    <tr>\n",
       "      <th>2022-12-29</th>\n",
       "      <td>160.0</td>\n",
       "      <td>Showers</td>\n",
       "      <td>52</td>\n",
       "      <td>45</td>\n",
       "      <td>48</td>\n",
       "      <td>41</td>\n",
       "      <td>93</td>\n",
       "      <td>76</td>\n",
       "      <td>29</td>\n",
       "      <td>15</td>\n",
       "      <td>53</td>\n",
       "      <td>17</td>\n",
       "      <td>8</td>\n",
       "      <td>28</td>\n",
       "      <td>6</td>\n",
       "      <td>4</td>\n",
       "      <td>7</td>\n",
       "      <td>34</td>\n",
       "      <td>207</td>\n",
       "      <td>4</td>\n",
       "    </tr>\n",
       "    <tr>\n",
       "      <th>2022-12-30</th>\n",
       "      <td>228.0</td>\n",
       "      <td>Showers</td>\n",
       "      <td>54</td>\n",
       "      <td>39</td>\n",
       "      <td>52</td>\n",
       "      <td>39</td>\n",
       "      <td>100</td>\n",
       "      <td>81</td>\n",
       "      <td>29</td>\n",
       "      <td>12</td>\n",
       "      <td>53</td>\n",
       "      <td>17</td>\n",
       "      <td>8</td>\n",
       "      <td>28</td>\n",
       "      <td>6</td>\n",
       "      <td>4</td>\n",
       "      <td>7</td>\n",
       "      <td>34</td>\n",
       "      <td>207</td>\n",
       "      <td>4</td>\n",
       "    </tr>\n",
       "    <tr>\n",
       "      <th>2022-12-31</th>\n",
       "      <td>1.0</td>\n",
       "      <td>Showers</td>\n",
       "      <td>59</td>\n",
       "      <td>50</td>\n",
       "      <td>55</td>\n",
       "      <td>46</td>\n",
       "      <td>100</td>\n",
       "      <td>63</td>\n",
       "      <td>31</td>\n",
       "      <td>9</td>\n",
       "      <td>53</td>\n",
       "      <td>17</td>\n",
       "      <td>8</td>\n",
       "      <td>28</td>\n",
       "      <td>6</td>\n",
       "      <td>4</td>\n",
       "      <td>7</td>\n",
       "      <td>34</td>\n",
       "      <td>207</td>\n",
       "      <td>4</td>\n",
       "    </tr>\n",
       "  </tbody>\n",
       "</table>\n",
       "<p>249 rows × 20 columns</p>\n",
       "</div>"
      ],
      "text/plain": [
       "            total_litter  weather  Max Temperature  Min Temperature  \\\n",
       "2022-01-01          57.0  Showers               54               52   \n",
       "2022-01-02          48.0  Showers               55               50   \n",
       "2022-01-07           2.0  Showers               45               36   \n",
       "2022-01-10          41.0   Cloudy               45               32   \n",
       "2022-01-11           2.0    Foggy               41               32   \n",
       "...                  ...      ...              ...              ...   \n",
       "2022-12-25         229.0  Showers               48               45   \n",
       "2022-12-27         152.0   Cloudy               46               41   \n",
       "2022-12-29         160.0  Showers               52               45   \n",
       "2022-12-30         228.0  Showers               54               39   \n",
       "2022-12-31           1.0  Showers               59               50   \n",
       "\n",
       "            Max Dew Point  Min Dew Point  Max Humidity  Min Humidity  \\\n",
       "2022-01-01             50             50            88            88   \n",
       "2022-01-02             50             45            94            77   \n",
       "2022-01-07             39             32            93            70   \n",
       "2022-01-10             41             30           100            81   \n",
       "2022-01-11             39             32           100            76   \n",
       "...                   ...            ...           ...           ...   \n",
       "2022-12-25             48             45           100            93   \n",
       "2022-12-27             43             36            93            71   \n",
       "2022-12-29             48             41            93            76   \n",
       "2022-12-30             52             39           100            81   \n",
       "2022-12-31             55             46           100            63   \n",
       "\n",
       "            Max Wind Speed  Min Wind Speed  poi_public  poi_health  \\\n",
       "2022-01-01              12              12          53          17   \n",
       "2022-01-02              30              12          53          17   \n",
       "2022-01-07              24               5          53          17   \n",
       "2022-01-10               9               2          53          17   \n",
       "2022-01-11              14               6          53          17   \n",
       "...                    ...             ...         ...         ...   \n",
       "2022-12-25              12               5          53          17   \n",
       "2022-12-27              22               9          53          17   \n",
       "2022-12-29              29              15          53          17   \n",
       "2022-12-30              29              12          53          17   \n",
       "2022-12-31              31               9          53          17   \n",
       "\n",
       "            poi_leisure  poi_catering  poi_shopping  poi_money  poi_tourism  \\\n",
       "2022-01-01            8            28             6          4            7   \n",
       "2022-01-02            8            28             6          4            7   \n",
       "2022-01-07            8            28             6          4            7   \n",
       "2022-01-10            8            28             6          4            7   \n",
       "2022-01-11            8            28             6          4            7   \n",
       "...                 ...           ...           ...        ...          ...   \n",
       "2022-12-25            8            28             6          4            7   \n",
       "2022-12-27            8            28             6          4            7   \n",
       "2022-12-29            8            28             6          4            7   \n",
       "2022-12-30            8            28             6          4            7   \n",
       "2022-12-31            8            28             6          4            7   \n",
       "\n",
       "            poi_miscpoi  poi_traffic  poi_other  \n",
       "2022-01-01           34          207          4  \n",
       "2022-01-02           34          207          4  \n",
       "2022-01-07           34          207          4  \n",
       "2022-01-10           34          207          4  \n",
       "2022-01-11           34          207          4  \n",
       "...                 ...          ...        ...  \n",
       "2022-12-25           34          207          4  \n",
       "2022-12-27           34          207          4  \n",
       "2022-12-29           34          207          4  \n",
       "2022-12-30           34          207          4  \n",
       "2022-12-31           34          207          4  \n",
       "\n",
       "[249 rows x 20 columns]"
      ]
     },
     "execution_count": 190,
     "metadata": {},
     "output_type": "execute_result"
    }
   ],
   "source": [
    "M_train"
   ]
  },
  {
   "cell_type": "code",
   "execution_count": 191,
   "id": "1f578f36",
   "metadata": {
    "hidden": true
   },
   "outputs": [
    {
     "data": {
      "text/plain": [
       "Index(['total_litter', 'weather', 'Max Temperature', 'Min Temperature',\n",
       "       'Max Dew Point', 'Min Dew Point', 'Max Humidity', 'Min Humidity',\n",
       "       'Max Wind Speed', 'Min Wind Speed', 'poi_public', 'poi_health',\n",
       "       'poi_leisure', 'poi_catering', 'poi_shopping', 'poi_money',\n",
       "       'poi_tourism', 'poi_miscpoi', 'poi_traffic', 'poi_other'],\n",
       "      dtype='object')"
      ]
     },
     "execution_count": 191,
     "metadata": {},
     "output_type": "execute_result"
    }
   ],
   "source": [
    "M_train.columns"
   ]
  },
  {
   "cell_type": "markdown",
   "id": "521da57d",
   "metadata": {},
   "source": [
    "## 将数值型数据归一化"
   ]
  },
  {
   "cell_type": "code",
   "execution_count": 74,
   "id": "03a4d5fd",
   "metadata": {},
   "outputs": [],
   "source": [
    "from sklearn.preprocessing import MinMaxScaler\n",
    "from sklearn.preprocessing import StandardScaler"
   ]
  },
  {
   "cell_type": "code",
   "execution_count": 75,
   "id": "24af53fd",
   "metadata": {},
   "outputs": [],
   "source": [
    "# M_test=M_test.drop(M_test.loc[:,'SMOKING':'OTHER'],axis=1)# 舍弃分类"
   ]
  },
  {
   "cell_type": "code",
   "execution_count": 76,
   "id": "ce316244",
   "metadata": {},
   "outputs": [],
   "source": [
    "M = M.drop(columns=['weather'])"
   ]
  },
  {
   "cell_type": "code",
   "execution_count": 77,
   "id": "6e6d172a",
   "metadata": {},
   "outputs": [
    {
     "data": {
      "text/plain": [
       "array([[ 1.],\n",
       "       [51.],\n",
       "       [ 1.],\n",
       "       ...,\n",
       "       [43.],\n",
       "       [14.],\n",
       "       [ 0.]])"
      ]
     },
     "execution_count": 77,
     "metadata": {},
     "output_type": "execute_result"
    }
   ],
   "source": [
    "M.loc[:,'SMOKING':'Min Wind Speed'].values.reshape(-1,1)"
   ]
  },
  {
   "cell_type": "code",
   "execution_count": 78,
   "id": "465e93a8",
   "metadata": {},
   "outputs": [],
   "source": [
    "mm = MinMaxScaler()\n",
    "mm_data = mm.fit_transform(M.loc[:,'SMOKING':'Min Wind Speed'].values.reshape(-1,1))"
   ]
  },
  {
   "cell_type": "code",
   "execution_count": 79,
   "id": "70522bd9",
   "metadata": {},
   "outputs": [],
   "source": [
    "mm_wp=mm_data.reshape(134,17)"
   ]
  },
  {
   "cell_type": "code",
   "execution_count": 80,
   "id": "701d2c3c",
   "metadata": {
    "scrolled": true
   },
   "outputs": [
    {
     "data": {
      "text/plain": [
       "Counter({0.004347826086956522: 106,\n",
       "         0.2217391304347826: 20,\n",
       "         0.11739130434782609: 10,\n",
       "         0.21304347826086956: 18,\n",
       "         0.013043478260869566: 60,\n",
       "         0.10869565217391304: 20,\n",
       "         0.22608695652173913: 18,\n",
       "         0.14782608695652175: 20,\n",
       "         0.13043478260869565: 15,\n",
       "         0.052173913043478265: 36,\n",
       "         0.34347826086956523: 15,\n",
       "         0.09565217391304348: 18,\n",
       "         0.06956521739130435: 29,\n",
       "         0.0: 381,\n",
       "         0.017391304347826087: 48,\n",
       "         0.16086956521739132: 16,\n",
       "         0.043478260869565216: 42,\n",
       "         0.1956521739130435: 7,\n",
       "         0.13478260869565217: 15,\n",
       "         0.12608695652173912: 20,\n",
       "         0.06086956521739131: 32,\n",
       "         0.33043478260869563: 20,\n",
       "         0.12173913043478261: 21,\n",
       "         0.14347826086956522: 25,\n",
       "         0.0391304347826087: 32,\n",
       "         0.24782608695652175: 17,\n",
       "         0.2391304347826087: 20,\n",
       "         0.08260869565217391: 19,\n",
       "         0.3391304347826087: 11,\n",
       "         0.41304347826086957: 4,\n",
       "         0.026086956521739132: 38,\n",
       "         0.21739130434782608: 11,\n",
       "         0.07391304347826087: 32,\n",
       "         0.3695652173913044: 11,\n",
       "         0.08695652173913043: 23,\n",
       "         0.16956521739130434: 18,\n",
       "         0.10434782608695653: 16,\n",
       "         0.0782608695652174: 27,\n",
       "         0.24347826086956523: 15,\n",
       "         0.008695652173913044: 59,\n",
       "         0.2608695652173913: 13,\n",
       "         0.021739130434782608: 49,\n",
       "         0.1565217391304348: 18,\n",
       "         0.3739130434782609: 8,\n",
       "         0.030434782608695653: 34,\n",
       "         0.05652173913043478: 30,\n",
       "         0.23478260869565218: 17,\n",
       "         0.30434782608695654: 23,\n",
       "         0.1391304347826087: 21,\n",
       "         0.3: 18,\n",
       "         0.1: 16,\n",
       "         0.20869565217391306: 24,\n",
       "         0.06521739130434782: 33,\n",
       "         0.1826086956521739: 9,\n",
       "         0.4043478260869565: 17,\n",
       "         0.23043478260869565: 16,\n",
       "         0.034782608695652174: 27,\n",
       "         0.11304347826086956: 14,\n",
       "         0.16521739130434782: 17,\n",
       "         0.2565217391304348: 18,\n",
       "         0.15217391304347827: 17,\n",
       "         0.43478260869565216: 3,\n",
       "         0.2782608695652174: 14,\n",
       "         0.25217391304347825: 13,\n",
       "         0.17391304347826086: 14,\n",
       "         0.46956521739130436: 5,\n",
       "         0.43043478260869567: 2,\n",
       "         0.19130434782608696: 12,\n",
       "         0.2: 16,\n",
       "         0.04782608695652174: 30,\n",
       "         0.09130434782608696: 17,\n",
       "         0.1782608695652174: 15,\n",
       "         0.3173913043478261: 14,\n",
       "         0.18695652173913044: 12,\n",
       "         0.20434782608695654: 18,\n",
       "         0.2826086956521739: 11,\n",
       "         0.4: 4,\n",
       "         0.30869565217391304: 9,\n",
       "         0.2739130434782609: 11,\n",
       "         0.28695652173913044: 10,\n",
       "         0.2956521739130435: 18,\n",
       "         0.3565217391304348: 8,\n",
       "         0.32608695652173914: 21,\n",
       "         0.3652173913043478: 12,\n",
       "         0.391304347826087: 16,\n",
       "         0.3347826086956522: 11,\n",
       "         0.3130434782608696: 22,\n",
       "         0.36086956521739133: 10,\n",
       "         0.26956521739130435: 8,\n",
       "         0.32173913043478264: 15,\n",
       "         0.26521739130434785: 13,\n",
       "         0.29130434782608694: 16,\n",
       "         0.34782608695652173: 5,\n",
       "         0.3869565217391304: 4,\n",
       "         0.5434782608695652: 1,\n",
       "         0.5869565217391305: 1,\n",
       "         0.3521739130434783: 7,\n",
       "         0.4608695652173913: 1,\n",
       "         0.8: 1,\n",
       "         0.48695652173913045: 3,\n",
       "         0.4826086956521739: 2,\n",
       "         0.5086956521739131: 2,\n",
       "         0.4173913043478261: 1,\n",
       "         0.3826086956521739: 11,\n",
       "         0.40869565217391307: 6,\n",
       "         0.5695652173913044: 1,\n",
       "         0.6739130434782609: 2,\n",
       "         0.44782608695652176: 2,\n",
       "         0.4217391304347826: 1,\n",
       "         0.3782608695652174: 8,\n",
       "         0.39565217391304347: 4,\n",
       "         0.9826086956521739: 1,\n",
       "         0.9478260869565217: 1,\n",
       "         0.4956521739130435: 1,\n",
       "         0.5260869565217391: 1,\n",
       "         0.5391304347826087: 1,\n",
       "         0.6391304347826087: 1,\n",
       "         0.7130434782608696: 1,\n",
       "         0.4260869565217391: 1,\n",
       "         0.9565217391304348: 1,\n",
       "         1.0: 1,\n",
       "         0.5304347826086957: 1})"
      ]
     },
     "execution_count": 80,
     "metadata": {},
     "output_type": "execute_result"
    }
   ],
   "source": [
    "Counter(mm_wp.flatten())"
   ]
  },
  {
   "cell_type": "code",
   "execution_count": 81,
   "id": "74b8c63d",
   "metadata": {},
   "outputs": [],
   "source": [
    "# 合并归一化后的数据\n",
    "mm_wp_df=pd.DataFrame(mm_wp)\n",
    "mm_wp_df=mm_wp_df.set_index(M.index)\n",
    "wt_encoded_df=pd.DataFrame(wt_encoded)\n",
    "wt_encoded_df=wt_encoded_df.set_index(M.index)\n",
    "ML=pd.concat([wt_encoded_df,mm_wp_df,M['total_litter']],axis=1)"
   ]
  },
  {
   "cell_type": "code",
   "execution_count": 82,
   "id": "24a402d4",
   "metadata": {},
   "outputs": [
    {
     "data": {
      "text/html": [
       "<div>\n",
       "<style scoped>\n",
       "    .dataframe tbody tr th:only-of-type {\n",
       "        vertical-align: middle;\n",
       "    }\n",
       "\n",
       "    .dataframe tbody tr th {\n",
       "        vertical-align: top;\n",
       "    }\n",
       "\n",
       "    .dataframe thead th {\n",
       "        text-align: right;\n",
       "    }\n",
       "</style>\n",
       "<table border=\"1\" class=\"dataframe\">\n",
       "  <thead>\n",
       "    <tr style=\"text-align: right;\">\n",
       "      <th></th>\n",
       "      <th>0</th>\n",
       "      <th>1</th>\n",
       "      <th>2</th>\n",
       "      <th>0</th>\n",
       "      <th>1</th>\n",
       "      <th>2</th>\n",
       "      <th>3</th>\n",
       "      <th>4</th>\n",
       "      <th>5</th>\n",
       "      <th>6</th>\n",
       "      <th>...</th>\n",
       "      <th>8</th>\n",
       "      <th>9</th>\n",
       "      <th>10</th>\n",
       "      <th>11</th>\n",
       "      <th>12</th>\n",
       "      <th>13</th>\n",
       "      <th>14</th>\n",
       "      <th>15</th>\n",
       "      <th>16</th>\n",
       "      <th>total_litter</th>\n",
       "    </tr>\n",
       "  </thead>\n",
       "  <tbody>\n",
       "    <tr>\n",
       "      <th>2021-01-19</th>\n",
       "      <td>1.0</td>\n",
       "      <td>0.0</td>\n",
       "      <td>0.0</td>\n",
       "      <td>0.004348</td>\n",
       "      <td>0.221739</td>\n",
       "      <td>0.004348</td>\n",
       "      <td>0.117391</td>\n",
       "      <td>0.213043</td>\n",
       "      <td>0.013043</td>\n",
       "      <td>0.004348</td>\n",
       "      <td>...</td>\n",
       "      <td>0.108696</td>\n",
       "      <td>0.226087</td>\n",
       "      <td>0.147826</td>\n",
       "      <td>0.130435</td>\n",
       "      <td>0.052174</td>\n",
       "      <td>0.343478</td>\n",
       "      <td>0.095652</td>\n",
       "      <td>0.069565</td>\n",
       "      <td>0.0</td>\n",
       "      <td>156.0</td>\n",
       "    </tr>\n",
       "    <tr>\n",
       "      <th>2021-01-20</th>\n",
       "      <td>1.0</td>\n",
       "      <td>0.0</td>\n",
       "      <td>0.0</td>\n",
       "      <td>0.017391</td>\n",
       "      <td>0.160870</td>\n",
       "      <td>0.013043</td>\n",
       "      <td>0.052174</td>\n",
       "      <td>0.160870</td>\n",
       "      <td>0.004348</td>\n",
       "      <td>0.004348</td>\n",
       "      <td>...</td>\n",
       "      <td>0.043478</td>\n",
       "      <td>0.195652</td>\n",
       "      <td>0.134783</td>\n",
       "      <td>0.126087</td>\n",
       "      <td>0.060870</td>\n",
       "      <td>0.330435</td>\n",
       "      <td>0.147826</td>\n",
       "      <td>0.121739</td>\n",
       "      <td>0.0</td>\n",
       "      <td>105.0</td>\n",
       "    </tr>\n",
       "    <tr>\n",
       "      <th>2021-01-21</th>\n",
       "      <td>0.0</td>\n",
       "      <td>0.0</td>\n",
       "      <td>1.0</td>\n",
       "      <td>0.000000</td>\n",
       "      <td>0.143478</td>\n",
       "      <td>0.017391</td>\n",
       "      <td>0.039130</td>\n",
       "      <td>0.247826</td>\n",
       "      <td>0.004348</td>\n",
       "      <td>0.000000</td>\n",
       "      <td>...</td>\n",
       "      <td>0.060870</td>\n",
       "      <td>0.239130</td>\n",
       "      <td>0.117391</td>\n",
       "      <td>0.134783</td>\n",
       "      <td>0.082609</td>\n",
       "      <td>0.339130</td>\n",
       "      <td>0.130435</td>\n",
       "      <td>0.060870</td>\n",
       "      <td>0.0</td>\n",
       "      <td>117.0</td>\n",
       "    </tr>\n",
       "    <tr>\n",
       "      <th>2021-01-22</th>\n",
       "      <td>0.0</td>\n",
       "      <td>0.0</td>\n",
       "      <td>1.0</td>\n",
       "      <td>0.004348</td>\n",
       "      <td>0.413043</td>\n",
       "      <td>0.000000</td>\n",
       "      <td>0.082609</td>\n",
       "      <td>0.247826</td>\n",
       "      <td>0.004348</td>\n",
       "      <td>0.004348</td>\n",
       "      <td>...</td>\n",
       "      <td>0.026087</td>\n",
       "      <td>0.217391</td>\n",
       "      <td>0.143478</td>\n",
       "      <td>0.134783</td>\n",
       "      <td>0.073913</td>\n",
       "      <td>0.369565</td>\n",
       "      <td>0.126087</td>\n",
       "      <td>0.086957</td>\n",
       "      <td>0.0</td>\n",
       "      <td>183.0</td>\n",
       "    </tr>\n",
       "    <tr>\n",
       "      <th>2021-01-30</th>\n",
       "      <td>0.0</td>\n",
       "      <td>0.0</td>\n",
       "      <td>1.0</td>\n",
       "      <td>0.000000</td>\n",
       "      <td>0.004348</td>\n",
       "      <td>0.000000</td>\n",
       "      <td>0.000000</td>\n",
       "      <td>0.000000</td>\n",
       "      <td>0.000000</td>\n",
       "      <td>0.000000</td>\n",
       "      <td>...</td>\n",
       "      <td>0.000000</td>\n",
       "      <td>0.169565</td>\n",
       "      <td>0.104348</td>\n",
       "      <td>0.078261</td>\n",
       "      <td>0.039130</td>\n",
       "      <td>0.243478</td>\n",
       "      <td>0.143478</td>\n",
       "      <td>0.060870</td>\n",
       "      <td>0.0</td>\n",
       "      <td>1.0</td>\n",
       "    </tr>\n",
       "    <tr>\n",
       "      <th>...</th>\n",
       "      <td>...</td>\n",
       "      <td>...</td>\n",
       "      <td>...</td>\n",
       "      <td>...</td>\n",
       "      <td>...</td>\n",
       "      <td>...</td>\n",
       "      <td>...</td>\n",
       "      <td>...</td>\n",
       "      <td>...</td>\n",
       "      <td>...</td>\n",
       "      <td>...</td>\n",
       "      <td>...</td>\n",
       "      <td>...</td>\n",
       "      <td>...</td>\n",
       "      <td>...</td>\n",
       "      <td>...</td>\n",
       "      <td>...</td>\n",
       "      <td>...</td>\n",
       "      <td>...</td>\n",
       "      <td>...</td>\n",
       "      <td>...</td>\n",
       "    </tr>\n",
       "    <tr>\n",
       "      <th>2021-12-13</th>\n",
       "      <td>0.0</td>\n",
       "      <td>0.0</td>\n",
       "      <td>1.0</td>\n",
       "      <td>0.008696</td>\n",
       "      <td>0.043478</td>\n",
       "      <td>0.008696</td>\n",
       "      <td>0.004348</td>\n",
       "      <td>0.034783</td>\n",
       "      <td>0.000000</td>\n",
       "      <td>0.039130</td>\n",
       "      <td>...</td>\n",
       "      <td>0.052174</td>\n",
       "      <td>0.221739</td>\n",
       "      <td>0.143478</td>\n",
       "      <td>0.147826</td>\n",
       "      <td>0.095652</td>\n",
       "      <td>0.326087</td>\n",
       "      <td>0.152174</td>\n",
       "      <td>0.043478</td>\n",
       "      <td>0.0</td>\n",
       "      <td>44.0</td>\n",
       "    </tr>\n",
       "    <tr>\n",
       "      <th>2021-12-14</th>\n",
       "      <td>0.0</td>\n",
       "      <td>0.0</td>\n",
       "      <td>1.0</td>\n",
       "      <td>0.000000</td>\n",
       "      <td>0.100000</td>\n",
       "      <td>0.000000</td>\n",
       "      <td>0.330435</td>\n",
       "      <td>0.213043</td>\n",
       "      <td>0.004348</td>\n",
       "      <td>0.000000</td>\n",
       "      <td>...</td>\n",
       "      <td>0.030435</td>\n",
       "      <td>0.260870</td>\n",
       "      <td>0.152174</td>\n",
       "      <td>0.139130</td>\n",
       "      <td>0.113043</td>\n",
       "      <td>0.343478</td>\n",
       "      <td>0.121739</td>\n",
       "      <td>0.034783</td>\n",
       "      <td>0.0</td>\n",
       "      <td>156.0</td>\n",
       "    </tr>\n",
       "    <tr>\n",
       "      <th>2021-12-20</th>\n",
       "      <td>0.0</td>\n",
       "      <td>0.0</td>\n",
       "      <td>1.0</td>\n",
       "      <td>0.139130</td>\n",
       "      <td>0.052174</td>\n",
       "      <td>0.000000</td>\n",
       "      <td>0.252174</td>\n",
       "      <td>0.165217</td>\n",
       "      <td>0.000000</td>\n",
       "      <td>0.000000</td>\n",
       "      <td>...</td>\n",
       "      <td>0.104348</td>\n",
       "      <td>0.178261</td>\n",
       "      <td>0.121739</td>\n",
       "      <td>0.108696</td>\n",
       "      <td>0.056522</td>\n",
       "      <td>0.304348</td>\n",
       "      <td>0.139130</td>\n",
       "      <td>0.043478</td>\n",
       "      <td>0.0</td>\n",
       "      <td>164.0</td>\n",
       "    </tr>\n",
       "    <tr>\n",
       "      <th>2021-12-22</th>\n",
       "      <td>1.0</td>\n",
       "      <td>0.0</td>\n",
       "      <td>0.0</td>\n",
       "      <td>0.252174</td>\n",
       "      <td>0.047826</td>\n",
       "      <td>0.000000</td>\n",
       "      <td>0.256522</td>\n",
       "      <td>0.200000</td>\n",
       "      <td>0.008696</td>\n",
       "      <td>0.000000</td>\n",
       "      <td>...</td>\n",
       "      <td>0.034783</td>\n",
       "      <td>0.221739</td>\n",
       "      <td>0.147826</td>\n",
       "      <td>0.156522</td>\n",
       "      <td>0.065217</td>\n",
       "      <td>0.404348</td>\n",
       "      <td>0.134783</td>\n",
       "      <td>0.100000</td>\n",
       "      <td>0.0</td>\n",
       "      <td>184.0</td>\n",
       "    </tr>\n",
       "    <tr>\n",
       "      <th>2021-12-26</th>\n",
       "      <td>0.0</td>\n",
       "      <td>0.0</td>\n",
       "      <td>1.0</td>\n",
       "      <td>0.204348</td>\n",
       "      <td>0.034783</td>\n",
       "      <td>0.008696</td>\n",
       "      <td>0.330435</td>\n",
       "      <td>0.195652</td>\n",
       "      <td>0.000000</td>\n",
       "      <td>0.000000</td>\n",
       "      <td>...</td>\n",
       "      <td>0.013043</td>\n",
       "      <td>0.269565</td>\n",
       "      <td>0.186957</td>\n",
       "      <td>0.226087</td>\n",
       "      <td>0.126087</td>\n",
       "      <td>0.339130</td>\n",
       "      <td>0.186957</td>\n",
       "      <td>0.060870</td>\n",
       "      <td>0.0</td>\n",
       "      <td>181.0</td>\n",
       "    </tr>\n",
       "  </tbody>\n",
       "</table>\n",
       "<p>134 rows × 21 columns</p>\n",
       "</div>"
      ],
      "text/plain": [
       "              0    1    2         0         1         2         3         4  \\\n",
       "2021-01-19  1.0  0.0  0.0  0.004348  0.221739  0.004348  0.117391  0.213043   \n",
       "2021-01-20  1.0  0.0  0.0  0.017391  0.160870  0.013043  0.052174  0.160870   \n",
       "2021-01-21  0.0  0.0  1.0  0.000000  0.143478  0.017391  0.039130  0.247826   \n",
       "2021-01-22  0.0  0.0  1.0  0.004348  0.413043  0.000000  0.082609  0.247826   \n",
       "2021-01-30  0.0  0.0  1.0  0.000000  0.004348  0.000000  0.000000  0.000000   \n",
       "...         ...  ...  ...       ...       ...       ...       ...       ...   \n",
       "2021-12-13  0.0  0.0  1.0  0.008696  0.043478  0.008696  0.004348  0.034783   \n",
       "2021-12-14  0.0  0.0  1.0  0.000000  0.100000  0.000000  0.330435  0.213043   \n",
       "2021-12-20  0.0  0.0  1.0  0.139130  0.052174  0.000000  0.252174  0.165217   \n",
       "2021-12-22  1.0  0.0  0.0  0.252174  0.047826  0.000000  0.256522  0.200000   \n",
       "2021-12-26  0.0  0.0  1.0  0.204348  0.034783  0.008696  0.330435  0.195652   \n",
       "\n",
       "                   5         6  ...         8         9        10        11  \\\n",
       "2021-01-19  0.013043  0.004348  ...  0.108696  0.226087  0.147826  0.130435   \n",
       "2021-01-20  0.004348  0.004348  ...  0.043478  0.195652  0.134783  0.126087   \n",
       "2021-01-21  0.004348  0.000000  ...  0.060870  0.239130  0.117391  0.134783   \n",
       "2021-01-22  0.004348  0.004348  ...  0.026087  0.217391  0.143478  0.134783   \n",
       "2021-01-30  0.000000  0.000000  ...  0.000000  0.169565  0.104348  0.078261   \n",
       "...              ...       ...  ...       ...       ...       ...       ...   \n",
       "2021-12-13  0.000000  0.039130  ...  0.052174  0.221739  0.143478  0.147826   \n",
       "2021-12-14  0.004348  0.000000  ...  0.030435  0.260870  0.152174  0.139130   \n",
       "2021-12-20  0.000000  0.000000  ...  0.104348  0.178261  0.121739  0.108696   \n",
       "2021-12-22  0.008696  0.000000  ...  0.034783  0.221739  0.147826  0.156522   \n",
       "2021-12-26  0.000000  0.000000  ...  0.013043  0.269565  0.186957  0.226087   \n",
       "\n",
       "                  12        13        14        15   16  total_litter  \n",
       "2021-01-19  0.052174  0.343478  0.095652  0.069565  0.0         156.0  \n",
       "2021-01-20  0.060870  0.330435  0.147826  0.121739  0.0         105.0  \n",
       "2021-01-21  0.082609  0.339130  0.130435  0.060870  0.0         117.0  \n",
       "2021-01-22  0.073913  0.369565  0.126087  0.086957  0.0         183.0  \n",
       "2021-01-30  0.039130  0.243478  0.143478  0.060870  0.0           1.0  \n",
       "...              ...       ...       ...       ...  ...           ...  \n",
       "2021-12-13  0.095652  0.326087  0.152174  0.043478  0.0          44.0  \n",
       "2021-12-14  0.113043  0.343478  0.121739  0.034783  0.0         156.0  \n",
       "2021-12-20  0.056522  0.304348  0.139130  0.043478  0.0         164.0  \n",
       "2021-12-22  0.065217  0.404348  0.134783  0.100000  0.0         184.0  \n",
       "2021-12-26  0.126087  0.339130  0.186957  0.060870  0.0         181.0  \n",
       "\n",
       "[134 rows x 21 columns]"
      ]
     },
     "execution_count": 82,
     "metadata": {},
     "output_type": "execute_result"
    }
   ],
   "source": [
    "ML"
   ]
  },
  {
   "cell_type": "code",
   "execution_count": 84,
   "id": "7fc6183b",
   "metadata": {},
   "outputs": [],
   "source": [
    "# ML_array=np.array(ML)"
   ]
  },
  {
   "cell_type": "code",
   "execution_count": 87,
   "id": "0e555a99",
   "metadata": {},
   "outputs": [],
   "source": [
    "# ML.to_csv('./outdata/Krommenie_train.csv')"
   ]
  },
  {
   "cell_type": "code",
   "execution_count": null,
   "id": "f3f21ff0",
   "metadata": {},
   "outputs": [],
   "source": []
  },
  {
   "cell_type": "markdown",
   "id": "c7270000",
   "metadata": {},
   "source": [
    "## poi提取(舍弃）"
   ]
  },
  {
   "cell_type": "code",
   "execution_count": 164,
   "id": "202f723c",
   "metadata": {},
   "outputs": [],
   "source": [
    "poi1=pd.read_csv('./outdata/poi1.csv')"
   ]
  },
  {
   "cell_type": "code",
   "execution_count": 165,
   "id": "a822d6db",
   "metadata": {},
   "outputs": [
    {
     "data": {
      "text/plain": [
       "0      POINT (5.0817843 52.6456291)\n",
       "1      POINT (5.0961325 52.6457239)\n",
       "2      POINT (5.0812344 52.6458317)\n",
       "3      POINT (5.0968648 52.6460559)\n",
       "4      POINT (5.0853898 52.6531698)\n",
       "                   ...             \n",
       "450    POINT (5.0931458 52.6533975)\n",
       "451    POINT (5.0932666 52.6531166)\n",
       "452    POINT (5.0932798 52.6532018)\n",
       "453    POINT (5.0934684 52.6531761)\n",
       "454    POINT (5.0936391 52.6532932)\n",
       "Name: geometry, Length: 455, dtype: object"
      ]
     },
     "execution_count": 165,
     "metadata": {},
     "output_type": "execute_result"
    }
   ],
   "source": [
    "poi1['geometry']"
   ]
  },
  {
   "cell_type": "code",
   "execution_count": 166,
   "id": "c4b276f8",
   "metadata": {},
   "outputs": [
    {
     "data": {
      "text/plain": [
       "0       POINT (5.0624231 52.6350804)\n",
       "1       POINT (5.0085054 52.6350184)\n",
       "2         POINT (5.0578571 52.63695)\n",
       "3       POINT (5.0572411 52.6381662)\n",
       "4       POINT (5.0523931 52.6417891)\n",
       "                    ...             \n",
       "2397     POINT (5.0472634 52.647675)\n",
       "2398    POINT (5.0469239 52.6475957)\n",
       "2399    POINT (5.0465883 52.6476558)\n",
       "2400    POINT (5.0473351 52.6479847)\n",
       "2401    POINT (5.0471709 52.6476163)\n",
       "Name: geometry, Length: 2402, dtype: object"
      ]
     },
     "execution_count": 166,
     "metadata": {},
     "output_type": "execute_result"
    }
   ],
   "source": [
    "points['geometry'].astype(str)"
   ]
  },
  {
   "cell_type": "code",
   "execution_count": 167,
   "id": "d823844f",
   "metadata": {},
   "outputs": [],
   "source": [
    "poi1_flag=points['geometry'].astype(str).isin(poi1['geometry'])"
   ]
  },
  {
   "cell_type": "code",
   "execution_count": 168,
   "id": "3a6c4c79",
   "metadata": {},
   "outputs": [
    {
     "data": {
      "text/plain": [
       "False    1947\n",
       "True      455\n",
       "Name: geometry, dtype: int64"
      ]
     },
     "execution_count": 168,
     "metadata": {},
     "output_type": "execute_result"
    }
   ],
   "source": [
    "poi1_flag.value_counts()"
   ]
  },
  {
   "cell_type": "code",
   "execution_count": 169,
   "id": "add3512b",
   "metadata": {},
   "outputs": [],
   "source": [
    "poi1=points[poi1_flag].reset_index(drop=True)# 第一类poi"
   ]
  },
  {
   "cell_type": "code",
   "execution_count": 170,
   "id": "826be9f8",
   "metadata": {},
   "outputs": [],
   "source": [
    "poi1.to_file('./poi1.shp')# 输出为shapefile文件"
   ]
  },
  {
   "cell_type": "code",
   "execution_count": 171,
   "id": "1a53356e",
   "metadata": {},
   "outputs": [
    {
     "data": {
      "text/html": [
       "<div>\n",
       "<style scoped>\n",
       "    .dataframe tbody tr th:only-of-type {\n",
       "        vertical-align: middle;\n",
       "    }\n",
       "\n",
       "    .dataframe tbody tr th {\n",
       "        vertical-align: top;\n",
       "    }\n",
       "\n",
       "    .dataframe thead th {\n",
       "        text-align: right;\n",
       "    }\n",
       "</style>\n",
       "<table border=\"1\" class=\"dataframe\">\n",
       "  <thead>\n",
       "    <tr style=\"text-align: right;\">\n",
       "      <th></th>\n",
       "      <th>type</th>\n",
       "      <th>geometry</th>\n",
       "    </tr>\n",
       "    <tr>\n",
       "      <th>osm_id</th>\n",
       "      <th></th>\n",
       "      <th></th>\n",
       "    </tr>\n",
       "  </thead>\n",
       "  <tbody>\n",
       "    <tr>\n",
       "      <th>47077200</th>\n",
       "      <td>traffic</td>\n",
       "      <td>POINT (5.08178 52.64563)</td>\n",
       "    </tr>\n",
       "    <tr>\n",
       "      <th>47080156</th>\n",
       "      <td>traffic</td>\n",
       "      <td>POINT (5.09613 52.64572)</td>\n",
       "    </tr>\n",
       "    <tr>\n",
       "      <th>47081177</th>\n",
       "      <td>traffic</td>\n",
       "      <td>POINT (5.08123 52.64583)</td>\n",
       "    </tr>\n",
       "    <tr>\n",
       "      <th>47081536</th>\n",
       "      <td>traffic</td>\n",
       "      <td>POINT (5.09686 52.64606)</td>\n",
       "    </tr>\n",
       "    <tr>\n",
       "      <th>47097804</th>\n",
       "      <td>traffic</td>\n",
       "      <td>POINT (5.08539 52.65317)</td>\n",
       "    </tr>\n",
       "    <tr>\n",
       "      <th>...</th>\n",
       "      <td>...</td>\n",
       "      <td>...</td>\n",
       "    </tr>\n",
       "    <tr>\n",
       "      <th>49020516</th>\n",
       "      <td>miscpoi</td>\n",
       "      <td>POINT (5.09315 52.65340)</td>\n",
       "    </tr>\n",
       "    <tr>\n",
       "      <th>49020522</th>\n",
       "      <td>miscpoi</td>\n",
       "      <td>POINT (5.09327 52.65312)</td>\n",
       "    </tr>\n",
       "    <tr>\n",
       "      <th>49020523</th>\n",
       "      <td>miscpoi</td>\n",
       "      <td>POINT (5.09328 52.65320)</td>\n",
       "    </tr>\n",
       "    <tr>\n",
       "      <th>49020524</th>\n",
       "      <td>miscpoi</td>\n",
       "      <td>POINT (5.09347 52.65318)</td>\n",
       "    </tr>\n",
       "    <tr>\n",
       "      <th>49076038</th>\n",
       "      <td>miscpoi</td>\n",
       "      <td>POINT (5.09364 52.65329)</td>\n",
       "    </tr>\n",
       "  </tbody>\n",
       "</table>\n",
       "<p>455 rows × 2 columns</p>\n",
       "</div>"
      ],
      "text/plain": [
       "             type                  geometry\n",
       "osm_id                                     \n",
       "47077200  traffic  POINT (5.08178 52.64563)\n",
       "47080156  traffic  POINT (5.09613 52.64572)\n",
       "47081177  traffic  POINT (5.08123 52.64583)\n",
       "47081536  traffic  POINT (5.09686 52.64606)\n",
       "47097804  traffic  POINT (5.08539 52.65317)\n",
       "...           ...                       ...\n",
       "49020516  miscpoi  POINT (5.09315 52.65340)\n",
       "49020522  miscpoi  POINT (5.09327 52.65312)\n",
       "49020523  miscpoi  POINT (5.09328 52.65320)\n",
       "49020524  miscpoi  POINT (5.09347 52.65318)\n",
       "49076038  miscpoi  POINT (5.09364 52.65329)\n",
       "\n",
       "[455 rows x 2 columns]"
      ]
     },
     "execution_count": 171,
     "metadata": {},
     "output_type": "execute_result"
    }
   ],
   "source": [
    "poi1[['osm_id','type','geometry']].set_index(['osm_id'])"
   ]
  },
  {
   "cell_type": "markdown",
   "id": "3a192730",
   "metadata": {},
   "source": [
    "## 时间分段标签"
   ]
  },
  {
   "cell_type": "code",
   "execution_count": 83,
   "id": "485828c1",
   "metadata": {},
   "outputs": [],
   "source": [
    "df_date=pd.to_datetime(df_dateconcat.index)"
   ]
  },
  {
   "cell_type": "code",
   "execution_count": 84,
   "id": "9190f19c",
   "metadata": {},
   "outputs": [
    {
     "data": {
      "text/plain": [
       "DatetimeIndex(['2021-01-19', '2021-01-20', '2021-01-21', '2021-01-22',\n",
       "               '2021-01-30', '2021-02-05', '2021-02-06', '2021-02-09',\n",
       "               '2021-02-10', '2021-02-21',\n",
       "               ...\n",
       "               '2021-07-30', '2021-09-25', '2021-11-28', '2021-12-10',\n",
       "               '2021-12-12', '2021-12-13', '2021-12-14', '2021-12-20',\n",
       "               '2021-12-22', '2021-12-26'],\n",
       "              dtype='datetime64[ns]', name='datetime', length=134, freq=None)"
      ]
     },
     "execution_count": 84,
     "metadata": {},
     "output_type": "execute_result"
    }
   ],
   "source": [
    "df_date"
   ]
  },
  {
   "cell_type": "code",
   "execution_count": 85,
   "id": "7e433bc4",
   "metadata": {},
   "outputs": [],
   "source": [
    "is_weekly=df_date.weekday==(5 or 6) # 一周结束"
   ]
  },
  {
   "cell_type": "code",
   "execution_count": 86,
   "id": "e0ad060b",
   "metadata": {},
   "outputs": [
    {
     "data": {
      "text/plain": [
       "array([False, False, False, False,  True, False,  True, False, False,\n",
       "       False, False, False, False, False,  True, False, False, False,\n",
       "       False,  True, False, False, False, False, False, False, False,\n",
       "       False,  True, False, False, False, False, False, False, False,\n",
       "       False, False, False, False, False,  True, False, False, False,\n",
       "       False, False, False, False, False, False, False, False, False,\n",
       "        True, False, False, False, False, False, False, False, False,\n",
       "       False, False, False, False, False, False, False, False, False,\n",
       "        True, False, False, False, False, False, False,  True, False,\n",
       "       False, False, False, False, False, False, False, False, False,\n",
       "        True, False, False, False, False, False,  True, False, False,\n",
       "       False, False, False,  True, False, False, False,  True, False,\n",
       "       False, False, False, False,  True, False, False, False, False,\n",
       "       False, False,  True, False, False, False, False, False,  True,\n",
       "       False, False, False, False, False, False, False, False])"
      ]
     },
     "execution_count": 86,
     "metadata": {},
     "output_type": "execute_result"
    }
   ],
   "source": [
    "df_date.weekday==(5 or 6)"
   ]
  },
  {
   "cell_type": "code",
   "execution_count": 87,
   "id": "1a622fef",
   "metadata": {},
   "outputs": [],
   "source": [
    "holiday=pd.to_datetime([\n",
    "        '2021-01-01','2021-01-18','2021-02-15','2021-05-31','2021-07-04','2021-09-06','2021-10-11','2021-11-11','2021-11-25','2021-12-24',\n",
    "         '2021-12-25'])"
   ]
  },
  {
   "cell_type": "code",
   "execution_count": 88,
   "id": "d96d9ac2",
   "metadata": {},
   "outputs": [],
   "source": [
    "is_holiday=df_date.isin(holiday)"
   ]
  },
  {
   "cell_type": "code",
   "execution_count": 89,
   "id": "72cbf6c6",
   "metadata": {},
   "outputs": [],
   "source": [
    "is_holiday=np.array(is_holiday)+np.array(df_date.weekday==(5 or 6))"
   ]
  },
  {
   "cell_type": "code",
   "execution_count": 90,
   "id": "a9254ab4",
   "metadata": {},
   "outputs": [],
   "source": [
    "Date2=pd.DataFrame(np.zeros([134,3]),columns=['daily','weekly','holiday'])"
   ]
  },
  {
   "cell_type": "code",
   "execution_count": 91,
   "id": "4b132329",
   "metadata": {},
   "outputs": [],
   "source": [
    "Date2=Date2.set_index(df_date.date)"
   ]
  },
  {
   "cell_type": "code",
   "execution_count": 92,
   "id": "bb4494ba",
   "metadata": {},
   "outputs": [],
   "source": [
    "ML1=pd.concat([Date2,ML],axis=1)"
   ]
  },
  {
   "cell_type": "code",
   "execution_count": 93,
   "id": "56a2b15b",
   "metadata": {},
   "outputs": [
    {
     "data": {
      "text/html": [
       "<div>\n",
       "<style scoped>\n",
       "    .dataframe tbody tr th:only-of-type {\n",
       "        vertical-align: middle;\n",
       "    }\n",
       "\n",
       "    .dataframe tbody tr th {\n",
       "        vertical-align: top;\n",
       "    }\n",
       "\n",
       "    .dataframe thead th {\n",
       "        text-align: right;\n",
       "    }\n",
       "</style>\n",
       "<table border=\"1\" class=\"dataframe\">\n",
       "  <thead>\n",
       "    <tr style=\"text-align: right;\">\n",
       "      <th></th>\n",
       "      <th>daily</th>\n",
       "      <th>weekly</th>\n",
       "      <th>holiday</th>\n",
       "      <th>0</th>\n",
       "      <th>1</th>\n",
       "      <th>2</th>\n",
       "      <th>0</th>\n",
       "      <th>1</th>\n",
       "      <th>2</th>\n",
       "      <th>3</th>\n",
       "      <th>...</th>\n",
       "      <th>8</th>\n",
       "      <th>9</th>\n",
       "      <th>10</th>\n",
       "      <th>11</th>\n",
       "      <th>12</th>\n",
       "      <th>13</th>\n",
       "      <th>14</th>\n",
       "      <th>15</th>\n",
       "      <th>16</th>\n",
       "      <th>total_litter</th>\n",
       "    </tr>\n",
       "  </thead>\n",
       "  <tbody>\n",
       "    <tr>\n",
       "      <th>2021-01-19</th>\n",
       "      <td>0.0</td>\n",
       "      <td>0.0</td>\n",
       "      <td>0.0</td>\n",
       "      <td>1.0</td>\n",
       "      <td>0.0</td>\n",
       "      <td>0.0</td>\n",
       "      <td>0.004348</td>\n",
       "      <td>0.221739</td>\n",
       "      <td>0.004348</td>\n",
       "      <td>0.117391</td>\n",
       "      <td>...</td>\n",
       "      <td>0.108696</td>\n",
       "      <td>0.226087</td>\n",
       "      <td>0.147826</td>\n",
       "      <td>0.130435</td>\n",
       "      <td>0.052174</td>\n",
       "      <td>0.343478</td>\n",
       "      <td>0.095652</td>\n",
       "      <td>0.069565</td>\n",
       "      <td>0.0</td>\n",
       "      <td>156.0</td>\n",
       "    </tr>\n",
       "    <tr>\n",
       "      <th>2021-01-20</th>\n",
       "      <td>0.0</td>\n",
       "      <td>0.0</td>\n",
       "      <td>0.0</td>\n",
       "      <td>1.0</td>\n",
       "      <td>0.0</td>\n",
       "      <td>0.0</td>\n",
       "      <td>0.017391</td>\n",
       "      <td>0.160870</td>\n",
       "      <td>0.013043</td>\n",
       "      <td>0.052174</td>\n",
       "      <td>...</td>\n",
       "      <td>0.043478</td>\n",
       "      <td>0.195652</td>\n",
       "      <td>0.134783</td>\n",
       "      <td>0.126087</td>\n",
       "      <td>0.060870</td>\n",
       "      <td>0.330435</td>\n",
       "      <td>0.147826</td>\n",
       "      <td>0.121739</td>\n",
       "      <td>0.0</td>\n",
       "      <td>105.0</td>\n",
       "    </tr>\n",
       "    <tr>\n",
       "      <th>2021-01-21</th>\n",
       "      <td>0.0</td>\n",
       "      <td>0.0</td>\n",
       "      <td>0.0</td>\n",
       "      <td>0.0</td>\n",
       "      <td>0.0</td>\n",
       "      <td>1.0</td>\n",
       "      <td>0.000000</td>\n",
       "      <td>0.143478</td>\n",
       "      <td>0.017391</td>\n",
       "      <td>0.039130</td>\n",
       "      <td>...</td>\n",
       "      <td>0.060870</td>\n",
       "      <td>0.239130</td>\n",
       "      <td>0.117391</td>\n",
       "      <td>0.134783</td>\n",
       "      <td>0.082609</td>\n",
       "      <td>0.339130</td>\n",
       "      <td>0.130435</td>\n",
       "      <td>0.060870</td>\n",
       "      <td>0.0</td>\n",
       "      <td>117.0</td>\n",
       "    </tr>\n",
       "    <tr>\n",
       "      <th>2021-01-22</th>\n",
       "      <td>0.0</td>\n",
       "      <td>0.0</td>\n",
       "      <td>0.0</td>\n",
       "      <td>0.0</td>\n",
       "      <td>0.0</td>\n",
       "      <td>1.0</td>\n",
       "      <td>0.004348</td>\n",
       "      <td>0.413043</td>\n",
       "      <td>0.000000</td>\n",
       "      <td>0.082609</td>\n",
       "      <td>...</td>\n",
       "      <td>0.026087</td>\n",
       "      <td>0.217391</td>\n",
       "      <td>0.143478</td>\n",
       "      <td>0.134783</td>\n",
       "      <td>0.073913</td>\n",
       "      <td>0.369565</td>\n",
       "      <td>0.126087</td>\n",
       "      <td>0.086957</td>\n",
       "      <td>0.0</td>\n",
       "      <td>183.0</td>\n",
       "    </tr>\n",
       "    <tr>\n",
       "      <th>2021-01-30</th>\n",
       "      <td>0.0</td>\n",
       "      <td>0.0</td>\n",
       "      <td>0.0</td>\n",
       "      <td>0.0</td>\n",
       "      <td>0.0</td>\n",
       "      <td>1.0</td>\n",
       "      <td>0.000000</td>\n",
       "      <td>0.004348</td>\n",
       "      <td>0.000000</td>\n",
       "      <td>0.000000</td>\n",
       "      <td>...</td>\n",
       "      <td>0.000000</td>\n",
       "      <td>0.169565</td>\n",
       "      <td>0.104348</td>\n",
       "      <td>0.078261</td>\n",
       "      <td>0.039130</td>\n",
       "      <td>0.243478</td>\n",
       "      <td>0.143478</td>\n",
       "      <td>0.060870</td>\n",
       "      <td>0.0</td>\n",
       "      <td>1.0</td>\n",
       "    </tr>\n",
       "    <tr>\n",
       "      <th>...</th>\n",
       "      <td>...</td>\n",
       "      <td>...</td>\n",
       "      <td>...</td>\n",
       "      <td>...</td>\n",
       "      <td>...</td>\n",
       "      <td>...</td>\n",
       "      <td>...</td>\n",
       "      <td>...</td>\n",
       "      <td>...</td>\n",
       "      <td>...</td>\n",
       "      <td>...</td>\n",
       "      <td>...</td>\n",
       "      <td>...</td>\n",
       "      <td>...</td>\n",
       "      <td>...</td>\n",
       "      <td>...</td>\n",
       "      <td>...</td>\n",
       "      <td>...</td>\n",
       "      <td>...</td>\n",
       "      <td>...</td>\n",
       "      <td>...</td>\n",
       "    </tr>\n",
       "    <tr>\n",
       "      <th>2021-12-13</th>\n",
       "      <td>0.0</td>\n",
       "      <td>0.0</td>\n",
       "      <td>0.0</td>\n",
       "      <td>0.0</td>\n",
       "      <td>0.0</td>\n",
       "      <td>1.0</td>\n",
       "      <td>0.008696</td>\n",
       "      <td>0.043478</td>\n",
       "      <td>0.008696</td>\n",
       "      <td>0.004348</td>\n",
       "      <td>...</td>\n",
       "      <td>0.052174</td>\n",
       "      <td>0.221739</td>\n",
       "      <td>0.143478</td>\n",
       "      <td>0.147826</td>\n",
       "      <td>0.095652</td>\n",
       "      <td>0.326087</td>\n",
       "      <td>0.152174</td>\n",
       "      <td>0.043478</td>\n",
       "      <td>0.0</td>\n",
       "      <td>44.0</td>\n",
       "    </tr>\n",
       "    <tr>\n",
       "      <th>2021-12-14</th>\n",
       "      <td>0.0</td>\n",
       "      <td>0.0</td>\n",
       "      <td>0.0</td>\n",
       "      <td>0.0</td>\n",
       "      <td>0.0</td>\n",
       "      <td>1.0</td>\n",
       "      <td>0.000000</td>\n",
       "      <td>0.100000</td>\n",
       "      <td>0.000000</td>\n",
       "      <td>0.330435</td>\n",
       "      <td>...</td>\n",
       "      <td>0.030435</td>\n",
       "      <td>0.260870</td>\n",
       "      <td>0.152174</td>\n",
       "      <td>0.139130</td>\n",
       "      <td>0.113043</td>\n",
       "      <td>0.343478</td>\n",
       "      <td>0.121739</td>\n",
       "      <td>0.034783</td>\n",
       "      <td>0.0</td>\n",
       "      <td>156.0</td>\n",
       "    </tr>\n",
       "    <tr>\n",
       "      <th>2021-12-20</th>\n",
       "      <td>0.0</td>\n",
       "      <td>0.0</td>\n",
       "      <td>0.0</td>\n",
       "      <td>0.0</td>\n",
       "      <td>0.0</td>\n",
       "      <td>1.0</td>\n",
       "      <td>0.139130</td>\n",
       "      <td>0.052174</td>\n",
       "      <td>0.000000</td>\n",
       "      <td>0.252174</td>\n",
       "      <td>...</td>\n",
       "      <td>0.104348</td>\n",
       "      <td>0.178261</td>\n",
       "      <td>0.121739</td>\n",
       "      <td>0.108696</td>\n",
       "      <td>0.056522</td>\n",
       "      <td>0.304348</td>\n",
       "      <td>0.139130</td>\n",
       "      <td>0.043478</td>\n",
       "      <td>0.0</td>\n",
       "      <td>164.0</td>\n",
       "    </tr>\n",
       "    <tr>\n",
       "      <th>2021-12-22</th>\n",
       "      <td>0.0</td>\n",
       "      <td>0.0</td>\n",
       "      <td>0.0</td>\n",
       "      <td>1.0</td>\n",
       "      <td>0.0</td>\n",
       "      <td>0.0</td>\n",
       "      <td>0.252174</td>\n",
       "      <td>0.047826</td>\n",
       "      <td>0.000000</td>\n",
       "      <td>0.256522</td>\n",
       "      <td>...</td>\n",
       "      <td>0.034783</td>\n",
       "      <td>0.221739</td>\n",
       "      <td>0.147826</td>\n",
       "      <td>0.156522</td>\n",
       "      <td>0.065217</td>\n",
       "      <td>0.404348</td>\n",
       "      <td>0.134783</td>\n",
       "      <td>0.100000</td>\n",
       "      <td>0.0</td>\n",
       "      <td>184.0</td>\n",
       "    </tr>\n",
       "    <tr>\n",
       "      <th>2021-12-26</th>\n",
       "      <td>0.0</td>\n",
       "      <td>0.0</td>\n",
       "      <td>0.0</td>\n",
       "      <td>0.0</td>\n",
       "      <td>0.0</td>\n",
       "      <td>1.0</td>\n",
       "      <td>0.204348</td>\n",
       "      <td>0.034783</td>\n",
       "      <td>0.008696</td>\n",
       "      <td>0.330435</td>\n",
       "      <td>...</td>\n",
       "      <td>0.013043</td>\n",
       "      <td>0.269565</td>\n",
       "      <td>0.186957</td>\n",
       "      <td>0.226087</td>\n",
       "      <td>0.126087</td>\n",
       "      <td>0.339130</td>\n",
       "      <td>0.186957</td>\n",
       "      <td>0.060870</td>\n",
       "      <td>0.0</td>\n",
       "      <td>181.0</td>\n",
       "    </tr>\n",
       "  </tbody>\n",
       "</table>\n",
       "<p>134 rows × 24 columns</p>\n",
       "</div>"
      ],
      "text/plain": [
       "            daily  weekly  holiday    0    1    2         0         1  \\\n",
       "2021-01-19    0.0     0.0      0.0  1.0  0.0  0.0  0.004348  0.221739   \n",
       "2021-01-20    0.0     0.0      0.0  1.0  0.0  0.0  0.017391  0.160870   \n",
       "2021-01-21    0.0     0.0      0.0  0.0  0.0  1.0  0.000000  0.143478   \n",
       "2021-01-22    0.0     0.0      0.0  0.0  0.0  1.0  0.004348  0.413043   \n",
       "2021-01-30    0.0     0.0      0.0  0.0  0.0  1.0  0.000000  0.004348   \n",
       "...           ...     ...      ...  ...  ...  ...       ...       ...   \n",
       "2021-12-13    0.0     0.0      0.0  0.0  0.0  1.0  0.008696  0.043478   \n",
       "2021-12-14    0.0     0.0      0.0  0.0  0.0  1.0  0.000000  0.100000   \n",
       "2021-12-20    0.0     0.0      0.0  0.0  0.0  1.0  0.139130  0.052174   \n",
       "2021-12-22    0.0     0.0      0.0  1.0  0.0  0.0  0.252174  0.047826   \n",
       "2021-12-26    0.0     0.0      0.0  0.0  0.0  1.0  0.204348  0.034783   \n",
       "\n",
       "                   2         3  ...         8         9        10        11  \\\n",
       "2021-01-19  0.004348  0.117391  ...  0.108696  0.226087  0.147826  0.130435   \n",
       "2021-01-20  0.013043  0.052174  ...  0.043478  0.195652  0.134783  0.126087   \n",
       "2021-01-21  0.017391  0.039130  ...  0.060870  0.239130  0.117391  0.134783   \n",
       "2021-01-22  0.000000  0.082609  ...  0.026087  0.217391  0.143478  0.134783   \n",
       "2021-01-30  0.000000  0.000000  ...  0.000000  0.169565  0.104348  0.078261   \n",
       "...              ...       ...  ...       ...       ...       ...       ...   \n",
       "2021-12-13  0.008696  0.004348  ...  0.052174  0.221739  0.143478  0.147826   \n",
       "2021-12-14  0.000000  0.330435  ...  0.030435  0.260870  0.152174  0.139130   \n",
       "2021-12-20  0.000000  0.252174  ...  0.104348  0.178261  0.121739  0.108696   \n",
       "2021-12-22  0.000000  0.256522  ...  0.034783  0.221739  0.147826  0.156522   \n",
       "2021-12-26  0.008696  0.330435  ...  0.013043  0.269565  0.186957  0.226087   \n",
       "\n",
       "                  12        13        14        15   16  total_litter  \n",
       "2021-01-19  0.052174  0.343478  0.095652  0.069565  0.0         156.0  \n",
       "2021-01-20  0.060870  0.330435  0.147826  0.121739  0.0         105.0  \n",
       "2021-01-21  0.082609  0.339130  0.130435  0.060870  0.0         117.0  \n",
       "2021-01-22  0.073913  0.369565  0.126087  0.086957  0.0         183.0  \n",
       "2021-01-30  0.039130  0.243478  0.143478  0.060870  0.0           1.0  \n",
       "...              ...       ...       ...       ...  ...           ...  \n",
       "2021-12-13  0.095652  0.326087  0.152174  0.043478  0.0          44.0  \n",
       "2021-12-14  0.113043  0.343478  0.121739  0.034783  0.0         156.0  \n",
       "2021-12-20  0.056522  0.304348  0.139130  0.043478  0.0         164.0  \n",
       "2021-12-22  0.065217  0.404348  0.134783  0.100000  0.0         184.0  \n",
       "2021-12-26  0.126087  0.339130  0.186957  0.060870  0.0         181.0  \n",
       "\n",
       "[134 rows x 24 columns]"
      ]
     },
     "execution_count": 93,
     "metadata": {},
     "output_type": "execute_result"
    }
   ],
   "source": [
    "ML1"
   ]
  },
  {
   "cell_type": "code",
   "execution_count": 94,
   "id": "65ec7708",
   "metadata": {},
   "outputs": [],
   "source": [
    "ML1['daily']=1.0"
   ]
  },
  {
   "cell_type": "code",
   "execution_count": 95,
   "id": "7d592e7f",
   "metadata": {},
   "outputs": [
    {
     "data": {
      "text/plain": [
       "Index([2021-01-30, 2021-02-06, 2021-02-27, 2021-03-13, 2021-03-27, 2021-04-17,\n",
       "       2021-05-01, 2021-05-29, 2021-06-05, 2021-06-19, 2021-06-26, 2021-07-03,\n",
       "       2021-07-10, 2021-07-17, 2021-07-24, 2021-09-25],\n",
       "      dtype='object')"
      ]
     },
     "execution_count": 95,
     "metadata": {},
     "output_type": "execute_result"
    }
   ],
   "source": [
    "ML1[is_weekly].index"
   ]
  },
  {
   "cell_type": "code",
   "execution_count": 96,
   "id": "011eb0a7",
   "metadata": {},
   "outputs": [],
   "source": [
    "ML1.loc[is_weekly,'weekly']=1.0"
   ]
  },
  {
   "cell_type": "code",
   "execution_count": 97,
   "id": "24c7b034",
   "metadata": {},
   "outputs": [
    {
     "data": {
      "text/plain": [
       "0.0    118\n",
       "1.0     16\n",
       "Name: weekly, dtype: int64"
      ]
     },
     "execution_count": 97,
     "metadata": {},
     "output_type": "execute_result"
    }
   ],
   "source": [
    "ML1['weekly'].value_counts()"
   ]
  },
  {
   "cell_type": "code",
   "execution_count": 98,
   "id": "778e6e58",
   "metadata": {},
   "outputs": [],
   "source": [
    "ML1.loc[is_holiday,'holiday']=1.0"
   ]
  },
  {
   "cell_type": "code",
   "execution_count": 99,
   "id": "2484d1f9",
   "metadata": {},
   "outputs": [
    {
     "data": {
      "text/plain": [
       "0.0    116\n",
       "1.0     18\n",
       "Name: holiday, dtype: int64"
      ]
     },
     "execution_count": 99,
     "metadata": {},
     "output_type": "execute_result"
    }
   ],
   "source": [
    "ML1['holiday'].value_counts()"
   ]
  },
  {
   "cell_type": "code",
   "execution_count": 100,
   "id": "1cc22677",
   "metadata": {},
   "outputs": [
    {
     "data": {
      "text/html": [
       "<div>\n",
       "<style scoped>\n",
       "    .dataframe tbody tr th:only-of-type {\n",
       "        vertical-align: middle;\n",
       "    }\n",
       "\n",
       "    .dataframe tbody tr th {\n",
       "        vertical-align: top;\n",
       "    }\n",
       "\n",
       "    .dataframe thead th {\n",
       "        text-align: right;\n",
       "    }\n",
       "</style>\n",
       "<table border=\"1\" class=\"dataframe\">\n",
       "  <thead>\n",
       "    <tr style=\"text-align: right;\">\n",
       "      <th></th>\n",
       "      <th>daily</th>\n",
       "      <th>weekly</th>\n",
       "      <th>holiday</th>\n",
       "      <th>0</th>\n",
       "      <th>1</th>\n",
       "      <th>2</th>\n",
       "      <th>0</th>\n",
       "      <th>1</th>\n",
       "      <th>2</th>\n",
       "      <th>3</th>\n",
       "      <th>...</th>\n",
       "      <th>8</th>\n",
       "      <th>9</th>\n",
       "      <th>10</th>\n",
       "      <th>11</th>\n",
       "      <th>12</th>\n",
       "      <th>13</th>\n",
       "      <th>14</th>\n",
       "      <th>15</th>\n",
       "      <th>16</th>\n",
       "      <th>total_litter</th>\n",
       "    </tr>\n",
       "  </thead>\n",
       "  <tbody>\n",
       "    <tr>\n",
       "      <th>2021-01-19</th>\n",
       "      <td>1.0</td>\n",
       "      <td>0.0</td>\n",
       "      <td>0.0</td>\n",
       "      <td>1.0</td>\n",
       "      <td>0.0</td>\n",
       "      <td>0.0</td>\n",
       "      <td>0.004348</td>\n",
       "      <td>0.221739</td>\n",
       "      <td>0.004348</td>\n",
       "      <td>0.117391</td>\n",
       "      <td>...</td>\n",
       "      <td>0.108696</td>\n",
       "      <td>0.226087</td>\n",
       "      <td>0.147826</td>\n",
       "      <td>0.130435</td>\n",
       "      <td>0.052174</td>\n",
       "      <td>0.343478</td>\n",
       "      <td>0.095652</td>\n",
       "      <td>0.069565</td>\n",
       "      <td>0.0</td>\n",
       "      <td>156.0</td>\n",
       "    </tr>\n",
       "    <tr>\n",
       "      <th>2021-01-20</th>\n",
       "      <td>1.0</td>\n",
       "      <td>0.0</td>\n",
       "      <td>0.0</td>\n",
       "      <td>1.0</td>\n",
       "      <td>0.0</td>\n",
       "      <td>0.0</td>\n",
       "      <td>0.017391</td>\n",
       "      <td>0.160870</td>\n",
       "      <td>0.013043</td>\n",
       "      <td>0.052174</td>\n",
       "      <td>...</td>\n",
       "      <td>0.043478</td>\n",
       "      <td>0.195652</td>\n",
       "      <td>0.134783</td>\n",
       "      <td>0.126087</td>\n",
       "      <td>0.060870</td>\n",
       "      <td>0.330435</td>\n",
       "      <td>0.147826</td>\n",
       "      <td>0.121739</td>\n",
       "      <td>0.0</td>\n",
       "      <td>105.0</td>\n",
       "    </tr>\n",
       "    <tr>\n",
       "      <th>2021-01-21</th>\n",
       "      <td>1.0</td>\n",
       "      <td>0.0</td>\n",
       "      <td>0.0</td>\n",
       "      <td>0.0</td>\n",
       "      <td>0.0</td>\n",
       "      <td>1.0</td>\n",
       "      <td>0.000000</td>\n",
       "      <td>0.143478</td>\n",
       "      <td>0.017391</td>\n",
       "      <td>0.039130</td>\n",
       "      <td>...</td>\n",
       "      <td>0.060870</td>\n",
       "      <td>0.239130</td>\n",
       "      <td>0.117391</td>\n",
       "      <td>0.134783</td>\n",
       "      <td>0.082609</td>\n",
       "      <td>0.339130</td>\n",
       "      <td>0.130435</td>\n",
       "      <td>0.060870</td>\n",
       "      <td>0.0</td>\n",
       "      <td>117.0</td>\n",
       "    </tr>\n",
       "    <tr>\n",
       "      <th>2021-01-22</th>\n",
       "      <td>1.0</td>\n",
       "      <td>0.0</td>\n",
       "      <td>0.0</td>\n",
       "      <td>0.0</td>\n",
       "      <td>0.0</td>\n",
       "      <td>1.0</td>\n",
       "      <td>0.004348</td>\n",
       "      <td>0.413043</td>\n",
       "      <td>0.000000</td>\n",
       "      <td>0.082609</td>\n",
       "      <td>...</td>\n",
       "      <td>0.026087</td>\n",
       "      <td>0.217391</td>\n",
       "      <td>0.143478</td>\n",
       "      <td>0.134783</td>\n",
       "      <td>0.073913</td>\n",
       "      <td>0.369565</td>\n",
       "      <td>0.126087</td>\n",
       "      <td>0.086957</td>\n",
       "      <td>0.0</td>\n",
       "      <td>183.0</td>\n",
       "    </tr>\n",
       "    <tr>\n",
       "      <th>2021-01-30</th>\n",
       "      <td>1.0</td>\n",
       "      <td>1.0</td>\n",
       "      <td>1.0</td>\n",
       "      <td>0.0</td>\n",
       "      <td>0.0</td>\n",
       "      <td>1.0</td>\n",
       "      <td>0.000000</td>\n",
       "      <td>0.004348</td>\n",
       "      <td>0.000000</td>\n",
       "      <td>0.000000</td>\n",
       "      <td>...</td>\n",
       "      <td>0.000000</td>\n",
       "      <td>0.169565</td>\n",
       "      <td>0.104348</td>\n",
       "      <td>0.078261</td>\n",
       "      <td>0.039130</td>\n",
       "      <td>0.243478</td>\n",
       "      <td>0.143478</td>\n",
       "      <td>0.060870</td>\n",
       "      <td>0.0</td>\n",
       "      <td>1.0</td>\n",
       "    </tr>\n",
       "    <tr>\n",
       "      <th>...</th>\n",
       "      <td>...</td>\n",
       "      <td>...</td>\n",
       "      <td>...</td>\n",
       "      <td>...</td>\n",
       "      <td>...</td>\n",
       "      <td>...</td>\n",
       "      <td>...</td>\n",
       "      <td>...</td>\n",
       "      <td>...</td>\n",
       "      <td>...</td>\n",
       "      <td>...</td>\n",
       "      <td>...</td>\n",
       "      <td>...</td>\n",
       "      <td>...</td>\n",
       "      <td>...</td>\n",
       "      <td>...</td>\n",
       "      <td>...</td>\n",
       "      <td>...</td>\n",
       "      <td>...</td>\n",
       "      <td>...</td>\n",
       "      <td>...</td>\n",
       "    </tr>\n",
       "    <tr>\n",
       "      <th>2021-12-13</th>\n",
       "      <td>1.0</td>\n",
       "      <td>0.0</td>\n",
       "      <td>0.0</td>\n",
       "      <td>0.0</td>\n",
       "      <td>0.0</td>\n",
       "      <td>1.0</td>\n",
       "      <td>0.008696</td>\n",
       "      <td>0.043478</td>\n",
       "      <td>0.008696</td>\n",
       "      <td>0.004348</td>\n",
       "      <td>...</td>\n",
       "      <td>0.052174</td>\n",
       "      <td>0.221739</td>\n",
       "      <td>0.143478</td>\n",
       "      <td>0.147826</td>\n",
       "      <td>0.095652</td>\n",
       "      <td>0.326087</td>\n",
       "      <td>0.152174</td>\n",
       "      <td>0.043478</td>\n",
       "      <td>0.0</td>\n",
       "      <td>44.0</td>\n",
       "    </tr>\n",
       "    <tr>\n",
       "      <th>2021-12-14</th>\n",
       "      <td>1.0</td>\n",
       "      <td>0.0</td>\n",
       "      <td>0.0</td>\n",
       "      <td>0.0</td>\n",
       "      <td>0.0</td>\n",
       "      <td>1.0</td>\n",
       "      <td>0.000000</td>\n",
       "      <td>0.100000</td>\n",
       "      <td>0.000000</td>\n",
       "      <td>0.330435</td>\n",
       "      <td>...</td>\n",
       "      <td>0.030435</td>\n",
       "      <td>0.260870</td>\n",
       "      <td>0.152174</td>\n",
       "      <td>0.139130</td>\n",
       "      <td>0.113043</td>\n",
       "      <td>0.343478</td>\n",
       "      <td>0.121739</td>\n",
       "      <td>0.034783</td>\n",
       "      <td>0.0</td>\n",
       "      <td>156.0</td>\n",
       "    </tr>\n",
       "    <tr>\n",
       "      <th>2021-12-20</th>\n",
       "      <td>1.0</td>\n",
       "      <td>0.0</td>\n",
       "      <td>0.0</td>\n",
       "      <td>0.0</td>\n",
       "      <td>0.0</td>\n",
       "      <td>1.0</td>\n",
       "      <td>0.139130</td>\n",
       "      <td>0.052174</td>\n",
       "      <td>0.000000</td>\n",
       "      <td>0.252174</td>\n",
       "      <td>...</td>\n",
       "      <td>0.104348</td>\n",
       "      <td>0.178261</td>\n",
       "      <td>0.121739</td>\n",
       "      <td>0.108696</td>\n",
       "      <td>0.056522</td>\n",
       "      <td>0.304348</td>\n",
       "      <td>0.139130</td>\n",
       "      <td>0.043478</td>\n",
       "      <td>0.0</td>\n",
       "      <td>164.0</td>\n",
       "    </tr>\n",
       "    <tr>\n",
       "      <th>2021-12-22</th>\n",
       "      <td>1.0</td>\n",
       "      <td>0.0</td>\n",
       "      <td>0.0</td>\n",
       "      <td>1.0</td>\n",
       "      <td>0.0</td>\n",
       "      <td>0.0</td>\n",
       "      <td>0.252174</td>\n",
       "      <td>0.047826</td>\n",
       "      <td>0.000000</td>\n",
       "      <td>0.256522</td>\n",
       "      <td>...</td>\n",
       "      <td>0.034783</td>\n",
       "      <td>0.221739</td>\n",
       "      <td>0.147826</td>\n",
       "      <td>0.156522</td>\n",
       "      <td>0.065217</td>\n",
       "      <td>0.404348</td>\n",
       "      <td>0.134783</td>\n",
       "      <td>0.100000</td>\n",
       "      <td>0.0</td>\n",
       "      <td>184.0</td>\n",
       "    </tr>\n",
       "    <tr>\n",
       "      <th>2021-12-26</th>\n",
       "      <td>1.0</td>\n",
       "      <td>0.0</td>\n",
       "      <td>0.0</td>\n",
       "      <td>0.0</td>\n",
       "      <td>0.0</td>\n",
       "      <td>1.0</td>\n",
       "      <td>0.204348</td>\n",
       "      <td>0.034783</td>\n",
       "      <td>0.008696</td>\n",
       "      <td>0.330435</td>\n",
       "      <td>...</td>\n",
       "      <td>0.013043</td>\n",
       "      <td>0.269565</td>\n",
       "      <td>0.186957</td>\n",
       "      <td>0.226087</td>\n",
       "      <td>0.126087</td>\n",
       "      <td>0.339130</td>\n",
       "      <td>0.186957</td>\n",
       "      <td>0.060870</td>\n",
       "      <td>0.0</td>\n",
       "      <td>181.0</td>\n",
       "    </tr>\n",
       "  </tbody>\n",
       "</table>\n",
       "<p>134 rows × 24 columns</p>\n",
       "</div>"
      ],
      "text/plain": [
       "            daily  weekly  holiday    0    1    2         0         1  \\\n",
       "2021-01-19    1.0     0.0      0.0  1.0  0.0  0.0  0.004348  0.221739   \n",
       "2021-01-20    1.0     0.0      0.0  1.0  0.0  0.0  0.017391  0.160870   \n",
       "2021-01-21    1.0     0.0      0.0  0.0  0.0  1.0  0.000000  0.143478   \n",
       "2021-01-22    1.0     0.0      0.0  0.0  0.0  1.0  0.004348  0.413043   \n",
       "2021-01-30    1.0     1.0      1.0  0.0  0.0  1.0  0.000000  0.004348   \n",
       "...           ...     ...      ...  ...  ...  ...       ...       ...   \n",
       "2021-12-13    1.0     0.0      0.0  0.0  0.0  1.0  0.008696  0.043478   \n",
       "2021-12-14    1.0     0.0      0.0  0.0  0.0  1.0  0.000000  0.100000   \n",
       "2021-12-20    1.0     0.0      0.0  0.0  0.0  1.0  0.139130  0.052174   \n",
       "2021-12-22    1.0     0.0      0.0  1.0  0.0  0.0  0.252174  0.047826   \n",
       "2021-12-26    1.0     0.0      0.0  0.0  0.0  1.0  0.204348  0.034783   \n",
       "\n",
       "                   2         3  ...         8         9        10        11  \\\n",
       "2021-01-19  0.004348  0.117391  ...  0.108696  0.226087  0.147826  0.130435   \n",
       "2021-01-20  0.013043  0.052174  ...  0.043478  0.195652  0.134783  0.126087   \n",
       "2021-01-21  0.017391  0.039130  ...  0.060870  0.239130  0.117391  0.134783   \n",
       "2021-01-22  0.000000  0.082609  ...  0.026087  0.217391  0.143478  0.134783   \n",
       "2021-01-30  0.000000  0.000000  ...  0.000000  0.169565  0.104348  0.078261   \n",
       "...              ...       ...  ...       ...       ...       ...       ...   \n",
       "2021-12-13  0.008696  0.004348  ...  0.052174  0.221739  0.143478  0.147826   \n",
       "2021-12-14  0.000000  0.330435  ...  0.030435  0.260870  0.152174  0.139130   \n",
       "2021-12-20  0.000000  0.252174  ...  0.104348  0.178261  0.121739  0.108696   \n",
       "2021-12-22  0.000000  0.256522  ...  0.034783  0.221739  0.147826  0.156522   \n",
       "2021-12-26  0.008696  0.330435  ...  0.013043  0.269565  0.186957  0.226087   \n",
       "\n",
       "                  12        13        14        15   16  total_litter  \n",
       "2021-01-19  0.052174  0.343478  0.095652  0.069565  0.0         156.0  \n",
       "2021-01-20  0.060870  0.330435  0.147826  0.121739  0.0         105.0  \n",
       "2021-01-21  0.082609  0.339130  0.130435  0.060870  0.0         117.0  \n",
       "2021-01-22  0.073913  0.369565  0.126087  0.086957  0.0         183.0  \n",
       "2021-01-30  0.039130  0.243478  0.143478  0.060870  0.0           1.0  \n",
       "...              ...       ...       ...       ...  ...           ...  \n",
       "2021-12-13  0.095652  0.326087  0.152174  0.043478  0.0          44.0  \n",
       "2021-12-14  0.113043  0.343478  0.121739  0.034783  0.0         156.0  \n",
       "2021-12-20  0.056522  0.304348  0.139130  0.043478  0.0         164.0  \n",
       "2021-12-22  0.065217  0.404348  0.134783  0.100000  0.0         184.0  \n",
       "2021-12-26  0.126087  0.339130  0.186957  0.060870  0.0         181.0  \n",
       "\n",
       "[134 rows x 24 columns]"
      ]
     },
     "execution_count": 100,
     "metadata": {},
     "output_type": "execute_result"
    }
   ],
   "source": [
    "ML1"
   ]
  },
  {
   "cell_type": "code",
   "execution_count": 101,
   "id": "4ea0e242",
   "metadata": {},
   "outputs": [],
   "source": [
    "ML1.to_csv('./outdata/Hyattsville_ML.csv')"
   ]
  },
  {
   "cell_type": "code",
   "execution_count": null,
   "id": "f695c657",
   "metadata": {},
   "outputs": [],
   "source": []
  },
  {
   "cell_type": "code",
   "execution_count": null,
   "id": "6ec4528f",
   "metadata": {},
   "outputs": [],
   "source": []
  }
 ],
 "metadata": {
  "kernelspec": {
   "display_name": "Python 3 (ipykernel)",
   "language": "python",
   "name": "python3"
  },
  "language_info": {
   "codemirror_mode": {
    "name": "ipython",
    "version": 3
   },
   "file_extension": ".py",
   "mimetype": "text/x-python",
   "name": "python",
   "nbconvert_exporter": "python",
   "pygments_lexer": "ipython3",
   "version": "3.8.13"
  },
  "toc": {
   "base_numbering": 1,
   "nav_menu": {},
   "number_sections": true,
   "sideBar": true,
   "skip_h1_title": false,
   "title_cell": "Table of Contents",
   "title_sidebar": "Contents",
   "toc_cell": false,
   "toc_position": {},
   "toc_section_display": true,
   "toc_window_display": false
  },
  "varInspector": {
   "cols": {
    "lenName": 16,
    "lenType": 16,
    "lenVar": 40
   },
   "kernels_config": {
    "python": {
     "delete_cmd_postfix": "",
     "delete_cmd_prefix": "del ",
     "library": "var_list.py",
     "varRefreshCmd": "print(var_dic_list())"
    },
    "r": {
     "delete_cmd_postfix": ") ",
     "delete_cmd_prefix": "rm(",
     "library": "var_list.r",
     "varRefreshCmd": "cat(var_dic_list()) "
    }
   },
   "types_to_exclude": [
    "module",
    "function",
    "builtin_function_or_method",
    "instance",
    "_Feature"
   ],
   "window_display": false
  }
 },
 "nbformat": 4,
 "nbformat_minor": 5
}
