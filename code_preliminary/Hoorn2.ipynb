{
 "cells": [
  {
   "cell_type": "code",
   "execution_count": 1,
   "id": "a0d8bc56",
   "metadata": {},
   "outputs": [],
   "source": [
    "import pandas as pd\n",
    "import numpy as np\n",
    "import geopandas as gpd\n",
    "import shapely.geometry\n",
    "import datetime\n",
    "import time\n",
    "from collections import Counter\n",
    "from numpy import array\n",
    "from numpy import argmax\n",
    "from sklearn.preprocessing import LabelEncoder\n",
    "from sklearn.preprocessing import OneHotEncoder\n",
    "from intervals import Interval\n",
    "import warnings\n",
    "warnings.filterwarnings('ignore')"
   ]
  },
  {
   "cell_type": "markdown",
   "id": "13c0f847",
   "metadata": {},
   "source": [
    "## 垃圾数据处理"
   ]
  },
  {
   "cell_type": "code",
   "execution_count": 5,
   "id": "f580de09",
   "metadata": {},
   "outputs": [],
   "source": [
    "# 数据预处理\n",
    "data=pd.read_csv('./data/Hoorn_OpenLitterMap.csv')"
   ]
  },
  {
   "cell_type": "code",
   "execution_count": 6,
   "id": "535614d0",
   "metadata": {},
   "outputs": [],
   "source": [
    "df = data.fillna(0)# 填充缺失值"
   ]
  },
  {
   "cell_type": "code",
   "execution_count": 7,
   "id": "edf95ddd",
   "metadata": {
    "scrolled": true
   },
   "outputs": [
    {
     "data": {
      "text/html": [
       "<div>\n",
       "<style scoped>\n",
       "    .dataframe tbody tr th:only-of-type {\n",
       "        vertical-align: middle;\n",
       "    }\n",
       "\n",
       "    .dataframe tbody tr th {\n",
       "        vertical-align: top;\n",
       "    }\n",
       "\n",
       "    .dataframe thead th {\n",
       "        text-align: right;\n",
       "    }\n",
       "</style>\n",
       "<table border=\"1\" class=\"dataframe\">\n",
       "  <thead>\n",
       "    <tr style=\"text-align: right;\">\n",
       "      <th></th>\n",
       "      <th>id</th>\n",
       "      <th>verification</th>\n",
       "      <th>phone</th>\n",
       "      <th>datetime</th>\n",
       "      <th>lat</th>\n",
       "      <th>lon</th>\n",
       "      <th>picked up</th>\n",
       "      <th>address</th>\n",
       "      <th>total_litter</th>\n",
       "      <th>SMOKING</th>\n",
       "      <th>...</th>\n",
       "      <th>ear_plugs</th>\n",
       "      <th>elec_small</th>\n",
       "      <th>elec_large</th>\n",
       "      <th>batteries</th>\n",
       "      <th>balloons.1</th>\n",
       "      <th>life_buoy</th>\n",
       "      <th>other</th>\n",
       "      <th>custom_tag_1</th>\n",
       "      <th>custom_tag_2</th>\n",
       "      <th>custom_tag_3</th>\n",
       "    </tr>\n",
       "  </thead>\n",
       "  <tbody>\n",
       "    <tr>\n",
       "      <th>0</th>\n",
       "      <td>118956</td>\n",
       "      <td>2</td>\n",
       "      <td>iPhone 6</td>\n",
       "      <td>2021-02-03 14:05:54</td>\n",
       "      <td>52.651031</td>\n",
       "      <td>5.081417</td>\n",
       "      <td>Yes</td>\n",
       "      <td>1, Stijl, Kersenboogerd, Hoorn, North Holland,...</td>\n",
       "      <td>2.0</td>\n",
       "      <td>0.0</td>\n",
       "      <td>...</td>\n",
       "      <td>0.0</td>\n",
       "      <td>0.0</td>\n",
       "      <td>0.0</td>\n",
       "      <td>0.0</td>\n",
       "      <td>0.0</td>\n",
       "      <td>0.0</td>\n",
       "      <td>0.0</td>\n",
       "      <td>0</td>\n",
       "      <td>0</td>\n",
       "      <td>0.0</td>\n",
       "    </tr>\n",
       "    <tr>\n",
       "      <th>1</th>\n",
       "      <td>118957</td>\n",
       "      <td>2</td>\n",
       "      <td>iPhone 6</td>\n",
       "      <td>2021-02-03 13:54:23</td>\n",
       "      <td>52.649972</td>\n",
       "      <td>5.082583</td>\n",
       "      <td>Yes</td>\n",
       "      <td>18, Amstelweg, Kersenboogerd, Hoorn, North Hol...</td>\n",
       "      <td>1.0</td>\n",
       "      <td>0.0</td>\n",
       "      <td>...</td>\n",
       "      <td>0.0</td>\n",
       "      <td>0.0</td>\n",
       "      <td>0.0</td>\n",
       "      <td>0.0</td>\n",
       "      <td>0.0</td>\n",
       "      <td>0.0</td>\n",
       "      <td>0.0</td>\n",
       "      <td>0</td>\n",
       "      <td>0</td>\n",
       "      <td>0.0</td>\n",
       "    </tr>\n",
       "    <tr>\n",
       "      <th>2</th>\n",
       "      <td>118958</td>\n",
       "      <td>2</td>\n",
       "      <td>iPhone 6</td>\n",
       "      <td>2021-02-03 14:06:30</td>\n",
       "      <td>52.650917</td>\n",
       "      <td>5.081553</td>\n",
       "      <td>Yes</td>\n",
       "      <td>2, Stijl, Kersenboogerd, Hoorn, North Holland,...</td>\n",
       "      <td>2.0</td>\n",
       "      <td>0.0</td>\n",
       "      <td>...</td>\n",
       "      <td>0.0</td>\n",
       "      <td>0.0</td>\n",
       "      <td>0.0</td>\n",
       "      <td>0.0</td>\n",
       "      <td>0.0</td>\n",
       "      <td>0.0</td>\n",
       "      <td>0.0</td>\n",
       "      <td>0</td>\n",
       "      <td>0</td>\n",
       "      <td>0.0</td>\n",
       "    </tr>\n",
       "    <tr>\n",
       "      <th>3</th>\n",
       "      <td>118959</td>\n",
       "      <td>2</td>\n",
       "      <td>iPhone 6</td>\n",
       "      <td>2021-02-03 14:02:00</td>\n",
       "      <td>52.651183</td>\n",
       "      <td>5.082656</td>\n",
       "      <td>Yes</td>\n",
       "      <td>47, Stijl, Kersenboogerd, Hoorn, North Holland...</td>\n",
       "      <td>1.0</td>\n",
       "      <td>0.0</td>\n",
       "      <td>...</td>\n",
       "      <td>0.0</td>\n",
       "      <td>0.0</td>\n",
       "      <td>0.0</td>\n",
       "      <td>0.0</td>\n",
       "      <td>0.0</td>\n",
       "      <td>0.0</td>\n",
       "      <td>0.0</td>\n",
       "      <td>0</td>\n",
       "      <td>0</td>\n",
       "      <td>0.0</td>\n",
       "    </tr>\n",
       "    <tr>\n",
       "      <th>4</th>\n",
       "      <td>118960</td>\n",
       "      <td>2</td>\n",
       "      <td>iPhone 6</td>\n",
       "      <td>2021-02-03 14:01:17</td>\n",
       "      <td>52.651181</td>\n",
       "      <td>5.082553</td>\n",
       "      <td>Yes</td>\n",
       "      <td>29, Stijl, Kersenboogerd, Hoorn, North Holland...</td>\n",
       "      <td>1.0</td>\n",
       "      <td>0.0</td>\n",
       "      <td>...</td>\n",
       "      <td>0.0</td>\n",
       "      <td>0.0</td>\n",
       "      <td>0.0</td>\n",
       "      <td>0.0</td>\n",
       "      <td>0.0</td>\n",
       "      <td>0.0</td>\n",
       "      <td>0.0</td>\n",
       "      <td>0</td>\n",
       "      <td>0</td>\n",
       "      <td>0.0</td>\n",
       "    </tr>\n",
       "    <tr>\n",
       "      <th>...</th>\n",
       "      <td>...</td>\n",
       "      <td>...</td>\n",
       "      <td>...</td>\n",
       "      <td>...</td>\n",
       "      <td>...</td>\n",
       "      <td>...</td>\n",
       "      <td>...</td>\n",
       "      <td>...</td>\n",
       "      <td>...</td>\n",
       "      <td>...</td>\n",
       "      <td>...</td>\n",
       "      <td>...</td>\n",
       "      <td>...</td>\n",
       "      <td>...</td>\n",
       "      <td>...</td>\n",
       "      <td>...</td>\n",
       "      <td>...</td>\n",
       "      <td>...</td>\n",
       "      <td>...</td>\n",
       "      <td>...</td>\n",
       "      <td>...</td>\n",
       "    </tr>\n",
       "    <tr>\n",
       "      <th>19622</th>\n",
       "      <td>279325</td>\n",
       "      <td>2</td>\n",
       "      <td>iPhone 13 mini</td>\n",
       "      <td>2022-03-20 09:46:20</td>\n",
       "      <td>52.652412</td>\n",
       "      <td>5.081511</td>\n",
       "      <td>Yes</td>\n",
       "      <td>43, Ekster, Kersenboogerd, Hoorn, North Hollan...</td>\n",
       "      <td>1.0</td>\n",
       "      <td>0.0</td>\n",
       "      <td>...</td>\n",
       "      <td>0.0</td>\n",
       "      <td>0.0</td>\n",
       "      <td>0.0</td>\n",
       "      <td>0.0</td>\n",
       "      <td>0.0</td>\n",
       "      <td>0.0</td>\n",
       "      <td>0.0</td>\n",
       "      <td>0</td>\n",
       "      <td>0</td>\n",
       "      <td>0.0</td>\n",
       "    </tr>\n",
       "    <tr>\n",
       "      <th>19623</th>\n",
       "      <td>279326</td>\n",
       "      <td>2</td>\n",
       "      <td>iPhone 13 mini</td>\n",
       "      <td>2022-03-20 09:45:09</td>\n",
       "      <td>52.652428</td>\n",
       "      <td>5.080361</td>\n",
       "      <td>Yes</td>\n",
       "      <td>74, Lijster, Kersenboogerd, Hoorn, North Holla...</td>\n",
       "      <td>1.0</td>\n",
       "      <td>0.0</td>\n",
       "      <td>...</td>\n",
       "      <td>0.0</td>\n",
       "      <td>0.0</td>\n",
       "      <td>0.0</td>\n",
       "      <td>0.0</td>\n",
       "      <td>0.0</td>\n",
       "      <td>0.0</td>\n",
       "      <td>0.0</td>\n",
       "      <td>0</td>\n",
       "      <td>0</td>\n",
       "      <td>0.0</td>\n",
       "    </tr>\n",
       "    <tr>\n",
       "      <th>19624</th>\n",
       "      <td>281636</td>\n",
       "      <td>2</td>\n",
       "      <td>iPhone 13 mini</td>\n",
       "      <td>2022-03-20 10:00:23</td>\n",
       "      <td>52.654053</td>\n",
       "      <td>5.079644</td>\n",
       "      <td>Yes</td>\n",
       "      <td>Spaarneweg, Kersenboogerd, Hoorn, North Hollan...</td>\n",
       "      <td>1.0</td>\n",
       "      <td>0.0</td>\n",
       "      <td>...</td>\n",
       "      <td>0.0</td>\n",
       "      <td>0.0</td>\n",
       "      <td>0.0</td>\n",
       "      <td>0.0</td>\n",
       "      <td>0.0</td>\n",
       "      <td>0.0</td>\n",
       "      <td>0.0</td>\n",
       "      <td>brand:oasis</td>\n",
       "      <td>0</td>\n",
       "      <td>0.0</td>\n",
       "    </tr>\n",
       "    <tr>\n",
       "      <th>19625</th>\n",
       "      <td>281638</td>\n",
       "      <td>2</td>\n",
       "      <td>iPhone 13 mini</td>\n",
       "      <td>2022-03-20 09:59:52</td>\n",
       "      <td>52.654020</td>\n",
       "      <td>5.079669</td>\n",
       "      <td>Yes</td>\n",
       "      <td>Spaarneweg, Kersenboogerd, Hoorn, North Hollan...</td>\n",
       "      <td>1.0</td>\n",
       "      <td>0.0</td>\n",
       "      <td>...</td>\n",
       "      <td>0.0</td>\n",
       "      <td>0.0</td>\n",
       "      <td>0.0</td>\n",
       "      <td>0.0</td>\n",
       "      <td>0.0</td>\n",
       "      <td>0.0</td>\n",
       "      <td>0.0</td>\n",
       "      <td>0</td>\n",
       "      <td>0</td>\n",
       "      <td>0.0</td>\n",
       "    </tr>\n",
       "    <tr>\n",
       "      <th>19626</th>\n",
       "      <td>281640</td>\n",
       "      <td>2</td>\n",
       "      <td>iPhone 13 mini</td>\n",
       "      <td>2022-03-20 09:47:22</td>\n",
       "      <td>52.652563</td>\n",
       "      <td>5.081242</td>\n",
       "      <td>Yes</td>\n",
       "      <td>28, Lijster, Kersenboogerd, Hoorn, North Holla...</td>\n",
       "      <td>1.0</td>\n",
       "      <td>0.0</td>\n",
       "      <td>...</td>\n",
       "      <td>0.0</td>\n",
       "      <td>0.0</td>\n",
       "      <td>0.0</td>\n",
       "      <td>0.0</td>\n",
       "      <td>0.0</td>\n",
       "      <td>0.0</td>\n",
       "      <td>0.0</td>\n",
       "      <td>0</td>\n",
       "      <td>0</td>\n",
       "      <td>0.0</td>\n",
       "    </tr>\n",
       "  </tbody>\n",
       "</table>\n",
       "<p>19627 rows × 266 columns</p>\n",
       "</div>"
      ],
      "text/plain": [
       "           id  verification           phone             datetime        lat  \\\n",
       "0      118956             2        iPhone 6  2021-02-03 14:05:54  52.651031   \n",
       "1      118957             2        iPhone 6  2021-02-03 13:54:23  52.649972   \n",
       "2      118958             2        iPhone 6  2021-02-03 14:06:30  52.650917   \n",
       "3      118959             2        iPhone 6  2021-02-03 14:02:00  52.651183   \n",
       "4      118960             2        iPhone 6  2021-02-03 14:01:17  52.651181   \n",
       "...       ...           ...             ...                  ...        ...   \n",
       "19622  279325             2  iPhone 13 mini  2022-03-20 09:46:20  52.652412   \n",
       "19623  279326             2  iPhone 13 mini  2022-03-20 09:45:09  52.652428   \n",
       "19624  281636             2  iPhone 13 mini  2022-03-20 10:00:23  52.654053   \n",
       "19625  281638             2  iPhone 13 mini  2022-03-20 09:59:52  52.654020   \n",
       "19626  281640             2  iPhone 13 mini  2022-03-20 09:47:22  52.652563   \n",
       "\n",
       "            lon picked up                                            address  \\\n",
       "0      5.081417       Yes  1, Stijl, Kersenboogerd, Hoorn, North Holland,...   \n",
       "1      5.082583       Yes  18, Amstelweg, Kersenboogerd, Hoorn, North Hol...   \n",
       "2      5.081553       Yes  2, Stijl, Kersenboogerd, Hoorn, North Holland,...   \n",
       "3      5.082656       Yes  47, Stijl, Kersenboogerd, Hoorn, North Holland...   \n",
       "4      5.082553       Yes  29, Stijl, Kersenboogerd, Hoorn, North Holland...   \n",
       "...         ...       ...                                                ...   \n",
       "19622  5.081511       Yes  43, Ekster, Kersenboogerd, Hoorn, North Hollan...   \n",
       "19623  5.080361       Yes  74, Lijster, Kersenboogerd, Hoorn, North Holla...   \n",
       "19624  5.079644       Yes  Spaarneweg, Kersenboogerd, Hoorn, North Hollan...   \n",
       "19625  5.079669       Yes  Spaarneweg, Kersenboogerd, Hoorn, North Hollan...   \n",
       "19626  5.081242       Yes  28, Lijster, Kersenboogerd, Hoorn, North Holla...   \n",
       "\n",
       "       total_litter  SMOKING  ...  ear_plugs  elec_small  elec_large  \\\n",
       "0               2.0      0.0  ...        0.0         0.0         0.0   \n",
       "1               1.0      0.0  ...        0.0         0.0         0.0   \n",
       "2               2.0      0.0  ...        0.0         0.0         0.0   \n",
       "3               1.0      0.0  ...        0.0         0.0         0.0   \n",
       "4               1.0      0.0  ...        0.0         0.0         0.0   \n",
       "...             ...      ...  ...        ...         ...         ...   \n",
       "19622           1.0      0.0  ...        0.0         0.0         0.0   \n",
       "19623           1.0      0.0  ...        0.0         0.0         0.0   \n",
       "19624           1.0      0.0  ...        0.0         0.0         0.0   \n",
       "19625           1.0      0.0  ...        0.0         0.0         0.0   \n",
       "19626           1.0      0.0  ...        0.0         0.0         0.0   \n",
       "\n",
       "       batteries  balloons.1  life_buoy  other  custom_tag_1  custom_tag_2  \\\n",
       "0            0.0         0.0        0.0    0.0             0             0   \n",
       "1            0.0         0.0        0.0    0.0             0             0   \n",
       "2            0.0         0.0        0.0    0.0             0             0   \n",
       "3            0.0         0.0        0.0    0.0             0             0   \n",
       "4            0.0         0.0        0.0    0.0             0             0   \n",
       "...          ...         ...        ...    ...           ...           ...   \n",
       "19622        0.0         0.0        0.0    0.0             0             0   \n",
       "19623        0.0         0.0        0.0    0.0             0             0   \n",
       "19624        0.0         0.0        0.0    0.0   brand:oasis             0   \n",
       "19625        0.0         0.0        0.0    0.0             0             0   \n",
       "19626        0.0         0.0        0.0    0.0             0             0   \n",
       "\n",
       "       custom_tag_3  \n",
       "0               0.0  \n",
       "1               0.0  \n",
       "2               0.0  \n",
       "3               0.0  \n",
       "4               0.0  \n",
       "...             ...  \n",
       "19622           0.0  \n",
       "19623           0.0  \n",
       "19624           0.0  \n",
       "19625           0.0  \n",
       "19626           0.0  \n",
       "\n",
       "[19627 rows x 266 columns]"
      ]
     },
     "execution_count": 7,
     "metadata": {},
     "output_type": "execute_result"
    }
   ],
   "source": [
    "df"
   ]
  },
  {
   "cell_type": "markdown",
   "id": "3f04c79b",
   "metadata": {},
   "source": [
    "### 统计"
   ]
  },
  {
   "cell_type": "code",
   "execution_count": 9,
   "id": "48126930",
   "metadata": {},
   "outputs": [
    {
     "data": {
      "text/plain": [
       "21789.0"
      ]
     },
     "execution_count": 9,
     "metadata": {},
     "output_type": "execute_result"
    }
   ],
   "source": [
    "sum(df['total_litter'])"
   ]
  },
  {
   "cell_type": "code",
   "execution_count": null,
   "id": "32100e4f",
   "metadata": {},
   "outputs": [],
   "source": []
  },
  {
   "cell_type": "code",
   "execution_count": null,
   "id": "eff151e7",
   "metadata": {},
   "outputs": [],
   "source": []
  },
  {
   "cell_type": "markdown",
   "id": "929a47ed",
   "metadata": {},
   "source": [
    "### 垃圾分类"
   ]
  },
  {
   "cell_type": "code",
   "execution_count": 10,
   "id": "f0fc4cf6",
   "metadata": {},
   "outputs": [],
   "source": [
    "# 垃圾分类\n",
    "def sumc(x):# 定义合并类的函数\n",
    "    count_sum = 0\n",
    "    for k in x.iteritems():\n",
    "        count_sum += k[1]\n",
    "    return count_sum"
   ]
  },
  {
   "cell_type": "code",
   "execution_count": 11,
   "id": "ada51d7e",
   "metadata": {},
   "outputs": [
    {
     "data": {
      "text/plain": [
       "1074.0"
      ]
     },
     "execution_count": 11,
     "metadata": {},
     "output_type": "execute_result"
    }
   ],
   "source": [
    "df['SMOKING']=df.loc[:,'butts':'smokingOther'].apply(sumc,axis=1)\n",
    "df['SMOKING'].sum()"
   ]
  },
  {
   "cell_type": "code",
   "execution_count": 12,
   "id": "40e1b465",
   "metadata": {},
   "outputs": [],
   "source": [
    "df=df.drop(df.loc[:,'butts':'smokingOther'],axis=1)"
   ]
  },
  {
   "cell_type": "code",
   "execution_count": 13,
   "id": "f6c0ade7",
   "metadata": {},
   "outputs": [
    {
     "data": {
      "text/plain": [
       "2579.0"
      ]
     },
     "execution_count": 13,
     "metadata": {},
     "output_type": "execute_result"
    }
   ],
   "source": [
    "df['FOOD']=df.loc[:,'sweetWrappers':'chewing_gum'].apply(sumc,axis=1)\n",
    "df['FOOD'].sum()"
   ]
  },
  {
   "cell_type": "code",
   "execution_count": 14,
   "id": "dcd371f3",
   "metadata": {},
   "outputs": [],
   "source": [
    "df=df.drop(df.loc[:,'sweetWrappers':'chewing_gum'],axis=1)"
   ]
  },
  {
   "cell_type": "code",
   "execution_count": 15,
   "id": "2ab9d572",
   "metadata": {},
   "outputs": [
    {
     "data": {
      "text/plain": [
       "559.0"
      ]
     },
     "execution_count": 15,
     "metadata": {},
     "output_type": "execute_result"
    }
   ],
   "source": [
    "df['COFFEE']=df.loc[:,'coffeeCups':'coffeeOther'].apply(sumc,axis=1)\n",
    "df['COFFEE'].sum()"
   ]
  },
  {
   "cell_type": "code",
   "execution_count": 16,
   "id": "056b5396",
   "metadata": {},
   "outputs": [],
   "source": [
    "df=df.drop(df.loc[:,'coffeeCups':'coffeeOther'],axis=1)"
   ]
  },
  {
   "cell_type": "code",
   "execution_count": 17,
   "id": "8a6cb8a4",
   "metadata": {},
   "outputs": [
    {
     "data": {
      "text/plain": [
       "1276.0"
      ]
     },
     "execution_count": 17,
     "metadata": {},
     "output_type": "execute_result"
    }
   ],
   "source": [
    "df['ALCOHOL']=df.loc[:,'beerCan':'alcoholOther'].apply(sumc,axis=1)\n",
    "df['ALCOHOL'].sum()"
   ]
  },
  {
   "cell_type": "code",
   "execution_count": 18,
   "id": "d046b6a7",
   "metadata": {},
   "outputs": [],
   "source": [
    "df=df.drop(df.loc[:,'beerCan':'alcoholOther'],axis=1)"
   ]
  },
  {
   "cell_type": "code",
   "execution_count": 19,
   "id": "3881a17d",
   "metadata": {},
   "outputs": [
    {
     "data": {
      "text/plain": [
       "6208.0"
      ]
     },
     "execution_count": 19,
     "metadata": {},
     "output_type": "execute_result"
    }
   ],
   "source": [
    "df['SOFTDRINKS']=df.loc[:,'waterBottle':'softDrinkOther'].apply(sumc,axis=1)\n",
    "df['SOFTDRINKS'].sum()"
   ]
  },
  {
   "cell_type": "code",
   "execution_count": 20,
   "id": "07e208ed",
   "metadata": {},
   "outputs": [],
   "source": [
    "df=df.drop(df.loc[:,'waterBottle':'softDrinkOther'],axis=1)"
   ]
  },
  {
   "cell_type": "code",
   "execution_count": 21,
   "id": "9fe672fd",
   "metadata": {},
   "outputs": [
    {
     "data": {
      "text/plain": [
       "997.0"
      ]
     },
     "execution_count": 21,
     "metadata": {},
     "output_type": "execute_result"
    }
   ],
   "source": [
    "df['SANITARY']=df.loc[:,'condoms':'hand_sanitiser'].apply(sumc,axis=1)\n",
    "df['SANITARY'].sum()"
   ]
  },
  {
   "cell_type": "code",
   "execution_count": 22,
   "id": "66f8a595",
   "metadata": {},
   "outputs": [],
   "source": [
    "df=df.drop(df.loc[:,'condoms':'hand_sanitiser'],axis=1)"
   ]
  },
  {
   "cell_type": "code",
   "execution_count": 23,
   "id": "668e1513",
   "metadata": {},
   "outputs": [
    {
     "data": {
      "text/plain": [
       "327.0"
      ]
     },
     "execution_count": 23,
     "metadata": {},
     "output_type": "execute_result"
    }
   ],
   "source": [
    "df['COASTAL']=df.loc[:,'microplastics':'styro_large'].apply(sumc,axis=1)\n",
    "df['COASTAL'].sum()"
   ]
  },
  {
   "cell_type": "code",
   "execution_count": 24,
   "id": "c82367cb",
   "metadata": {},
   "outputs": [],
   "source": [
    "df=df.drop(df.loc[:,'microplastics':'styro_large'],axis=1)"
   ]
  },
  {
   "cell_type": "code",
   "execution_count": 25,
   "id": "535191b6",
   "metadata": {},
   "outputs": [
    {
     "data": {
      "text/plain": [
       "0.0"
      ]
     },
     "execution_count": 25,
     "metadata": {},
     "output_type": "execute_result"
    }
   ],
   "source": [
    "df['DUMPING']=df.loc[:,'small':'large'].apply(sumc,axis=1)\n",
    "df['DUMPING'].sum()"
   ]
  },
  {
   "cell_type": "code",
   "execution_count": 26,
   "id": "17fbfe60",
   "metadata": {},
   "outputs": [],
   "source": [
    "df=df.drop(df.loc[:,'small':'large'],axis=1)"
   ]
  },
  {
   "cell_type": "code",
   "execution_count": 27,
   "id": "356a8edf",
   "metadata": {},
   "outputs": [
    {
     "data": {
      "text/plain": [
       "0.0"
      ]
     },
     "execution_count": 27,
     "metadata": {},
     "output_type": "execute_result"
    }
   ],
   "source": [
    "df['INDUSTRIAL']=df.loc[:,'oil':'industrial_other'].apply(sumc,axis=1)\n",
    "df['INDUSTRIAL'].sum()"
   ]
  },
  {
   "cell_type": "code",
   "execution_count": 28,
   "id": "4867dd6b",
   "metadata": {},
   "outputs": [
    {
     "data": {
      "text/plain": [
       "4751.0"
      ]
     },
     "execution_count": 28,
     "metadata": {},
     "output_type": "execute_result"
    }
   ],
   "source": [
    "df['BRANDS']=df.loc[:,'aadrink':'wrigleys'].apply(sumc,axis=1)\n",
    "df['BRANDS'].sum()"
   ]
  },
  {
   "cell_type": "code",
   "execution_count": 29,
   "id": "0a3995b3",
   "metadata": {},
   "outputs": [],
   "source": [
    "df=df.drop(df.loc[:,'aadrink':'wrigleys'],axis=1)"
   ]
  },
  {
   "cell_type": "code",
   "execution_count": 30,
   "id": "c436b6b7",
   "metadata": {},
   "outputs": [],
   "source": [
    "df=df.drop(df.loc[:,'oil':'industrial_other'],axis=1)"
   ]
  },
  {
   "cell_type": "code",
   "execution_count": 31,
   "id": "0c23a9f8",
   "metadata": {},
   "outputs": [
    {
     "data": {
      "text/plain": [
       "0.0"
      ]
     },
     "execution_count": 31,
     "metadata": {},
     "output_type": "execute_result"
    }
   ],
   "source": [
    "df['DOGSHIT']=df.loc[:,'poo':'poo_in_bag'].apply(sumc,axis=1)\n",
    "df['DOGSHIT'].sum()"
   ]
  },
  {
   "cell_type": "code",
   "execution_count": 32,
   "id": "3cd57f92",
   "metadata": {},
   "outputs": [],
   "source": [
    "df=df.drop(df.loc[:,'poo':'poo_in_bag'],axis=1)"
   ]
  },
  {
   "cell_type": "code",
   "execution_count": 33,
   "id": "0fa76c4a",
   "metadata": {},
   "outputs": [],
   "source": [
    "df['ART']=df.loc[:,'item']"
   ]
  },
  {
   "cell_type": "code",
   "execution_count": 34,
   "id": "ad71fe5f",
   "metadata": {},
   "outputs": [
    {
     "data": {
      "text/plain": [
       "0.0"
      ]
     },
     "execution_count": 34,
     "metadata": {},
     "output_type": "execute_result"
    }
   ],
   "source": [
    "df['ART'].sum()"
   ]
  },
  {
   "cell_type": "code",
   "execution_count": 35,
   "id": "3f7511a8",
   "metadata": {},
   "outputs": [],
   "source": [
    "# df['MATERIAL']=df.loc[:,'aluminium':'wood'].apply(sumc,axis=1)"
   ]
  },
  {
   "cell_type": "code",
   "execution_count": 36,
   "id": "9f45e42e",
   "metadata": {},
   "outputs": [],
   "source": [
    "# df['MATERIAL'].sum()"
   ]
  },
  {
   "cell_type": "code",
   "execution_count": 37,
   "id": "95f362d7",
   "metadata": {},
   "outputs": [],
   "source": [
    "# df=df.drop(df.loc[:,'aluminium':'wood'],axis=1)"
   ]
  },
  {
   "cell_type": "code",
   "execution_count": 38,
   "id": "d3116e3e",
   "metadata": {},
   "outputs": [],
   "source": [
    "df=df.drop('item',axis=1)"
   ]
  },
  {
   "cell_type": "code",
   "execution_count": 39,
   "id": "1ae91732",
   "metadata": {},
   "outputs": [
    {
     "data": {
      "text/plain": [
       "7309.0"
      ]
     },
     "execution_count": 39,
     "metadata": {},
     "output_type": "execute_result"
    }
   ],
   "source": [
    "df['OTHER']=df.loc[:,'random_litter':'other'].apply(sumc,axis=1)\n",
    "df['OTHER'].sum()"
   ]
  },
  {
   "cell_type": "code",
   "execution_count": 40,
   "id": "b6b358ac",
   "metadata": {},
   "outputs": [],
   "source": [
    "df=df.drop(df.loc[:,'random_litter':'other'],axis=1)"
   ]
  },
  {
   "cell_type": "code",
   "execution_count": 41,
   "id": "6f74944d",
   "metadata": {},
   "outputs": [
    {
     "data": {
      "text/plain": [
       "Index(['id', 'verification', 'phone', 'datetime', 'lat', 'lon', 'picked up',\n",
       "       'address', 'total_litter', 'SMOKING', 'FOOD', 'COFFEE', 'ALCOHOL',\n",
       "       'SOFTDRINKS', 'SANITARY', 'COASTAL', 'DUMPING', 'INDUSTRIAL', 'BRANDS',\n",
       "       'DOGSHIT', 'ART', 'OTHER', 'custom_tag_1', 'custom_tag_2',\n",
       "       'custom_tag_3'],\n",
       "      dtype='object')"
      ]
     },
     "execution_count": 41,
     "metadata": {},
     "output_type": "execute_result"
    }
   ],
   "source": [
    "df.columns"
   ]
  },
  {
   "cell_type": "code",
   "execution_count": 42,
   "id": "3b4735fd",
   "metadata": {},
   "outputs": [],
   "source": [
    "df=df.drop(df.loc[:,'custom_tag_1':'custom_tag_3'],axis=1)# 删除不需要的标签"
   ]
  },
  {
   "cell_type": "code",
   "execution_count": 43,
   "id": "1eaa6769",
   "metadata": {},
   "outputs": [],
   "source": [
    "df['OTHER']=df['OTHER']+df['ART']+df['DOGSHIT']+df['INDUSTRIAL']+df['DUMPING']"
   ]
  },
  {
   "cell_type": "code",
   "execution_count": 44,
   "id": "4500ea87",
   "metadata": {},
   "outputs": [
    {
     "data": {
      "text/plain": [
       "7309.0"
      ]
     },
     "execution_count": 44,
     "metadata": {},
     "output_type": "execute_result"
    }
   ],
   "source": [
    "df['OTHER'].sum()"
   ]
  },
  {
   "cell_type": "code",
   "execution_count": 45,
   "id": "8bf259ab",
   "metadata": {},
   "outputs": [],
   "source": [
    "df=df.drop(['ART','DOGSHIT','INDUSTRIAL','DUMPING'],axis=1)"
   ]
  },
  {
   "cell_type": "code",
   "execution_count": 46,
   "id": "2d0910fd",
   "metadata": {},
   "outputs": [
    {
     "data": {
      "text/html": [
       "<div>\n",
       "<style scoped>\n",
       "    .dataframe tbody tr th:only-of-type {\n",
       "        vertical-align: middle;\n",
       "    }\n",
       "\n",
       "    .dataframe tbody tr th {\n",
       "        vertical-align: top;\n",
       "    }\n",
       "\n",
       "    .dataframe thead th {\n",
       "        text-align: right;\n",
       "    }\n",
       "</style>\n",
       "<table border=\"1\" class=\"dataframe\">\n",
       "  <thead>\n",
       "    <tr style=\"text-align: right;\">\n",
       "      <th></th>\n",
       "      <th>id</th>\n",
       "      <th>verification</th>\n",
       "      <th>phone</th>\n",
       "      <th>datetime</th>\n",
       "      <th>lat</th>\n",
       "      <th>lon</th>\n",
       "      <th>picked up</th>\n",
       "      <th>address</th>\n",
       "      <th>total_litter</th>\n",
       "      <th>SMOKING</th>\n",
       "      <th>FOOD</th>\n",
       "      <th>COFFEE</th>\n",
       "      <th>ALCOHOL</th>\n",
       "      <th>SOFTDRINKS</th>\n",
       "      <th>SANITARY</th>\n",
       "      <th>COASTAL</th>\n",
       "      <th>BRANDS</th>\n",
       "      <th>OTHER</th>\n",
       "    </tr>\n",
       "  </thead>\n",
       "  <tbody>\n",
       "    <tr>\n",
       "      <th>0</th>\n",
       "      <td>118956</td>\n",
       "      <td>2</td>\n",
       "      <td>iPhone 6</td>\n",
       "      <td>2021-02-03 14:05:54</td>\n",
       "      <td>52.651031</td>\n",
       "      <td>5.081417</td>\n",
       "      <td>Yes</td>\n",
       "      <td>1, Stijl, Kersenboogerd, Hoorn, North Holland,...</td>\n",
       "      <td>2.0</td>\n",
       "      <td>0.0</td>\n",
       "      <td>0.0</td>\n",
       "      <td>0.0</td>\n",
       "      <td>0.0</td>\n",
       "      <td>1.0</td>\n",
       "      <td>0.0</td>\n",
       "      <td>0.0</td>\n",
       "      <td>1.0</td>\n",
       "      <td>0.0</td>\n",
       "    </tr>\n",
       "    <tr>\n",
       "      <th>1</th>\n",
       "      <td>118957</td>\n",
       "      <td>2</td>\n",
       "      <td>iPhone 6</td>\n",
       "      <td>2021-02-03 13:54:23</td>\n",
       "      <td>52.649972</td>\n",
       "      <td>5.082583</td>\n",
       "      <td>Yes</td>\n",
       "      <td>18, Amstelweg, Kersenboogerd, Hoorn, North Hol...</td>\n",
       "      <td>1.0</td>\n",
       "      <td>0.0</td>\n",
       "      <td>1.0</td>\n",
       "      <td>0.0</td>\n",
       "      <td>0.0</td>\n",
       "      <td>0.0</td>\n",
       "      <td>0.0</td>\n",
       "      <td>0.0</td>\n",
       "      <td>0.0</td>\n",
       "      <td>0.0</td>\n",
       "    </tr>\n",
       "    <tr>\n",
       "      <th>2</th>\n",
       "      <td>118958</td>\n",
       "      <td>2</td>\n",
       "      <td>iPhone 6</td>\n",
       "      <td>2021-02-03 14:06:30</td>\n",
       "      <td>52.650917</td>\n",
       "      <td>5.081553</td>\n",
       "      <td>Yes</td>\n",
       "      <td>2, Stijl, Kersenboogerd, Hoorn, North Holland,...</td>\n",
       "      <td>2.0</td>\n",
       "      <td>0.0</td>\n",
       "      <td>0.0</td>\n",
       "      <td>0.0</td>\n",
       "      <td>0.0</td>\n",
       "      <td>2.0</td>\n",
       "      <td>0.0</td>\n",
       "      <td>0.0</td>\n",
       "      <td>0.0</td>\n",
       "      <td>0.0</td>\n",
       "    </tr>\n",
       "    <tr>\n",
       "      <th>3</th>\n",
       "      <td>118959</td>\n",
       "      <td>2</td>\n",
       "      <td>iPhone 6</td>\n",
       "      <td>2021-02-03 14:02:00</td>\n",
       "      <td>52.651183</td>\n",
       "      <td>5.082656</td>\n",
       "      <td>Yes</td>\n",
       "      <td>47, Stijl, Kersenboogerd, Hoorn, North Holland...</td>\n",
       "      <td>1.0</td>\n",
       "      <td>0.0</td>\n",
       "      <td>0.0</td>\n",
       "      <td>0.0</td>\n",
       "      <td>0.0</td>\n",
       "      <td>1.0</td>\n",
       "      <td>0.0</td>\n",
       "      <td>0.0</td>\n",
       "      <td>0.0</td>\n",
       "      <td>0.0</td>\n",
       "    </tr>\n",
       "    <tr>\n",
       "      <th>4</th>\n",
       "      <td>118960</td>\n",
       "      <td>2</td>\n",
       "      <td>iPhone 6</td>\n",
       "      <td>2021-02-03 14:01:17</td>\n",
       "      <td>52.651181</td>\n",
       "      <td>5.082553</td>\n",
       "      <td>Yes</td>\n",
       "      <td>29, Stijl, Kersenboogerd, Hoorn, North Holland...</td>\n",
       "      <td>1.0</td>\n",
       "      <td>0.0</td>\n",
       "      <td>0.0</td>\n",
       "      <td>0.0</td>\n",
       "      <td>0.0</td>\n",
       "      <td>1.0</td>\n",
       "      <td>0.0</td>\n",
       "      <td>0.0</td>\n",
       "      <td>0.0</td>\n",
       "      <td>0.0</td>\n",
       "    </tr>\n",
       "    <tr>\n",
       "      <th>...</th>\n",
       "      <td>...</td>\n",
       "      <td>...</td>\n",
       "      <td>...</td>\n",
       "      <td>...</td>\n",
       "      <td>...</td>\n",
       "      <td>...</td>\n",
       "      <td>...</td>\n",
       "      <td>...</td>\n",
       "      <td>...</td>\n",
       "      <td>...</td>\n",
       "      <td>...</td>\n",
       "      <td>...</td>\n",
       "      <td>...</td>\n",
       "      <td>...</td>\n",
       "      <td>...</td>\n",
       "      <td>...</td>\n",
       "      <td>...</td>\n",
       "      <td>...</td>\n",
       "    </tr>\n",
       "    <tr>\n",
       "      <th>19622</th>\n",
       "      <td>279325</td>\n",
       "      <td>2</td>\n",
       "      <td>iPhone 13 mini</td>\n",
       "      <td>2022-03-20 09:46:20</td>\n",
       "      <td>52.652412</td>\n",
       "      <td>5.081511</td>\n",
       "      <td>Yes</td>\n",
       "      <td>43, Ekster, Kersenboogerd, Hoorn, North Hollan...</td>\n",
       "      <td>1.0</td>\n",
       "      <td>0.0</td>\n",
       "      <td>0.0</td>\n",
       "      <td>0.0</td>\n",
       "      <td>0.0</td>\n",
       "      <td>1.0</td>\n",
       "      <td>0.0</td>\n",
       "      <td>0.0</td>\n",
       "      <td>1.0</td>\n",
       "      <td>0.0</td>\n",
       "    </tr>\n",
       "    <tr>\n",
       "      <th>19623</th>\n",
       "      <td>279326</td>\n",
       "      <td>2</td>\n",
       "      <td>iPhone 13 mini</td>\n",
       "      <td>2022-03-20 09:45:09</td>\n",
       "      <td>52.652428</td>\n",
       "      <td>5.080361</td>\n",
       "      <td>Yes</td>\n",
       "      <td>74, Lijster, Kersenboogerd, Hoorn, North Holla...</td>\n",
       "      <td>1.0</td>\n",
       "      <td>0.0</td>\n",
       "      <td>0.0</td>\n",
       "      <td>0.0</td>\n",
       "      <td>0.0</td>\n",
       "      <td>1.0</td>\n",
       "      <td>0.0</td>\n",
       "      <td>0.0</td>\n",
       "      <td>0.0</td>\n",
       "      <td>0.0</td>\n",
       "    </tr>\n",
       "    <tr>\n",
       "      <th>19624</th>\n",
       "      <td>281636</td>\n",
       "      <td>2</td>\n",
       "      <td>iPhone 13 mini</td>\n",
       "      <td>2022-03-20 10:00:23</td>\n",
       "      <td>52.654053</td>\n",
       "      <td>5.079644</td>\n",
       "      <td>Yes</td>\n",
       "      <td>Spaarneweg, Kersenboogerd, Hoorn, North Hollan...</td>\n",
       "      <td>1.0</td>\n",
       "      <td>0.0</td>\n",
       "      <td>0.0</td>\n",
       "      <td>0.0</td>\n",
       "      <td>0.0</td>\n",
       "      <td>1.0</td>\n",
       "      <td>0.0</td>\n",
       "      <td>0.0</td>\n",
       "      <td>0.0</td>\n",
       "      <td>0.0</td>\n",
       "    </tr>\n",
       "    <tr>\n",
       "      <th>19625</th>\n",
       "      <td>281638</td>\n",
       "      <td>2</td>\n",
       "      <td>iPhone 13 mini</td>\n",
       "      <td>2022-03-20 09:59:52</td>\n",
       "      <td>52.654020</td>\n",
       "      <td>5.079669</td>\n",
       "      <td>Yes</td>\n",
       "      <td>Spaarneweg, Kersenboogerd, Hoorn, North Hollan...</td>\n",
       "      <td>1.0</td>\n",
       "      <td>0.0</td>\n",
       "      <td>0.0</td>\n",
       "      <td>0.0</td>\n",
       "      <td>0.0</td>\n",
       "      <td>0.0</td>\n",
       "      <td>1.0</td>\n",
       "      <td>0.0</td>\n",
       "      <td>0.0</td>\n",
       "      <td>0.0</td>\n",
       "    </tr>\n",
       "    <tr>\n",
       "      <th>19626</th>\n",
       "      <td>281640</td>\n",
       "      <td>2</td>\n",
       "      <td>iPhone 13 mini</td>\n",
       "      <td>2022-03-20 09:47:22</td>\n",
       "      <td>52.652563</td>\n",
       "      <td>5.081242</td>\n",
       "      <td>Yes</td>\n",
       "      <td>28, Lijster, Kersenboogerd, Hoorn, North Holla...</td>\n",
       "      <td>1.0</td>\n",
       "      <td>0.0</td>\n",
       "      <td>0.0</td>\n",
       "      <td>0.0</td>\n",
       "      <td>0.0</td>\n",
       "      <td>1.0</td>\n",
       "      <td>0.0</td>\n",
       "      <td>0.0</td>\n",
       "      <td>1.0</td>\n",
       "      <td>0.0</td>\n",
       "    </tr>\n",
       "  </tbody>\n",
       "</table>\n",
       "<p>19627 rows × 18 columns</p>\n",
       "</div>"
      ],
      "text/plain": [
       "           id  verification           phone             datetime        lat  \\\n",
       "0      118956             2        iPhone 6  2021-02-03 14:05:54  52.651031   \n",
       "1      118957             2        iPhone 6  2021-02-03 13:54:23  52.649972   \n",
       "2      118958             2        iPhone 6  2021-02-03 14:06:30  52.650917   \n",
       "3      118959             2        iPhone 6  2021-02-03 14:02:00  52.651183   \n",
       "4      118960             2        iPhone 6  2021-02-03 14:01:17  52.651181   \n",
       "...       ...           ...             ...                  ...        ...   \n",
       "19622  279325             2  iPhone 13 mini  2022-03-20 09:46:20  52.652412   \n",
       "19623  279326             2  iPhone 13 mini  2022-03-20 09:45:09  52.652428   \n",
       "19624  281636             2  iPhone 13 mini  2022-03-20 10:00:23  52.654053   \n",
       "19625  281638             2  iPhone 13 mini  2022-03-20 09:59:52  52.654020   \n",
       "19626  281640             2  iPhone 13 mini  2022-03-20 09:47:22  52.652563   \n",
       "\n",
       "            lon picked up                                            address  \\\n",
       "0      5.081417       Yes  1, Stijl, Kersenboogerd, Hoorn, North Holland,...   \n",
       "1      5.082583       Yes  18, Amstelweg, Kersenboogerd, Hoorn, North Hol...   \n",
       "2      5.081553       Yes  2, Stijl, Kersenboogerd, Hoorn, North Holland,...   \n",
       "3      5.082656       Yes  47, Stijl, Kersenboogerd, Hoorn, North Holland...   \n",
       "4      5.082553       Yes  29, Stijl, Kersenboogerd, Hoorn, North Holland...   \n",
       "...         ...       ...                                                ...   \n",
       "19622  5.081511       Yes  43, Ekster, Kersenboogerd, Hoorn, North Hollan...   \n",
       "19623  5.080361       Yes  74, Lijster, Kersenboogerd, Hoorn, North Holla...   \n",
       "19624  5.079644       Yes  Spaarneweg, Kersenboogerd, Hoorn, North Hollan...   \n",
       "19625  5.079669       Yes  Spaarneweg, Kersenboogerd, Hoorn, North Hollan...   \n",
       "19626  5.081242       Yes  28, Lijster, Kersenboogerd, Hoorn, North Holla...   \n",
       "\n",
       "       total_litter  SMOKING  FOOD  COFFEE  ALCOHOL  SOFTDRINKS  SANITARY  \\\n",
       "0               2.0      0.0   0.0     0.0      0.0         1.0       0.0   \n",
       "1               1.0      0.0   1.0     0.0      0.0         0.0       0.0   \n",
       "2               2.0      0.0   0.0     0.0      0.0         2.0       0.0   \n",
       "3               1.0      0.0   0.0     0.0      0.0         1.0       0.0   \n",
       "4               1.0      0.0   0.0     0.0      0.0         1.0       0.0   \n",
       "...             ...      ...   ...     ...      ...         ...       ...   \n",
       "19622           1.0      0.0   0.0     0.0      0.0         1.0       0.0   \n",
       "19623           1.0      0.0   0.0     0.0      0.0         1.0       0.0   \n",
       "19624           1.0      0.0   0.0     0.0      0.0         1.0       0.0   \n",
       "19625           1.0      0.0   0.0     0.0      0.0         0.0       1.0   \n",
       "19626           1.0      0.0   0.0     0.0      0.0         1.0       0.0   \n",
       "\n",
       "       COASTAL  BRANDS  OTHER  \n",
       "0          0.0     1.0    0.0  \n",
       "1          0.0     0.0    0.0  \n",
       "2          0.0     0.0    0.0  \n",
       "3          0.0     0.0    0.0  \n",
       "4          0.0     0.0    0.0  \n",
       "...        ...     ...    ...  \n",
       "19622      0.0     1.0    0.0  \n",
       "19623      0.0     0.0    0.0  \n",
       "19624      0.0     0.0    0.0  \n",
       "19625      0.0     0.0    0.0  \n",
       "19626      0.0     1.0    0.0  \n",
       "\n",
       "[19627 rows x 18 columns]"
      ]
     },
     "execution_count": 46,
     "metadata": {},
     "output_type": "execute_result"
    }
   ],
   "source": [
    "df # 分类完毕"
   ]
  },
  {
   "cell_type": "code",
   "execution_count": 47,
   "id": "ee3974b8",
   "metadata": {
    "scrolled": false
   },
   "outputs": [],
   "source": [
    "df=df[-df['datetime'].str.contains('2019')].reset_index(drop=True) # 删除2019年的零散数据"
   ]
  },
  {
   "cell_type": "code",
   "execution_count": 48,
   "id": "74f6dba2",
   "metadata": {
    "scrolled": true
   },
   "outputs": [],
   "source": [
    "df=df[-df['datetime'].str.contains('2020')].reset_index(drop=True) # 删除2020年的零散数据"
   ]
  },
  {
   "cell_type": "code",
   "execution_count": 49,
   "id": "50d337fb",
   "metadata": {},
   "outputs": [],
   "source": [
    "# df=df[-df['date_taken'].str.contains('2021')].reset_index(drop=True) # 删除2021年的零散数据"
   ]
  },
  {
   "cell_type": "code",
   "execution_count": 50,
   "id": "e99a416b",
   "metadata": {},
   "outputs": [],
   "source": [
    "df=df[-df['datetime'].str.contains('2022')].reset_index(drop=True) # 删除2022年的零散数据"
   ]
  },
  {
   "cell_type": "code",
   "execution_count": 51,
   "id": "ca06c5f1",
   "metadata": {},
   "outputs": [],
   "source": [
    "df=df[-df['datetime'].str.contains('2023')].reset_index(drop=True) # 删除2023年的零散数据"
   ]
  },
  {
   "cell_type": "code",
   "execution_count": 52,
   "id": "e084a73b",
   "metadata": {},
   "outputs": [
    {
     "data": {
      "text/html": [
       "<div>\n",
       "<style scoped>\n",
       "    .dataframe tbody tr th:only-of-type {\n",
       "        vertical-align: middle;\n",
       "    }\n",
       "\n",
       "    .dataframe tbody tr th {\n",
       "        vertical-align: top;\n",
       "    }\n",
       "\n",
       "    .dataframe thead th {\n",
       "        text-align: right;\n",
       "    }\n",
       "</style>\n",
       "<table border=\"1\" class=\"dataframe\">\n",
       "  <thead>\n",
       "    <tr style=\"text-align: right;\">\n",
       "      <th></th>\n",
       "      <th>id</th>\n",
       "      <th>verification</th>\n",
       "      <th>phone</th>\n",
       "      <th>datetime</th>\n",
       "      <th>lat</th>\n",
       "      <th>lon</th>\n",
       "      <th>picked up</th>\n",
       "      <th>address</th>\n",
       "      <th>total_litter</th>\n",
       "      <th>SMOKING</th>\n",
       "      <th>FOOD</th>\n",
       "      <th>COFFEE</th>\n",
       "      <th>ALCOHOL</th>\n",
       "      <th>SOFTDRINKS</th>\n",
       "      <th>SANITARY</th>\n",
       "      <th>COASTAL</th>\n",
       "      <th>BRANDS</th>\n",
       "      <th>OTHER</th>\n",
       "    </tr>\n",
       "  </thead>\n",
       "  <tbody>\n",
       "    <tr>\n",
       "      <th>0</th>\n",
       "      <td>118956</td>\n",
       "      <td>2</td>\n",
       "      <td>iPhone 6</td>\n",
       "      <td>2021-02-03 14:05:54</td>\n",
       "      <td>52.651031</td>\n",
       "      <td>5.081417</td>\n",
       "      <td>Yes</td>\n",
       "      <td>1, Stijl, Kersenboogerd, Hoorn, North Holland,...</td>\n",
       "      <td>2.0</td>\n",
       "      <td>0.0</td>\n",
       "      <td>0.0</td>\n",
       "      <td>0.0</td>\n",
       "      <td>0.0</td>\n",
       "      <td>1.0</td>\n",
       "      <td>0.0</td>\n",
       "      <td>0.0</td>\n",
       "      <td>1.0</td>\n",
       "      <td>0.0</td>\n",
       "    </tr>\n",
       "    <tr>\n",
       "      <th>1</th>\n",
       "      <td>118957</td>\n",
       "      <td>2</td>\n",
       "      <td>iPhone 6</td>\n",
       "      <td>2021-02-03 13:54:23</td>\n",
       "      <td>52.649972</td>\n",
       "      <td>5.082583</td>\n",
       "      <td>Yes</td>\n",
       "      <td>18, Amstelweg, Kersenboogerd, Hoorn, North Hol...</td>\n",
       "      <td>1.0</td>\n",
       "      <td>0.0</td>\n",
       "      <td>1.0</td>\n",
       "      <td>0.0</td>\n",
       "      <td>0.0</td>\n",
       "      <td>0.0</td>\n",
       "      <td>0.0</td>\n",
       "      <td>0.0</td>\n",
       "      <td>0.0</td>\n",
       "      <td>0.0</td>\n",
       "    </tr>\n",
       "    <tr>\n",
       "      <th>2</th>\n",
       "      <td>118958</td>\n",
       "      <td>2</td>\n",
       "      <td>iPhone 6</td>\n",
       "      <td>2021-02-03 14:06:30</td>\n",
       "      <td>52.650917</td>\n",
       "      <td>5.081553</td>\n",
       "      <td>Yes</td>\n",
       "      <td>2, Stijl, Kersenboogerd, Hoorn, North Holland,...</td>\n",
       "      <td>2.0</td>\n",
       "      <td>0.0</td>\n",
       "      <td>0.0</td>\n",
       "      <td>0.0</td>\n",
       "      <td>0.0</td>\n",
       "      <td>2.0</td>\n",
       "      <td>0.0</td>\n",
       "      <td>0.0</td>\n",
       "      <td>0.0</td>\n",
       "      <td>0.0</td>\n",
       "    </tr>\n",
       "    <tr>\n",
       "      <th>3</th>\n",
       "      <td>118959</td>\n",
       "      <td>2</td>\n",
       "      <td>iPhone 6</td>\n",
       "      <td>2021-02-03 14:02:00</td>\n",
       "      <td>52.651183</td>\n",
       "      <td>5.082656</td>\n",
       "      <td>Yes</td>\n",
       "      <td>47, Stijl, Kersenboogerd, Hoorn, North Holland...</td>\n",
       "      <td>1.0</td>\n",
       "      <td>0.0</td>\n",
       "      <td>0.0</td>\n",
       "      <td>0.0</td>\n",
       "      <td>0.0</td>\n",
       "      <td>1.0</td>\n",
       "      <td>0.0</td>\n",
       "      <td>0.0</td>\n",
       "      <td>0.0</td>\n",
       "      <td>0.0</td>\n",
       "    </tr>\n",
       "    <tr>\n",
       "      <th>4</th>\n",
       "      <td>118960</td>\n",
       "      <td>2</td>\n",
       "      <td>iPhone 6</td>\n",
       "      <td>2021-02-03 14:01:17</td>\n",
       "      <td>52.651181</td>\n",
       "      <td>5.082553</td>\n",
       "      <td>Yes</td>\n",
       "      <td>29, Stijl, Kersenboogerd, Hoorn, North Holland...</td>\n",
       "      <td>1.0</td>\n",
       "      <td>0.0</td>\n",
       "      <td>0.0</td>\n",
       "      <td>0.0</td>\n",
       "      <td>0.0</td>\n",
       "      <td>1.0</td>\n",
       "      <td>0.0</td>\n",
       "      <td>0.0</td>\n",
       "      <td>0.0</td>\n",
       "      <td>0.0</td>\n",
       "    </tr>\n",
       "    <tr>\n",
       "      <th>...</th>\n",
       "      <td>...</td>\n",
       "      <td>...</td>\n",
       "      <td>...</td>\n",
       "      <td>...</td>\n",
       "      <td>...</td>\n",
       "      <td>...</td>\n",
       "      <td>...</td>\n",
       "      <td>...</td>\n",
       "      <td>...</td>\n",
       "      <td>...</td>\n",
       "      <td>...</td>\n",
       "      <td>...</td>\n",
       "      <td>...</td>\n",
       "      <td>...</td>\n",
       "      <td>...</td>\n",
       "      <td>...</td>\n",
       "      <td>...</td>\n",
       "      <td>...</td>\n",
       "    </tr>\n",
       "    <tr>\n",
       "      <th>19577</th>\n",
       "      <td>278719</td>\n",
       "      <td>2</td>\n",
       "      <td>iPhone 6</td>\n",
       "      <td>2021-02-05 14:01:29</td>\n",
       "      <td>52.649053</td>\n",
       "      <td>5.086322</td>\n",
       "      <td>Yes</td>\n",
       "      <td>71, Patio, Kersenboogerd, Hoorn, North Holland...</td>\n",
       "      <td>1.0</td>\n",
       "      <td>0.0</td>\n",
       "      <td>0.0</td>\n",
       "      <td>0.0</td>\n",
       "      <td>0.0</td>\n",
       "      <td>0.0</td>\n",
       "      <td>0.0</td>\n",
       "      <td>0.0</td>\n",
       "      <td>0.0</td>\n",
       "      <td>1.0</td>\n",
       "    </tr>\n",
       "    <tr>\n",
       "      <th>19578</th>\n",
       "      <td>278720</td>\n",
       "      <td>2</td>\n",
       "      <td>iPhone 6</td>\n",
       "      <td>2021-02-05 14:15:59</td>\n",
       "      <td>52.649753</td>\n",
       "      <td>5.082647</td>\n",
       "      <td>Yes</td>\n",
       "      <td>20, Amstelweg, Kersenboogerd, Hoorn, North Hol...</td>\n",
       "      <td>1.0</td>\n",
       "      <td>0.0</td>\n",
       "      <td>0.0</td>\n",
       "      <td>0.0</td>\n",
       "      <td>0.0</td>\n",
       "      <td>0.0</td>\n",
       "      <td>0.0</td>\n",
       "      <td>0.0</td>\n",
       "      <td>0.0</td>\n",
       "      <td>1.0</td>\n",
       "    </tr>\n",
       "    <tr>\n",
       "      <th>19579</th>\n",
       "      <td>278721</td>\n",
       "      <td>2</td>\n",
       "      <td>iPhone 6</td>\n",
       "      <td>2021-03-05 12:17:58</td>\n",
       "      <td>52.655544</td>\n",
       "      <td>5.078928</td>\n",
       "      <td>Yes</td>\n",
       "      <td>13, Lingeweg, Kersenboogerd, Hoorn, North Holl...</td>\n",
       "      <td>1.0</td>\n",
       "      <td>0.0</td>\n",
       "      <td>0.0</td>\n",
       "      <td>0.0</td>\n",
       "      <td>0.0</td>\n",
       "      <td>0.0</td>\n",
       "      <td>0.0</td>\n",
       "      <td>0.0</td>\n",
       "      <td>0.0</td>\n",
       "      <td>1.0</td>\n",
       "    </tr>\n",
       "    <tr>\n",
       "      <th>19580</th>\n",
       "      <td>278722</td>\n",
       "      <td>2</td>\n",
       "      <td>iPhone 6</td>\n",
       "      <td>2021-03-18 14:01:54</td>\n",
       "      <td>52.649314</td>\n",
       "      <td>5.085933</td>\n",
       "      <td>Yes</td>\n",
       "      <td>68, Patio, Kersenboogerd, Hoorn, North Holland...</td>\n",
       "      <td>1.0</td>\n",
       "      <td>0.0</td>\n",
       "      <td>0.0</td>\n",
       "      <td>0.0</td>\n",
       "      <td>0.0</td>\n",
       "      <td>0.0</td>\n",
       "      <td>0.0</td>\n",
       "      <td>0.0</td>\n",
       "      <td>0.0</td>\n",
       "      <td>1.0</td>\n",
       "    </tr>\n",
       "    <tr>\n",
       "      <th>19581</th>\n",
       "      <td>278723</td>\n",
       "      <td>2</td>\n",
       "      <td>iPhone 6</td>\n",
       "      <td>2021-01-09 12:09:42</td>\n",
       "      <td>52.642089</td>\n",
       "      <td>5.038711</td>\n",
       "      <td>Yes</td>\n",
       "      <td>18, Neptunushof, Grote Waal, Hoorn, North Holl...</td>\n",
       "      <td>1.0</td>\n",
       "      <td>0.0</td>\n",
       "      <td>0.0</td>\n",
       "      <td>0.0</td>\n",
       "      <td>0.0</td>\n",
       "      <td>0.0</td>\n",
       "      <td>0.0</td>\n",
       "      <td>0.0</td>\n",
       "      <td>0.0</td>\n",
       "      <td>1.0</td>\n",
       "    </tr>\n",
       "  </tbody>\n",
       "</table>\n",
       "<p>19582 rows × 18 columns</p>\n",
       "</div>"
      ],
      "text/plain": [
       "           id  verification     phone             datetime        lat  \\\n",
       "0      118956             2  iPhone 6  2021-02-03 14:05:54  52.651031   \n",
       "1      118957             2  iPhone 6  2021-02-03 13:54:23  52.649972   \n",
       "2      118958             2  iPhone 6  2021-02-03 14:06:30  52.650917   \n",
       "3      118959             2  iPhone 6  2021-02-03 14:02:00  52.651183   \n",
       "4      118960             2  iPhone 6  2021-02-03 14:01:17  52.651181   \n",
       "...       ...           ...       ...                  ...        ...   \n",
       "19577  278719             2  iPhone 6  2021-02-05 14:01:29  52.649053   \n",
       "19578  278720             2  iPhone 6  2021-02-05 14:15:59  52.649753   \n",
       "19579  278721             2  iPhone 6  2021-03-05 12:17:58  52.655544   \n",
       "19580  278722             2  iPhone 6  2021-03-18 14:01:54  52.649314   \n",
       "19581  278723             2  iPhone 6  2021-01-09 12:09:42  52.642089   \n",
       "\n",
       "            lon picked up                                            address  \\\n",
       "0      5.081417       Yes  1, Stijl, Kersenboogerd, Hoorn, North Holland,...   \n",
       "1      5.082583       Yes  18, Amstelweg, Kersenboogerd, Hoorn, North Hol...   \n",
       "2      5.081553       Yes  2, Stijl, Kersenboogerd, Hoorn, North Holland,...   \n",
       "3      5.082656       Yes  47, Stijl, Kersenboogerd, Hoorn, North Holland...   \n",
       "4      5.082553       Yes  29, Stijl, Kersenboogerd, Hoorn, North Holland...   \n",
       "...         ...       ...                                                ...   \n",
       "19577  5.086322       Yes  71, Patio, Kersenboogerd, Hoorn, North Holland...   \n",
       "19578  5.082647       Yes  20, Amstelweg, Kersenboogerd, Hoorn, North Hol...   \n",
       "19579  5.078928       Yes  13, Lingeweg, Kersenboogerd, Hoorn, North Holl...   \n",
       "19580  5.085933       Yes  68, Patio, Kersenboogerd, Hoorn, North Holland...   \n",
       "19581  5.038711       Yes  18, Neptunushof, Grote Waal, Hoorn, North Holl...   \n",
       "\n",
       "       total_litter  SMOKING  FOOD  COFFEE  ALCOHOL  SOFTDRINKS  SANITARY  \\\n",
       "0               2.0      0.0   0.0     0.0      0.0         1.0       0.0   \n",
       "1               1.0      0.0   1.0     0.0      0.0         0.0       0.0   \n",
       "2               2.0      0.0   0.0     0.0      0.0         2.0       0.0   \n",
       "3               1.0      0.0   0.0     0.0      0.0         1.0       0.0   \n",
       "4               1.0      0.0   0.0     0.0      0.0         1.0       0.0   \n",
       "...             ...      ...   ...     ...      ...         ...       ...   \n",
       "19577           1.0      0.0   0.0     0.0      0.0         0.0       0.0   \n",
       "19578           1.0      0.0   0.0     0.0      0.0         0.0       0.0   \n",
       "19579           1.0      0.0   0.0     0.0      0.0         0.0       0.0   \n",
       "19580           1.0      0.0   0.0     0.0      0.0         0.0       0.0   \n",
       "19581           1.0      0.0   0.0     0.0      0.0         0.0       0.0   \n",
       "\n",
       "       COASTAL  BRANDS  OTHER  \n",
       "0          0.0     1.0    0.0  \n",
       "1          0.0     0.0    0.0  \n",
       "2          0.0     0.0    0.0  \n",
       "3          0.0     0.0    0.0  \n",
       "4          0.0     0.0    0.0  \n",
       "...        ...     ...    ...  \n",
       "19577      0.0     0.0    1.0  \n",
       "19578      0.0     0.0    1.0  \n",
       "19579      0.0     0.0    1.0  \n",
       "19580      0.0     0.0    1.0  \n",
       "19581      0.0     0.0    1.0  \n",
       "\n",
       "[19582 rows x 18 columns]"
      ]
     },
     "execution_count": 52,
     "metadata": {},
     "output_type": "execute_result"
    }
   ],
   "source": [
    "df"
   ]
  },
  {
   "cell_type": "code",
   "execution_count": 48,
   "id": "d967ec57",
   "metadata": {},
   "outputs": [],
   "source": [
    "# df.to_csv('./outdata/Hoorn_preliminary.csv')"
   ]
  },
  {
   "cell_type": "markdown",
   "id": "f08fa09a",
   "metadata": {},
   "source": [
    "### 合并时间"
   ]
  },
  {
   "cell_type": "code",
   "execution_count": 49,
   "id": "e8bd65fa",
   "metadata": {
    "scrolled": true
   },
   "outputs": [],
   "source": [
    "# df=df.rename(columns={'date_taken':'datetime'})"
   ]
  },
  {
   "cell_type": "code",
   "execution_count": 50,
   "id": "dca83026",
   "metadata": {},
   "outputs": [],
   "source": [
    "df['datetime']=pd.to_datetime(df['datetime'])"
   ]
  },
  {
   "cell_type": "code",
   "execution_count": 51,
   "id": "5703e0aa",
   "metadata": {},
   "outputs": [
    {
     "data": {
      "text/plain": [
       "0       2021-02-03 14:05:54\n",
       "1       2021-02-03 13:54:23\n",
       "2       2021-02-03 14:06:30\n",
       "3       2021-02-03 14:02:00\n",
       "4       2021-02-03 14:01:17\n",
       "                ...        \n",
       "19577   2021-02-05 14:01:29\n",
       "19578   2021-02-05 14:15:59\n",
       "19579   2021-03-05 12:17:58\n",
       "19580   2021-03-18 14:01:54\n",
       "19581   2021-01-09 12:09:42\n",
       "Name: datetime, Length: 19582, dtype: datetime64[ns]"
      ]
     },
     "execution_count": 51,
     "metadata": {},
     "output_type": "execute_result"
    }
   ],
   "source": [
    "df['datetime']"
   ]
  },
  {
   "cell_type": "code",
   "execution_count": 52,
   "id": "ce2ed288",
   "metadata": {},
   "outputs": [
    {
     "data": {
      "text/html": [
       "<div>\n",
       "<style scoped>\n",
       "    .dataframe tbody tr th:only-of-type {\n",
       "        vertical-align: middle;\n",
       "    }\n",
       "\n",
       "    .dataframe tbody tr th {\n",
       "        vertical-align: top;\n",
       "    }\n",
       "\n",
       "    .dataframe thead th {\n",
       "        text-align: right;\n",
       "    }\n",
       "</style>\n",
       "<table border=\"1\" class=\"dataframe\">\n",
       "  <thead>\n",
       "    <tr style=\"text-align: right;\">\n",
       "      <th></th>\n",
       "      <th>total_litter</th>\n",
       "      <th>SMOKING</th>\n",
       "      <th>FOOD</th>\n",
       "      <th>COFFEE</th>\n",
       "      <th>ALCOHOL</th>\n",
       "      <th>SOFTDRINKS</th>\n",
       "      <th>SANITARY</th>\n",
       "      <th>COASTAL</th>\n",
       "      <th>BRANDS</th>\n",
       "      <th>OTHER</th>\n",
       "    </tr>\n",
       "    <tr>\n",
       "      <th>datetime</th>\n",
       "      <th></th>\n",
       "      <th></th>\n",
       "      <th></th>\n",
       "      <th></th>\n",
       "      <th></th>\n",
       "      <th></th>\n",
       "      <th></th>\n",
       "      <th></th>\n",
       "      <th></th>\n",
       "      <th></th>\n",
       "    </tr>\n",
       "  </thead>\n",
       "  <tbody>\n",
       "    <tr>\n",
       "      <th>2021-01-06</th>\n",
       "      <td>3.0</td>\n",
       "      <td>0.0</td>\n",
       "      <td>2.0</td>\n",
       "      <td>0.0</td>\n",
       "      <td>0.0</td>\n",
       "      <td>1.0</td>\n",
       "      <td>0.0</td>\n",
       "      <td>0.0</td>\n",
       "      <td>0.0</td>\n",
       "      <td>0.0</td>\n",
       "    </tr>\n",
       "    <tr>\n",
       "      <th>2021-01-07</th>\n",
       "      <td>2.0</td>\n",
       "      <td>0.0</td>\n",
       "      <td>0.0</td>\n",
       "      <td>0.0</td>\n",
       "      <td>0.0</td>\n",
       "      <td>1.0</td>\n",
       "      <td>0.0</td>\n",
       "      <td>0.0</td>\n",
       "      <td>1.0</td>\n",
       "      <td>0.0</td>\n",
       "    </tr>\n",
       "    <tr>\n",
       "      <th>2021-01-08</th>\n",
       "      <td>114.0</td>\n",
       "      <td>2.0</td>\n",
       "      <td>13.0</td>\n",
       "      <td>6.0</td>\n",
       "      <td>3.0</td>\n",
       "      <td>34.0</td>\n",
       "      <td>9.0</td>\n",
       "      <td>0.0</td>\n",
       "      <td>25.0</td>\n",
       "      <td>32.0</td>\n",
       "    </tr>\n",
       "    <tr>\n",
       "      <th>2021-01-09</th>\n",
       "      <td>58.0</td>\n",
       "      <td>3.0</td>\n",
       "      <td>11.0</td>\n",
       "      <td>1.0</td>\n",
       "      <td>0.0</td>\n",
       "      <td>12.0</td>\n",
       "      <td>3.0</td>\n",
       "      <td>0.0</td>\n",
       "      <td>11.0</td>\n",
       "      <td>21.0</td>\n",
       "    </tr>\n",
       "    <tr>\n",
       "      <th>2021-01-10</th>\n",
       "      <td>49.0</td>\n",
       "      <td>2.0</td>\n",
       "      <td>2.0</td>\n",
       "      <td>0.0</td>\n",
       "      <td>8.0</td>\n",
       "      <td>20.0</td>\n",
       "      <td>0.0</td>\n",
       "      <td>0.0</td>\n",
       "      <td>18.0</td>\n",
       "      <td>9.0</td>\n",
       "    </tr>\n",
       "    <tr>\n",
       "      <th>...</th>\n",
       "      <td>...</td>\n",
       "      <td>...</td>\n",
       "      <td>...</td>\n",
       "      <td>...</td>\n",
       "      <td>...</td>\n",
       "      <td>...</td>\n",
       "      <td>...</td>\n",
       "      <td>...</td>\n",
       "      <td>...</td>\n",
       "      <td>...</td>\n",
       "    </tr>\n",
       "    <tr>\n",
       "      <th>2021-12-17</th>\n",
       "      <td>140.0</td>\n",
       "      <td>31.0</td>\n",
       "      <td>14.0</td>\n",
       "      <td>5.0</td>\n",
       "      <td>1.0</td>\n",
       "      <td>36.0</td>\n",
       "      <td>8.0</td>\n",
       "      <td>0.0</td>\n",
       "      <td>22.0</td>\n",
       "      <td>45.0</td>\n",
       "    </tr>\n",
       "    <tr>\n",
       "      <th>2021-12-18</th>\n",
       "      <td>18.0</td>\n",
       "      <td>0.0</td>\n",
       "      <td>6.0</td>\n",
       "      <td>0.0</td>\n",
       "      <td>3.0</td>\n",
       "      <td>6.0</td>\n",
       "      <td>1.0</td>\n",
       "      <td>0.0</td>\n",
       "      <td>6.0</td>\n",
       "      <td>2.0</td>\n",
       "    </tr>\n",
       "    <tr>\n",
       "      <th>2021-12-19</th>\n",
       "      <td>92.0</td>\n",
       "      <td>19.0</td>\n",
       "      <td>10.0</td>\n",
       "      <td>1.0</td>\n",
       "      <td>5.0</td>\n",
       "      <td>28.0</td>\n",
       "      <td>7.0</td>\n",
       "      <td>0.0</td>\n",
       "      <td>28.0</td>\n",
       "      <td>22.0</td>\n",
       "    </tr>\n",
       "    <tr>\n",
       "      <th>2021-12-20</th>\n",
       "      <td>232.0</td>\n",
       "      <td>5.0</td>\n",
       "      <td>22.0</td>\n",
       "      <td>7.0</td>\n",
       "      <td>7.0</td>\n",
       "      <td>60.0</td>\n",
       "      <td>17.0</td>\n",
       "      <td>0.0</td>\n",
       "      <td>50.0</td>\n",
       "      <td>114.0</td>\n",
       "    </tr>\n",
       "    <tr>\n",
       "      <th>2021-12-21</th>\n",
       "      <td>14.0</td>\n",
       "      <td>1.0</td>\n",
       "      <td>4.0</td>\n",
       "      <td>0.0</td>\n",
       "      <td>0.0</td>\n",
       "      <td>7.0</td>\n",
       "      <td>0.0</td>\n",
       "      <td>0.0</td>\n",
       "      <td>5.0</td>\n",
       "      <td>2.0</td>\n",
       "    </tr>\n",
       "  </tbody>\n",
       "</table>\n",
       "<p>226 rows × 10 columns</p>\n",
       "</div>"
      ],
      "text/plain": [
       "            total_litter  SMOKING  FOOD  COFFEE  ALCOHOL  SOFTDRINKS  \\\n",
       "datetime                                                               \n",
       "2021-01-06           3.0      0.0   2.0     0.0      0.0         1.0   \n",
       "2021-01-07           2.0      0.0   0.0     0.0      0.0         1.0   \n",
       "2021-01-08         114.0      2.0  13.0     6.0      3.0        34.0   \n",
       "2021-01-09          58.0      3.0  11.0     1.0      0.0        12.0   \n",
       "2021-01-10          49.0      2.0   2.0     0.0      8.0        20.0   \n",
       "...                  ...      ...   ...     ...      ...         ...   \n",
       "2021-12-17         140.0     31.0  14.0     5.0      1.0        36.0   \n",
       "2021-12-18          18.0      0.0   6.0     0.0      3.0         6.0   \n",
       "2021-12-19          92.0     19.0  10.0     1.0      5.0        28.0   \n",
       "2021-12-20         232.0      5.0  22.0     7.0      7.0        60.0   \n",
       "2021-12-21          14.0      1.0   4.0     0.0      0.0         7.0   \n",
       "\n",
       "            SANITARY  COASTAL  BRANDS  OTHER  \n",
       "datetime                                      \n",
       "2021-01-06       0.0      0.0     0.0    0.0  \n",
       "2021-01-07       0.0      0.0     1.0    0.0  \n",
       "2021-01-08       9.0      0.0    25.0   32.0  \n",
       "2021-01-09       3.0      0.0    11.0   21.0  \n",
       "2021-01-10       0.0      0.0    18.0    9.0  \n",
       "...              ...      ...     ...    ...  \n",
       "2021-12-17       8.0      0.0    22.0   45.0  \n",
       "2021-12-18       1.0      0.0     6.0    2.0  \n",
       "2021-12-19       7.0      0.0    28.0   22.0  \n",
       "2021-12-20      17.0      0.0    50.0  114.0  \n",
       "2021-12-21       0.0      0.0     5.0    2.0  \n",
       "\n",
       "[226 rows x 10 columns]"
      ]
     },
     "execution_count": 52,
     "metadata": {},
     "output_type": "execute_result"
    }
   ],
   "source": [
    "Date=df['datetime'].dt.date\n",
    "df_dateconcat=df.loc[:,'total_litter':'OTHER'].groupby(Date).sum() # 合并同日期的垃圾数量\n",
    "df_dateconcat"
   ]
  },
  {
   "cell_type": "code",
   "execution_count": 49,
   "id": "968bd319",
   "metadata": {},
   "outputs": [
    {
     "data": {
      "text/plain": [
       "total_litter    350.0\n",
       "SMOKING          86.0\n",
       "FOOD             43.0\n",
       "COFFEE           15.0\n",
       "ALCOHOL          34.0\n",
       "SOFTDRINKS       82.0\n",
       "SANITARY         25.0\n",
       "COASTAL          38.0\n",
       "BRANDS           68.0\n",
       "OTHER           190.0\n",
       "dtype: float64"
      ]
     },
     "execution_count": 49,
     "metadata": {},
     "output_type": "execute_result"
    }
   ],
   "source": [
    "df_dateconcat.max()"
   ]
  },
  {
   "cell_type": "markdown",
   "id": "b75f6c73",
   "metadata": {},
   "source": [
    "### 对缺失的日期补0（舍弃）"
   ]
  },
  {
   "cell_type": "code",
   "execution_count": 53,
   "id": "03b1e789",
   "metadata": {},
   "outputs": [],
   "source": [
    "start = datetime.datetime(2022, 1, 1)\n",
    "end = datetime.datetime(2022, 12, 31)\n",
    "date_range = pd.date_range(start, end)"
   ]
  },
  {
   "cell_type": "code",
   "execution_count": 54,
   "id": "ce6ea0cb",
   "metadata": {},
   "outputs": [
    {
     "data": {
      "text/plain": [
       "DatetimeIndex(['2022-01-01', '2022-01-02', '2022-01-03', '2022-01-04',\n",
       "               '2022-01-05', '2022-01-06', '2022-01-07', '2022-01-08',\n",
       "               '2022-01-09', '2022-01-10',\n",
       "               ...\n",
       "               '2022-12-22', '2022-12-23', '2022-12-24', '2022-12-25',\n",
       "               '2022-12-26', '2022-12-27', '2022-12-28', '2022-12-29',\n",
       "               '2022-12-30', '2022-12-31'],\n",
       "              dtype='datetime64[ns]', length=365, freq='D')"
      ]
     },
     "execution_count": 54,
     "metadata": {},
     "output_type": "execute_result"
    }
   ],
   "source": [
    "date_range"
   ]
  },
  {
   "cell_type": "code",
   "execution_count": 55,
   "id": "cb2750ae",
   "metadata": {},
   "outputs": [],
   "source": [
    "# 筛选缺失的日期\n",
    "df_date=pd.to_datetime(df_dateconcat.index) \n",
    "dateflag=date_range.isin(df_date) "
   ]
  },
  {
   "cell_type": "code",
   "execution_count": 56,
   "id": "7e67fed7",
   "metadata": {},
   "outputs": [],
   "source": [
    "# date_all=np.concatenate((pd.Series(df_dateconcat.index).values,pd.Series(date_range[~dateflag].date).values),axis=0)# 合并两个时间\n",
    "# date_all.size\n",
    "# date_all与date_range相同，弃用data_all"
   ]
  },
  {
   "cell_type": "code",
   "execution_count": 57,
   "id": "1ec6508a",
   "metadata": {},
   "outputs": [
    {
     "data": {
      "text/plain": [
       "Counter({True: 249, False: 116})"
      ]
     },
     "execution_count": 57,
     "metadata": {},
     "output_type": "execute_result"
    }
   ],
   "source": [
    "Counter(dateflag)"
   ]
  },
  {
   "cell_type": "code",
   "execution_count": 58,
   "id": "572e2f20",
   "metadata": {},
   "outputs": [],
   "source": [
    "# 缺失的数据\n",
    "dfdif=pd.DataFrame(np.zeros(116*10).reshape(116,10),\n",
    "                   index=[pd.Series(date_range[~dateflag].date).values],\n",
    "                   columns=['total_litter','SMOKING','FOOD','COFFEE','ALCOHOL','SOFTDRINKS','SANITARY','BRANDS','MATERIAL','OTHER'])"
   ]
  },
  {
   "cell_type": "code",
   "execution_count": 59,
   "id": "1c9606b2",
   "metadata": {},
   "outputs": [],
   "source": [
    "df_dateall=pd.concat([df_dateconcat,dfdif])# 合并"
   ]
  },
  {
   "cell_type": "code",
   "execution_count": 60,
   "id": "b551569e",
   "metadata": {},
   "outputs": [],
   "source": [
    "df_dateall=df_dateall.loc[:,'total_litter':'OTHER'].groupby(date_range).sum()"
   ]
  },
  {
   "cell_type": "code",
   "execution_count": 138,
   "id": "ea02918d",
   "metadata": {},
   "outputs": [],
   "source": [
    "# df_dateall['datetime']=df_dateall.index"
   ]
  },
  {
   "cell_type": "code",
   "execution_count": 146,
   "id": "9b7de282",
   "metadata": {},
   "outputs": [
    {
     "data": {
      "text/html": [
       "<div>\n",
       "<style scoped>\n",
       "    .dataframe tbody tr th:only-of-type {\n",
       "        vertical-align: middle;\n",
       "    }\n",
       "\n",
       "    .dataframe tbody tr th {\n",
       "        vertical-align: top;\n",
       "    }\n",
       "\n",
       "    .dataframe thead th {\n",
       "        text-align: right;\n",
       "    }\n",
       "</style>\n",
       "<table border=\"1\" class=\"dataframe\">\n",
       "  <thead>\n",
       "    <tr style=\"text-align: right;\">\n",
       "      <th></th>\n",
       "      <th>total_litter</th>\n",
       "      <th>SMOKING</th>\n",
       "      <th>FOOD</th>\n",
       "      <th>COFFEE</th>\n",
       "      <th>ALCOHOL</th>\n",
       "      <th>SOFTDRINKS</th>\n",
       "      <th>SANITARY</th>\n",
       "      <th>BRANDS</th>\n",
       "      <th>MATERIAL</th>\n",
       "      <th>OTHER</th>\n",
       "      <th>datetime</th>\n",
       "    </tr>\n",
       "  </thead>\n",
       "  <tbody>\n",
       "    <tr>\n",
       "      <th>2022-01-01</th>\n",
       "      <td>57.0</td>\n",
       "      <td>1.0</td>\n",
       "      <td>0.0</td>\n",
       "      <td>2.0</td>\n",
       "      <td>12.0</td>\n",
       "      <td>32.0</td>\n",
       "      <td>4.0</td>\n",
       "      <td>28.0</td>\n",
       "      <td>0.0</td>\n",
       "      <td>6.0</td>\n",
       "      <td>2022-01-01</td>\n",
       "    </tr>\n",
       "    <tr>\n",
       "      <th>2022-01-02</th>\n",
       "      <td>48.0</td>\n",
       "      <td>1.0</td>\n",
       "      <td>2.0</td>\n",
       "      <td>0.0</td>\n",
       "      <td>7.0</td>\n",
       "      <td>17.0</td>\n",
       "      <td>10.0</td>\n",
       "      <td>20.0</td>\n",
       "      <td>0.0</td>\n",
       "      <td>11.0</td>\n",
       "      <td>2022-01-02</td>\n",
       "    </tr>\n",
       "    <tr>\n",
       "      <th>2022-01-03</th>\n",
       "      <td>2.0</td>\n",
       "      <td>0.0</td>\n",
       "      <td>0.0</td>\n",
       "      <td>0.0</td>\n",
       "      <td>0.0</td>\n",
       "      <td>2.0</td>\n",
       "      <td>0.0</td>\n",
       "      <td>2.0</td>\n",
       "      <td>0.0</td>\n",
       "      <td>0.0</td>\n",
       "      <td>2022-01-03</td>\n",
       "    </tr>\n",
       "    <tr>\n",
       "      <th>2022-01-04</th>\n",
       "      <td>41.0</td>\n",
       "      <td>0.0</td>\n",
       "      <td>0.0</td>\n",
       "      <td>0.0</td>\n",
       "      <td>1.0</td>\n",
       "      <td>36.0</td>\n",
       "      <td>3.0</td>\n",
       "      <td>22.0</td>\n",
       "      <td>0.0</td>\n",
       "      <td>1.0</td>\n",
       "      <td>2022-01-04</td>\n",
       "    </tr>\n",
       "    <tr>\n",
       "      <th>2022-01-05</th>\n",
       "      <td>2.0</td>\n",
       "      <td>0.0</td>\n",
       "      <td>0.0</td>\n",
       "      <td>0.0</td>\n",
       "      <td>0.0</td>\n",
       "      <td>0.0</td>\n",
       "      <td>0.0</td>\n",
       "      <td>0.0</td>\n",
       "      <td>0.0</td>\n",
       "      <td>2.0</td>\n",
       "      <td>2022-01-05</td>\n",
       "    </tr>\n",
       "    <tr>\n",
       "      <th>...</th>\n",
       "      <td>...</td>\n",
       "      <td>...</td>\n",
       "      <td>...</td>\n",
       "      <td>...</td>\n",
       "      <td>...</td>\n",
       "      <td>...</td>\n",
       "      <td>...</td>\n",
       "      <td>...</td>\n",
       "      <td>...</td>\n",
       "      <td>...</td>\n",
       "      <td>...</td>\n",
       "    </tr>\n",
       "    <tr>\n",
       "      <th>2022-12-27</th>\n",
       "      <td>0.0</td>\n",
       "      <td>0.0</td>\n",
       "      <td>0.0</td>\n",
       "      <td>0.0</td>\n",
       "      <td>0.0</td>\n",
       "      <td>0.0</td>\n",
       "      <td>0.0</td>\n",
       "      <td>0.0</td>\n",
       "      <td>0.0</td>\n",
       "      <td>0.0</td>\n",
       "      <td>2022-12-27</td>\n",
       "    </tr>\n",
       "    <tr>\n",
       "      <th>2022-12-28</th>\n",
       "      <td>0.0</td>\n",
       "      <td>0.0</td>\n",
       "      <td>0.0</td>\n",
       "      <td>0.0</td>\n",
       "      <td>0.0</td>\n",
       "      <td>0.0</td>\n",
       "      <td>0.0</td>\n",
       "      <td>0.0</td>\n",
       "      <td>0.0</td>\n",
       "      <td>0.0</td>\n",
       "      <td>2022-12-28</td>\n",
       "    </tr>\n",
       "    <tr>\n",
       "      <th>2022-12-29</th>\n",
       "      <td>0.0</td>\n",
       "      <td>0.0</td>\n",
       "      <td>0.0</td>\n",
       "      <td>0.0</td>\n",
       "      <td>0.0</td>\n",
       "      <td>0.0</td>\n",
       "      <td>0.0</td>\n",
       "      <td>0.0</td>\n",
       "      <td>0.0</td>\n",
       "      <td>0.0</td>\n",
       "      <td>2022-12-29</td>\n",
       "    </tr>\n",
       "    <tr>\n",
       "      <th>2022-12-30</th>\n",
       "      <td>0.0</td>\n",
       "      <td>0.0</td>\n",
       "      <td>0.0</td>\n",
       "      <td>0.0</td>\n",
       "      <td>0.0</td>\n",
       "      <td>0.0</td>\n",
       "      <td>0.0</td>\n",
       "      <td>0.0</td>\n",
       "      <td>0.0</td>\n",
       "      <td>0.0</td>\n",
       "      <td>2022-12-30</td>\n",
       "    </tr>\n",
       "    <tr>\n",
       "      <th>2022-12-31</th>\n",
       "      <td>0.0</td>\n",
       "      <td>0.0</td>\n",
       "      <td>0.0</td>\n",
       "      <td>0.0</td>\n",
       "      <td>0.0</td>\n",
       "      <td>0.0</td>\n",
       "      <td>0.0</td>\n",
       "      <td>0.0</td>\n",
       "      <td>0.0</td>\n",
       "      <td>0.0</td>\n",
       "      <td>2022-12-31</td>\n",
       "    </tr>\n",
       "  </tbody>\n",
       "</table>\n",
       "<p>365 rows × 11 columns</p>\n",
       "</div>"
      ],
      "text/plain": [
       "            total_litter  SMOKING  FOOD  COFFEE  ALCOHOL  SOFTDRINKS  \\\n",
       "2022-01-01          57.0      1.0   0.0     2.0     12.0        32.0   \n",
       "2022-01-02          48.0      1.0   2.0     0.0      7.0        17.0   \n",
       "2022-01-03           2.0      0.0   0.0     0.0      0.0         2.0   \n",
       "2022-01-04          41.0      0.0   0.0     0.0      1.0        36.0   \n",
       "2022-01-05           2.0      0.0   0.0     0.0      0.0         0.0   \n",
       "...                  ...      ...   ...     ...      ...         ...   \n",
       "2022-12-27           0.0      0.0   0.0     0.0      0.0         0.0   \n",
       "2022-12-28           0.0      0.0   0.0     0.0      0.0         0.0   \n",
       "2022-12-29           0.0      0.0   0.0     0.0      0.0         0.0   \n",
       "2022-12-30           0.0      0.0   0.0     0.0      0.0         0.0   \n",
       "2022-12-31           0.0      0.0   0.0     0.0      0.0         0.0   \n",
       "\n",
       "            SANITARY  BRANDS  MATERIAL  OTHER   datetime  \n",
       "2022-01-01       4.0    28.0       0.0    6.0 2022-01-01  \n",
       "2022-01-02      10.0    20.0       0.0   11.0 2022-01-02  \n",
       "2022-01-03       0.0     2.0       0.0    0.0 2022-01-03  \n",
       "2022-01-04       3.0    22.0       0.0    1.0 2022-01-04  \n",
       "2022-01-05       0.0     0.0       0.0    2.0 2022-01-05  \n",
       "...              ...     ...       ...    ...        ...  \n",
       "2022-12-27       0.0     0.0       0.0    0.0 2022-12-27  \n",
       "2022-12-28       0.0     0.0       0.0    0.0 2022-12-28  \n",
       "2022-12-29       0.0     0.0       0.0    0.0 2022-12-29  \n",
       "2022-12-30       0.0     0.0       0.0    0.0 2022-12-30  \n",
       "2022-12-31       0.0     0.0       0.0    0.0 2022-12-31  \n",
       "\n",
       "[365 rows x 11 columns]"
      ]
     },
     "execution_count": 146,
     "metadata": {},
     "output_type": "execute_result"
    }
   ],
   "source": [
    "df_dateall"
   ]
  },
  {
   "cell_type": "code",
   "execution_count": 145,
   "id": "006ff346",
   "metadata": {},
   "outputs": [],
   "source": [
    "# df_dateall.to_csv('./outdata/Krommenie_alldaylitter.csv')"
   ]
  },
  {
   "cell_type": "code",
   "execution_count": 62,
   "id": "bb3c8fdb",
   "metadata": {},
   "outputs": [
    {
     "data": {
      "text/plain": [
       "total_litter    466.0\n",
       "SMOKING         290.0\n",
       "FOOD            102.0\n",
       "COFFEE           12.0\n",
       "ALCOHOL          67.0\n",
       "SOFTDRINKS       86.0\n",
       "SANITARY         34.0\n",
       "BRANDS          156.0\n",
       "MATERIAL         19.0\n",
       "OTHER           193.0\n",
       "dtype: float64"
      ]
     },
     "execution_count": 62,
     "metadata": {},
     "output_type": "execute_result"
    }
   ],
   "source": [
    "df_dateall.max()"
   ]
  },
  {
   "cell_type": "markdown",
   "id": "02ade0e0",
   "metadata": {},
   "source": [
    "## 天气时间数据处理"
   ]
  },
  {
   "cell_type": "code",
   "execution_count": 53,
   "id": "29b8f21c",
   "metadata": {},
   "outputs": [],
   "source": [
    "weather = pd.read_csv('./data/Hoorn/Hoorn_Weather.csv')"
   ]
  },
  {
   "cell_type": "code",
   "execution_count": 54,
   "id": "4f22f2bc",
   "metadata": {},
   "outputs": [],
   "source": [
    "weather['date']=pd.to_datetime(weather['date'])"
   ]
  },
  {
   "cell_type": "code",
   "execution_count": 55,
   "id": "9298fa1c",
   "metadata": {},
   "outputs": [
    {
     "data": {
      "text/plain": [
       "Sunny      212\n",
       "Cloudy     112\n",
       "Showers     98\n",
       "Foggy       30\n",
       "Snow         4\n",
       "Name: weather, dtype: int64"
      ]
     },
     "execution_count": 55,
     "metadata": {},
     "output_type": "execute_result"
    }
   ],
   "source": [
    "weather['weather'].value_counts()"
   ]
  },
  {
   "cell_type": "code",
   "execution_count": 56,
   "id": "1f5b8d5f",
   "metadata": {},
   "outputs": [],
   "source": [
    "weather['weather'][weather['weather']=='Snow']='Foggy' # 最多4类的天气状况"
   ]
  },
  {
   "cell_type": "code",
   "execution_count": 57,
   "id": "4198435d",
   "metadata": {},
   "outputs": [
    {
     "data": {
      "text/plain": [
       "Sunny      212\n",
       "Cloudy     112\n",
       "Showers     98\n",
       "Foggy       34\n",
       "Name: weather, dtype: int64"
      ]
     },
     "execution_count": 57,
     "metadata": {},
     "output_type": "execute_result"
    }
   ],
   "source": [
    "weather['weather'].value_counts()"
   ]
  },
  {
   "cell_type": "code",
   "execution_count": 58,
   "id": "ef4e2427",
   "metadata": {},
   "outputs": [],
   "source": [
    "wtcdt=pd.read_csv('./data/Hoorn/Hoorn.csv')"
   ]
  },
  {
   "cell_type": "code",
   "execution_count": 59,
   "id": "dfcbfaad",
   "metadata": {},
   "outputs": [],
   "source": [
    "wtcdt['date']=pd.to_datetime(wtcdt['date'])"
   ]
  },
  {
   "cell_type": "code",
   "execution_count": 60,
   "id": "6f31f63f",
   "metadata": {},
   "outputs": [],
   "source": [
    "wtcdt = pd.DataFrame(wtcdt).set_index('date') # 将时间作为索引"
   ]
  },
  {
   "cell_type": "code",
   "execution_count": 61,
   "id": "eee9c51f",
   "metadata": {},
   "outputs": [
    {
     "data": {
      "text/html": [
       "<div>\n",
       "<style scoped>\n",
       "    .dataframe tbody tr th:only-of-type {\n",
       "        vertical-align: middle;\n",
       "    }\n",
       "\n",
       "    .dataframe tbody tr th {\n",
       "        vertical-align: top;\n",
       "    }\n",
       "\n",
       "    .dataframe thead th {\n",
       "        text-align: right;\n",
       "    }\n",
       "</style>\n",
       "<table border=\"1\" class=\"dataframe\">\n",
       "  <thead>\n",
       "    <tr style=\"text-align: right;\">\n",
       "      <th></th>\n",
       "      <th>Max Temperature</th>\n",
       "      <th>Min Temperature</th>\n",
       "      <th>Max Dew Point</th>\n",
       "      <th>Min Dew Point</th>\n",
       "      <th>Max Humidity</th>\n",
       "      <th>Min Humidity</th>\n",
       "      <th>Max Wind Speed</th>\n",
       "      <th>Min Wind Speed</th>\n",
       "    </tr>\n",
       "    <tr>\n",
       "      <th>date</th>\n",
       "      <th></th>\n",
       "      <th></th>\n",
       "      <th></th>\n",
       "      <th></th>\n",
       "      <th></th>\n",
       "      <th></th>\n",
       "      <th></th>\n",
       "      <th></th>\n",
       "    </tr>\n",
       "  </thead>\n",
       "  <tbody>\n",
       "    <tr>\n",
       "      <th>2021-01-01</th>\n",
       "      <td>43</td>\n",
       "      <td>30</td>\n",
       "      <td>39</td>\n",
       "      <td>28</td>\n",
       "      <td>100</td>\n",
       "      <td>87</td>\n",
       "      <td>8</td>\n",
       "      <td>1</td>\n",
       "    </tr>\n",
       "    <tr>\n",
       "      <th>2021-01-02</th>\n",
       "      <td>39</td>\n",
       "      <td>34</td>\n",
       "      <td>39</td>\n",
       "      <td>32</td>\n",
       "      <td>100</td>\n",
       "      <td>93</td>\n",
       "      <td>8</td>\n",
       "      <td>1</td>\n",
       "    </tr>\n",
       "    <tr>\n",
       "      <th>2021-01-03</th>\n",
       "      <td>39</td>\n",
       "      <td>37</td>\n",
       "      <td>37</td>\n",
       "      <td>32</td>\n",
       "      <td>100</td>\n",
       "      <td>75</td>\n",
       "      <td>16</td>\n",
       "      <td>5</td>\n",
       "    </tr>\n",
       "    <tr>\n",
       "      <th>2021-01-04</th>\n",
       "      <td>39</td>\n",
       "      <td>37</td>\n",
       "      <td>36</td>\n",
       "      <td>30</td>\n",
       "      <td>87</td>\n",
       "      <td>75</td>\n",
       "      <td>22</td>\n",
       "      <td>13</td>\n",
       "    </tr>\n",
       "    <tr>\n",
       "      <th>2021-01-05</th>\n",
       "      <td>39</td>\n",
       "      <td>36</td>\n",
       "      <td>36</td>\n",
       "      <td>32</td>\n",
       "      <td>93</td>\n",
       "      <td>81</td>\n",
       "      <td>16</td>\n",
       "      <td>10</td>\n",
       "    </tr>\n",
       "    <tr>\n",
       "      <th>...</th>\n",
       "      <td>...</td>\n",
       "      <td>...</td>\n",
       "      <td>...</td>\n",
       "      <td>...</td>\n",
       "      <td>...</td>\n",
       "      <td>...</td>\n",
       "      <td>...</td>\n",
       "      <td>...</td>\n",
       "    </tr>\n",
       "    <tr>\n",
       "      <th>2021-12-27</th>\n",
       "      <td>48</td>\n",
       "      <td>34</td>\n",
       "      <td>46</td>\n",
       "      <td>34</td>\n",
       "      <td>100</td>\n",
       "      <td>93</td>\n",
       "      <td>14</td>\n",
       "      <td>6</td>\n",
       "    </tr>\n",
       "    <tr>\n",
       "      <th>2021-12-28</th>\n",
       "      <td>50</td>\n",
       "      <td>46</td>\n",
       "      <td>48</td>\n",
       "      <td>43</td>\n",
       "      <td>100</td>\n",
       "      <td>76</td>\n",
       "      <td>23</td>\n",
       "      <td>9</td>\n",
       "    </tr>\n",
       "    <tr>\n",
       "      <th>2021-12-29</th>\n",
       "      <td>55</td>\n",
       "      <td>46</td>\n",
       "      <td>54</td>\n",
       "      <td>45</td>\n",
       "      <td>100</td>\n",
       "      <td>82</td>\n",
       "      <td>22</td>\n",
       "      <td>6</td>\n",
       "    </tr>\n",
       "    <tr>\n",
       "      <th>2021-12-30</th>\n",
       "      <td>57</td>\n",
       "      <td>48</td>\n",
       "      <td>54</td>\n",
       "      <td>46</td>\n",
       "      <td>100</td>\n",
       "      <td>77</td>\n",
       "      <td>31</td>\n",
       "      <td>10</td>\n",
       "    </tr>\n",
       "    <tr>\n",
       "      <th>2021-12-31</th>\n",
       "      <td>57</td>\n",
       "      <td>52</td>\n",
       "      <td>52</td>\n",
       "      <td>50</td>\n",
       "      <td>94</td>\n",
       "      <td>77</td>\n",
       "      <td>29</td>\n",
       "      <td>16</td>\n",
       "    </tr>\n",
       "  </tbody>\n",
       "</table>\n",
       "<p>365 rows × 8 columns</p>\n",
       "</div>"
      ],
      "text/plain": [
       "            Max Temperature  Min Temperature  Max Dew Point  Min Dew Point  \\\n",
       "date                                                                         \n",
       "2021-01-01               43               30             39             28   \n",
       "2021-01-02               39               34             39             32   \n",
       "2021-01-03               39               37             37             32   \n",
       "2021-01-04               39               37             36             30   \n",
       "2021-01-05               39               36             36             32   \n",
       "...                     ...              ...            ...            ...   \n",
       "2021-12-27               48               34             46             34   \n",
       "2021-12-28               50               46             48             43   \n",
       "2021-12-29               55               46             54             45   \n",
       "2021-12-30               57               48             54             46   \n",
       "2021-12-31               57               52             52             50   \n",
       "\n",
       "            Max Humidity  Min Humidity  Max Wind Speed  Min Wind Speed  \n",
       "date                                                                    \n",
       "2021-01-01           100            87               8               1  \n",
       "2021-01-02           100            93               8               1  \n",
       "2021-01-03           100            75              16               5  \n",
       "2021-01-04            87            75              22              13  \n",
       "2021-01-05            93            81              16              10  \n",
       "...                  ...           ...             ...             ...  \n",
       "2021-12-27           100            93              14               6  \n",
       "2021-12-28           100            76              23               9  \n",
       "2021-12-29           100            82              22               6  \n",
       "2021-12-30           100            77              31              10  \n",
       "2021-12-31            94            77              29              16  \n",
       "\n",
       "[365 rows x 8 columns]"
      ]
     },
     "execution_count": 61,
     "metadata": {},
     "output_type": "execute_result"
    }
   ],
   "source": [
    "wtcdt"
   ]
  },
  {
   "cell_type": "markdown",
   "id": "b6e976b7",
   "metadata": {},
   "source": [
    "### 将天气状况加入补全后数据（舍弃）"
   ]
  },
  {
   "cell_type": "code",
   "execution_count": null,
   "id": "5dbbafc9",
   "metadata": {},
   "outputs": [],
   "source": [
    "M_test=pd.concat([df_dateall,wtcdt],axis=1)# 横向合并"
   ]
  },
  {
   "cell_type": "code",
   "execution_count": 71,
   "id": "a9d10726",
   "metadata": {
    "scrolled": true
   },
   "outputs": [
    {
     "data": {
      "text/html": [
       "<div>\n",
       "<style scoped>\n",
       "    .dataframe tbody tr th:only-of-type {\n",
       "        vertical-align: middle;\n",
       "    }\n",
       "\n",
       "    .dataframe tbody tr th {\n",
       "        vertical-align: top;\n",
       "    }\n",
       "\n",
       "    .dataframe thead th {\n",
       "        text-align: right;\n",
       "    }\n",
       "</style>\n",
       "<table border=\"1\" class=\"dataframe\">\n",
       "  <thead>\n",
       "    <tr style=\"text-align: right;\">\n",
       "      <th></th>\n",
       "      <th>total_litter</th>\n",
       "      <th>SMOKING</th>\n",
       "      <th>FOOD</th>\n",
       "      <th>COFFEE</th>\n",
       "      <th>ALCOHOL</th>\n",
       "      <th>SOFTDRINKS</th>\n",
       "      <th>SANITARY</th>\n",
       "      <th>BRANDS</th>\n",
       "      <th>MATERIAL</th>\n",
       "      <th>OTHER</th>\n",
       "      <th>Max Temperature</th>\n",
       "      <th>Min Temperature</th>\n",
       "      <th>Max Dew Point</th>\n",
       "      <th>Min Dew Point</th>\n",
       "      <th>Max Humidity</th>\n",
       "      <th>Min Humidity</th>\n",
       "      <th>Max Wind Speed</th>\n",
       "      <th>Min Wind Speed</th>\n",
       "    </tr>\n",
       "  </thead>\n",
       "  <tbody>\n",
       "    <tr>\n",
       "      <th>2022-01-01</th>\n",
       "      <td>57.0</td>\n",
       "      <td>1.0</td>\n",
       "      <td>0.0</td>\n",
       "      <td>2.0</td>\n",
       "      <td>12.0</td>\n",
       "      <td>32.0</td>\n",
       "      <td>4.0</td>\n",
       "      <td>28.0</td>\n",
       "      <td>0.0</td>\n",
       "      <td>6.0</td>\n",
       "      <td>54</td>\n",
       "      <td>52</td>\n",
       "      <td>50</td>\n",
       "      <td>50</td>\n",
       "      <td>88</td>\n",
       "      <td>88</td>\n",
       "      <td>12</td>\n",
       "      <td>12</td>\n",
       "    </tr>\n",
       "    <tr>\n",
       "      <th>2022-01-02</th>\n",
       "      <td>48.0</td>\n",
       "      <td>1.0</td>\n",
       "      <td>2.0</td>\n",
       "      <td>0.0</td>\n",
       "      <td>7.0</td>\n",
       "      <td>17.0</td>\n",
       "      <td>10.0</td>\n",
       "      <td>20.0</td>\n",
       "      <td>0.0</td>\n",
       "      <td>11.0</td>\n",
       "      <td>55</td>\n",
       "      <td>50</td>\n",
       "      <td>50</td>\n",
       "      <td>45</td>\n",
       "      <td>94</td>\n",
       "      <td>77</td>\n",
       "      <td>30</td>\n",
       "      <td>12</td>\n",
       "    </tr>\n",
       "    <tr>\n",
       "      <th>2022-01-03</th>\n",
       "      <td>2.0</td>\n",
       "      <td>0.0</td>\n",
       "      <td>0.0</td>\n",
       "      <td>0.0</td>\n",
       "      <td>0.0</td>\n",
       "      <td>2.0</td>\n",
       "      <td>0.0</td>\n",
       "      <td>2.0</td>\n",
       "      <td>0.0</td>\n",
       "      <td>0.0</td>\n",
       "      <td>52</td>\n",
       "      <td>46</td>\n",
       "      <td>46</td>\n",
       "      <td>45</td>\n",
       "      <td>93</td>\n",
       "      <td>76</td>\n",
       "      <td>25</td>\n",
       "      <td>10</td>\n",
       "    </tr>\n",
       "    <tr>\n",
       "      <th>2022-01-04</th>\n",
       "      <td>41.0</td>\n",
       "      <td>0.0</td>\n",
       "      <td>0.0</td>\n",
       "      <td>0.0</td>\n",
       "      <td>1.0</td>\n",
       "      <td>36.0</td>\n",
       "      <td>3.0</td>\n",
       "      <td>22.0</td>\n",
       "      <td>0.0</td>\n",
       "      <td>1.0</td>\n",
       "      <td>48</td>\n",
       "      <td>37</td>\n",
       "      <td>46</td>\n",
       "      <td>32</td>\n",
       "      <td>93</td>\n",
       "      <td>70</td>\n",
       "      <td>16</td>\n",
       "      <td>5</td>\n",
       "    </tr>\n",
       "    <tr>\n",
       "      <th>2022-01-05</th>\n",
       "      <td>2.0</td>\n",
       "      <td>0.0</td>\n",
       "      <td>0.0</td>\n",
       "      <td>0.0</td>\n",
       "      <td>0.0</td>\n",
       "      <td>0.0</td>\n",
       "      <td>0.0</td>\n",
       "      <td>0.0</td>\n",
       "      <td>0.0</td>\n",
       "      <td>2.0</td>\n",
       "      <td>46</td>\n",
       "      <td>37</td>\n",
       "      <td>41</td>\n",
       "      <td>30</td>\n",
       "      <td>93</td>\n",
       "      <td>70</td>\n",
       "      <td>30</td>\n",
       "      <td>10</td>\n",
       "    </tr>\n",
       "    <tr>\n",
       "      <th>...</th>\n",
       "      <td>...</td>\n",
       "      <td>...</td>\n",
       "      <td>...</td>\n",
       "      <td>...</td>\n",
       "      <td>...</td>\n",
       "      <td>...</td>\n",
       "      <td>...</td>\n",
       "      <td>...</td>\n",
       "      <td>...</td>\n",
       "      <td>...</td>\n",
       "      <td>...</td>\n",
       "      <td>...</td>\n",
       "      <td>...</td>\n",
       "      <td>...</td>\n",
       "      <td>...</td>\n",
       "      <td>...</td>\n",
       "      <td>...</td>\n",
       "      <td>...</td>\n",
       "    </tr>\n",
       "    <tr>\n",
       "      <th>2022-12-27</th>\n",
       "      <td>0.0</td>\n",
       "      <td>0.0</td>\n",
       "      <td>0.0</td>\n",
       "      <td>0.0</td>\n",
       "      <td>0.0</td>\n",
       "      <td>0.0</td>\n",
       "      <td>0.0</td>\n",
       "      <td>0.0</td>\n",
       "      <td>0.0</td>\n",
       "      <td>0.0</td>\n",
       "      <td>46</td>\n",
       "      <td>41</td>\n",
       "      <td>43</td>\n",
       "      <td>36</td>\n",
       "      <td>93</td>\n",
       "      <td>71</td>\n",
       "      <td>22</td>\n",
       "      <td>9</td>\n",
       "    </tr>\n",
       "    <tr>\n",
       "      <th>2022-12-28</th>\n",
       "      <td>0.0</td>\n",
       "      <td>0.0</td>\n",
       "      <td>0.0</td>\n",
       "      <td>0.0</td>\n",
       "      <td>0.0</td>\n",
       "      <td>0.0</td>\n",
       "      <td>0.0</td>\n",
       "      <td>0.0</td>\n",
       "      <td>0.0</td>\n",
       "      <td>0.0</td>\n",
       "      <td>52</td>\n",
       "      <td>43</td>\n",
       "      <td>50</td>\n",
       "      <td>41</td>\n",
       "      <td>100</td>\n",
       "      <td>87</td>\n",
       "      <td>30</td>\n",
       "      <td>20</td>\n",
       "    </tr>\n",
       "    <tr>\n",
       "      <th>2022-12-29</th>\n",
       "      <td>0.0</td>\n",
       "      <td>0.0</td>\n",
       "      <td>0.0</td>\n",
       "      <td>0.0</td>\n",
       "      <td>0.0</td>\n",
       "      <td>0.0</td>\n",
       "      <td>0.0</td>\n",
       "      <td>0.0</td>\n",
       "      <td>0.0</td>\n",
       "      <td>0.0</td>\n",
       "      <td>52</td>\n",
       "      <td>45</td>\n",
       "      <td>48</td>\n",
       "      <td>41</td>\n",
       "      <td>93</td>\n",
       "      <td>76</td>\n",
       "      <td>29</td>\n",
       "      <td>15</td>\n",
       "    </tr>\n",
       "    <tr>\n",
       "      <th>2022-12-30</th>\n",
       "      <td>0.0</td>\n",
       "      <td>0.0</td>\n",
       "      <td>0.0</td>\n",
       "      <td>0.0</td>\n",
       "      <td>0.0</td>\n",
       "      <td>0.0</td>\n",
       "      <td>0.0</td>\n",
       "      <td>0.0</td>\n",
       "      <td>0.0</td>\n",
       "      <td>0.0</td>\n",
       "      <td>54</td>\n",
       "      <td>39</td>\n",
       "      <td>52</td>\n",
       "      <td>39</td>\n",
       "      <td>100</td>\n",
       "      <td>81</td>\n",
       "      <td>29</td>\n",
       "      <td>12</td>\n",
       "    </tr>\n",
       "    <tr>\n",
       "      <th>2022-12-31</th>\n",
       "      <td>0.0</td>\n",
       "      <td>0.0</td>\n",
       "      <td>0.0</td>\n",
       "      <td>0.0</td>\n",
       "      <td>0.0</td>\n",
       "      <td>0.0</td>\n",
       "      <td>0.0</td>\n",
       "      <td>0.0</td>\n",
       "      <td>0.0</td>\n",
       "      <td>0.0</td>\n",
       "      <td>59</td>\n",
       "      <td>50</td>\n",
       "      <td>55</td>\n",
       "      <td>46</td>\n",
       "      <td>100</td>\n",
       "      <td>63</td>\n",
       "      <td>31</td>\n",
       "      <td>9</td>\n",
       "    </tr>\n",
       "  </tbody>\n",
       "</table>\n",
       "<p>365 rows × 18 columns</p>\n",
       "</div>"
      ],
      "text/plain": [
       "            total_litter  SMOKING  FOOD  COFFEE  ALCOHOL  SOFTDRINKS  \\\n",
       "2022-01-01          57.0      1.0   0.0     2.0     12.0        32.0   \n",
       "2022-01-02          48.0      1.0   2.0     0.0      7.0        17.0   \n",
       "2022-01-03           2.0      0.0   0.0     0.0      0.0         2.0   \n",
       "2022-01-04          41.0      0.0   0.0     0.0      1.0        36.0   \n",
       "2022-01-05           2.0      0.0   0.0     0.0      0.0         0.0   \n",
       "...                  ...      ...   ...     ...      ...         ...   \n",
       "2022-12-27           0.0      0.0   0.0     0.0      0.0         0.0   \n",
       "2022-12-28           0.0      0.0   0.0     0.0      0.0         0.0   \n",
       "2022-12-29           0.0      0.0   0.0     0.0      0.0         0.0   \n",
       "2022-12-30           0.0      0.0   0.0     0.0      0.0         0.0   \n",
       "2022-12-31           0.0      0.0   0.0     0.0      0.0         0.0   \n",
       "\n",
       "            SANITARY  BRANDS  MATERIAL  OTHER  Max Temperature  \\\n",
       "2022-01-01       4.0    28.0       0.0    6.0               54   \n",
       "2022-01-02      10.0    20.0       0.0   11.0               55   \n",
       "2022-01-03       0.0     2.0       0.0    0.0               52   \n",
       "2022-01-04       3.0    22.0       0.0    1.0               48   \n",
       "2022-01-05       0.0     0.0       0.0    2.0               46   \n",
       "...              ...     ...       ...    ...              ...   \n",
       "2022-12-27       0.0     0.0       0.0    0.0               46   \n",
       "2022-12-28       0.0     0.0       0.0    0.0               52   \n",
       "2022-12-29       0.0     0.0       0.0    0.0               52   \n",
       "2022-12-30       0.0     0.0       0.0    0.0               54   \n",
       "2022-12-31       0.0     0.0       0.0    0.0               59   \n",
       "\n",
       "            Min Temperature  Max Dew Point  Min Dew Point  Max Humidity  \\\n",
       "2022-01-01               52             50             50            88   \n",
       "2022-01-02               50             50             45            94   \n",
       "2022-01-03               46             46             45            93   \n",
       "2022-01-04               37             46             32            93   \n",
       "2022-01-05               37             41             30            93   \n",
       "...                     ...            ...            ...           ...   \n",
       "2022-12-27               41             43             36            93   \n",
       "2022-12-28               43             50             41           100   \n",
       "2022-12-29               45             48             41            93   \n",
       "2022-12-30               39             52             39           100   \n",
       "2022-12-31               50             55             46           100   \n",
       "\n",
       "            Min Humidity  Max Wind Speed  Min Wind Speed  \n",
       "2022-01-01            88              12              12  \n",
       "2022-01-02            77              30              12  \n",
       "2022-01-03            76              25              10  \n",
       "2022-01-04            70              16               5  \n",
       "2022-01-05            70              30              10  \n",
       "...                  ...             ...             ...  \n",
       "2022-12-27            71              22               9  \n",
       "2022-12-28            87              30              20  \n",
       "2022-12-29            76              29              15  \n",
       "2022-12-30            81              29              12  \n",
       "2022-12-31            63              31               9  \n",
       "\n",
       "[365 rows x 18 columns]"
      ]
     },
     "execution_count": 71,
     "metadata": {},
     "output_type": "execute_result"
    }
   ],
   "source": [
    "M_test"
   ]
  },
  {
   "cell_type": "markdown",
   "id": "3b3db23b",
   "metadata": {
    "heading_collapsed": true
   },
   "source": [
    "### 将天气状况加入未补全数据"
   ]
  },
  {
   "cell_type": "code",
   "execution_count": 62,
   "id": "04f8e408",
   "metadata": {
    "hidden": true
   },
   "outputs": [
    {
     "data": {
      "text/plain": [
       "Index([2021-01-06, 2021-01-07, 2021-01-08, 2021-01-09, 2021-01-10, 2021-01-11,\n",
       "       2021-01-12, 2021-01-13, 2021-01-14, 2021-01-31,\n",
       "       ...\n",
       "       2021-12-11, 2021-12-12, 2021-12-13, 2021-12-15, 2021-12-16, 2021-12-17,\n",
       "       2021-12-18, 2021-12-19, 2021-12-20, 2021-12-21],\n",
       "      dtype='object', name='datetime', length=226)"
      ]
     },
     "execution_count": 62,
     "metadata": {},
     "output_type": "execute_result"
    }
   ],
   "source": [
    "# 匹配时间\n",
    "df_dateconcat.index"
   ]
  },
  {
   "cell_type": "code",
   "execution_count": 63,
   "id": "47e62a78",
   "metadata": {
    "hidden": true
   },
   "outputs": [],
   "source": [
    "isindex1=wtcdt.index.isin(df_dateconcat.index)"
   ]
  },
  {
   "cell_type": "code",
   "execution_count": 64,
   "id": "174c38dc",
   "metadata": {
    "hidden": true
   },
   "outputs": [
    {
     "data": {
      "text/html": [
       "<div>\n",
       "<style scoped>\n",
       "    .dataframe tbody tr th:only-of-type {\n",
       "        vertical-align: middle;\n",
       "    }\n",
       "\n",
       "    .dataframe tbody tr th {\n",
       "        vertical-align: top;\n",
       "    }\n",
       "\n",
       "    .dataframe thead th {\n",
       "        text-align: right;\n",
       "    }\n",
       "</style>\n",
       "<table border=\"1\" class=\"dataframe\">\n",
       "  <thead>\n",
       "    <tr style=\"text-align: right;\">\n",
       "      <th></th>\n",
       "      <th>Max Temperature</th>\n",
       "      <th>Min Temperature</th>\n",
       "      <th>Max Dew Point</th>\n",
       "      <th>Min Dew Point</th>\n",
       "      <th>Max Humidity</th>\n",
       "      <th>Min Humidity</th>\n",
       "      <th>Max Wind Speed</th>\n",
       "      <th>Min Wind Speed</th>\n",
       "    </tr>\n",
       "    <tr>\n",
       "      <th>date</th>\n",
       "      <th></th>\n",
       "      <th></th>\n",
       "      <th></th>\n",
       "      <th></th>\n",
       "      <th></th>\n",
       "      <th></th>\n",
       "      <th></th>\n",
       "      <th></th>\n",
       "    </tr>\n",
       "  </thead>\n",
       "  <tbody>\n",
       "    <tr>\n",
       "      <th>2021-01-06</th>\n",
       "      <td>39</td>\n",
       "      <td>34</td>\n",
       "      <td>36</td>\n",
       "      <td>32</td>\n",
       "      <td>100</td>\n",
       "      <td>75</td>\n",
       "      <td>15</td>\n",
       "      <td>2</td>\n",
       "    </tr>\n",
       "    <tr>\n",
       "      <th>2021-01-07</th>\n",
       "      <td>41</td>\n",
       "      <td>34</td>\n",
       "      <td>37</td>\n",
       "      <td>32</td>\n",
       "      <td>100</td>\n",
       "      <td>81</td>\n",
       "      <td>16</td>\n",
       "      <td>5</td>\n",
       "    </tr>\n",
       "    <tr>\n",
       "      <th>2021-01-08</th>\n",
       "      <td>41</td>\n",
       "      <td>28</td>\n",
       "      <td>36</td>\n",
       "      <td>28</td>\n",
       "      <td>100</td>\n",
       "      <td>76</td>\n",
       "      <td>7</td>\n",
       "      <td>0</td>\n",
       "    </tr>\n",
       "    <tr>\n",
       "      <th>2021-01-09</th>\n",
       "      <td>43</td>\n",
       "      <td>25</td>\n",
       "      <td>37</td>\n",
       "      <td>25</td>\n",
       "      <td>100</td>\n",
       "      <td>76</td>\n",
       "      <td>8</td>\n",
       "      <td>1</td>\n",
       "    </tr>\n",
       "    <tr>\n",
       "      <th>2021-01-10</th>\n",
       "      <td>41</td>\n",
       "      <td>28</td>\n",
       "      <td>37</td>\n",
       "      <td>27</td>\n",
       "      <td>100</td>\n",
       "      <td>76</td>\n",
       "      <td>13</td>\n",
       "      <td>2</td>\n",
       "    </tr>\n",
       "    <tr>\n",
       "      <th>...</th>\n",
       "      <td>...</td>\n",
       "      <td>...</td>\n",
       "      <td>...</td>\n",
       "      <td>...</td>\n",
       "      <td>...</td>\n",
       "      <td>...</td>\n",
       "      <td>...</td>\n",
       "      <td>...</td>\n",
       "    </tr>\n",
       "    <tr>\n",
       "      <th>2021-12-17</th>\n",
       "      <td>48</td>\n",
       "      <td>45</td>\n",
       "      <td>46</td>\n",
       "      <td>45</td>\n",
       "      <td>100</td>\n",
       "      <td>87</td>\n",
       "      <td>9</td>\n",
       "      <td>0</td>\n",
       "    </tr>\n",
       "    <tr>\n",
       "      <th>2021-12-18</th>\n",
       "      <td>46</td>\n",
       "      <td>41</td>\n",
       "      <td>45</td>\n",
       "      <td>41</td>\n",
       "      <td>100</td>\n",
       "      <td>93</td>\n",
       "      <td>8</td>\n",
       "      <td>2</td>\n",
       "    </tr>\n",
       "    <tr>\n",
       "      <th>2021-12-19</th>\n",
       "      <td>46</td>\n",
       "      <td>43</td>\n",
       "      <td>45</td>\n",
       "      <td>39</td>\n",
       "      <td>100</td>\n",
       "      <td>81</td>\n",
       "      <td>12</td>\n",
       "      <td>3</td>\n",
       "    </tr>\n",
       "    <tr>\n",
       "      <th>2021-12-20</th>\n",
       "      <td>45</td>\n",
       "      <td>32</td>\n",
       "      <td>39</td>\n",
       "      <td>30</td>\n",
       "      <td>93</td>\n",
       "      <td>65</td>\n",
       "      <td>7</td>\n",
       "      <td>0</td>\n",
       "    </tr>\n",
       "    <tr>\n",
       "      <th>2021-12-21</th>\n",
       "      <td>43</td>\n",
       "      <td>27</td>\n",
       "      <td>32</td>\n",
       "      <td>27</td>\n",
       "      <td>100</td>\n",
       "      <td>61</td>\n",
       "      <td>5</td>\n",
       "      <td>1</td>\n",
       "    </tr>\n",
       "  </tbody>\n",
       "</table>\n",
       "<p>226 rows × 8 columns</p>\n",
       "</div>"
      ],
      "text/plain": [
       "            Max Temperature  Min Temperature  Max Dew Point  Min Dew Point  \\\n",
       "date                                                                         \n",
       "2021-01-06               39               34             36             32   \n",
       "2021-01-07               41               34             37             32   \n",
       "2021-01-08               41               28             36             28   \n",
       "2021-01-09               43               25             37             25   \n",
       "2021-01-10               41               28             37             27   \n",
       "...                     ...              ...            ...            ...   \n",
       "2021-12-17               48               45             46             45   \n",
       "2021-12-18               46               41             45             41   \n",
       "2021-12-19               46               43             45             39   \n",
       "2021-12-20               45               32             39             30   \n",
       "2021-12-21               43               27             32             27   \n",
       "\n",
       "            Max Humidity  Min Humidity  Max Wind Speed  Min Wind Speed  \n",
       "date                                                                    \n",
       "2021-01-06           100            75              15               2  \n",
       "2021-01-07           100            81              16               5  \n",
       "2021-01-08           100            76               7               0  \n",
       "2021-01-09           100            76               8               1  \n",
       "2021-01-10           100            76              13               2  \n",
       "...                  ...           ...             ...             ...  \n",
       "2021-12-17           100            87               9               0  \n",
       "2021-12-18           100            93               8               2  \n",
       "2021-12-19           100            81              12               3  \n",
       "2021-12-20            93            65               7               0  \n",
       "2021-12-21           100            61               5               1  \n",
       "\n",
       "[226 rows x 8 columns]"
      ]
     },
     "execution_count": 64,
     "metadata": {},
     "output_type": "execute_result"
    }
   ],
   "source": [
    "wtcdt[isindex1]"
   ]
  },
  {
   "cell_type": "code",
   "execution_count": 65,
   "id": "608dfee1",
   "metadata": {
    "hidden": true
   },
   "outputs": [],
   "source": [
    "isindex2=weather['date'].isin(df_dateconcat.index)"
   ]
  },
  {
   "cell_type": "code",
   "execution_count": 66,
   "id": "8f9bd46c",
   "metadata": {
    "hidden": true
   },
   "outputs": [
    {
     "data": {
      "text/plain": [
       "False    230\n",
       "True     226\n",
       "Name: date, dtype: int64"
      ]
     },
     "execution_count": 66,
     "metadata": {},
     "output_type": "execute_result"
    }
   ],
   "source": [
    "isindex2.value_counts()"
   ]
  },
  {
   "cell_type": "code",
   "execution_count": 67,
   "id": "05e7bf5a",
   "metadata": {
    "hidden": true
   },
   "outputs": [],
   "source": [
    "wtdf = pd.DataFrame(weather[isindex2]).set_index('date')"
   ]
  },
  {
   "cell_type": "code",
   "execution_count": 68,
   "id": "11497e55",
   "metadata": {
    "hidden": true
   },
   "outputs": [],
   "source": [
    "M=pd.concat([df_dateconcat,wtdf,wtcdt[isindex1]],axis=1)# 横向合并"
   ]
  },
  {
   "cell_type": "code",
   "execution_count": 69,
   "id": "5fa6c127",
   "metadata": {
    "hidden": true
   },
   "outputs": [
    {
     "data": {
      "text/html": [
       "<div>\n",
       "<style scoped>\n",
       "    .dataframe tbody tr th:only-of-type {\n",
       "        vertical-align: middle;\n",
       "    }\n",
       "\n",
       "    .dataframe tbody tr th {\n",
       "        vertical-align: top;\n",
       "    }\n",
       "\n",
       "    .dataframe thead th {\n",
       "        text-align: right;\n",
       "    }\n",
       "</style>\n",
       "<table border=\"1\" class=\"dataframe\">\n",
       "  <thead>\n",
       "    <tr style=\"text-align: right;\">\n",
       "      <th></th>\n",
       "      <th>total_litter</th>\n",
       "      <th>SMOKING</th>\n",
       "      <th>FOOD</th>\n",
       "      <th>COFFEE</th>\n",
       "      <th>ALCOHOL</th>\n",
       "      <th>SOFTDRINKS</th>\n",
       "      <th>SANITARY</th>\n",
       "      <th>COASTAL</th>\n",
       "      <th>BRANDS</th>\n",
       "      <th>OTHER</th>\n",
       "      <th>weather</th>\n",
       "      <th>Max Temperature</th>\n",
       "      <th>Min Temperature</th>\n",
       "      <th>Max Dew Point</th>\n",
       "      <th>Min Dew Point</th>\n",
       "      <th>Max Humidity</th>\n",
       "      <th>Min Humidity</th>\n",
       "      <th>Max Wind Speed</th>\n",
       "      <th>Min Wind Speed</th>\n",
       "    </tr>\n",
       "  </thead>\n",
       "  <tbody>\n",
       "    <tr>\n",
       "      <th>2021-01-06</th>\n",
       "      <td>3.0</td>\n",
       "      <td>0.0</td>\n",
       "      <td>2.0</td>\n",
       "      <td>0.0</td>\n",
       "      <td>0.0</td>\n",
       "      <td>1.0</td>\n",
       "      <td>0.0</td>\n",
       "      <td>0.0</td>\n",
       "      <td>0.0</td>\n",
       "      <td>0.0</td>\n",
       "      <td>Sunny</td>\n",
       "      <td>39</td>\n",
       "      <td>34</td>\n",
       "      <td>36</td>\n",
       "      <td>32</td>\n",
       "      <td>100</td>\n",
       "      <td>75</td>\n",
       "      <td>15</td>\n",
       "      <td>2</td>\n",
       "    </tr>\n",
       "    <tr>\n",
       "      <th>2021-01-07</th>\n",
       "      <td>2.0</td>\n",
       "      <td>0.0</td>\n",
       "      <td>0.0</td>\n",
       "      <td>0.0</td>\n",
       "      <td>0.0</td>\n",
       "      <td>1.0</td>\n",
       "      <td>0.0</td>\n",
       "      <td>0.0</td>\n",
       "      <td>1.0</td>\n",
       "      <td>0.0</td>\n",
       "      <td>Showers</td>\n",
       "      <td>41</td>\n",
       "      <td>34</td>\n",
       "      <td>37</td>\n",
       "      <td>32</td>\n",
       "      <td>100</td>\n",
       "      <td>81</td>\n",
       "      <td>16</td>\n",
       "      <td>5</td>\n",
       "    </tr>\n",
       "    <tr>\n",
       "      <th>2021-01-08</th>\n",
       "      <td>114.0</td>\n",
       "      <td>2.0</td>\n",
       "      <td>13.0</td>\n",
       "      <td>6.0</td>\n",
       "      <td>3.0</td>\n",
       "      <td>34.0</td>\n",
       "      <td>9.0</td>\n",
       "      <td>0.0</td>\n",
       "      <td>25.0</td>\n",
       "      <td>32.0</td>\n",
       "      <td>Showers</td>\n",
       "      <td>41</td>\n",
       "      <td>28</td>\n",
       "      <td>36</td>\n",
       "      <td>28</td>\n",
       "      <td>100</td>\n",
       "      <td>76</td>\n",
       "      <td>7</td>\n",
       "      <td>0</td>\n",
       "    </tr>\n",
       "    <tr>\n",
       "      <th>2021-01-09</th>\n",
       "      <td>58.0</td>\n",
       "      <td>3.0</td>\n",
       "      <td>11.0</td>\n",
       "      <td>1.0</td>\n",
       "      <td>0.0</td>\n",
       "      <td>12.0</td>\n",
       "      <td>3.0</td>\n",
       "      <td>0.0</td>\n",
       "      <td>11.0</td>\n",
       "      <td>21.0</td>\n",
       "      <td>Foggy</td>\n",
       "      <td>43</td>\n",
       "      <td>25</td>\n",
       "      <td>37</td>\n",
       "      <td>25</td>\n",
       "      <td>100</td>\n",
       "      <td>76</td>\n",
       "      <td>8</td>\n",
       "      <td>1</td>\n",
       "    </tr>\n",
       "    <tr>\n",
       "      <th>2021-01-10</th>\n",
       "      <td>49.0</td>\n",
       "      <td>2.0</td>\n",
       "      <td>2.0</td>\n",
       "      <td>0.0</td>\n",
       "      <td>8.0</td>\n",
       "      <td>20.0</td>\n",
       "      <td>0.0</td>\n",
       "      <td>0.0</td>\n",
       "      <td>18.0</td>\n",
       "      <td>9.0</td>\n",
       "      <td>Cloudy</td>\n",
       "      <td>41</td>\n",
       "      <td>28</td>\n",
       "      <td>37</td>\n",
       "      <td>27</td>\n",
       "      <td>100</td>\n",
       "      <td>76</td>\n",
       "      <td>13</td>\n",
       "      <td>2</td>\n",
       "    </tr>\n",
       "    <tr>\n",
       "      <th>...</th>\n",
       "      <td>...</td>\n",
       "      <td>...</td>\n",
       "      <td>...</td>\n",
       "      <td>...</td>\n",
       "      <td>...</td>\n",
       "      <td>...</td>\n",
       "      <td>...</td>\n",
       "      <td>...</td>\n",
       "      <td>...</td>\n",
       "      <td>...</td>\n",
       "      <td>...</td>\n",
       "      <td>...</td>\n",
       "      <td>...</td>\n",
       "      <td>...</td>\n",
       "      <td>...</td>\n",
       "      <td>...</td>\n",
       "      <td>...</td>\n",
       "      <td>...</td>\n",
       "      <td>...</td>\n",
       "    </tr>\n",
       "    <tr>\n",
       "      <th>2021-12-17</th>\n",
       "      <td>140.0</td>\n",
       "      <td>31.0</td>\n",
       "      <td>14.0</td>\n",
       "      <td>5.0</td>\n",
       "      <td>1.0</td>\n",
       "      <td>36.0</td>\n",
       "      <td>8.0</td>\n",
       "      <td>0.0</td>\n",
       "      <td>22.0</td>\n",
       "      <td>45.0</td>\n",
       "      <td>Showers</td>\n",
       "      <td>48</td>\n",
       "      <td>45</td>\n",
       "      <td>46</td>\n",
       "      <td>45</td>\n",
       "      <td>100</td>\n",
       "      <td>87</td>\n",
       "      <td>9</td>\n",
       "      <td>0</td>\n",
       "    </tr>\n",
       "    <tr>\n",
       "      <th>2021-12-18</th>\n",
       "      <td>18.0</td>\n",
       "      <td>0.0</td>\n",
       "      <td>6.0</td>\n",
       "      <td>0.0</td>\n",
       "      <td>3.0</td>\n",
       "      <td>6.0</td>\n",
       "      <td>1.0</td>\n",
       "      <td>0.0</td>\n",
       "      <td>6.0</td>\n",
       "      <td>2.0</td>\n",
       "      <td>Foggy</td>\n",
       "      <td>46</td>\n",
       "      <td>41</td>\n",
       "      <td>45</td>\n",
       "      <td>41</td>\n",
       "      <td>100</td>\n",
       "      <td>93</td>\n",
       "      <td>8</td>\n",
       "      <td>2</td>\n",
       "    </tr>\n",
       "    <tr>\n",
       "      <th>2021-12-19</th>\n",
       "      <td>92.0</td>\n",
       "      <td>19.0</td>\n",
       "      <td>10.0</td>\n",
       "      <td>1.0</td>\n",
       "      <td>5.0</td>\n",
       "      <td>28.0</td>\n",
       "      <td>7.0</td>\n",
       "      <td>0.0</td>\n",
       "      <td>28.0</td>\n",
       "      <td>22.0</td>\n",
       "      <td>Showers</td>\n",
       "      <td>46</td>\n",
       "      <td>43</td>\n",
       "      <td>45</td>\n",
       "      <td>39</td>\n",
       "      <td>100</td>\n",
       "      <td>81</td>\n",
       "      <td>12</td>\n",
       "      <td>3</td>\n",
       "    </tr>\n",
       "    <tr>\n",
       "      <th>2021-12-20</th>\n",
       "      <td>232.0</td>\n",
       "      <td>5.0</td>\n",
       "      <td>22.0</td>\n",
       "      <td>7.0</td>\n",
       "      <td>7.0</td>\n",
       "      <td>60.0</td>\n",
       "      <td>17.0</td>\n",
       "      <td>0.0</td>\n",
       "      <td>50.0</td>\n",
       "      <td>114.0</td>\n",
       "      <td>Cloudy</td>\n",
       "      <td>45</td>\n",
       "      <td>32</td>\n",
       "      <td>39</td>\n",
       "      <td>30</td>\n",
       "      <td>93</td>\n",
       "      <td>65</td>\n",
       "      <td>7</td>\n",
       "      <td>0</td>\n",
       "    </tr>\n",
       "    <tr>\n",
       "      <th>2021-12-21</th>\n",
       "      <td>14.0</td>\n",
       "      <td>1.0</td>\n",
       "      <td>4.0</td>\n",
       "      <td>0.0</td>\n",
       "      <td>0.0</td>\n",
       "      <td>7.0</td>\n",
       "      <td>0.0</td>\n",
       "      <td>0.0</td>\n",
       "      <td>5.0</td>\n",
       "      <td>2.0</td>\n",
       "      <td>Sunny</td>\n",
       "      <td>43</td>\n",
       "      <td>27</td>\n",
       "      <td>32</td>\n",
       "      <td>27</td>\n",
       "      <td>100</td>\n",
       "      <td>61</td>\n",
       "      <td>5</td>\n",
       "      <td>1</td>\n",
       "    </tr>\n",
       "  </tbody>\n",
       "</table>\n",
       "<p>226 rows × 19 columns</p>\n",
       "</div>"
      ],
      "text/plain": [
       "            total_litter  SMOKING  FOOD  COFFEE  ALCOHOL  SOFTDRINKS  \\\n",
       "2021-01-06           3.0      0.0   2.0     0.0      0.0         1.0   \n",
       "2021-01-07           2.0      0.0   0.0     0.0      0.0         1.0   \n",
       "2021-01-08         114.0      2.0  13.0     6.0      3.0        34.0   \n",
       "2021-01-09          58.0      3.0  11.0     1.0      0.0        12.0   \n",
       "2021-01-10          49.0      2.0   2.0     0.0      8.0        20.0   \n",
       "...                  ...      ...   ...     ...      ...         ...   \n",
       "2021-12-17         140.0     31.0  14.0     5.0      1.0        36.0   \n",
       "2021-12-18          18.0      0.0   6.0     0.0      3.0         6.0   \n",
       "2021-12-19          92.0     19.0  10.0     1.0      5.0        28.0   \n",
       "2021-12-20         232.0      5.0  22.0     7.0      7.0        60.0   \n",
       "2021-12-21          14.0      1.0   4.0     0.0      0.0         7.0   \n",
       "\n",
       "            SANITARY  COASTAL  BRANDS  OTHER  weather  Max Temperature  \\\n",
       "2021-01-06       0.0      0.0     0.0    0.0    Sunny               39   \n",
       "2021-01-07       0.0      0.0     1.0    0.0  Showers               41   \n",
       "2021-01-08       9.0      0.0    25.0   32.0  Showers               41   \n",
       "2021-01-09       3.0      0.0    11.0   21.0    Foggy               43   \n",
       "2021-01-10       0.0      0.0    18.0    9.0   Cloudy               41   \n",
       "...              ...      ...     ...    ...      ...              ...   \n",
       "2021-12-17       8.0      0.0    22.0   45.0  Showers               48   \n",
       "2021-12-18       1.0      0.0     6.0    2.0    Foggy               46   \n",
       "2021-12-19       7.0      0.0    28.0   22.0  Showers               46   \n",
       "2021-12-20      17.0      0.0    50.0  114.0   Cloudy               45   \n",
       "2021-12-21       0.0      0.0     5.0    2.0    Sunny               43   \n",
       "\n",
       "            Min Temperature  Max Dew Point  Min Dew Point  Max Humidity  \\\n",
       "2021-01-06               34             36             32           100   \n",
       "2021-01-07               34             37             32           100   \n",
       "2021-01-08               28             36             28           100   \n",
       "2021-01-09               25             37             25           100   \n",
       "2021-01-10               28             37             27           100   \n",
       "...                     ...            ...            ...           ...   \n",
       "2021-12-17               45             46             45           100   \n",
       "2021-12-18               41             45             41           100   \n",
       "2021-12-19               43             45             39           100   \n",
       "2021-12-20               32             39             30            93   \n",
       "2021-12-21               27             32             27           100   \n",
       "\n",
       "            Min Humidity  Max Wind Speed  Min Wind Speed  \n",
       "2021-01-06            75              15               2  \n",
       "2021-01-07            81              16               5  \n",
       "2021-01-08            76               7               0  \n",
       "2021-01-09            76               8               1  \n",
       "2021-01-10            76              13               2  \n",
       "...                  ...             ...             ...  \n",
       "2021-12-17            87               9               0  \n",
       "2021-12-18            93               8               2  \n",
       "2021-12-19            81              12               3  \n",
       "2021-12-20            65               7               0  \n",
       "2021-12-21            61               5               1  \n",
       "\n",
       "[226 rows x 19 columns]"
      ]
     },
     "execution_count": 69,
     "metadata": {},
     "output_type": "execute_result"
    }
   ],
   "source": [
    "M"
   ]
  },
  {
   "cell_type": "code",
   "execution_count": 67,
   "id": "f9cd43d4",
   "metadata": {
    "hidden": true
   },
   "outputs": [],
   "source": [
    "# M_train=M.drop(M.loc[:,'SMOKING':'OTHER'],axis=1)# 舍弃分类"
   ]
  },
  {
   "cell_type": "markdown",
   "id": "580d71ca",
   "metadata": {},
   "source": [
    "### 对天气描述编码"
   ]
  },
  {
   "cell_type": "code",
   "execution_count": 71,
   "id": "a21f3630",
   "metadata": {},
   "outputs": [
    {
     "data": {
      "text/plain": [
       "2021-01-06      Sunny\n",
       "2021-01-07    Showers\n",
       "2021-01-08    Showers\n",
       "2021-01-09      Foggy\n",
       "2021-01-10     Cloudy\n",
       "               ...   \n",
       "2021-12-17    Showers\n",
       "2021-12-18      Foggy\n",
       "2021-12-19    Showers\n",
       "2021-12-20     Cloudy\n",
       "2021-12-21      Sunny\n",
       "Name: weather, Length: 226, dtype: object"
      ]
     },
     "execution_count": 71,
     "metadata": {},
     "output_type": "execute_result"
    }
   ],
   "source": [
    "# M['weather']"
   ]
  },
  {
   "cell_type": "code",
   "execution_count": 69,
   "id": "aa0809df",
   "metadata": {},
   "outputs": [],
   "source": [
    "# weather = pd.DataFrame(weather).set_index('date') # 将时间作为索引"
   ]
  },
  {
   "cell_type": "code",
   "execution_count": 72,
   "id": "31f5ae91",
   "metadata": {},
   "outputs": [
    {
     "data": {
      "text/html": [
       "<div>\n",
       "<style scoped>\n",
       "    .dataframe tbody tr th:only-of-type {\n",
       "        vertical-align: middle;\n",
       "    }\n",
       "\n",
       "    .dataframe tbody tr th {\n",
       "        vertical-align: top;\n",
       "    }\n",
       "\n",
       "    .dataframe thead th {\n",
       "        text-align: right;\n",
       "    }\n",
       "</style>\n",
       "<table border=\"1\" class=\"dataframe\">\n",
       "  <thead>\n",
       "    <tr style=\"text-align: right;\">\n",
       "      <th></th>\n",
       "      <th>weather</th>\n",
       "    </tr>\n",
       "    <tr>\n",
       "      <th>date</th>\n",
       "      <th></th>\n",
       "    </tr>\n",
       "  </thead>\n",
       "  <tbody>\n",
       "    <tr>\n",
       "      <th>2021-01-06</th>\n",
       "      <td>Sunny</td>\n",
       "    </tr>\n",
       "    <tr>\n",
       "      <th>2021-01-07</th>\n",
       "      <td>Showers</td>\n",
       "    </tr>\n",
       "    <tr>\n",
       "      <th>2021-01-08</th>\n",
       "      <td>Showers</td>\n",
       "    </tr>\n",
       "    <tr>\n",
       "      <th>2021-01-09</th>\n",
       "      <td>Foggy</td>\n",
       "    </tr>\n",
       "    <tr>\n",
       "      <th>2021-01-10</th>\n",
       "      <td>Cloudy</td>\n",
       "    </tr>\n",
       "    <tr>\n",
       "      <th>...</th>\n",
       "      <td>...</td>\n",
       "    </tr>\n",
       "    <tr>\n",
       "      <th>2021-12-17</th>\n",
       "      <td>Showers</td>\n",
       "    </tr>\n",
       "    <tr>\n",
       "      <th>2021-12-18</th>\n",
       "      <td>Foggy</td>\n",
       "    </tr>\n",
       "    <tr>\n",
       "      <th>2021-12-19</th>\n",
       "      <td>Showers</td>\n",
       "    </tr>\n",
       "    <tr>\n",
       "      <th>2021-12-20</th>\n",
       "      <td>Cloudy</td>\n",
       "    </tr>\n",
       "    <tr>\n",
       "      <th>2021-12-21</th>\n",
       "      <td>Sunny</td>\n",
       "    </tr>\n",
       "  </tbody>\n",
       "</table>\n",
       "<p>226 rows × 1 columns</p>\n",
       "</div>"
      ],
      "text/plain": [
       "            weather\n",
       "date               \n",
       "2021-01-06    Sunny\n",
       "2021-01-07  Showers\n",
       "2021-01-08  Showers\n",
       "2021-01-09    Foggy\n",
       "2021-01-10   Cloudy\n",
       "...             ...\n",
       "2021-12-17  Showers\n",
       "2021-12-18    Foggy\n",
       "2021-12-19  Showers\n",
       "2021-12-20   Cloudy\n",
       "2021-12-21    Sunny\n",
       "\n",
       "[226 rows x 1 columns]"
      ]
     },
     "execution_count": 72,
     "metadata": {},
     "output_type": "execute_result"
    }
   ],
   "source": [
    "wtdf"
   ]
  },
  {
   "cell_type": "code",
   "execution_count": 73,
   "id": "b6d44630",
   "metadata": {},
   "outputs": [],
   "source": [
    "values_wt=wtdf['weather']"
   ]
  },
  {
   "cell_type": "code",
   "execution_count": 74,
   "id": "fba4242d",
   "metadata": {},
   "outputs": [
    {
     "data": {
      "text/plain": [
       "array([3, 2, 2, 1, 0, 0, 2, 3, 3, 3, 2, 2, 3, 3, 0, 3, 3, 3, 3, 3, 3, 3,\n",
       "       3, 3, 1, 1, 1, 1, 3, 0, 3, 0, 2, 3, 0, 2, 0, 0, 0, 0, 3, 3, 3, 3,\n",
       "       3, 3, 0, 3, 0, 0, 3, 0, 3, 3, 3, 3, 3, 3, 3, 0, 0, 3, 3, 3, 0, 0,\n",
       "       3, 2, 3, 0, 3, 3, 3, 3, 3, 3, 0, 2, 3, 3, 3, 3, 3, 3, 3, 3, 0, 3,\n",
       "       3, 3, 3, 3, 1, 3, 3, 3, 3, 3, 3, 0, 3, 0, 0, 3, 0, 3, 3, 3, 2, 0,\n",
       "       3, 3, 3, 3, 3, 3, 3, 3, 0, 0, 0, 3, 3, 3, 3, 3, 3, 3, 0, 2, 3, 3,\n",
       "       3, 3, 0, 2, 0, 3, 3, 1, 0, 2, 3, 2, 0, 0, 0, 3, 3, 3, 3, 3, 3, 3,\n",
       "       3, 0, 3, 3, 3, 3, 0, 3, 0, 3, 3, 3, 2, 0, 2, 2, 2, 3, 3, 0, 1, 3,\n",
       "       1, 3, 2, 3, 0, 3, 0, 3, 3, 0, 3, 3, 0, 3, 3, 3, 2, 1, 1, 0, 0, 0,\n",
       "       0, 1, 2, 0, 1, 3, 0, 2, 3, 0, 2, 2, 2, 1, 1, 2, 3, 2, 3, 2, 0, 0,\n",
       "       1, 2, 1, 2, 0, 3])"
      ]
     },
     "execution_count": 74,
     "metadata": {},
     "output_type": "execute_result"
    }
   ],
   "source": [
    "# 整数编码\n",
    "label_encoder_wt = LabelEncoder()\n",
    "integer_encoded_wt = label_encoder_wt.fit_transform(values_wt)\n",
    "integer_encoded_wt"
   ]
  },
  {
   "cell_type": "code",
   "execution_count": 75,
   "id": "2d2dd45a",
   "metadata": {},
   "outputs": [
    {
     "data": {
      "text/plain": [
       "(226, 4)"
      ]
     },
     "execution_count": 75,
     "metadata": {},
     "output_type": "execute_result"
    }
   ],
   "source": [
    "# 二进制编码\n",
    "wt_encoded = OneHotEncoder(sparse=False)\n",
    "integer_encoded_wt = integer_encoded_wt.reshape(len(integer_encoded_wt), 1)\n",
    "wt_encoded = wt_encoded.fit_transform(integer_encoded_wt)\n",
    "wt_encoded.shape"
   ]
  },
  {
   "cell_type": "code",
   "execution_count": 76,
   "id": "2f178acc",
   "metadata": {},
   "outputs": [
    {
     "data": {
      "text/plain": [
       "array(['Sunny'], dtype=object)"
      ]
     },
     "execution_count": 76,
     "metadata": {},
     "output_type": "execute_result"
    }
   ],
   "source": [
    "# 第一个例子的反转\n",
    "inverted_wt = label_encoder_wt.inverse_transform([argmax(wt_encoded[0, :])])\n",
    "inverted_wt"
   ]
  },
  {
   "cell_type": "markdown",
   "id": "6ffbee09",
   "metadata": {
    "heading_collapsed": true
   },
   "source": [
    "### 天气特征归一化(舍弃)"
   ]
  },
  {
   "cell_type": "code",
   "execution_count": 78,
   "id": "918b5e2d",
   "metadata": {
    "hidden": true
   },
   "outputs": [],
   "source": [
    "from sklearn.preprocessing import MinMaxScaler\n",
    "from sklearn.preprocessing import StandardScaler"
   ]
  },
  {
   "cell_type": "code",
   "execution_count": 79,
   "id": "78396c04",
   "metadata": {
    "hidden": true
   },
   "outputs": [
    {
     "data": {
      "text/plain": [
       "array([[36.59],\n",
       "       [34.  ],\n",
       "       [39.  ],\n",
       "       ...,\n",
       "       [36.  ],\n",
       "       [27.  ],\n",
       "       [30.58]])"
      ]
     },
     "execution_count": 79,
     "metadata": {},
     "output_type": "execute_result"
    }
   ],
   "source": [
    "M_train.loc[:,'Actual Mean Temperature':'Actual Sea Level Pressure'].values.reshape(-1, 1)"
   ]
  },
  {
   "cell_type": "code",
   "execution_count": 80,
   "id": "3e1e13c2",
   "metadata": {
    "hidden": true
   },
   "outputs": [],
   "source": [
    "mm = MinMaxScaler()\n",
    "mm_data = mm.fit_transform(M_train.loc[:,'Actual Mean Temperature':'Actual Sea Level Pressure'].values.reshape(-1, 1))"
   ]
  },
  {
   "cell_type": "code",
   "execution_count": 81,
   "id": "230e02c8",
   "metadata": {
    "hidden": true
   },
   "outputs": [
    {
     "data": {
      "text/plain": [
       "array([[0.43559524, 0.4047619 , 0.46428571, ..., 0.42857143, 0.38095238,\n",
       "        0.35809524],\n",
       "       [0.44690476, 0.4047619 , 0.48809524, ..., 0.44047619, 0.38095238,\n",
       "        0.35666667],\n",
       "       [0.42809524, 0.35714286, 0.48809524, ..., 0.42857143, 0.35714286,\n",
       "        0.35869048],\n",
       "       ...,\n",
       "       [0.37857143, 0.32142857, 0.51190476, ..., 0.38095238, 0.32142857,\n",
       "        0.36154762],\n",
       "       [0.47130952, 0.42857143, 0.51190476, ..., 0.44047619, 0.33333333,\n",
       "        0.36333333],\n",
       "       [0.49380952, 0.42857143, 0.57142857, ..., 0.42857143, 0.32142857,\n",
       "        0.36404762]])"
      ]
     },
     "execution_count": 81,
     "metadata": {},
     "output_type": "execute_result"
    }
   ],
   "source": [
    "mm_weather=mm_data.reshape(228,10)\n",
    "mm_weather"
   ]
  },
  {
   "cell_type": "code",
   "execution_count": 232,
   "id": "85b4b5da",
   "metadata": {
    "hidden": true
   },
   "outputs": [],
   "source": [
    "# 合并归一化后的数据\n",
    "mm_weather_df=pd.DataFrame(mm_weather)\n",
    "mm_weather_df=mm_weather_df.set_index(wtdf.index)\n",
    "wt_encoded_df=pd.DataFrame(wt_encoded)\n",
    "wt_encoded_df=wt_encoded_df.set_index(wtdf.index)\n",
    "ML=pd.concat([wt_encoded_df,mm_weather_df,M_train['total_litter']],axis=1)"
   ]
  },
  {
   "cell_type": "code",
   "execution_count": 233,
   "id": "77f71c88",
   "metadata": {
    "hidden": true,
    "scrolled": false
   },
   "outputs": [
    {
     "data": {
      "text/html": [
       "<div>\n",
       "<style scoped>\n",
       "    .dataframe tbody tr th:only-of-type {\n",
       "        vertical-align: middle;\n",
       "    }\n",
       "\n",
       "    .dataframe tbody tr th {\n",
       "        vertical-align: top;\n",
       "    }\n",
       "\n",
       "    .dataframe thead th {\n",
       "        text-align: right;\n",
       "    }\n",
       "</style>\n",
       "<table border=\"1\" class=\"dataframe\">\n",
       "  <thead>\n",
       "    <tr style=\"text-align: right;\">\n",
       "      <th></th>\n",
       "      <th>0</th>\n",
       "      <th>1</th>\n",
       "      <th>2</th>\n",
       "      <th>3</th>\n",
       "      <th>0</th>\n",
       "      <th>1</th>\n",
       "      <th>2</th>\n",
       "      <th>3</th>\n",
       "      <th>4</th>\n",
       "      <th>5</th>\n",
       "      <th>6</th>\n",
       "      <th>7</th>\n",
       "      <th>8</th>\n",
       "      <th>9</th>\n",
       "      <th>total_litter</th>\n",
       "    </tr>\n",
       "  </thead>\n",
       "  <tbody>\n",
       "    <tr>\n",
       "      <th>2021-01-06</th>\n",
       "      <td>0.0</td>\n",
       "      <td>0.0</td>\n",
       "      <td>0.0</td>\n",
       "      <td>1.0</td>\n",
       "      <td>0.435595</td>\n",
       "      <td>0.404762</td>\n",
       "      <td>0.464286</td>\n",
       "      <td>0.369048</td>\n",
       "      <td>0.476190</td>\n",
       "      <td>0.178571</td>\n",
       "      <td>0.388214</td>\n",
       "      <td>0.428571</td>\n",
       "      <td>0.380952</td>\n",
       "      <td>0.358095</td>\n",
       "      <td>3.0</td>\n",
       "    </tr>\n",
       "    <tr>\n",
       "      <th>2021-01-07</th>\n",
       "      <td>0.0</td>\n",
       "      <td>0.0</td>\n",
       "      <td>1.0</td>\n",
       "      <td>0.0</td>\n",
       "      <td>0.446905</td>\n",
       "      <td>0.404762</td>\n",
       "      <td>0.488095</td>\n",
       "      <td>0.369048</td>\n",
       "      <td>0.476190</td>\n",
       "      <td>0.190476</td>\n",
       "      <td>0.420595</td>\n",
       "      <td>0.440476</td>\n",
       "      <td>0.380952</td>\n",
       "      <td>0.356667</td>\n",
       "      <td>2.0</td>\n",
       "    </tr>\n",
       "    <tr>\n",
       "      <th>2021-01-08</th>\n",
       "      <td>0.0</td>\n",
       "      <td>0.0</td>\n",
       "      <td>1.0</td>\n",
       "      <td>0.0</td>\n",
       "      <td>0.428095</td>\n",
       "      <td>0.357143</td>\n",
       "      <td>0.488095</td>\n",
       "      <td>0.369048</td>\n",
       "      <td>0.476190</td>\n",
       "      <td>0.083333</td>\n",
       "      <td>0.405833</td>\n",
       "      <td>0.428571</td>\n",
       "      <td>0.357143</td>\n",
       "      <td>0.358690</td>\n",
       "      <td>114.0</td>\n",
       "    </tr>\n",
       "    <tr>\n",
       "      <th>2021-01-09</th>\n",
       "      <td>0.0</td>\n",
       "      <td>1.0</td>\n",
       "      <td>0.0</td>\n",
       "      <td>0.0</td>\n",
       "      <td>0.386071</td>\n",
       "      <td>0.297619</td>\n",
       "      <td>0.511905</td>\n",
       "      <td>0.369048</td>\n",
       "      <td>0.476190</td>\n",
       "      <td>0.095238</td>\n",
       "      <td>0.352024</td>\n",
       "      <td>0.440476</td>\n",
       "      <td>0.297619</td>\n",
       "      <td>0.360476</td>\n",
       "      <td>58.0</td>\n",
       "    </tr>\n",
       "    <tr>\n",
       "      <th>2021-01-10</th>\n",
       "      <td>1.0</td>\n",
       "      <td>0.0</td>\n",
       "      <td>0.0</td>\n",
       "      <td>0.0</td>\n",
       "      <td>0.431429</td>\n",
       "      <td>0.333333</td>\n",
       "      <td>0.488095</td>\n",
       "      <td>0.369048</td>\n",
       "      <td>0.476190</td>\n",
       "      <td>0.142857</td>\n",
       "      <td>0.393690</td>\n",
       "      <td>0.440476</td>\n",
       "      <td>0.321429</td>\n",
       "      <td>0.360476</td>\n",
       "      <td>49.0</td>\n",
       "    </tr>\n",
       "    <tr>\n",
       "      <th>...</th>\n",
       "      <td>...</td>\n",
       "      <td>...</td>\n",
       "      <td>...</td>\n",
       "      <td>...</td>\n",
       "      <td>...</td>\n",
       "      <td>...</td>\n",
       "      <td>...</td>\n",
       "      <td>...</td>\n",
       "      <td>...</td>\n",
       "      <td>...</td>\n",
       "      <td>...</td>\n",
       "      <td>...</td>\n",
       "      <td>...</td>\n",
       "      <td>...</td>\n",
       "      <td>...</td>\n",
       "    </tr>\n",
       "    <tr>\n",
       "      <th>2021-12-19</th>\n",
       "      <td>0.0</td>\n",
       "      <td>0.0</td>\n",
       "      <td>1.0</td>\n",
       "      <td>0.0</td>\n",
       "      <td>0.536548</td>\n",
       "      <td>0.511905</td>\n",
       "      <td>0.547619</td>\n",
       "      <td>0.392857</td>\n",
       "      <td>0.500000</td>\n",
       "      <td>0.142857</td>\n",
       "      <td>0.518690</td>\n",
       "      <td>0.535714</td>\n",
       "      <td>0.488095</td>\n",
       "      <td>0.364762</td>\n",
       "      <td>92.0</td>\n",
       "    </tr>\n",
       "    <tr>\n",
       "      <th>2021-12-20</th>\n",
       "      <td>1.0</td>\n",
       "      <td>0.0</td>\n",
       "      <td>0.0</td>\n",
       "      <td>0.0</td>\n",
       "      <td>0.495595</td>\n",
       "      <td>0.380952</td>\n",
       "      <td>0.535714</td>\n",
       "      <td>0.392857</td>\n",
       "      <td>0.500000</td>\n",
       "      <td>0.083333</td>\n",
       "      <td>0.418690</td>\n",
       "      <td>0.464286</td>\n",
       "      <td>0.357143</td>\n",
       "      <td>0.361905</td>\n",
       "      <td>232.0</td>\n",
       "    </tr>\n",
       "    <tr>\n",
       "      <th>2021-12-21</th>\n",
       "      <td>0.0</td>\n",
       "      <td>0.0</td>\n",
       "      <td>0.0</td>\n",
       "      <td>1.0</td>\n",
       "      <td>0.378571</td>\n",
       "      <td>0.321429</td>\n",
       "      <td>0.511905</td>\n",
       "      <td>0.392857</td>\n",
       "      <td>0.500000</td>\n",
       "      <td>0.059524</td>\n",
       "      <td>0.339762</td>\n",
       "      <td>0.380952</td>\n",
       "      <td>0.321429</td>\n",
       "      <td>0.361548</td>\n",
       "      <td>14.0</td>\n",
       "    </tr>\n",
       "    <tr>\n",
       "      <th>2022-01-20</th>\n",
       "      <td>1.0</td>\n",
       "      <td>0.0</td>\n",
       "      <td>0.0</td>\n",
       "      <td>0.0</td>\n",
       "      <td>0.471310</td>\n",
       "      <td>0.428571</td>\n",
       "      <td>0.511905</td>\n",
       "      <td>0.369048</td>\n",
       "      <td>0.476190</td>\n",
       "      <td>0.357143</td>\n",
       "      <td>0.392024</td>\n",
       "      <td>0.440476</td>\n",
       "      <td>0.333333</td>\n",
       "      <td>0.363333</td>\n",
       "      <td>5.0</td>\n",
       "    </tr>\n",
       "    <tr>\n",
       "      <th>2022-03-20</th>\n",
       "      <td>0.0</td>\n",
       "      <td>0.0</td>\n",
       "      <td>0.0</td>\n",
       "      <td>1.0</td>\n",
       "      <td>0.493810</td>\n",
       "      <td>0.428571</td>\n",
       "      <td>0.571429</td>\n",
       "      <td>0.404762</td>\n",
       "      <td>0.583333</td>\n",
       "      <td>0.238095</td>\n",
       "      <td>0.381786</td>\n",
       "      <td>0.428571</td>\n",
       "      <td>0.321429</td>\n",
       "      <td>0.364048</td>\n",
       "      <td>27.0</td>\n",
       "    </tr>\n",
       "  </tbody>\n",
       "</table>\n",
       "<p>228 rows × 15 columns</p>\n",
       "</div>"
      ],
      "text/plain": [
       "              0    1    2    3         0         1         2         3  \\\n",
       "2021-01-06  0.0  0.0  0.0  1.0  0.435595  0.404762  0.464286  0.369048   \n",
       "2021-01-07  0.0  0.0  1.0  0.0  0.446905  0.404762  0.488095  0.369048   \n",
       "2021-01-08  0.0  0.0  1.0  0.0  0.428095  0.357143  0.488095  0.369048   \n",
       "2021-01-09  0.0  1.0  0.0  0.0  0.386071  0.297619  0.511905  0.369048   \n",
       "2021-01-10  1.0  0.0  0.0  0.0  0.431429  0.333333  0.488095  0.369048   \n",
       "...         ...  ...  ...  ...       ...       ...       ...       ...   \n",
       "2021-12-19  0.0  0.0  1.0  0.0  0.536548  0.511905  0.547619  0.392857   \n",
       "2021-12-20  1.0  0.0  0.0  0.0  0.495595  0.380952  0.535714  0.392857   \n",
       "2021-12-21  0.0  0.0  0.0  1.0  0.378571  0.321429  0.511905  0.392857   \n",
       "2022-01-20  1.0  0.0  0.0  0.0  0.471310  0.428571  0.511905  0.369048   \n",
       "2022-03-20  0.0  0.0  0.0  1.0  0.493810  0.428571  0.571429  0.404762   \n",
       "\n",
       "                   4         5         6         7         8         9  \\\n",
       "2021-01-06  0.476190  0.178571  0.388214  0.428571  0.380952  0.358095   \n",
       "2021-01-07  0.476190  0.190476  0.420595  0.440476  0.380952  0.356667   \n",
       "2021-01-08  0.476190  0.083333  0.405833  0.428571  0.357143  0.358690   \n",
       "2021-01-09  0.476190  0.095238  0.352024  0.440476  0.297619  0.360476   \n",
       "2021-01-10  0.476190  0.142857  0.393690  0.440476  0.321429  0.360476   \n",
       "...              ...       ...       ...       ...       ...       ...   \n",
       "2021-12-19  0.500000  0.142857  0.518690  0.535714  0.488095  0.364762   \n",
       "2021-12-20  0.500000  0.083333  0.418690  0.464286  0.357143  0.361905   \n",
       "2021-12-21  0.500000  0.059524  0.339762  0.380952  0.321429  0.361548   \n",
       "2022-01-20  0.476190  0.357143  0.392024  0.440476  0.333333  0.363333   \n",
       "2022-03-20  0.583333  0.238095  0.381786  0.428571  0.321429  0.364048   \n",
       "\n",
       "            total_litter  \n",
       "2021-01-06           3.0  \n",
       "2021-01-07           2.0  \n",
       "2021-01-08         114.0  \n",
       "2021-01-09          58.0  \n",
       "2021-01-10          49.0  \n",
       "...                  ...  \n",
       "2021-12-19          92.0  \n",
       "2021-12-20         232.0  \n",
       "2021-12-21          14.0  \n",
       "2022-01-20           5.0  \n",
       "2022-03-20          27.0  \n",
       "\n",
       "[228 rows x 15 columns]"
      ]
     },
     "execution_count": 233,
     "metadata": {},
     "output_type": "execute_result"
    }
   ],
   "source": [
    "ML"
   ]
  },
  {
   "cell_type": "code",
   "execution_count": 84,
   "id": "5a5b2ac0",
   "metadata": {
    "hidden": true
   },
   "outputs": [],
   "source": [
    "ML_array=np.array(ML)"
   ]
  },
  {
   "cell_type": "code",
   "execution_count": 85,
   "id": "3b29713b",
   "metadata": {
    "hidden": true
   },
   "outputs": [],
   "source": [
    "np.save('Hoorn_array', ML)"
   ]
  },
  {
   "cell_type": "markdown",
   "id": "8ef8db8b",
   "metadata": {
    "heading_collapsed": true
   },
   "source": [
    "## poi分类统计（舍弃）"
   ]
  },
  {
   "cell_type": "code",
   "execution_count": 55,
   "id": "6cc3c00f",
   "metadata": {
    "hidden": true
   },
   "outputs": [],
   "source": [
    "points=gpd.read_file('./data/Hoorn/shape_large/points.shp')"
   ]
  },
  {
   "cell_type": "code",
   "execution_count": 56,
   "id": "10b0c53d",
   "metadata": {},
   "outputs": [
    {
     "data": {
      "text/html": [
       "<div>\n",
       "<style scoped>\n",
       "    .dataframe tbody tr th:only-of-type {\n",
       "        vertical-align: middle;\n",
       "    }\n",
       "\n",
       "    .dataframe tbody tr th {\n",
       "        vertical-align: top;\n",
       "    }\n",
       "\n",
       "    .dataframe thead th {\n",
       "        text-align: right;\n",
       "    }\n",
       "</style>\n",
       "<table border=\"1\" class=\"dataframe\">\n",
       "  <thead>\n",
       "    <tr style=\"text-align: right;\">\n",
       "      <th></th>\n",
       "      <th>osm_id</th>\n",
       "      <th>timestamp</th>\n",
       "      <th>name</th>\n",
       "      <th>type</th>\n",
       "      <th>geometry</th>\n",
       "    </tr>\n",
       "  </thead>\n",
       "  <tbody>\n",
       "    <tr>\n",
       "      <th>0</th>\n",
       "      <td>34050780</td>\n",
       "      <td>None</td>\n",
       "      <td>Museum van de Twintigste Eeuw</td>\n",
       "      <td>museum</td>\n",
       "      <td>POINT (5.06242 52.63508)</td>\n",
       "    </tr>\n",
       "    <tr>\n",
       "      <th>1</th>\n",
       "      <td>47051205</td>\n",
       "      <td>None</td>\n",
       "      <td>Avenhorn</td>\n",
       "      <td>motorway_junctio</td>\n",
       "      <td>POINT (5.00851 52.63502)</td>\n",
       "    </tr>\n",
       "    <tr>\n",
       "      <th>2</th>\n",
       "      <td>47056631</td>\n",
       "      <td>None</td>\n",
       "      <td>None</td>\n",
       "      <td>crossing</td>\n",
       "      <td>POINT (5.05786 52.63695)</td>\n",
       "    </tr>\n",
       "    <tr>\n",
       "      <th>3</th>\n",
       "      <td>47060139</td>\n",
       "      <td>None</td>\n",
       "      <td>None</td>\n",
       "      <td>crossing</td>\n",
       "      <td>POINT (5.05724 52.63817)</td>\n",
       "    </tr>\n",
       "    <tr>\n",
       "      <th>4</th>\n",
       "      <td>47069901</td>\n",
       "      <td>None</td>\n",
       "      <td>None</td>\n",
       "      <td>crossing</td>\n",
       "      <td>POINT (5.05239 52.64179)</td>\n",
       "    </tr>\n",
       "    <tr>\n",
       "      <th>...</th>\n",
       "      <td>...</td>\n",
       "      <td>...</td>\n",
       "      <td>...</td>\n",
       "      <td>...</td>\n",
       "      <td>...</td>\n",
       "    </tr>\n",
       "    <tr>\n",
       "      <th>2397</th>\n",
       "      <td>804881165</td>\n",
       "      <td>None</td>\n",
       "      <td>None</td>\n",
       "      <td>traffic_signals</td>\n",
       "      <td>POINT (5.04726 52.64767)</td>\n",
       "    </tr>\n",
       "    <tr>\n",
       "      <th>2398</th>\n",
       "      <td>804881166</td>\n",
       "      <td>None</td>\n",
       "      <td>None</td>\n",
       "      <td>traffic_signals</td>\n",
       "      <td>POINT (5.04692 52.64760)</td>\n",
       "    </tr>\n",
       "    <tr>\n",
       "      <th>2399</th>\n",
       "      <td>804881167</td>\n",
       "      <td>None</td>\n",
       "      <td>None</td>\n",
       "      <td>traffic_signals</td>\n",
       "      <td>POINT (5.04659 52.64766)</td>\n",
       "    </tr>\n",
       "    <tr>\n",
       "      <th>2400</th>\n",
       "      <td>804881168</td>\n",
       "      <td>None</td>\n",
       "      <td>None</td>\n",
       "      <td>traffic_signals</td>\n",
       "      <td>POINT (5.04734 52.64798)</td>\n",
       "    </tr>\n",
       "    <tr>\n",
       "      <th>2401</th>\n",
       "      <td>804881169</td>\n",
       "      <td>None</td>\n",
       "      <td>None</td>\n",
       "      <td>traffic_signals</td>\n",
       "      <td>POINT (5.04717 52.64762)</td>\n",
       "    </tr>\n",
       "  </tbody>\n",
       "</table>\n",
       "<p>2402 rows × 5 columns</p>\n",
       "</div>"
      ],
      "text/plain": [
       "         osm_id timestamp                           name              type  \\\n",
       "0      34050780      None  Museum van de Twintigste Eeuw            museum   \n",
       "1      47051205      None                       Avenhorn  motorway_junctio   \n",
       "2      47056631      None                           None          crossing   \n",
       "3      47060139      None                           None          crossing   \n",
       "4      47069901      None                           None          crossing   \n",
       "...         ...       ...                            ...               ...   \n",
       "2397  804881165      None                           None   traffic_signals   \n",
       "2398  804881166      None                           None   traffic_signals   \n",
       "2399  804881167      None                           None   traffic_signals   \n",
       "2400  804881168      None                           None   traffic_signals   \n",
       "2401  804881169      None                           None   traffic_signals   \n",
       "\n",
       "                      geometry  \n",
       "0     POINT (5.06242 52.63508)  \n",
       "1     POINT (5.00851 52.63502)  \n",
       "2     POINT (5.05786 52.63695)  \n",
       "3     POINT (5.05724 52.63817)  \n",
       "4     POINT (5.05239 52.64179)  \n",
       "...                        ...  \n",
       "2397  POINT (5.04726 52.64767)  \n",
       "2398  POINT (5.04692 52.64760)  \n",
       "2399  POINT (5.04659 52.64766)  \n",
       "2400  POINT (5.04734 52.64798)  \n",
       "2401  POINT (5.04717 52.64762)  \n",
       "\n",
       "[2402 rows x 5 columns]"
      ]
     },
     "execution_count": 56,
     "metadata": {},
     "output_type": "execute_result"
    }
   ],
   "source": [
    "points"
   ]
  },
  {
   "cell_type": "code",
   "execution_count": 117,
   "id": "44ffd9af",
   "metadata": {
    "hidden": true
   },
   "outputs": [],
   "source": [
    "public=points['type'].isin(['post_box', 'pub',  'school', 'social_facility','charging_station','childcare','arts_centre',\n",
    "\n",
    "'community_centre','kindergarten','library',  'elevator','fire_station','post_depot', \n",
    "\n",
    " 'social_centre', 'marketplace','police', 'theatre','yard','music_school','townhall'])"
   ]
  },
  {
   "cell_type": "code",
   "execution_count": 118,
   "id": "63d35e87",
   "metadata": {
    "hidden": true
   },
   "outputs": [],
   "source": [
    "poi_public=points['type'][public].value_counts()"
   ]
  },
  {
   "cell_type": "code",
   "execution_count": 119,
   "id": "42c4df20",
   "metadata": {
    "hidden": true
   },
   "outputs": [],
   "source": [
    "poi_public=poi_public.values.sum()"
   ]
  },
  {
   "cell_type": "code",
   "execution_count": 120,
   "id": "dbe610c7",
   "metadata": {
    "hidden": true
   },
   "outputs": [
    {
     "data": {
      "text/plain": [
       "53"
      ]
     },
     "execution_count": 120,
     "metadata": {},
     "output_type": "execute_result"
    }
   ],
   "source": [
    "poi_public"
   ]
  },
  {
   "cell_type": "code",
   "execution_count": 121,
   "id": "90a972e5",
   "metadata": {
    "hidden": true
   },
   "outputs": [],
   "source": [
    "points['type'][public]='public'"
   ]
  },
  {
   "cell_type": "code",
   "execution_count": 122,
   "id": "f3d552d5",
   "metadata": {
    "hidden": true
   },
   "outputs": [],
   "source": [
    "health=points['type'].isin(['dentist','doctors','pharmacy', 'veterinary','hospital', 'clinic'])"
   ]
  },
  {
   "cell_type": "code",
   "execution_count": 123,
   "id": "0fd25495",
   "metadata": {
    "hidden": true
   },
   "outputs": [],
   "source": [
    "poi_health=points['type'][health].value_counts()"
   ]
  },
  {
   "cell_type": "code",
   "execution_count": 124,
   "id": "a60f1798",
   "metadata": {
    "hidden": true
   },
   "outputs": [],
   "source": [
    "poi_health=poi_health.values.sum()"
   ]
  },
  {
   "cell_type": "code",
   "execution_count": 125,
   "id": "6a887d11",
   "metadata": {
    "hidden": true
   },
   "outputs": [],
   "source": [
    "points['type'][health]='health'"
   ]
  },
  {
   "cell_type": "code",
   "execution_count": 126,
   "id": "10dafdd9",
   "metadata": {
    "hidden": true
   },
   "outputs": [],
   "source": [
    "leisure=points['type'].isin(['cafe', 'cinema','casino'])"
   ]
  },
  {
   "cell_type": "code",
   "execution_count": 127,
   "id": "c3b46720",
   "metadata": {
    "hidden": true
   },
   "outputs": [],
   "source": [
    "poi_leisure=points['type'][leisure].value_counts()"
   ]
  },
  {
   "cell_type": "code",
   "execution_count": 128,
   "id": "0a7cfd67",
   "metadata": {
    "hidden": true
   },
   "outputs": [],
   "source": [
    "poi_leisure=poi_leisure.values.sum()"
   ]
  },
  {
   "cell_type": "code",
   "execution_count": 129,
   "id": "80cd007a",
   "metadata": {
    "hidden": true
   },
   "outputs": [
    {
     "data": {
      "text/plain": [
       "8"
      ]
     },
     "execution_count": 129,
     "metadata": {},
     "output_type": "execute_result"
    }
   ],
   "source": [
    "poi_leisure"
   ]
  },
  {
   "cell_type": "code",
   "execution_count": 130,
   "id": "fd85650e",
   "metadata": {
    "hidden": true
   },
   "outputs": [],
   "source": [
    "points['type'][leisure]='leisure'"
   ]
  },
  {
   "cell_type": "code",
   "execution_count": 131,
   "id": "671257ae",
   "metadata": {
    "hidden": true
   },
   "outputs": [],
   "source": [
    "catering=points['type'].isin([ 'restaurant','fast_food'])"
   ]
  },
  {
   "cell_type": "code",
   "execution_count": 132,
   "id": "83c8c8b1",
   "metadata": {
    "hidden": true
   },
   "outputs": [],
   "source": [
    "poi_catering=points['type'][catering].value_counts()"
   ]
  },
  {
   "cell_type": "code",
   "execution_count": 133,
   "id": "3f45b9d9",
   "metadata": {
    "hidden": true
   },
   "outputs": [],
   "source": [
    "poi_catering=poi_catering.values.sum()"
   ]
  },
  {
   "cell_type": "code",
   "execution_count": 134,
   "id": "adf31d70",
   "metadata": {
    "hidden": true
   },
   "outputs": [
    {
     "data": {
      "text/plain": [
       "28"
      ]
     },
     "execution_count": 134,
     "metadata": {},
     "output_type": "execute_result"
    }
   ],
   "source": [
    "poi_catering"
   ]
  },
  {
   "cell_type": "code",
   "execution_count": 135,
   "id": "b9fe2e23",
   "metadata": {
    "hidden": true
   },
   "outputs": [],
   "source": [
    "points['type'][catering]='catering'"
   ]
  },
  {
   "cell_type": "code",
   "execution_count": 136,
   "id": "f4d750ec",
   "metadata": {
    "hidden": true
   },
   "outputs": [],
   "source": [
    "accommodation=points['type'].isin(['hotel','shelter','caravan_site'])"
   ]
  },
  {
   "cell_type": "code",
   "execution_count": 137,
   "id": "2acbc00a",
   "metadata": {
    "hidden": true
   },
   "outputs": [],
   "source": [
    "poi_accommodation=points['type'][accommodation].value_counts()"
   ]
  },
  {
   "cell_type": "code",
   "execution_count": 138,
   "id": "3e55b0ad",
   "metadata": {
    "hidden": true
   },
   "outputs": [],
   "source": [
    "poi_accommodation=poi_accommodation.values.sum()"
   ]
  },
  {
   "cell_type": "code",
   "execution_count": 139,
   "id": "4197fb32",
   "metadata": {
    "hidden": true
   },
   "outputs": [
    {
     "data": {
      "text/plain": [
       "0"
      ]
     },
     "execution_count": 139,
     "metadata": {},
     "output_type": "execute_result"
    }
   ],
   "source": [
    "poi_accommodation"
   ]
  },
  {
   "cell_type": "code",
   "execution_count": 140,
   "id": "4abb83ce",
   "metadata": {
    "hidden": true
   },
   "outputs": [],
   "source": [
    "points['type'][accommodation]='accommodation'"
   ]
  },
  {
   "cell_type": "code",
   "execution_count": 141,
   "id": "a9d379b1",
   "metadata": {
    "hidden": true
   },
   "outputs": [],
   "source": [
    "shopping=points['type'].isin(['car_wash','vending_machine', 'car_sharing','ice_cream','parking', 'shower','bicycle_repair_s', 'car_rental','taxi'])"
   ]
  },
  {
   "cell_type": "code",
   "execution_count": 142,
   "id": "eb495095",
   "metadata": {
    "hidden": true
   },
   "outputs": [],
   "source": [
    "poi_shopping=points['type'][shopping].value_counts()"
   ]
  },
  {
   "cell_type": "code",
   "execution_count": 143,
   "id": "9dc94ff4",
   "metadata": {
    "hidden": true
   },
   "outputs": [],
   "source": [
    "poi_shopping=poi_shopping.values.sum()"
   ]
  },
  {
   "cell_type": "code",
   "execution_count": 144,
   "id": "9ff0174f",
   "metadata": {
    "hidden": true
   },
   "outputs": [
    {
     "data": {
      "text/plain": [
       "6"
      ]
     },
     "execution_count": 144,
     "metadata": {},
     "output_type": "execute_result"
    }
   ],
   "source": [
    "poi_shopping"
   ]
  },
  {
   "cell_type": "code",
   "execution_count": 145,
   "id": "0dccf3c1",
   "metadata": {
    "hidden": true
   },
   "outputs": [],
   "source": [
    "points['type'][shopping]='shopping'"
   ]
  },
  {
   "cell_type": "code",
   "execution_count": 146,
   "id": "126719ae",
   "metadata": {
    "hidden": true
   },
   "outputs": [],
   "source": [
    "money=points['type'].isin(['atm','bank'])"
   ]
  },
  {
   "cell_type": "code",
   "execution_count": 147,
   "id": "e13bbcdf",
   "metadata": {
    "hidden": true
   },
   "outputs": [],
   "source": [
    "poi_money=points['type'][money].value_counts()"
   ]
  },
  {
   "cell_type": "code",
   "execution_count": 148,
   "id": "98274b71",
   "metadata": {
    "hidden": true
   },
   "outputs": [],
   "source": [
    "poi_money=poi_money.values.sum()"
   ]
  },
  {
   "cell_type": "code",
   "execution_count": 149,
   "id": "f7d35608",
   "metadata": {
    "hidden": true
   },
   "outputs": [
    {
     "data": {
      "text/plain": [
       "4"
      ]
     },
     "execution_count": 149,
     "metadata": {},
     "output_type": "execute_result"
    }
   ],
   "source": [
    "poi_money"
   ]
  },
  {
   "cell_type": "code",
   "execution_count": 150,
   "id": "5d0a5b3b",
   "metadata": {
    "hidden": true
   },
   "outputs": [],
   "source": [
    "points['type'][money]='money'"
   ]
  },
  {
   "cell_type": "code",
   "execution_count": 151,
   "id": "26a2ac9c",
   "metadata": {
    "hidden": true
   },
   "outputs": [],
   "source": [
    "tourism=points['type'].isin(['artwork', 'memorial', 'gallery','museum','attraction', 'cannon',  'archaeological_s',  'viewpoint', 'picnic_site'])"
   ]
  },
  {
   "cell_type": "code",
   "execution_count": 152,
   "id": "71cfdb9c",
   "metadata": {
    "hidden": true
   },
   "outputs": [],
   "source": [
    "poi_tourism=points['type'][tourism].value_counts()"
   ]
  },
  {
   "cell_type": "code",
   "execution_count": 153,
   "id": "e2e827a1",
   "metadata": {
    "hidden": true
   },
   "outputs": [],
   "source": [
    "poi_tourism=poi_tourism.values.sum()"
   ]
  },
  {
   "cell_type": "code",
   "execution_count": 154,
   "id": "9ac6a593",
   "metadata": {
    "hidden": true
   },
   "outputs": [
    {
     "data": {
      "text/plain": [
       "7"
      ]
     },
     "execution_count": 154,
     "metadata": {},
     "output_type": "execute_result"
    }
   ],
   "source": [
    "poi_tourism"
   ]
  },
  {
   "cell_type": "code",
   "execution_count": 155,
   "id": "7cb2746c",
   "metadata": {
    "hidden": true
   },
   "outputs": [],
   "source": [
    "points['type'][tourism]='tourism'"
   ]
  },
  {
   "cell_type": "code",
   "execution_count": 156,
   "id": "50036c20",
   "metadata": {
    "hidden": true
   },
   "outputs": [],
   "source": [
    "miscpoi=points['type'].isin(['bench','waste_basket','tower','toilets','surveillance','works','drinking_water', 'windmill','fountain', 'water_well'])"
   ]
  },
  {
   "cell_type": "code",
   "execution_count": 157,
   "id": "1c3fb8ed",
   "metadata": {
    "hidden": true
   },
   "outputs": [],
   "source": [
    "poi_miscpoi=points['type'][miscpoi].value_counts()"
   ]
  },
  {
   "cell_type": "code",
   "execution_count": 158,
   "id": "f4321f77",
   "metadata": {
    "hidden": true
   },
   "outputs": [],
   "source": [
    "poi_miscpoi=poi_miscpoi.values.sum()"
   ]
  },
  {
   "cell_type": "code",
   "execution_count": 159,
   "id": "f4f5650e",
   "metadata": {
    "hidden": true
   },
   "outputs": [
    {
     "data": {
      "text/plain": [
       "34"
      ]
     },
     "execution_count": 159,
     "metadata": {},
     "output_type": "execute_result"
    }
   ],
   "source": [
    "poi_miscpoi"
   ]
  },
  {
   "cell_type": "code",
   "execution_count": 160,
   "id": "95d89db4",
   "metadata": {
    "hidden": true
   },
   "outputs": [],
   "source": [
    "points['type'][miscpoi]='miscpoi'"
   ]
  },
  {
   "cell_type": "code",
   "execution_count": 161,
   "id": "e93e6311",
   "metadata": {
    "hidden": true
   },
   "outputs": [],
   "source": [
    "other=points['type'].isin(['construction','give_way','clock','street_cabinet', 'studio', 'place_of_worship',  'crane',  'communications_t','flagpole', 'chimney', 'lighthouse','tram_stop', 'yes'])"
   ]
  },
  {
   "cell_type": "code",
   "execution_count": 162,
   "id": "694b87a2",
   "metadata": {
    "hidden": true
   },
   "outputs": [],
   "source": [
    "poi_other=points['type'][other].value_counts()"
   ]
  },
  {
   "cell_type": "code",
   "execution_count": 163,
   "id": "c8d46a21",
   "metadata": {
    "hidden": true
   },
   "outputs": [],
   "source": [
    "poi_other=poi_other.values.sum()"
   ]
  },
  {
   "cell_type": "code",
   "execution_count": 164,
   "id": "9e9d5185",
   "metadata": {
    "hidden": true
   },
   "outputs": [
    {
     "data": {
      "text/plain": [
       "4"
      ]
     },
     "execution_count": 164,
     "metadata": {},
     "output_type": "execute_result"
    }
   ],
   "source": [
    "poi_other"
   ]
  },
  {
   "cell_type": "code",
   "execution_count": 165,
   "id": "41839ff4",
   "metadata": {
    "hidden": true
   },
   "outputs": [],
   "source": [
    "points['type'][other]='other'"
   ]
  },
  {
   "cell_type": "code",
   "execution_count": 166,
   "id": "5d914f7e",
   "metadata": {
    "hidden": true
   },
   "outputs": [],
   "source": [
    "traffic=points['type'].isin(['mast','bicycle_parking','crossing', 'recycling', 'traffic_signals', 'signal','switch', 'level_crossing','motorway_junctio','ferry_terminal','turning_circle', 'buffer_stop', 'street_lamp','fuel', 'parking_entrance', 'stop', 'station','milestone','mini_roundabout',  'railway_crossing','junction'])"
   ]
  },
  {
   "cell_type": "code",
   "execution_count": 167,
   "id": "17bb9e56",
   "metadata": {
    "hidden": true
   },
   "outputs": [],
   "source": [
    "poi_traffic=points['type'][traffic].value_counts()"
   ]
  },
  {
   "cell_type": "code",
   "execution_count": 168,
   "id": "309a0af6",
   "metadata": {
    "hidden": true
   },
   "outputs": [],
   "source": [
    "poi_traffic=poi_traffic.values.sum()"
   ]
  },
  {
   "cell_type": "code",
   "execution_count": 169,
   "id": "cae55e15",
   "metadata": {
    "hidden": true
   },
   "outputs": [
    {
     "data": {
      "text/plain": [
       "207"
      ]
     },
     "execution_count": 169,
     "metadata": {},
     "output_type": "execute_result"
    }
   ],
   "source": [
    "poi_traffic"
   ]
  },
  {
   "cell_type": "code",
   "execution_count": 170,
   "id": "952b3eb1",
   "metadata": {
    "hidden": true
   },
   "outputs": [],
   "source": [
    "points['type'][traffic]='traffic'"
   ]
  },
  {
   "cell_type": "code",
   "execution_count": 182,
   "id": "388d8917",
   "metadata": {
    "hidden": true
   },
   "outputs": [],
   "source": [
    "poi=pd.DataFrame(np.array([poi_public,poi_health,poi_leisure,poi_catering,poi_shopping,poi_money,poi_tourism,poi_miscpoi,poi_traffic,poi_other]).reshape(1,10),\n",
    "                 columns=['poi_public','poi_health','poi_leisure','poi_catering','poi_shopping','poi_money','poi_tourism','poi_miscpoi','poi_traffic','poi_other'],\n",
    "                 index=['counter']\n",
    "                )# 去除数量为0的poi"
   ]
  },
  {
   "cell_type": "code",
   "execution_count": 183,
   "id": "69c1ded8",
   "metadata": {
    "hidden": true
   },
   "outputs": [
    {
     "data": {
      "text/html": [
       "<div>\n",
       "<style scoped>\n",
       "    .dataframe tbody tr th:only-of-type {\n",
       "        vertical-align: middle;\n",
       "    }\n",
       "\n",
       "    .dataframe tbody tr th {\n",
       "        vertical-align: top;\n",
       "    }\n",
       "\n",
       "    .dataframe thead th {\n",
       "        text-align: right;\n",
       "    }\n",
       "</style>\n",
       "<table border=\"1\" class=\"dataframe\">\n",
       "  <thead>\n",
       "    <tr style=\"text-align: right;\">\n",
       "      <th></th>\n",
       "      <th>poi_public</th>\n",
       "      <th>poi_health</th>\n",
       "      <th>poi_leisure</th>\n",
       "      <th>poi_catering</th>\n",
       "      <th>poi_shopping</th>\n",
       "      <th>poi_money</th>\n",
       "      <th>poi_tourism</th>\n",
       "      <th>poi_miscpoi</th>\n",
       "      <th>poi_traffic</th>\n",
       "      <th>poi_other</th>\n",
       "    </tr>\n",
       "  </thead>\n",
       "  <tbody>\n",
       "    <tr>\n",
       "      <th>counter</th>\n",
       "      <td>53</td>\n",
       "      <td>17</td>\n",
       "      <td>8</td>\n",
       "      <td>28</td>\n",
       "      <td>6</td>\n",
       "      <td>4</td>\n",
       "      <td>7</td>\n",
       "      <td>34</td>\n",
       "      <td>207</td>\n",
       "      <td>4</td>\n",
       "    </tr>\n",
       "  </tbody>\n",
       "</table>\n",
       "</div>"
      ],
      "text/plain": [
       "         poi_public  poi_health  poi_leisure  poi_catering  poi_shopping  \\\n",
       "counter          53          17            8            28             6   \n",
       "\n",
       "         poi_money  poi_tourism  poi_miscpoi  poi_traffic  poi_other  \n",
       "counter          4            7           34          207          4  "
      ]
     },
     "execution_count": 183,
     "metadata": {},
     "output_type": "execute_result"
    }
   ],
   "source": [
    "poi"
   ]
  },
  {
   "cell_type": "code",
   "execution_count": 173,
   "id": "afdc5f65",
   "metadata": {
    "hidden": true
   },
   "outputs": [],
   "source": [
    "# poi_other=poi_other+poi_money+poi_shopping+poi_accommodation+poi_health+poi_leisure"
   ]
  },
  {
   "cell_type": "code",
   "execution_count": 144,
   "id": "d4f09694",
   "metadata": {
    "hidden": true
   },
   "outputs": [],
   "source": [
    "# poi['poi_other']=poi_other"
   ]
  },
  {
   "cell_type": "code",
   "execution_count": 145,
   "id": "ab139e77",
   "metadata": {
    "hidden": true
   },
   "outputs": [],
   "source": [
    "# poi=poi.drop(['poi_health','poi_leisure','poi_accommodation','poi_shopping','poi_money'],axis=1)"
   ]
  },
  {
   "cell_type": "code",
   "execution_count": 146,
   "id": "cdd3d616",
   "metadata": {
    "hidden": true
   },
   "outputs": [],
   "source": [
    "# poi"
   ]
  },
  {
   "cell_type": "code",
   "execution_count": 184,
   "id": "f0ab8473",
   "metadata": {
    "hidden": true
   },
   "outputs": [],
   "source": [
    "poi_array=np.array(poi)"
   ]
  },
  {
   "cell_type": "code",
   "execution_count": 185,
   "id": "df19dec1",
   "metadata": {
    "hidden": true
   },
   "outputs": [],
   "source": [
    "poi_array=np.tile(poi,(249,1))"
   ]
  },
  {
   "cell_type": "code",
   "execution_count": 186,
   "id": "73e5bf90",
   "metadata": {
    "hidden": true
   },
   "outputs": [
    {
     "data": {
      "text/plain": [
       "array([[ 53,  17,   8, ...,  34, 207,   4],\n",
       "       [ 53,  17,   8, ...,  34, 207,   4],\n",
       "       [ 53,  17,   8, ...,  34, 207,   4],\n",
       "       ...,\n",
       "       [ 53,  17,   8, ...,  34, 207,   4],\n",
       "       [ 53,  17,   8, ...,  34, 207,   4],\n",
       "       [ 53,  17,   8, ...,  34, 207,   4]], dtype=int64)"
      ]
     },
     "execution_count": 186,
     "metadata": {},
     "output_type": "execute_result"
    }
   ],
   "source": [
    "poi_array"
   ]
  },
  {
   "cell_type": "code",
   "execution_count": 187,
   "id": "17f71e73",
   "metadata": {
    "hidden": true
   },
   "outputs": [],
   "source": [
    "poi_df=pd.DataFrame(poi_array,columns=poi.columns,index=M_train.index)"
   ]
  },
  {
   "cell_type": "code",
   "execution_count": 188,
   "id": "de1f0505",
   "metadata": {
    "hidden": true
   },
   "outputs": [
    {
     "data": {
      "text/html": [
       "<div>\n",
       "<style scoped>\n",
       "    .dataframe tbody tr th:only-of-type {\n",
       "        vertical-align: middle;\n",
       "    }\n",
       "\n",
       "    .dataframe tbody tr th {\n",
       "        vertical-align: top;\n",
       "    }\n",
       "\n",
       "    .dataframe thead th {\n",
       "        text-align: right;\n",
       "    }\n",
       "</style>\n",
       "<table border=\"1\" class=\"dataframe\">\n",
       "  <thead>\n",
       "    <tr style=\"text-align: right;\">\n",
       "      <th></th>\n",
       "      <th>poi_public</th>\n",
       "      <th>poi_health</th>\n",
       "      <th>poi_leisure</th>\n",
       "      <th>poi_catering</th>\n",
       "      <th>poi_shopping</th>\n",
       "      <th>poi_money</th>\n",
       "      <th>poi_tourism</th>\n",
       "      <th>poi_miscpoi</th>\n",
       "      <th>poi_traffic</th>\n",
       "      <th>poi_other</th>\n",
       "    </tr>\n",
       "  </thead>\n",
       "  <tbody>\n",
       "    <tr>\n",
       "      <th>2022-01-01</th>\n",
       "      <td>53</td>\n",
       "      <td>17</td>\n",
       "      <td>8</td>\n",
       "      <td>28</td>\n",
       "      <td>6</td>\n",
       "      <td>4</td>\n",
       "      <td>7</td>\n",
       "      <td>34</td>\n",
       "      <td>207</td>\n",
       "      <td>4</td>\n",
       "    </tr>\n",
       "    <tr>\n",
       "      <th>2022-01-02</th>\n",
       "      <td>53</td>\n",
       "      <td>17</td>\n",
       "      <td>8</td>\n",
       "      <td>28</td>\n",
       "      <td>6</td>\n",
       "      <td>4</td>\n",
       "      <td>7</td>\n",
       "      <td>34</td>\n",
       "      <td>207</td>\n",
       "      <td>4</td>\n",
       "    </tr>\n",
       "    <tr>\n",
       "      <th>2022-01-07</th>\n",
       "      <td>53</td>\n",
       "      <td>17</td>\n",
       "      <td>8</td>\n",
       "      <td>28</td>\n",
       "      <td>6</td>\n",
       "      <td>4</td>\n",
       "      <td>7</td>\n",
       "      <td>34</td>\n",
       "      <td>207</td>\n",
       "      <td>4</td>\n",
       "    </tr>\n",
       "    <tr>\n",
       "      <th>2022-01-10</th>\n",
       "      <td>53</td>\n",
       "      <td>17</td>\n",
       "      <td>8</td>\n",
       "      <td>28</td>\n",
       "      <td>6</td>\n",
       "      <td>4</td>\n",
       "      <td>7</td>\n",
       "      <td>34</td>\n",
       "      <td>207</td>\n",
       "      <td>4</td>\n",
       "    </tr>\n",
       "    <tr>\n",
       "      <th>2022-01-11</th>\n",
       "      <td>53</td>\n",
       "      <td>17</td>\n",
       "      <td>8</td>\n",
       "      <td>28</td>\n",
       "      <td>6</td>\n",
       "      <td>4</td>\n",
       "      <td>7</td>\n",
       "      <td>34</td>\n",
       "      <td>207</td>\n",
       "      <td>4</td>\n",
       "    </tr>\n",
       "    <tr>\n",
       "      <th>...</th>\n",
       "      <td>...</td>\n",
       "      <td>...</td>\n",
       "      <td>...</td>\n",
       "      <td>...</td>\n",
       "      <td>...</td>\n",
       "      <td>...</td>\n",
       "      <td>...</td>\n",
       "      <td>...</td>\n",
       "      <td>...</td>\n",
       "      <td>...</td>\n",
       "    </tr>\n",
       "    <tr>\n",
       "      <th>2022-12-25</th>\n",
       "      <td>53</td>\n",
       "      <td>17</td>\n",
       "      <td>8</td>\n",
       "      <td>28</td>\n",
       "      <td>6</td>\n",
       "      <td>4</td>\n",
       "      <td>7</td>\n",
       "      <td>34</td>\n",
       "      <td>207</td>\n",
       "      <td>4</td>\n",
       "    </tr>\n",
       "    <tr>\n",
       "      <th>2022-12-27</th>\n",
       "      <td>53</td>\n",
       "      <td>17</td>\n",
       "      <td>8</td>\n",
       "      <td>28</td>\n",
       "      <td>6</td>\n",
       "      <td>4</td>\n",
       "      <td>7</td>\n",
       "      <td>34</td>\n",
       "      <td>207</td>\n",
       "      <td>4</td>\n",
       "    </tr>\n",
       "    <tr>\n",
       "      <th>2022-12-29</th>\n",
       "      <td>53</td>\n",
       "      <td>17</td>\n",
       "      <td>8</td>\n",
       "      <td>28</td>\n",
       "      <td>6</td>\n",
       "      <td>4</td>\n",
       "      <td>7</td>\n",
       "      <td>34</td>\n",
       "      <td>207</td>\n",
       "      <td>4</td>\n",
       "    </tr>\n",
       "    <tr>\n",
       "      <th>2022-12-30</th>\n",
       "      <td>53</td>\n",
       "      <td>17</td>\n",
       "      <td>8</td>\n",
       "      <td>28</td>\n",
       "      <td>6</td>\n",
       "      <td>4</td>\n",
       "      <td>7</td>\n",
       "      <td>34</td>\n",
       "      <td>207</td>\n",
       "      <td>4</td>\n",
       "    </tr>\n",
       "    <tr>\n",
       "      <th>2022-12-31</th>\n",
       "      <td>53</td>\n",
       "      <td>17</td>\n",
       "      <td>8</td>\n",
       "      <td>28</td>\n",
       "      <td>6</td>\n",
       "      <td>4</td>\n",
       "      <td>7</td>\n",
       "      <td>34</td>\n",
       "      <td>207</td>\n",
       "      <td>4</td>\n",
       "    </tr>\n",
       "  </tbody>\n",
       "</table>\n",
       "<p>249 rows × 10 columns</p>\n",
       "</div>"
      ],
      "text/plain": [
       "            poi_public  poi_health  poi_leisure  poi_catering  poi_shopping  \\\n",
       "2022-01-01          53          17            8            28             6   \n",
       "2022-01-02          53          17            8            28             6   \n",
       "2022-01-07          53          17            8            28             6   \n",
       "2022-01-10          53          17            8            28             6   \n",
       "2022-01-11          53          17            8            28             6   \n",
       "...                ...         ...          ...           ...           ...   \n",
       "2022-12-25          53          17            8            28             6   \n",
       "2022-12-27          53          17            8            28             6   \n",
       "2022-12-29          53          17            8            28             6   \n",
       "2022-12-30          53          17            8            28             6   \n",
       "2022-12-31          53          17            8            28             6   \n",
       "\n",
       "            poi_money  poi_tourism  poi_miscpoi  poi_traffic  poi_other  \n",
       "2022-01-01          4            7           34          207          4  \n",
       "2022-01-02          4            7           34          207          4  \n",
       "2022-01-07          4            7           34          207          4  \n",
       "2022-01-10          4            7           34          207          4  \n",
       "2022-01-11          4            7           34          207          4  \n",
       "...               ...          ...          ...          ...        ...  \n",
       "2022-12-25          4            7           34          207          4  \n",
       "2022-12-27          4            7           34          207          4  \n",
       "2022-12-29          4            7           34          207          4  \n",
       "2022-12-30          4            7           34          207          4  \n",
       "2022-12-31          4            7           34          207          4  \n",
       "\n",
       "[249 rows x 10 columns]"
      ]
     },
     "execution_count": 188,
     "metadata": {},
     "output_type": "execute_result"
    }
   ],
   "source": [
    "poi_df"
   ]
  },
  {
   "cell_type": "code",
   "execution_count": 189,
   "id": "aebd241e",
   "metadata": {
    "hidden": true
   },
   "outputs": [],
   "source": [
    "M_train=pd.concat([M_train,poi_df],axis=1)"
   ]
  },
  {
   "cell_type": "code",
   "execution_count": 190,
   "id": "2fb3b9b0",
   "metadata": {
    "hidden": true,
    "scrolled": true
   },
   "outputs": [
    {
     "data": {
      "text/html": [
       "<div>\n",
       "<style scoped>\n",
       "    .dataframe tbody tr th:only-of-type {\n",
       "        vertical-align: middle;\n",
       "    }\n",
       "\n",
       "    .dataframe tbody tr th {\n",
       "        vertical-align: top;\n",
       "    }\n",
       "\n",
       "    .dataframe thead th {\n",
       "        text-align: right;\n",
       "    }\n",
       "</style>\n",
       "<table border=\"1\" class=\"dataframe\">\n",
       "  <thead>\n",
       "    <tr style=\"text-align: right;\">\n",
       "      <th></th>\n",
       "      <th>total_litter</th>\n",
       "      <th>weather</th>\n",
       "      <th>Max Temperature</th>\n",
       "      <th>Min Temperature</th>\n",
       "      <th>Max Dew Point</th>\n",
       "      <th>Min Dew Point</th>\n",
       "      <th>Max Humidity</th>\n",
       "      <th>Min Humidity</th>\n",
       "      <th>Max Wind Speed</th>\n",
       "      <th>Min Wind Speed</th>\n",
       "      <th>poi_public</th>\n",
       "      <th>poi_health</th>\n",
       "      <th>poi_leisure</th>\n",
       "      <th>poi_catering</th>\n",
       "      <th>poi_shopping</th>\n",
       "      <th>poi_money</th>\n",
       "      <th>poi_tourism</th>\n",
       "      <th>poi_miscpoi</th>\n",
       "      <th>poi_traffic</th>\n",
       "      <th>poi_other</th>\n",
       "    </tr>\n",
       "  </thead>\n",
       "  <tbody>\n",
       "    <tr>\n",
       "      <th>2022-01-01</th>\n",
       "      <td>57.0</td>\n",
       "      <td>Showers</td>\n",
       "      <td>54</td>\n",
       "      <td>52</td>\n",
       "      <td>50</td>\n",
       "      <td>50</td>\n",
       "      <td>88</td>\n",
       "      <td>88</td>\n",
       "      <td>12</td>\n",
       "      <td>12</td>\n",
       "      <td>53</td>\n",
       "      <td>17</td>\n",
       "      <td>8</td>\n",
       "      <td>28</td>\n",
       "      <td>6</td>\n",
       "      <td>4</td>\n",
       "      <td>7</td>\n",
       "      <td>34</td>\n",
       "      <td>207</td>\n",
       "      <td>4</td>\n",
       "    </tr>\n",
       "    <tr>\n",
       "      <th>2022-01-02</th>\n",
       "      <td>48.0</td>\n",
       "      <td>Showers</td>\n",
       "      <td>55</td>\n",
       "      <td>50</td>\n",
       "      <td>50</td>\n",
       "      <td>45</td>\n",
       "      <td>94</td>\n",
       "      <td>77</td>\n",
       "      <td>30</td>\n",
       "      <td>12</td>\n",
       "      <td>53</td>\n",
       "      <td>17</td>\n",
       "      <td>8</td>\n",
       "      <td>28</td>\n",
       "      <td>6</td>\n",
       "      <td>4</td>\n",
       "      <td>7</td>\n",
       "      <td>34</td>\n",
       "      <td>207</td>\n",
       "      <td>4</td>\n",
       "    </tr>\n",
       "    <tr>\n",
       "      <th>2022-01-07</th>\n",
       "      <td>2.0</td>\n",
       "      <td>Showers</td>\n",
       "      <td>45</td>\n",
       "      <td>36</td>\n",
       "      <td>39</td>\n",
       "      <td>32</td>\n",
       "      <td>93</td>\n",
       "      <td>70</td>\n",
       "      <td>24</td>\n",
       "      <td>5</td>\n",
       "      <td>53</td>\n",
       "      <td>17</td>\n",
       "      <td>8</td>\n",
       "      <td>28</td>\n",
       "      <td>6</td>\n",
       "      <td>4</td>\n",
       "      <td>7</td>\n",
       "      <td>34</td>\n",
       "      <td>207</td>\n",
       "      <td>4</td>\n",
       "    </tr>\n",
       "    <tr>\n",
       "      <th>2022-01-10</th>\n",
       "      <td>41.0</td>\n",
       "      <td>Cloudy</td>\n",
       "      <td>45</td>\n",
       "      <td>32</td>\n",
       "      <td>41</td>\n",
       "      <td>30</td>\n",
       "      <td>100</td>\n",
       "      <td>81</td>\n",
       "      <td>9</td>\n",
       "      <td>2</td>\n",
       "      <td>53</td>\n",
       "      <td>17</td>\n",
       "      <td>8</td>\n",
       "      <td>28</td>\n",
       "      <td>6</td>\n",
       "      <td>4</td>\n",
       "      <td>7</td>\n",
       "      <td>34</td>\n",
       "      <td>207</td>\n",
       "      <td>4</td>\n",
       "    </tr>\n",
       "    <tr>\n",
       "      <th>2022-01-11</th>\n",
       "      <td>2.0</td>\n",
       "      <td>Foggy</td>\n",
       "      <td>41</td>\n",
       "      <td>32</td>\n",
       "      <td>39</td>\n",
       "      <td>32</td>\n",
       "      <td>100</td>\n",
       "      <td>76</td>\n",
       "      <td>14</td>\n",
       "      <td>6</td>\n",
       "      <td>53</td>\n",
       "      <td>17</td>\n",
       "      <td>8</td>\n",
       "      <td>28</td>\n",
       "      <td>6</td>\n",
       "      <td>4</td>\n",
       "      <td>7</td>\n",
       "      <td>34</td>\n",
       "      <td>207</td>\n",
       "      <td>4</td>\n",
       "    </tr>\n",
       "    <tr>\n",
       "      <th>...</th>\n",
       "      <td>...</td>\n",
       "      <td>...</td>\n",
       "      <td>...</td>\n",
       "      <td>...</td>\n",
       "      <td>...</td>\n",
       "      <td>...</td>\n",
       "      <td>...</td>\n",
       "      <td>...</td>\n",
       "      <td>...</td>\n",
       "      <td>...</td>\n",
       "      <td>...</td>\n",
       "      <td>...</td>\n",
       "      <td>...</td>\n",
       "      <td>...</td>\n",
       "      <td>...</td>\n",
       "      <td>...</td>\n",
       "      <td>...</td>\n",
       "      <td>...</td>\n",
       "      <td>...</td>\n",
       "      <td>...</td>\n",
       "    </tr>\n",
       "    <tr>\n",
       "      <th>2022-12-25</th>\n",
       "      <td>229.0</td>\n",
       "      <td>Showers</td>\n",
       "      <td>48</td>\n",
       "      <td>45</td>\n",
       "      <td>48</td>\n",
       "      <td>45</td>\n",
       "      <td>100</td>\n",
       "      <td>93</td>\n",
       "      <td>12</td>\n",
       "      <td>5</td>\n",
       "      <td>53</td>\n",
       "      <td>17</td>\n",
       "      <td>8</td>\n",
       "      <td>28</td>\n",
       "      <td>6</td>\n",
       "      <td>4</td>\n",
       "      <td>7</td>\n",
       "      <td>34</td>\n",
       "      <td>207</td>\n",
       "      <td>4</td>\n",
       "    </tr>\n",
       "    <tr>\n",
       "      <th>2022-12-27</th>\n",
       "      <td>152.0</td>\n",
       "      <td>Cloudy</td>\n",
       "      <td>46</td>\n",
       "      <td>41</td>\n",
       "      <td>43</td>\n",
       "      <td>36</td>\n",
       "      <td>93</td>\n",
       "      <td>71</td>\n",
       "      <td>22</td>\n",
       "      <td>9</td>\n",
       "      <td>53</td>\n",
       "      <td>17</td>\n",
       "      <td>8</td>\n",
       "      <td>28</td>\n",
       "      <td>6</td>\n",
       "      <td>4</td>\n",
       "      <td>7</td>\n",
       "      <td>34</td>\n",
       "      <td>207</td>\n",
       "      <td>4</td>\n",
       "    </tr>\n",
       "    <tr>\n",
       "      <th>2022-12-29</th>\n",
       "      <td>160.0</td>\n",
       "      <td>Showers</td>\n",
       "      <td>52</td>\n",
       "      <td>45</td>\n",
       "      <td>48</td>\n",
       "      <td>41</td>\n",
       "      <td>93</td>\n",
       "      <td>76</td>\n",
       "      <td>29</td>\n",
       "      <td>15</td>\n",
       "      <td>53</td>\n",
       "      <td>17</td>\n",
       "      <td>8</td>\n",
       "      <td>28</td>\n",
       "      <td>6</td>\n",
       "      <td>4</td>\n",
       "      <td>7</td>\n",
       "      <td>34</td>\n",
       "      <td>207</td>\n",
       "      <td>4</td>\n",
       "    </tr>\n",
       "    <tr>\n",
       "      <th>2022-12-30</th>\n",
       "      <td>228.0</td>\n",
       "      <td>Showers</td>\n",
       "      <td>54</td>\n",
       "      <td>39</td>\n",
       "      <td>52</td>\n",
       "      <td>39</td>\n",
       "      <td>100</td>\n",
       "      <td>81</td>\n",
       "      <td>29</td>\n",
       "      <td>12</td>\n",
       "      <td>53</td>\n",
       "      <td>17</td>\n",
       "      <td>8</td>\n",
       "      <td>28</td>\n",
       "      <td>6</td>\n",
       "      <td>4</td>\n",
       "      <td>7</td>\n",
       "      <td>34</td>\n",
       "      <td>207</td>\n",
       "      <td>4</td>\n",
       "    </tr>\n",
       "    <tr>\n",
       "      <th>2022-12-31</th>\n",
       "      <td>1.0</td>\n",
       "      <td>Showers</td>\n",
       "      <td>59</td>\n",
       "      <td>50</td>\n",
       "      <td>55</td>\n",
       "      <td>46</td>\n",
       "      <td>100</td>\n",
       "      <td>63</td>\n",
       "      <td>31</td>\n",
       "      <td>9</td>\n",
       "      <td>53</td>\n",
       "      <td>17</td>\n",
       "      <td>8</td>\n",
       "      <td>28</td>\n",
       "      <td>6</td>\n",
       "      <td>4</td>\n",
       "      <td>7</td>\n",
       "      <td>34</td>\n",
       "      <td>207</td>\n",
       "      <td>4</td>\n",
       "    </tr>\n",
       "  </tbody>\n",
       "</table>\n",
       "<p>249 rows × 20 columns</p>\n",
       "</div>"
      ],
      "text/plain": [
       "            total_litter  weather  Max Temperature  Min Temperature  \\\n",
       "2022-01-01          57.0  Showers               54               52   \n",
       "2022-01-02          48.0  Showers               55               50   \n",
       "2022-01-07           2.0  Showers               45               36   \n",
       "2022-01-10          41.0   Cloudy               45               32   \n",
       "2022-01-11           2.0    Foggy               41               32   \n",
       "...                  ...      ...              ...              ...   \n",
       "2022-12-25         229.0  Showers               48               45   \n",
       "2022-12-27         152.0   Cloudy               46               41   \n",
       "2022-12-29         160.0  Showers               52               45   \n",
       "2022-12-30         228.0  Showers               54               39   \n",
       "2022-12-31           1.0  Showers               59               50   \n",
       "\n",
       "            Max Dew Point  Min Dew Point  Max Humidity  Min Humidity  \\\n",
       "2022-01-01             50             50            88            88   \n",
       "2022-01-02             50             45            94            77   \n",
       "2022-01-07             39             32            93            70   \n",
       "2022-01-10             41             30           100            81   \n",
       "2022-01-11             39             32           100            76   \n",
       "...                   ...            ...           ...           ...   \n",
       "2022-12-25             48             45           100            93   \n",
       "2022-12-27             43             36            93            71   \n",
       "2022-12-29             48             41            93            76   \n",
       "2022-12-30             52             39           100            81   \n",
       "2022-12-31             55             46           100            63   \n",
       "\n",
       "            Max Wind Speed  Min Wind Speed  poi_public  poi_health  \\\n",
       "2022-01-01              12              12          53          17   \n",
       "2022-01-02              30              12          53          17   \n",
       "2022-01-07              24               5          53          17   \n",
       "2022-01-10               9               2          53          17   \n",
       "2022-01-11              14               6          53          17   \n",
       "...                    ...             ...         ...         ...   \n",
       "2022-12-25              12               5          53          17   \n",
       "2022-12-27              22               9          53          17   \n",
       "2022-12-29              29              15          53          17   \n",
       "2022-12-30              29              12          53          17   \n",
       "2022-12-31              31               9          53          17   \n",
       "\n",
       "            poi_leisure  poi_catering  poi_shopping  poi_money  poi_tourism  \\\n",
       "2022-01-01            8            28             6          4            7   \n",
       "2022-01-02            8            28             6          4            7   \n",
       "2022-01-07            8            28             6          4            7   \n",
       "2022-01-10            8            28             6          4            7   \n",
       "2022-01-11            8            28             6          4            7   \n",
       "...                 ...           ...           ...        ...          ...   \n",
       "2022-12-25            8            28             6          4            7   \n",
       "2022-12-27            8            28             6          4            7   \n",
       "2022-12-29            8            28             6          4            7   \n",
       "2022-12-30            8            28             6          4            7   \n",
       "2022-12-31            8            28             6          4            7   \n",
       "\n",
       "            poi_miscpoi  poi_traffic  poi_other  \n",
       "2022-01-01           34          207          4  \n",
       "2022-01-02           34          207          4  \n",
       "2022-01-07           34          207          4  \n",
       "2022-01-10           34          207          4  \n",
       "2022-01-11           34          207          4  \n",
       "...                 ...          ...        ...  \n",
       "2022-12-25           34          207          4  \n",
       "2022-12-27           34          207          4  \n",
       "2022-12-29           34          207          4  \n",
       "2022-12-30           34          207          4  \n",
       "2022-12-31           34          207          4  \n",
       "\n",
       "[249 rows x 20 columns]"
      ]
     },
     "execution_count": 190,
     "metadata": {},
     "output_type": "execute_result"
    }
   ],
   "source": [
    "M_train"
   ]
  },
  {
   "cell_type": "code",
   "execution_count": 191,
   "id": "1f578f36",
   "metadata": {
    "hidden": true
   },
   "outputs": [
    {
     "data": {
      "text/plain": [
       "Index(['total_litter', 'weather', 'Max Temperature', 'Min Temperature',\n",
       "       'Max Dew Point', 'Min Dew Point', 'Max Humidity', 'Min Humidity',\n",
       "       'Max Wind Speed', 'Min Wind Speed', 'poi_public', 'poi_health',\n",
       "       'poi_leisure', 'poi_catering', 'poi_shopping', 'poi_money',\n",
       "       'poi_tourism', 'poi_miscpoi', 'poi_traffic', 'poi_other'],\n",
       "      dtype='object')"
      ]
     },
     "execution_count": 191,
     "metadata": {},
     "output_type": "execute_result"
    }
   ],
   "source": [
    "M_train.columns"
   ]
  },
  {
   "cell_type": "markdown",
   "id": "521da57d",
   "metadata": {},
   "source": [
    "## 将数值型数据归一化"
   ]
  },
  {
   "cell_type": "code",
   "execution_count": 77,
   "id": "03a4d5fd",
   "metadata": {},
   "outputs": [],
   "source": [
    "from sklearn.preprocessing import MinMaxScaler\n",
    "from sklearn.preprocessing import StandardScaler"
   ]
  },
  {
   "cell_type": "code",
   "execution_count": 76,
   "id": "24af53fd",
   "metadata": {},
   "outputs": [],
   "source": [
    "# M_test=M_test.drop(M_test.loc[:,'SMOKING':'OTHER'],axis=1)# 舍弃分类"
   ]
  },
  {
   "cell_type": "code",
   "execution_count": 78,
   "id": "ce316244",
   "metadata": {},
   "outputs": [],
   "source": [
    "M = M.drop(columns=['weather'])"
   ]
  },
  {
   "cell_type": "code",
   "execution_count": 84,
   "id": "6e6d172a",
   "metadata": {},
   "outputs": [
    {
     "data": {
      "text/plain": [
       "array([[ 0.],\n",
       "       [ 2.],\n",
       "       [ 0.],\n",
       "       ...,\n",
       "       [61.],\n",
       "       [ 5.],\n",
       "       [ 1.]])"
      ]
     },
     "execution_count": 84,
     "metadata": {},
     "output_type": "execute_result"
    }
   ],
   "source": [
    "M.loc[:,'SMOKING':'Min Wind Speed'].values.reshape(-1,1)"
   ]
  },
  {
   "cell_type": "code",
   "execution_count": 85,
   "id": "465e93a8",
   "metadata": {},
   "outputs": [],
   "source": [
    "mm = MinMaxScaler()\n",
    "mm_data = mm.fit_transform(M.loc[:,'SMOKING':'Min Wind Speed'].values.reshape(-1,1))"
   ]
  },
  {
   "cell_type": "code",
   "execution_count": 86,
   "id": "70522bd9",
   "metadata": {},
   "outputs": [],
   "source": [
    "mm_wp=mm_data.reshape(226,17)"
   ]
  },
  {
   "cell_type": "code",
   "execution_count": 87,
   "id": "701d2c3c",
   "metadata": {
    "scrolled": true
   },
   "outputs": [
    {
     "data": {
      "text/plain": [
       "Counter({0.0: 487,\n",
       "         0.010526315789473684: 172,\n",
       "         0.005263157894736842: 231,\n",
       "         0.20526315789473684: 49,\n",
       "         0.17894736842105263: 37,\n",
       "         0.18947368421052632: 50,\n",
       "         0.16842105263157894: 44,\n",
       "         0.5263157894736842: 123,\n",
       "         0.39473684210526316: 10,\n",
       "         0.07894736842105263: 65,\n",
       "         0.21578947368421053: 48,\n",
       "         0.19473684210526315: 38,\n",
       "         0.4263157894736842: 9,\n",
       "         0.08421052631578947: 51,\n",
       "         0.02631578947368421: 90,\n",
       "         0.06842105263157895: 53,\n",
       "         0.031578947368421054: 98,\n",
       "         0.015789473684210527: 142,\n",
       "         0.04736842105263158: 64,\n",
       "         0.13157894736842105: 31,\n",
       "         0.14736842105263157: 35,\n",
       "         0.39999999999999997: 15,\n",
       "         0.03684210526315789: 89,\n",
       "         0.05789473684210526: 34,\n",
       "         0.06315789473684211: 51,\n",
       "         0.11052631578947368: 31,\n",
       "         0.2263157894736842: 54,\n",
       "         0.042105263157894736: 78,\n",
       "         0.10526315789473684: 34,\n",
       "         0.09473684210526316: 39,\n",
       "         0.14210526315789473: 21,\n",
       "         0.11578947368421053: 23,\n",
       "         0.2631578947368421: 67,\n",
       "         0.021052631578947368: 101,\n",
       "         0.22105263157894736: 7,\n",
       "         0.29473684210526313: 7,\n",
       "         0.24210526315789474: 60,\n",
       "         0.4894736842105263: 29,\n",
       "         0.3736842105263158: 13,\n",
       "         0.12631578947368421: 24,\n",
       "         0.23684210526315788: 46,\n",
       "         0.32105263157894737: 46,\n",
       "         0.15789473684210525: 22,\n",
       "         0.45789473684210524: 22,\n",
       "         0.3684210526315789: 15,\n",
       "         0.12105263157894737: 22,\n",
       "         0.3157894736842105: 15,\n",
       "         0.07368421052631578: 42,\n",
       "         0.5052631578947369: 1,\n",
       "         0.25263157894736843: 59,\n",
       "         0.09999999999999999: 21,\n",
       "         0.2894736842105263: 55,\n",
       "         0.08947368421052632: 33,\n",
       "         0.1368421052631579: 15,\n",
       "         0.3526315789473684: 8,\n",
       "         0.35789473684210527: 24,\n",
       "         0.5526315789473684: 1,\n",
       "         0.37894736842105264: 27,\n",
       "         0.2736842105263158: 60,\n",
       "         0.19999999999999998: 18,\n",
       "         0.05263157894736842: 53,\n",
       "         1.0: 1,\n",
       "         0.7473684210526316: 1,\n",
       "         0.43157894736842106: 13,\n",
       "         0.4631578947368421: 12,\n",
       "         0.33157894736842103: 42,\n",
       "         0.3368421052631579: 29,\n",
       "         0.25789473684210523: 9,\n",
       "         0.31052631578947365: 53,\n",
       "         0.5947368421052631: 1,\n",
       "         0.3263157894736842: 8,\n",
       "         0.7052631578947368: 1,\n",
       "         0.34736842105263155: 25,\n",
       "         0.34210526315789475: 5,\n",
       "         0.3: 57,\n",
       "         0.15263157894736842: 21,\n",
       "         0.1631578947368421: 19,\n",
       "         0.30526315789473685: 4,\n",
       "         0.28421052631578947: 72,\n",
       "         0.38421052631578945: 18,\n",
       "         0.26842105263157895: 11,\n",
       "         0.17368421052631577: 12,\n",
       "         0.23157894736842105: 12,\n",
       "         0.18421052631578946: 13,\n",
       "         0.21052631578947367: 3,\n",
       "         0.24736842105263157: 5,\n",
       "         0.49473684210526314: 40,\n",
       "         0.3894736842105263: 2,\n",
       "         0.7789473684210526: 1,\n",
       "         0.4052631578947368: 14,\n",
       "         0.5684210526315789: 1,\n",
       "         0.41578947368421054: 3,\n",
       "         0.4105263157894737: 3,\n",
       "         0.42105263157894735: 2,\n",
       "         0.763157894736842: 1,\n",
       "         0.3631578947368421: 5,\n",
       "         0.531578947368421: 1,\n",
       "         0.2789473684210526: 6,\n",
       "         0.4421052631578947: 1,\n",
       "         0.46842105263157896: 1,\n",
       "         0.43684210526315786: 1,\n",
       "         0.5473684210526316: 1,\n",
       "         0.4526315789473684: 2,\n",
       "         0.6: 1})"
      ]
     },
     "execution_count": 87,
     "metadata": {},
     "output_type": "execute_result"
    }
   ],
   "source": [
    "Counter(mm_wp.flatten())"
   ]
  },
  {
   "cell_type": "code",
   "execution_count": 88,
   "id": "74b8c63d",
   "metadata": {},
   "outputs": [],
   "source": [
    "# 合并归一化后的数据\n",
    "mm_wp_df=pd.DataFrame(mm_wp)\n",
    "mm_wp_df=mm_wp_df.set_index(M.index)\n",
    "wt_encoded_df=pd.DataFrame(wt_encoded)\n",
    "wt_encoded_df=wt_encoded_df.set_index(M.index)\n",
    "ML=pd.concat([wt_encoded_df,mm_wp_df,M['total_litter']],axis=1)"
   ]
  },
  {
   "cell_type": "code",
   "execution_count": 89,
   "id": "24a402d4",
   "metadata": {},
   "outputs": [
    {
     "data": {
      "text/html": [
       "<div>\n",
       "<style scoped>\n",
       "    .dataframe tbody tr th:only-of-type {\n",
       "        vertical-align: middle;\n",
       "    }\n",
       "\n",
       "    .dataframe tbody tr th {\n",
       "        vertical-align: top;\n",
       "    }\n",
       "\n",
       "    .dataframe thead th {\n",
       "        text-align: right;\n",
       "    }\n",
       "</style>\n",
       "<table border=\"1\" class=\"dataframe\">\n",
       "  <thead>\n",
       "    <tr style=\"text-align: right;\">\n",
       "      <th></th>\n",
       "      <th>0</th>\n",
       "      <th>1</th>\n",
       "      <th>2</th>\n",
       "      <th>3</th>\n",
       "      <th>0</th>\n",
       "      <th>1</th>\n",
       "      <th>2</th>\n",
       "      <th>3</th>\n",
       "      <th>4</th>\n",
       "      <th>5</th>\n",
       "      <th>...</th>\n",
       "      <th>8</th>\n",
       "      <th>9</th>\n",
       "      <th>10</th>\n",
       "      <th>11</th>\n",
       "      <th>12</th>\n",
       "      <th>13</th>\n",
       "      <th>14</th>\n",
       "      <th>15</th>\n",
       "      <th>16</th>\n",
       "      <th>total_litter</th>\n",
       "    </tr>\n",
       "  </thead>\n",
       "  <tbody>\n",
       "    <tr>\n",
       "      <th>2021-01-06</th>\n",
       "      <td>0.0</td>\n",
       "      <td>0.0</td>\n",
       "      <td>0.0</td>\n",
       "      <td>1.0</td>\n",
       "      <td>0.000000</td>\n",
       "      <td>0.010526</td>\n",
       "      <td>0.000000</td>\n",
       "      <td>0.000000</td>\n",
       "      <td>0.005263</td>\n",
       "      <td>0.000000</td>\n",
       "      <td>...</td>\n",
       "      <td>0.000000</td>\n",
       "      <td>0.205263</td>\n",
       "      <td>0.178947</td>\n",
       "      <td>0.189474</td>\n",
       "      <td>0.168421</td>\n",
       "      <td>0.526316</td>\n",
       "      <td>0.394737</td>\n",
       "      <td>0.078947</td>\n",
       "      <td>0.010526</td>\n",
       "      <td>3.0</td>\n",
       "    </tr>\n",
       "    <tr>\n",
       "      <th>2021-01-07</th>\n",
       "      <td>0.0</td>\n",
       "      <td>0.0</td>\n",
       "      <td>1.0</td>\n",
       "      <td>0.0</td>\n",
       "      <td>0.000000</td>\n",
       "      <td>0.000000</td>\n",
       "      <td>0.000000</td>\n",
       "      <td>0.000000</td>\n",
       "      <td>0.005263</td>\n",
       "      <td>0.000000</td>\n",
       "      <td>...</td>\n",
       "      <td>0.000000</td>\n",
       "      <td>0.215789</td>\n",
       "      <td>0.178947</td>\n",
       "      <td>0.194737</td>\n",
       "      <td>0.168421</td>\n",
       "      <td>0.526316</td>\n",
       "      <td>0.426316</td>\n",
       "      <td>0.084211</td>\n",
       "      <td>0.026316</td>\n",
       "      <td>2.0</td>\n",
       "    </tr>\n",
       "    <tr>\n",
       "      <th>2021-01-08</th>\n",
       "      <td>0.0</td>\n",
       "      <td>0.0</td>\n",
       "      <td>1.0</td>\n",
       "      <td>0.0</td>\n",
       "      <td>0.010526</td>\n",
       "      <td>0.068421</td>\n",
       "      <td>0.031579</td>\n",
       "      <td>0.015789</td>\n",
       "      <td>0.178947</td>\n",
       "      <td>0.047368</td>\n",
       "      <td>...</td>\n",
       "      <td>0.168421</td>\n",
       "      <td>0.215789</td>\n",
       "      <td>0.147368</td>\n",
       "      <td>0.189474</td>\n",
       "      <td>0.147368</td>\n",
       "      <td>0.526316</td>\n",
       "      <td>0.400000</td>\n",
       "      <td>0.036842</td>\n",
       "      <td>0.000000</td>\n",
       "      <td>114.0</td>\n",
       "    </tr>\n",
       "    <tr>\n",
       "      <th>2021-01-09</th>\n",
       "      <td>0.0</td>\n",
       "      <td>1.0</td>\n",
       "      <td>0.0</td>\n",
       "      <td>0.0</td>\n",
       "      <td>0.015789</td>\n",
       "      <td>0.057895</td>\n",
       "      <td>0.005263</td>\n",
       "      <td>0.000000</td>\n",
       "      <td>0.063158</td>\n",
       "      <td>0.015789</td>\n",
       "      <td>...</td>\n",
       "      <td>0.110526</td>\n",
       "      <td>0.226316</td>\n",
       "      <td>0.131579</td>\n",
       "      <td>0.194737</td>\n",
       "      <td>0.131579</td>\n",
       "      <td>0.526316</td>\n",
       "      <td>0.400000</td>\n",
       "      <td>0.042105</td>\n",
       "      <td>0.005263</td>\n",
       "      <td>58.0</td>\n",
       "    </tr>\n",
       "    <tr>\n",
       "      <th>2021-01-10</th>\n",
       "      <td>1.0</td>\n",
       "      <td>0.0</td>\n",
       "      <td>0.0</td>\n",
       "      <td>0.0</td>\n",
       "      <td>0.010526</td>\n",
       "      <td>0.010526</td>\n",
       "      <td>0.000000</td>\n",
       "      <td>0.042105</td>\n",
       "      <td>0.105263</td>\n",
       "      <td>0.000000</td>\n",
       "      <td>...</td>\n",
       "      <td>0.047368</td>\n",
       "      <td>0.215789</td>\n",
       "      <td>0.147368</td>\n",
       "      <td>0.194737</td>\n",
       "      <td>0.142105</td>\n",
       "      <td>0.526316</td>\n",
       "      <td>0.400000</td>\n",
       "      <td>0.068421</td>\n",
       "      <td>0.010526</td>\n",
       "      <td>49.0</td>\n",
       "    </tr>\n",
       "    <tr>\n",
       "      <th>...</th>\n",
       "      <td>...</td>\n",
       "      <td>...</td>\n",
       "      <td>...</td>\n",
       "      <td>...</td>\n",
       "      <td>...</td>\n",
       "      <td>...</td>\n",
       "      <td>...</td>\n",
       "      <td>...</td>\n",
       "      <td>...</td>\n",
       "      <td>...</td>\n",
       "      <td>...</td>\n",
       "      <td>...</td>\n",
       "      <td>...</td>\n",
       "      <td>...</td>\n",
       "      <td>...</td>\n",
       "      <td>...</td>\n",
       "      <td>...</td>\n",
       "      <td>...</td>\n",
       "      <td>...</td>\n",
       "      <td>...</td>\n",
       "      <td>...</td>\n",
       "    </tr>\n",
       "    <tr>\n",
       "      <th>2021-12-17</th>\n",
       "      <td>0.0</td>\n",
       "      <td>0.0</td>\n",
       "      <td>1.0</td>\n",
       "      <td>0.0</td>\n",
       "      <td>0.163158</td>\n",
       "      <td>0.073684</td>\n",
       "      <td>0.026316</td>\n",
       "      <td>0.005263</td>\n",
       "      <td>0.189474</td>\n",
       "      <td>0.042105</td>\n",
       "      <td>...</td>\n",
       "      <td>0.236842</td>\n",
       "      <td>0.252632</td>\n",
       "      <td>0.236842</td>\n",
       "      <td>0.242105</td>\n",
       "      <td>0.236842</td>\n",
       "      <td>0.526316</td>\n",
       "      <td>0.457895</td>\n",
       "      <td>0.047368</td>\n",
       "      <td>0.000000</td>\n",
       "      <td>140.0</td>\n",
       "    </tr>\n",
       "    <tr>\n",
       "      <th>2021-12-18</th>\n",
       "      <td>0.0</td>\n",
       "      <td>1.0</td>\n",
       "      <td>0.0</td>\n",
       "      <td>0.0</td>\n",
       "      <td>0.000000</td>\n",
       "      <td>0.031579</td>\n",
       "      <td>0.000000</td>\n",
       "      <td>0.015789</td>\n",
       "      <td>0.031579</td>\n",
       "      <td>0.005263</td>\n",
       "      <td>...</td>\n",
       "      <td>0.010526</td>\n",
       "      <td>0.242105</td>\n",
       "      <td>0.215789</td>\n",
       "      <td>0.236842</td>\n",
       "      <td>0.215789</td>\n",
       "      <td>0.526316</td>\n",
       "      <td>0.489474</td>\n",
       "      <td>0.042105</td>\n",
       "      <td>0.010526</td>\n",
       "      <td>18.0</td>\n",
       "    </tr>\n",
       "    <tr>\n",
       "      <th>2021-12-19</th>\n",
       "      <td>0.0</td>\n",
       "      <td>0.0</td>\n",
       "      <td>1.0</td>\n",
       "      <td>0.0</td>\n",
       "      <td>0.100000</td>\n",
       "      <td>0.052632</td>\n",
       "      <td>0.005263</td>\n",
       "      <td>0.026316</td>\n",
       "      <td>0.147368</td>\n",
       "      <td>0.036842</td>\n",
       "      <td>...</td>\n",
       "      <td>0.115789</td>\n",
       "      <td>0.242105</td>\n",
       "      <td>0.226316</td>\n",
       "      <td>0.236842</td>\n",
       "      <td>0.205263</td>\n",
       "      <td>0.526316</td>\n",
       "      <td>0.426316</td>\n",
       "      <td>0.063158</td>\n",
       "      <td>0.015789</td>\n",
       "      <td>92.0</td>\n",
       "    </tr>\n",
       "    <tr>\n",
       "      <th>2021-12-20</th>\n",
       "      <td>1.0</td>\n",
       "      <td>0.0</td>\n",
       "      <td>0.0</td>\n",
       "      <td>0.0</td>\n",
       "      <td>0.026316</td>\n",
       "      <td>0.115789</td>\n",
       "      <td>0.036842</td>\n",
       "      <td>0.036842</td>\n",
       "      <td>0.315789</td>\n",
       "      <td>0.089474</td>\n",
       "      <td>...</td>\n",
       "      <td>0.600000</td>\n",
       "      <td>0.236842</td>\n",
       "      <td>0.168421</td>\n",
       "      <td>0.205263</td>\n",
       "      <td>0.157895</td>\n",
       "      <td>0.489474</td>\n",
       "      <td>0.342105</td>\n",
       "      <td>0.036842</td>\n",
       "      <td>0.000000</td>\n",
       "      <td>232.0</td>\n",
       "    </tr>\n",
       "    <tr>\n",
       "      <th>2021-12-21</th>\n",
       "      <td>0.0</td>\n",
       "      <td>0.0</td>\n",
       "      <td>0.0</td>\n",
       "      <td>1.0</td>\n",
       "      <td>0.005263</td>\n",
       "      <td>0.021053</td>\n",
       "      <td>0.000000</td>\n",
       "      <td>0.000000</td>\n",
       "      <td>0.036842</td>\n",
       "      <td>0.000000</td>\n",
       "      <td>...</td>\n",
       "      <td>0.010526</td>\n",
       "      <td>0.226316</td>\n",
       "      <td>0.142105</td>\n",
       "      <td>0.168421</td>\n",
       "      <td>0.142105</td>\n",
       "      <td>0.526316</td>\n",
       "      <td>0.321053</td>\n",
       "      <td>0.026316</td>\n",
       "      <td>0.005263</td>\n",
       "      <td>14.0</td>\n",
       "    </tr>\n",
       "  </tbody>\n",
       "</table>\n",
       "<p>226 rows × 22 columns</p>\n",
       "</div>"
      ],
      "text/plain": [
       "              0    1    2    3         0         1         2         3  \\\n",
       "2021-01-06  0.0  0.0  0.0  1.0  0.000000  0.010526  0.000000  0.000000   \n",
       "2021-01-07  0.0  0.0  1.0  0.0  0.000000  0.000000  0.000000  0.000000   \n",
       "2021-01-08  0.0  0.0  1.0  0.0  0.010526  0.068421  0.031579  0.015789   \n",
       "2021-01-09  0.0  1.0  0.0  0.0  0.015789  0.057895  0.005263  0.000000   \n",
       "2021-01-10  1.0  0.0  0.0  0.0  0.010526  0.010526  0.000000  0.042105   \n",
       "...         ...  ...  ...  ...       ...       ...       ...       ...   \n",
       "2021-12-17  0.0  0.0  1.0  0.0  0.163158  0.073684  0.026316  0.005263   \n",
       "2021-12-18  0.0  1.0  0.0  0.0  0.000000  0.031579  0.000000  0.015789   \n",
       "2021-12-19  0.0  0.0  1.0  0.0  0.100000  0.052632  0.005263  0.026316   \n",
       "2021-12-20  1.0  0.0  0.0  0.0  0.026316  0.115789  0.036842  0.036842   \n",
       "2021-12-21  0.0  0.0  0.0  1.0  0.005263  0.021053  0.000000  0.000000   \n",
       "\n",
       "                   4         5  ...         8         9        10        11  \\\n",
       "2021-01-06  0.005263  0.000000  ...  0.000000  0.205263  0.178947  0.189474   \n",
       "2021-01-07  0.005263  0.000000  ...  0.000000  0.215789  0.178947  0.194737   \n",
       "2021-01-08  0.178947  0.047368  ...  0.168421  0.215789  0.147368  0.189474   \n",
       "2021-01-09  0.063158  0.015789  ...  0.110526  0.226316  0.131579  0.194737   \n",
       "2021-01-10  0.105263  0.000000  ...  0.047368  0.215789  0.147368  0.194737   \n",
       "...              ...       ...  ...       ...       ...       ...       ...   \n",
       "2021-12-17  0.189474  0.042105  ...  0.236842  0.252632  0.236842  0.242105   \n",
       "2021-12-18  0.031579  0.005263  ...  0.010526  0.242105  0.215789  0.236842   \n",
       "2021-12-19  0.147368  0.036842  ...  0.115789  0.242105  0.226316  0.236842   \n",
       "2021-12-20  0.315789  0.089474  ...  0.600000  0.236842  0.168421  0.205263   \n",
       "2021-12-21  0.036842  0.000000  ...  0.010526  0.226316  0.142105  0.168421   \n",
       "\n",
       "                  12        13        14        15        16  total_litter  \n",
       "2021-01-06  0.168421  0.526316  0.394737  0.078947  0.010526           3.0  \n",
       "2021-01-07  0.168421  0.526316  0.426316  0.084211  0.026316           2.0  \n",
       "2021-01-08  0.147368  0.526316  0.400000  0.036842  0.000000         114.0  \n",
       "2021-01-09  0.131579  0.526316  0.400000  0.042105  0.005263          58.0  \n",
       "2021-01-10  0.142105  0.526316  0.400000  0.068421  0.010526          49.0  \n",
       "...              ...       ...       ...       ...       ...           ...  \n",
       "2021-12-17  0.236842  0.526316  0.457895  0.047368  0.000000         140.0  \n",
       "2021-12-18  0.215789  0.526316  0.489474  0.042105  0.010526          18.0  \n",
       "2021-12-19  0.205263  0.526316  0.426316  0.063158  0.015789          92.0  \n",
       "2021-12-20  0.157895  0.489474  0.342105  0.036842  0.000000         232.0  \n",
       "2021-12-21  0.142105  0.526316  0.321053  0.026316  0.005263          14.0  \n",
       "\n",
       "[226 rows x 22 columns]"
      ]
     },
     "execution_count": 89,
     "metadata": {},
     "output_type": "execute_result"
    }
   ],
   "source": [
    "ML"
   ]
  },
  {
   "cell_type": "code",
   "execution_count": 84,
   "id": "7fc6183b",
   "metadata": {},
   "outputs": [],
   "source": [
    "# ML_array=np.array(ML)"
   ]
  },
  {
   "cell_type": "code",
   "execution_count": 87,
   "id": "0e555a99",
   "metadata": {},
   "outputs": [],
   "source": [
    "# ML.to_csv('./outdata/Krommenie_train.csv')"
   ]
  },
  {
   "cell_type": "code",
   "execution_count": null,
   "id": "f3f21ff0",
   "metadata": {},
   "outputs": [],
   "source": []
  },
  {
   "cell_type": "markdown",
   "id": "c7270000",
   "metadata": {},
   "source": [
    "## poi提取(舍弃）"
   ]
  },
  {
   "cell_type": "code",
   "execution_count": 164,
   "id": "202f723c",
   "metadata": {},
   "outputs": [],
   "source": [
    "poi1=pd.read_csv('./outdata/poi1.csv')"
   ]
  },
  {
   "cell_type": "code",
   "execution_count": 165,
   "id": "a822d6db",
   "metadata": {},
   "outputs": [
    {
     "data": {
      "text/plain": [
       "0      POINT (5.0817843 52.6456291)\n",
       "1      POINT (5.0961325 52.6457239)\n",
       "2      POINT (5.0812344 52.6458317)\n",
       "3      POINT (5.0968648 52.6460559)\n",
       "4      POINT (5.0853898 52.6531698)\n",
       "                   ...             \n",
       "450    POINT (5.0931458 52.6533975)\n",
       "451    POINT (5.0932666 52.6531166)\n",
       "452    POINT (5.0932798 52.6532018)\n",
       "453    POINT (5.0934684 52.6531761)\n",
       "454    POINT (5.0936391 52.6532932)\n",
       "Name: geometry, Length: 455, dtype: object"
      ]
     },
     "execution_count": 165,
     "metadata": {},
     "output_type": "execute_result"
    }
   ],
   "source": [
    "poi1['geometry']"
   ]
  },
  {
   "cell_type": "code",
   "execution_count": 166,
   "id": "c4b276f8",
   "metadata": {},
   "outputs": [
    {
     "data": {
      "text/plain": [
       "0       POINT (5.0624231 52.6350804)\n",
       "1       POINT (5.0085054 52.6350184)\n",
       "2         POINT (5.0578571 52.63695)\n",
       "3       POINT (5.0572411 52.6381662)\n",
       "4       POINT (5.0523931 52.6417891)\n",
       "                    ...             \n",
       "2397     POINT (5.0472634 52.647675)\n",
       "2398    POINT (5.0469239 52.6475957)\n",
       "2399    POINT (5.0465883 52.6476558)\n",
       "2400    POINT (5.0473351 52.6479847)\n",
       "2401    POINT (5.0471709 52.6476163)\n",
       "Name: geometry, Length: 2402, dtype: object"
      ]
     },
     "execution_count": 166,
     "metadata": {},
     "output_type": "execute_result"
    }
   ],
   "source": [
    "points['geometry'].astype(str)"
   ]
  },
  {
   "cell_type": "code",
   "execution_count": 167,
   "id": "d823844f",
   "metadata": {},
   "outputs": [],
   "source": [
    "poi1_flag=points['geometry'].astype(str).isin(poi1['geometry'])"
   ]
  },
  {
   "cell_type": "code",
   "execution_count": 168,
   "id": "3a6c4c79",
   "metadata": {},
   "outputs": [
    {
     "data": {
      "text/plain": [
       "False    1947\n",
       "True      455\n",
       "Name: geometry, dtype: int64"
      ]
     },
     "execution_count": 168,
     "metadata": {},
     "output_type": "execute_result"
    }
   ],
   "source": [
    "poi1_flag.value_counts()"
   ]
  },
  {
   "cell_type": "code",
   "execution_count": 169,
   "id": "add3512b",
   "metadata": {},
   "outputs": [],
   "source": [
    "poi1=points[poi1_flag].reset_index(drop=True)# 第一类poi"
   ]
  },
  {
   "cell_type": "code",
   "execution_count": 170,
   "id": "826be9f8",
   "metadata": {},
   "outputs": [],
   "source": [
    "poi1.to_file('./poi1.shp')# 输出为shapefile文件"
   ]
  },
  {
   "cell_type": "code",
   "execution_count": 171,
   "id": "1a53356e",
   "metadata": {},
   "outputs": [
    {
     "data": {
      "text/html": [
       "<div>\n",
       "<style scoped>\n",
       "    .dataframe tbody tr th:only-of-type {\n",
       "        vertical-align: middle;\n",
       "    }\n",
       "\n",
       "    .dataframe tbody tr th {\n",
       "        vertical-align: top;\n",
       "    }\n",
       "\n",
       "    .dataframe thead th {\n",
       "        text-align: right;\n",
       "    }\n",
       "</style>\n",
       "<table border=\"1\" class=\"dataframe\">\n",
       "  <thead>\n",
       "    <tr style=\"text-align: right;\">\n",
       "      <th></th>\n",
       "      <th>type</th>\n",
       "      <th>geometry</th>\n",
       "    </tr>\n",
       "    <tr>\n",
       "      <th>osm_id</th>\n",
       "      <th></th>\n",
       "      <th></th>\n",
       "    </tr>\n",
       "  </thead>\n",
       "  <tbody>\n",
       "    <tr>\n",
       "      <th>47077200</th>\n",
       "      <td>traffic</td>\n",
       "      <td>POINT (5.08178 52.64563)</td>\n",
       "    </tr>\n",
       "    <tr>\n",
       "      <th>47080156</th>\n",
       "      <td>traffic</td>\n",
       "      <td>POINT (5.09613 52.64572)</td>\n",
       "    </tr>\n",
       "    <tr>\n",
       "      <th>47081177</th>\n",
       "      <td>traffic</td>\n",
       "      <td>POINT (5.08123 52.64583)</td>\n",
       "    </tr>\n",
       "    <tr>\n",
       "      <th>47081536</th>\n",
       "      <td>traffic</td>\n",
       "      <td>POINT (5.09686 52.64606)</td>\n",
       "    </tr>\n",
       "    <tr>\n",
       "      <th>47097804</th>\n",
       "      <td>traffic</td>\n",
       "      <td>POINT (5.08539 52.65317)</td>\n",
       "    </tr>\n",
       "    <tr>\n",
       "      <th>...</th>\n",
       "      <td>...</td>\n",
       "      <td>...</td>\n",
       "    </tr>\n",
       "    <tr>\n",
       "      <th>49020516</th>\n",
       "      <td>miscpoi</td>\n",
       "      <td>POINT (5.09315 52.65340)</td>\n",
       "    </tr>\n",
       "    <tr>\n",
       "      <th>49020522</th>\n",
       "      <td>miscpoi</td>\n",
       "      <td>POINT (5.09327 52.65312)</td>\n",
       "    </tr>\n",
       "    <tr>\n",
       "      <th>49020523</th>\n",
       "      <td>miscpoi</td>\n",
       "      <td>POINT (5.09328 52.65320)</td>\n",
       "    </tr>\n",
       "    <tr>\n",
       "      <th>49020524</th>\n",
       "      <td>miscpoi</td>\n",
       "      <td>POINT (5.09347 52.65318)</td>\n",
       "    </tr>\n",
       "    <tr>\n",
       "      <th>49076038</th>\n",
       "      <td>miscpoi</td>\n",
       "      <td>POINT (5.09364 52.65329)</td>\n",
       "    </tr>\n",
       "  </tbody>\n",
       "</table>\n",
       "<p>455 rows × 2 columns</p>\n",
       "</div>"
      ],
      "text/plain": [
       "             type                  geometry\n",
       "osm_id                                     \n",
       "47077200  traffic  POINT (5.08178 52.64563)\n",
       "47080156  traffic  POINT (5.09613 52.64572)\n",
       "47081177  traffic  POINT (5.08123 52.64583)\n",
       "47081536  traffic  POINT (5.09686 52.64606)\n",
       "47097804  traffic  POINT (5.08539 52.65317)\n",
       "...           ...                       ...\n",
       "49020516  miscpoi  POINT (5.09315 52.65340)\n",
       "49020522  miscpoi  POINT (5.09327 52.65312)\n",
       "49020523  miscpoi  POINT (5.09328 52.65320)\n",
       "49020524  miscpoi  POINT (5.09347 52.65318)\n",
       "49076038  miscpoi  POINT (5.09364 52.65329)\n",
       "\n",
       "[455 rows x 2 columns]"
      ]
     },
     "execution_count": 171,
     "metadata": {},
     "output_type": "execute_result"
    }
   ],
   "source": [
    "poi1[['osm_id','type','geometry']].set_index(['osm_id'])"
   ]
  },
  {
   "cell_type": "markdown",
   "id": "3a192730",
   "metadata": {},
   "source": [
    "## 时间分段标签"
   ]
  },
  {
   "cell_type": "code",
   "execution_count": 90,
   "id": "485828c1",
   "metadata": {},
   "outputs": [],
   "source": [
    "df_date=pd.to_datetime(df_dateconcat.index)"
   ]
  },
  {
   "cell_type": "code",
   "execution_count": 91,
   "id": "9190f19c",
   "metadata": {},
   "outputs": [
    {
     "data": {
      "text/plain": [
       "DatetimeIndex(['2021-01-06', '2021-01-07', '2021-01-08', '2021-01-09',\n",
       "               '2021-01-10', '2021-01-11', '2021-01-12', '2021-01-13',\n",
       "               '2021-01-14', '2021-01-31',\n",
       "               ...\n",
       "               '2021-12-11', '2021-12-12', '2021-12-13', '2021-12-15',\n",
       "               '2021-12-16', '2021-12-17', '2021-12-18', '2021-12-19',\n",
       "               '2021-12-20', '2021-12-21'],\n",
       "              dtype='datetime64[ns]', name='datetime', length=226, freq=None)"
      ]
     },
     "execution_count": 91,
     "metadata": {},
     "output_type": "execute_result"
    }
   ],
   "source": [
    "df_date"
   ]
  },
  {
   "cell_type": "code",
   "execution_count": 92,
   "id": "7e433bc4",
   "metadata": {},
   "outputs": [],
   "source": [
    "is_weekly=df_date.weekday==(5 or 6) # 一周结束"
   ]
  },
  {
   "cell_type": "code",
   "execution_count": 93,
   "id": "e0ad060b",
   "metadata": {},
   "outputs": [
    {
     "data": {
      "text/plain": [
       "array([False, False, False,  True, False, False, False, False, False,\n",
       "       False, False, False, False, False, False, False, False,  True,\n",
       "       False, False, False, False, False, False,  True, False, False,\n",
       "       False, False, False, False, False, False, False, False, False,\n",
       "       False, False, False, False, False, False, False, False, False,\n",
       "       False,  True, False, False, False, False, False, False, False,\n",
       "        True, False, False, False, False,  True, False, False, False,\n",
       "       False,  True, False, False, False, False, False,  True, False,\n",
       "       False, False, False, False,  True, False, False, False, False,\n",
       "       False, False, False, False, False,  True, False, False, False,\n",
       "       False, False, False,  True, False, False, False, False, False,\n",
       "        True, False, False, False, False, False,  True, False, False,\n",
       "       False, False, False,  True, False, False, False, False, False,\n",
       "       False, False, False, False,  True, False, False, False, False,\n",
       "        True, False, False, False, False, False, False, False, False,\n",
       "       False, False,  True, False, False, False, False,  True, False,\n",
       "       False, False, False,  True, False, False, False, False, False,\n",
       "       False, False, False, False,  True, False, False, False, False,\n",
       "        True, False, False, False, False, False, False,  True, False,\n",
       "       False, False, False, False,  True, False, False, False, False,\n",
       "       False, False,  True, False, False,  True, False, False, False,\n",
       "       False, False, False, False, False, False,  True, False, False,\n",
       "       False, False,  True, False, False, False,  True, False, False,\n",
       "       False,  True, False, False,  True, False, False, False, False,\n",
       "        True, False, False, False, False, False,  True, False, False,\n",
       "       False])"
      ]
     },
     "execution_count": 93,
     "metadata": {},
     "output_type": "execute_result"
    }
   ],
   "source": [
    "df_date.weekday==(5 or 6)"
   ]
  },
  {
   "cell_type": "code",
   "execution_count": 94,
   "id": "1a622fef",
   "metadata": {},
   "outputs": [],
   "source": [
    "holiday=pd.to_datetime(['2021-01-01','2021-04-02','2021-04-04','2021-04-27','2021-05-04','2021-05-05','2021-05-13','2021-05-23','2021-05-24',\n",
    "         '2021-12-05','2021-12-06','2021-12-24','2021-12-25','2021-12-26','2021-12-31',\n",
    "        '2022-01-01','2022-04-02','2022-04-04','2022-04-27','2022-05-04','2022-05-05','2022-05-26','2022-06-05','2022-06-06',\n",
    "         '2022-12-05','2022-12-06','2022-12-24','2022-12-25','2022-12-26','2022-12-31'])"
   ]
  },
  {
   "cell_type": "code",
   "execution_count": 95,
   "id": "d96d9ac2",
   "metadata": {},
   "outputs": [],
   "source": [
    "is_holiday=df_date.isin(holiday)"
   ]
  },
  {
   "cell_type": "code",
   "execution_count": 96,
   "id": "72cbf6c6",
   "metadata": {},
   "outputs": [],
   "source": [
    "is_holiday=np.array(is_holiday)+np.array(df_date.weekday==(5 or 6))"
   ]
  },
  {
   "cell_type": "code",
   "execution_count": 100,
   "id": "a9254ab4",
   "metadata": {},
   "outputs": [],
   "source": [
    "Date2=pd.DataFrame(np.zeros([226,3]),columns=['daily','weekly','holiday'])"
   ]
  },
  {
   "cell_type": "code",
   "execution_count": 101,
   "id": "4b132329",
   "metadata": {},
   "outputs": [],
   "source": [
    "Date2=Date2.set_index(df_date.date)"
   ]
  },
  {
   "cell_type": "code",
   "execution_count": 102,
   "id": "bb4494ba",
   "metadata": {},
   "outputs": [],
   "source": [
    "ML1=pd.concat([Date2,ML],axis=1)"
   ]
  },
  {
   "cell_type": "code",
   "execution_count": 103,
   "id": "56a2b15b",
   "metadata": {},
   "outputs": [
    {
     "data": {
      "text/html": [
       "<div>\n",
       "<style scoped>\n",
       "    .dataframe tbody tr th:only-of-type {\n",
       "        vertical-align: middle;\n",
       "    }\n",
       "\n",
       "    .dataframe tbody tr th {\n",
       "        vertical-align: top;\n",
       "    }\n",
       "\n",
       "    .dataframe thead th {\n",
       "        text-align: right;\n",
       "    }\n",
       "</style>\n",
       "<table border=\"1\" class=\"dataframe\">\n",
       "  <thead>\n",
       "    <tr style=\"text-align: right;\">\n",
       "      <th></th>\n",
       "      <th>daily</th>\n",
       "      <th>weekly</th>\n",
       "      <th>holiday</th>\n",
       "      <th>0</th>\n",
       "      <th>1</th>\n",
       "      <th>2</th>\n",
       "      <th>3</th>\n",
       "      <th>0</th>\n",
       "      <th>1</th>\n",
       "      <th>2</th>\n",
       "      <th>...</th>\n",
       "      <th>8</th>\n",
       "      <th>9</th>\n",
       "      <th>10</th>\n",
       "      <th>11</th>\n",
       "      <th>12</th>\n",
       "      <th>13</th>\n",
       "      <th>14</th>\n",
       "      <th>15</th>\n",
       "      <th>16</th>\n",
       "      <th>total_litter</th>\n",
       "    </tr>\n",
       "  </thead>\n",
       "  <tbody>\n",
       "    <tr>\n",
       "      <th>2021-01-06</th>\n",
       "      <td>0.0</td>\n",
       "      <td>0.0</td>\n",
       "      <td>0.0</td>\n",
       "      <td>0.0</td>\n",
       "      <td>0.0</td>\n",
       "      <td>0.0</td>\n",
       "      <td>1.0</td>\n",
       "      <td>0.000000</td>\n",
       "      <td>0.010526</td>\n",
       "      <td>0.000000</td>\n",
       "      <td>...</td>\n",
       "      <td>0.000000</td>\n",
       "      <td>0.205263</td>\n",
       "      <td>0.178947</td>\n",
       "      <td>0.189474</td>\n",
       "      <td>0.168421</td>\n",
       "      <td>0.526316</td>\n",
       "      <td>0.394737</td>\n",
       "      <td>0.078947</td>\n",
       "      <td>0.010526</td>\n",
       "      <td>3.0</td>\n",
       "    </tr>\n",
       "    <tr>\n",
       "      <th>2021-01-07</th>\n",
       "      <td>0.0</td>\n",
       "      <td>0.0</td>\n",
       "      <td>0.0</td>\n",
       "      <td>0.0</td>\n",
       "      <td>0.0</td>\n",
       "      <td>1.0</td>\n",
       "      <td>0.0</td>\n",
       "      <td>0.000000</td>\n",
       "      <td>0.000000</td>\n",
       "      <td>0.000000</td>\n",
       "      <td>...</td>\n",
       "      <td>0.000000</td>\n",
       "      <td>0.215789</td>\n",
       "      <td>0.178947</td>\n",
       "      <td>0.194737</td>\n",
       "      <td>0.168421</td>\n",
       "      <td>0.526316</td>\n",
       "      <td>0.426316</td>\n",
       "      <td>0.084211</td>\n",
       "      <td>0.026316</td>\n",
       "      <td>2.0</td>\n",
       "    </tr>\n",
       "    <tr>\n",
       "      <th>2021-01-08</th>\n",
       "      <td>0.0</td>\n",
       "      <td>0.0</td>\n",
       "      <td>0.0</td>\n",
       "      <td>0.0</td>\n",
       "      <td>0.0</td>\n",
       "      <td>1.0</td>\n",
       "      <td>0.0</td>\n",
       "      <td>0.010526</td>\n",
       "      <td>0.068421</td>\n",
       "      <td>0.031579</td>\n",
       "      <td>...</td>\n",
       "      <td>0.168421</td>\n",
       "      <td>0.215789</td>\n",
       "      <td>0.147368</td>\n",
       "      <td>0.189474</td>\n",
       "      <td>0.147368</td>\n",
       "      <td>0.526316</td>\n",
       "      <td>0.400000</td>\n",
       "      <td>0.036842</td>\n",
       "      <td>0.000000</td>\n",
       "      <td>114.0</td>\n",
       "    </tr>\n",
       "    <tr>\n",
       "      <th>2021-01-09</th>\n",
       "      <td>0.0</td>\n",
       "      <td>0.0</td>\n",
       "      <td>0.0</td>\n",
       "      <td>0.0</td>\n",
       "      <td>1.0</td>\n",
       "      <td>0.0</td>\n",
       "      <td>0.0</td>\n",
       "      <td>0.015789</td>\n",
       "      <td>0.057895</td>\n",
       "      <td>0.005263</td>\n",
       "      <td>...</td>\n",
       "      <td>0.110526</td>\n",
       "      <td>0.226316</td>\n",
       "      <td>0.131579</td>\n",
       "      <td>0.194737</td>\n",
       "      <td>0.131579</td>\n",
       "      <td>0.526316</td>\n",
       "      <td>0.400000</td>\n",
       "      <td>0.042105</td>\n",
       "      <td>0.005263</td>\n",
       "      <td>58.0</td>\n",
       "    </tr>\n",
       "    <tr>\n",
       "      <th>2021-01-10</th>\n",
       "      <td>0.0</td>\n",
       "      <td>0.0</td>\n",
       "      <td>0.0</td>\n",
       "      <td>1.0</td>\n",
       "      <td>0.0</td>\n",
       "      <td>0.0</td>\n",
       "      <td>0.0</td>\n",
       "      <td>0.010526</td>\n",
       "      <td>0.010526</td>\n",
       "      <td>0.000000</td>\n",
       "      <td>...</td>\n",
       "      <td>0.047368</td>\n",
       "      <td>0.215789</td>\n",
       "      <td>0.147368</td>\n",
       "      <td>0.194737</td>\n",
       "      <td>0.142105</td>\n",
       "      <td>0.526316</td>\n",
       "      <td>0.400000</td>\n",
       "      <td>0.068421</td>\n",
       "      <td>0.010526</td>\n",
       "      <td>49.0</td>\n",
       "    </tr>\n",
       "    <tr>\n",
       "      <th>...</th>\n",
       "      <td>...</td>\n",
       "      <td>...</td>\n",
       "      <td>...</td>\n",
       "      <td>...</td>\n",
       "      <td>...</td>\n",
       "      <td>...</td>\n",
       "      <td>...</td>\n",
       "      <td>...</td>\n",
       "      <td>...</td>\n",
       "      <td>...</td>\n",
       "      <td>...</td>\n",
       "      <td>...</td>\n",
       "      <td>...</td>\n",
       "      <td>...</td>\n",
       "      <td>...</td>\n",
       "      <td>...</td>\n",
       "      <td>...</td>\n",
       "      <td>...</td>\n",
       "      <td>...</td>\n",
       "      <td>...</td>\n",
       "      <td>...</td>\n",
       "    </tr>\n",
       "    <tr>\n",
       "      <th>2021-12-17</th>\n",
       "      <td>0.0</td>\n",
       "      <td>0.0</td>\n",
       "      <td>0.0</td>\n",
       "      <td>0.0</td>\n",
       "      <td>0.0</td>\n",
       "      <td>1.0</td>\n",
       "      <td>0.0</td>\n",
       "      <td>0.163158</td>\n",
       "      <td>0.073684</td>\n",
       "      <td>0.026316</td>\n",
       "      <td>...</td>\n",
       "      <td>0.236842</td>\n",
       "      <td>0.252632</td>\n",
       "      <td>0.236842</td>\n",
       "      <td>0.242105</td>\n",
       "      <td>0.236842</td>\n",
       "      <td>0.526316</td>\n",
       "      <td>0.457895</td>\n",
       "      <td>0.047368</td>\n",
       "      <td>0.000000</td>\n",
       "      <td>140.0</td>\n",
       "    </tr>\n",
       "    <tr>\n",
       "      <th>2021-12-18</th>\n",
       "      <td>0.0</td>\n",
       "      <td>0.0</td>\n",
       "      <td>0.0</td>\n",
       "      <td>0.0</td>\n",
       "      <td>1.0</td>\n",
       "      <td>0.0</td>\n",
       "      <td>0.0</td>\n",
       "      <td>0.000000</td>\n",
       "      <td>0.031579</td>\n",
       "      <td>0.000000</td>\n",
       "      <td>...</td>\n",
       "      <td>0.010526</td>\n",
       "      <td>0.242105</td>\n",
       "      <td>0.215789</td>\n",
       "      <td>0.236842</td>\n",
       "      <td>0.215789</td>\n",
       "      <td>0.526316</td>\n",
       "      <td>0.489474</td>\n",
       "      <td>0.042105</td>\n",
       "      <td>0.010526</td>\n",
       "      <td>18.0</td>\n",
       "    </tr>\n",
       "    <tr>\n",
       "      <th>2021-12-19</th>\n",
       "      <td>0.0</td>\n",
       "      <td>0.0</td>\n",
       "      <td>0.0</td>\n",
       "      <td>0.0</td>\n",
       "      <td>0.0</td>\n",
       "      <td>1.0</td>\n",
       "      <td>0.0</td>\n",
       "      <td>0.100000</td>\n",
       "      <td>0.052632</td>\n",
       "      <td>0.005263</td>\n",
       "      <td>...</td>\n",
       "      <td>0.115789</td>\n",
       "      <td>0.242105</td>\n",
       "      <td>0.226316</td>\n",
       "      <td>0.236842</td>\n",
       "      <td>0.205263</td>\n",
       "      <td>0.526316</td>\n",
       "      <td>0.426316</td>\n",
       "      <td>0.063158</td>\n",
       "      <td>0.015789</td>\n",
       "      <td>92.0</td>\n",
       "    </tr>\n",
       "    <tr>\n",
       "      <th>2021-12-20</th>\n",
       "      <td>0.0</td>\n",
       "      <td>0.0</td>\n",
       "      <td>0.0</td>\n",
       "      <td>1.0</td>\n",
       "      <td>0.0</td>\n",
       "      <td>0.0</td>\n",
       "      <td>0.0</td>\n",
       "      <td>0.026316</td>\n",
       "      <td>0.115789</td>\n",
       "      <td>0.036842</td>\n",
       "      <td>...</td>\n",
       "      <td>0.600000</td>\n",
       "      <td>0.236842</td>\n",
       "      <td>0.168421</td>\n",
       "      <td>0.205263</td>\n",
       "      <td>0.157895</td>\n",
       "      <td>0.489474</td>\n",
       "      <td>0.342105</td>\n",
       "      <td>0.036842</td>\n",
       "      <td>0.000000</td>\n",
       "      <td>232.0</td>\n",
       "    </tr>\n",
       "    <tr>\n",
       "      <th>2021-12-21</th>\n",
       "      <td>0.0</td>\n",
       "      <td>0.0</td>\n",
       "      <td>0.0</td>\n",
       "      <td>0.0</td>\n",
       "      <td>0.0</td>\n",
       "      <td>0.0</td>\n",
       "      <td>1.0</td>\n",
       "      <td>0.005263</td>\n",
       "      <td>0.021053</td>\n",
       "      <td>0.000000</td>\n",
       "      <td>...</td>\n",
       "      <td>0.010526</td>\n",
       "      <td>0.226316</td>\n",
       "      <td>0.142105</td>\n",
       "      <td>0.168421</td>\n",
       "      <td>0.142105</td>\n",
       "      <td>0.526316</td>\n",
       "      <td>0.321053</td>\n",
       "      <td>0.026316</td>\n",
       "      <td>0.005263</td>\n",
       "      <td>14.0</td>\n",
       "    </tr>\n",
       "  </tbody>\n",
       "</table>\n",
       "<p>226 rows × 25 columns</p>\n",
       "</div>"
      ],
      "text/plain": [
       "            daily  weekly  holiday    0    1    2    3         0         1  \\\n",
       "2021-01-06    0.0     0.0      0.0  0.0  0.0  0.0  1.0  0.000000  0.010526   \n",
       "2021-01-07    0.0     0.0      0.0  0.0  0.0  1.0  0.0  0.000000  0.000000   \n",
       "2021-01-08    0.0     0.0      0.0  0.0  0.0  1.0  0.0  0.010526  0.068421   \n",
       "2021-01-09    0.0     0.0      0.0  0.0  1.0  0.0  0.0  0.015789  0.057895   \n",
       "2021-01-10    0.0     0.0      0.0  1.0  0.0  0.0  0.0  0.010526  0.010526   \n",
       "...           ...     ...      ...  ...  ...  ...  ...       ...       ...   \n",
       "2021-12-17    0.0     0.0      0.0  0.0  0.0  1.0  0.0  0.163158  0.073684   \n",
       "2021-12-18    0.0     0.0      0.0  0.0  1.0  0.0  0.0  0.000000  0.031579   \n",
       "2021-12-19    0.0     0.0      0.0  0.0  0.0  1.0  0.0  0.100000  0.052632   \n",
       "2021-12-20    0.0     0.0      0.0  1.0  0.0  0.0  0.0  0.026316  0.115789   \n",
       "2021-12-21    0.0     0.0      0.0  0.0  0.0  0.0  1.0  0.005263  0.021053   \n",
       "\n",
       "                   2  ...         8         9        10        11        12  \\\n",
       "2021-01-06  0.000000  ...  0.000000  0.205263  0.178947  0.189474  0.168421   \n",
       "2021-01-07  0.000000  ...  0.000000  0.215789  0.178947  0.194737  0.168421   \n",
       "2021-01-08  0.031579  ...  0.168421  0.215789  0.147368  0.189474  0.147368   \n",
       "2021-01-09  0.005263  ...  0.110526  0.226316  0.131579  0.194737  0.131579   \n",
       "2021-01-10  0.000000  ...  0.047368  0.215789  0.147368  0.194737  0.142105   \n",
       "...              ...  ...       ...       ...       ...       ...       ...   \n",
       "2021-12-17  0.026316  ...  0.236842  0.252632  0.236842  0.242105  0.236842   \n",
       "2021-12-18  0.000000  ...  0.010526  0.242105  0.215789  0.236842  0.215789   \n",
       "2021-12-19  0.005263  ...  0.115789  0.242105  0.226316  0.236842  0.205263   \n",
       "2021-12-20  0.036842  ...  0.600000  0.236842  0.168421  0.205263  0.157895   \n",
       "2021-12-21  0.000000  ...  0.010526  0.226316  0.142105  0.168421  0.142105   \n",
       "\n",
       "                  13        14        15        16  total_litter  \n",
       "2021-01-06  0.526316  0.394737  0.078947  0.010526           3.0  \n",
       "2021-01-07  0.526316  0.426316  0.084211  0.026316           2.0  \n",
       "2021-01-08  0.526316  0.400000  0.036842  0.000000         114.0  \n",
       "2021-01-09  0.526316  0.400000  0.042105  0.005263          58.0  \n",
       "2021-01-10  0.526316  0.400000  0.068421  0.010526          49.0  \n",
       "...              ...       ...       ...       ...           ...  \n",
       "2021-12-17  0.526316  0.457895  0.047368  0.000000         140.0  \n",
       "2021-12-18  0.526316  0.489474  0.042105  0.010526          18.0  \n",
       "2021-12-19  0.526316  0.426316  0.063158  0.015789          92.0  \n",
       "2021-12-20  0.489474  0.342105  0.036842  0.000000         232.0  \n",
       "2021-12-21  0.526316  0.321053  0.026316  0.005263          14.0  \n",
       "\n",
       "[226 rows x 25 columns]"
      ]
     },
     "execution_count": 103,
     "metadata": {},
     "output_type": "execute_result"
    }
   ],
   "source": [
    "ML1"
   ]
  },
  {
   "cell_type": "code",
   "execution_count": 104,
   "id": "65ec7708",
   "metadata": {},
   "outputs": [],
   "source": [
    "ML1['daily']=1.0"
   ]
  },
  {
   "cell_type": "code",
   "execution_count": 105,
   "id": "7d592e7f",
   "metadata": {},
   "outputs": [
    {
     "data": {
      "text/plain": [
       "Index([2021-01-09, 2021-02-20, 2021-02-27, 2021-04-03, 2021-04-17, 2021-04-24,\n",
       "       2021-05-01, 2021-05-08, 2021-05-15, 2021-06-05, 2021-06-12, 2021-06-19,\n",
       "       2021-06-26, 2021-07-03, 2021-07-17, 2021-07-24, 2021-08-21, 2021-08-28,\n",
       "       2021-09-04, 2021-09-18, 2021-09-25, 2021-10-02, 2021-10-09, 2021-10-16,\n",
       "       2021-10-23, 2021-11-06, 2021-11-13, 2021-11-20, 2021-11-27, 2021-12-04,\n",
       "       2021-12-11, 2021-12-18],\n",
       "      dtype='object')"
      ]
     },
     "execution_count": 105,
     "metadata": {},
     "output_type": "execute_result"
    }
   ],
   "source": [
    "ML1[is_weekly].index"
   ]
  },
  {
   "cell_type": "code",
   "execution_count": 106,
   "id": "011eb0a7",
   "metadata": {},
   "outputs": [],
   "source": [
    "ML1.loc[is_weekly,'weekly']=1.0"
   ]
  },
  {
   "cell_type": "code",
   "execution_count": 107,
   "id": "24c7b034",
   "metadata": {},
   "outputs": [
    {
     "data": {
      "text/plain": [
       "0.0    194\n",
       "1.0     32\n",
       "Name: weekly, dtype: int64"
      ]
     },
     "execution_count": 107,
     "metadata": {},
     "output_type": "execute_result"
    }
   ],
   "source": [
    "ML1['weekly'].value_counts()"
   ]
  },
  {
   "cell_type": "code",
   "execution_count": 108,
   "id": "778e6e58",
   "metadata": {},
   "outputs": [],
   "source": [
    "ML1.loc[is_holiday,'holiday']=1.0"
   ]
  },
  {
   "cell_type": "code",
   "execution_count": 109,
   "id": "2484d1f9",
   "metadata": {},
   "outputs": [
    {
     "data": {
      "text/plain": [
       "0.0    190\n",
       "1.0     36\n",
       "Name: holiday, dtype: int64"
      ]
     },
     "execution_count": 109,
     "metadata": {},
     "output_type": "execute_result"
    }
   ],
   "source": [
    "ML1['holiday'].value_counts()"
   ]
  },
  {
   "cell_type": "code",
   "execution_count": 110,
   "id": "1cc22677",
   "metadata": {},
   "outputs": [
    {
     "data": {
      "text/html": [
       "<div>\n",
       "<style scoped>\n",
       "    .dataframe tbody tr th:only-of-type {\n",
       "        vertical-align: middle;\n",
       "    }\n",
       "\n",
       "    .dataframe tbody tr th {\n",
       "        vertical-align: top;\n",
       "    }\n",
       "\n",
       "    .dataframe thead th {\n",
       "        text-align: right;\n",
       "    }\n",
       "</style>\n",
       "<table border=\"1\" class=\"dataframe\">\n",
       "  <thead>\n",
       "    <tr style=\"text-align: right;\">\n",
       "      <th></th>\n",
       "      <th>daily</th>\n",
       "      <th>weekly</th>\n",
       "      <th>holiday</th>\n",
       "      <th>0</th>\n",
       "      <th>1</th>\n",
       "      <th>2</th>\n",
       "      <th>3</th>\n",
       "      <th>0</th>\n",
       "      <th>1</th>\n",
       "      <th>2</th>\n",
       "      <th>...</th>\n",
       "      <th>8</th>\n",
       "      <th>9</th>\n",
       "      <th>10</th>\n",
       "      <th>11</th>\n",
       "      <th>12</th>\n",
       "      <th>13</th>\n",
       "      <th>14</th>\n",
       "      <th>15</th>\n",
       "      <th>16</th>\n",
       "      <th>total_litter</th>\n",
       "    </tr>\n",
       "  </thead>\n",
       "  <tbody>\n",
       "    <tr>\n",
       "      <th>2021-01-06</th>\n",
       "      <td>1.0</td>\n",
       "      <td>0.0</td>\n",
       "      <td>0.0</td>\n",
       "      <td>0.0</td>\n",
       "      <td>0.0</td>\n",
       "      <td>0.0</td>\n",
       "      <td>1.0</td>\n",
       "      <td>0.000000</td>\n",
       "      <td>0.010526</td>\n",
       "      <td>0.000000</td>\n",
       "      <td>...</td>\n",
       "      <td>0.000000</td>\n",
       "      <td>0.205263</td>\n",
       "      <td>0.178947</td>\n",
       "      <td>0.189474</td>\n",
       "      <td>0.168421</td>\n",
       "      <td>0.526316</td>\n",
       "      <td>0.394737</td>\n",
       "      <td>0.078947</td>\n",
       "      <td>0.010526</td>\n",
       "      <td>3.0</td>\n",
       "    </tr>\n",
       "    <tr>\n",
       "      <th>2021-01-07</th>\n",
       "      <td>1.0</td>\n",
       "      <td>0.0</td>\n",
       "      <td>0.0</td>\n",
       "      <td>0.0</td>\n",
       "      <td>0.0</td>\n",
       "      <td>1.0</td>\n",
       "      <td>0.0</td>\n",
       "      <td>0.000000</td>\n",
       "      <td>0.000000</td>\n",
       "      <td>0.000000</td>\n",
       "      <td>...</td>\n",
       "      <td>0.000000</td>\n",
       "      <td>0.215789</td>\n",
       "      <td>0.178947</td>\n",
       "      <td>0.194737</td>\n",
       "      <td>0.168421</td>\n",
       "      <td>0.526316</td>\n",
       "      <td>0.426316</td>\n",
       "      <td>0.084211</td>\n",
       "      <td>0.026316</td>\n",
       "      <td>2.0</td>\n",
       "    </tr>\n",
       "    <tr>\n",
       "      <th>2021-01-08</th>\n",
       "      <td>1.0</td>\n",
       "      <td>0.0</td>\n",
       "      <td>0.0</td>\n",
       "      <td>0.0</td>\n",
       "      <td>0.0</td>\n",
       "      <td>1.0</td>\n",
       "      <td>0.0</td>\n",
       "      <td>0.010526</td>\n",
       "      <td>0.068421</td>\n",
       "      <td>0.031579</td>\n",
       "      <td>...</td>\n",
       "      <td>0.168421</td>\n",
       "      <td>0.215789</td>\n",
       "      <td>0.147368</td>\n",
       "      <td>0.189474</td>\n",
       "      <td>0.147368</td>\n",
       "      <td>0.526316</td>\n",
       "      <td>0.400000</td>\n",
       "      <td>0.036842</td>\n",
       "      <td>0.000000</td>\n",
       "      <td>114.0</td>\n",
       "    </tr>\n",
       "    <tr>\n",
       "      <th>2021-01-09</th>\n",
       "      <td>1.0</td>\n",
       "      <td>1.0</td>\n",
       "      <td>1.0</td>\n",
       "      <td>0.0</td>\n",
       "      <td>1.0</td>\n",
       "      <td>0.0</td>\n",
       "      <td>0.0</td>\n",
       "      <td>0.015789</td>\n",
       "      <td>0.057895</td>\n",
       "      <td>0.005263</td>\n",
       "      <td>...</td>\n",
       "      <td>0.110526</td>\n",
       "      <td>0.226316</td>\n",
       "      <td>0.131579</td>\n",
       "      <td>0.194737</td>\n",
       "      <td>0.131579</td>\n",
       "      <td>0.526316</td>\n",
       "      <td>0.400000</td>\n",
       "      <td>0.042105</td>\n",
       "      <td>0.005263</td>\n",
       "      <td>58.0</td>\n",
       "    </tr>\n",
       "    <tr>\n",
       "      <th>2021-01-10</th>\n",
       "      <td>1.0</td>\n",
       "      <td>0.0</td>\n",
       "      <td>0.0</td>\n",
       "      <td>1.0</td>\n",
       "      <td>0.0</td>\n",
       "      <td>0.0</td>\n",
       "      <td>0.0</td>\n",
       "      <td>0.010526</td>\n",
       "      <td>0.010526</td>\n",
       "      <td>0.000000</td>\n",
       "      <td>...</td>\n",
       "      <td>0.047368</td>\n",
       "      <td>0.215789</td>\n",
       "      <td>0.147368</td>\n",
       "      <td>0.194737</td>\n",
       "      <td>0.142105</td>\n",
       "      <td>0.526316</td>\n",
       "      <td>0.400000</td>\n",
       "      <td>0.068421</td>\n",
       "      <td>0.010526</td>\n",
       "      <td>49.0</td>\n",
       "    </tr>\n",
       "    <tr>\n",
       "      <th>...</th>\n",
       "      <td>...</td>\n",
       "      <td>...</td>\n",
       "      <td>...</td>\n",
       "      <td>...</td>\n",
       "      <td>...</td>\n",
       "      <td>...</td>\n",
       "      <td>...</td>\n",
       "      <td>...</td>\n",
       "      <td>...</td>\n",
       "      <td>...</td>\n",
       "      <td>...</td>\n",
       "      <td>...</td>\n",
       "      <td>...</td>\n",
       "      <td>...</td>\n",
       "      <td>...</td>\n",
       "      <td>...</td>\n",
       "      <td>...</td>\n",
       "      <td>...</td>\n",
       "      <td>...</td>\n",
       "      <td>...</td>\n",
       "      <td>...</td>\n",
       "    </tr>\n",
       "    <tr>\n",
       "      <th>2021-12-17</th>\n",
       "      <td>1.0</td>\n",
       "      <td>0.0</td>\n",
       "      <td>0.0</td>\n",
       "      <td>0.0</td>\n",
       "      <td>0.0</td>\n",
       "      <td>1.0</td>\n",
       "      <td>0.0</td>\n",
       "      <td>0.163158</td>\n",
       "      <td>0.073684</td>\n",
       "      <td>0.026316</td>\n",
       "      <td>...</td>\n",
       "      <td>0.236842</td>\n",
       "      <td>0.252632</td>\n",
       "      <td>0.236842</td>\n",
       "      <td>0.242105</td>\n",
       "      <td>0.236842</td>\n",
       "      <td>0.526316</td>\n",
       "      <td>0.457895</td>\n",
       "      <td>0.047368</td>\n",
       "      <td>0.000000</td>\n",
       "      <td>140.0</td>\n",
       "    </tr>\n",
       "    <tr>\n",
       "      <th>2021-12-18</th>\n",
       "      <td>1.0</td>\n",
       "      <td>1.0</td>\n",
       "      <td>1.0</td>\n",
       "      <td>0.0</td>\n",
       "      <td>1.0</td>\n",
       "      <td>0.0</td>\n",
       "      <td>0.0</td>\n",
       "      <td>0.000000</td>\n",
       "      <td>0.031579</td>\n",
       "      <td>0.000000</td>\n",
       "      <td>...</td>\n",
       "      <td>0.010526</td>\n",
       "      <td>0.242105</td>\n",
       "      <td>0.215789</td>\n",
       "      <td>0.236842</td>\n",
       "      <td>0.215789</td>\n",
       "      <td>0.526316</td>\n",
       "      <td>0.489474</td>\n",
       "      <td>0.042105</td>\n",
       "      <td>0.010526</td>\n",
       "      <td>18.0</td>\n",
       "    </tr>\n",
       "    <tr>\n",
       "      <th>2021-12-19</th>\n",
       "      <td>1.0</td>\n",
       "      <td>0.0</td>\n",
       "      <td>0.0</td>\n",
       "      <td>0.0</td>\n",
       "      <td>0.0</td>\n",
       "      <td>1.0</td>\n",
       "      <td>0.0</td>\n",
       "      <td>0.100000</td>\n",
       "      <td>0.052632</td>\n",
       "      <td>0.005263</td>\n",
       "      <td>...</td>\n",
       "      <td>0.115789</td>\n",
       "      <td>0.242105</td>\n",
       "      <td>0.226316</td>\n",
       "      <td>0.236842</td>\n",
       "      <td>0.205263</td>\n",
       "      <td>0.526316</td>\n",
       "      <td>0.426316</td>\n",
       "      <td>0.063158</td>\n",
       "      <td>0.015789</td>\n",
       "      <td>92.0</td>\n",
       "    </tr>\n",
       "    <tr>\n",
       "      <th>2021-12-20</th>\n",
       "      <td>1.0</td>\n",
       "      <td>0.0</td>\n",
       "      <td>0.0</td>\n",
       "      <td>1.0</td>\n",
       "      <td>0.0</td>\n",
       "      <td>0.0</td>\n",
       "      <td>0.0</td>\n",
       "      <td>0.026316</td>\n",
       "      <td>0.115789</td>\n",
       "      <td>0.036842</td>\n",
       "      <td>...</td>\n",
       "      <td>0.600000</td>\n",
       "      <td>0.236842</td>\n",
       "      <td>0.168421</td>\n",
       "      <td>0.205263</td>\n",
       "      <td>0.157895</td>\n",
       "      <td>0.489474</td>\n",
       "      <td>0.342105</td>\n",
       "      <td>0.036842</td>\n",
       "      <td>0.000000</td>\n",
       "      <td>232.0</td>\n",
       "    </tr>\n",
       "    <tr>\n",
       "      <th>2021-12-21</th>\n",
       "      <td>1.0</td>\n",
       "      <td>0.0</td>\n",
       "      <td>0.0</td>\n",
       "      <td>0.0</td>\n",
       "      <td>0.0</td>\n",
       "      <td>0.0</td>\n",
       "      <td>1.0</td>\n",
       "      <td>0.005263</td>\n",
       "      <td>0.021053</td>\n",
       "      <td>0.000000</td>\n",
       "      <td>...</td>\n",
       "      <td>0.010526</td>\n",
       "      <td>0.226316</td>\n",
       "      <td>0.142105</td>\n",
       "      <td>0.168421</td>\n",
       "      <td>0.142105</td>\n",
       "      <td>0.526316</td>\n",
       "      <td>0.321053</td>\n",
       "      <td>0.026316</td>\n",
       "      <td>0.005263</td>\n",
       "      <td>14.0</td>\n",
       "    </tr>\n",
       "  </tbody>\n",
       "</table>\n",
       "<p>226 rows × 25 columns</p>\n",
       "</div>"
      ],
      "text/plain": [
       "            daily  weekly  holiday    0    1    2    3         0         1  \\\n",
       "2021-01-06    1.0     0.0      0.0  0.0  0.0  0.0  1.0  0.000000  0.010526   \n",
       "2021-01-07    1.0     0.0      0.0  0.0  0.0  1.0  0.0  0.000000  0.000000   \n",
       "2021-01-08    1.0     0.0      0.0  0.0  0.0  1.0  0.0  0.010526  0.068421   \n",
       "2021-01-09    1.0     1.0      1.0  0.0  1.0  0.0  0.0  0.015789  0.057895   \n",
       "2021-01-10    1.0     0.0      0.0  1.0  0.0  0.0  0.0  0.010526  0.010526   \n",
       "...           ...     ...      ...  ...  ...  ...  ...       ...       ...   \n",
       "2021-12-17    1.0     0.0      0.0  0.0  0.0  1.0  0.0  0.163158  0.073684   \n",
       "2021-12-18    1.0     1.0      1.0  0.0  1.0  0.0  0.0  0.000000  0.031579   \n",
       "2021-12-19    1.0     0.0      0.0  0.0  0.0  1.0  0.0  0.100000  0.052632   \n",
       "2021-12-20    1.0     0.0      0.0  1.0  0.0  0.0  0.0  0.026316  0.115789   \n",
       "2021-12-21    1.0     0.0      0.0  0.0  0.0  0.0  1.0  0.005263  0.021053   \n",
       "\n",
       "                   2  ...         8         9        10        11        12  \\\n",
       "2021-01-06  0.000000  ...  0.000000  0.205263  0.178947  0.189474  0.168421   \n",
       "2021-01-07  0.000000  ...  0.000000  0.215789  0.178947  0.194737  0.168421   \n",
       "2021-01-08  0.031579  ...  0.168421  0.215789  0.147368  0.189474  0.147368   \n",
       "2021-01-09  0.005263  ...  0.110526  0.226316  0.131579  0.194737  0.131579   \n",
       "2021-01-10  0.000000  ...  0.047368  0.215789  0.147368  0.194737  0.142105   \n",
       "...              ...  ...       ...       ...       ...       ...       ...   \n",
       "2021-12-17  0.026316  ...  0.236842  0.252632  0.236842  0.242105  0.236842   \n",
       "2021-12-18  0.000000  ...  0.010526  0.242105  0.215789  0.236842  0.215789   \n",
       "2021-12-19  0.005263  ...  0.115789  0.242105  0.226316  0.236842  0.205263   \n",
       "2021-12-20  0.036842  ...  0.600000  0.236842  0.168421  0.205263  0.157895   \n",
       "2021-12-21  0.000000  ...  0.010526  0.226316  0.142105  0.168421  0.142105   \n",
       "\n",
       "                  13        14        15        16  total_litter  \n",
       "2021-01-06  0.526316  0.394737  0.078947  0.010526           3.0  \n",
       "2021-01-07  0.526316  0.426316  0.084211  0.026316           2.0  \n",
       "2021-01-08  0.526316  0.400000  0.036842  0.000000         114.0  \n",
       "2021-01-09  0.526316  0.400000  0.042105  0.005263          58.0  \n",
       "2021-01-10  0.526316  0.400000  0.068421  0.010526          49.0  \n",
       "...              ...       ...       ...       ...           ...  \n",
       "2021-12-17  0.526316  0.457895  0.047368  0.000000         140.0  \n",
       "2021-12-18  0.526316  0.489474  0.042105  0.010526          18.0  \n",
       "2021-12-19  0.526316  0.426316  0.063158  0.015789          92.0  \n",
       "2021-12-20  0.489474  0.342105  0.036842  0.000000         232.0  \n",
       "2021-12-21  0.526316  0.321053  0.026316  0.005263          14.0  \n",
       "\n",
       "[226 rows x 25 columns]"
      ]
     },
     "execution_count": 110,
     "metadata": {},
     "output_type": "execute_result"
    }
   ],
   "source": [
    "ML1"
   ]
  },
  {
   "cell_type": "code",
   "execution_count": 112,
   "id": "4ea0e242",
   "metadata": {},
   "outputs": [],
   "source": [
    "ML1.to_csv('./outdata/Hoorn_ML.csv')"
   ]
  },
  {
   "cell_type": "code",
   "execution_count": null,
   "id": "f695c657",
   "metadata": {},
   "outputs": [],
   "source": []
  },
  {
   "cell_type": "code",
   "execution_count": null,
   "id": "6ec4528f",
   "metadata": {},
   "outputs": [],
   "source": []
  }
 ],
 "metadata": {
  "kernelspec": {
   "display_name": "Python 3 (ipykernel)",
   "language": "python",
   "name": "python3"
  },
  "language_info": {
   "codemirror_mode": {
    "name": "ipython",
    "version": 3
   },
   "file_extension": ".py",
   "mimetype": "text/x-python",
   "name": "python",
   "nbconvert_exporter": "python",
   "pygments_lexer": "ipython3",
   "version": "3.8.13"
  },
  "toc": {
   "base_numbering": 1,
   "nav_menu": {},
   "number_sections": true,
   "sideBar": true,
   "skip_h1_title": false,
   "title_cell": "Table of Contents",
   "title_sidebar": "Contents",
   "toc_cell": false,
   "toc_position": {},
   "toc_section_display": true,
   "toc_window_display": false
  },
  "varInspector": {
   "cols": {
    "lenName": 16,
    "lenType": 16,
    "lenVar": 40
   },
   "kernels_config": {
    "python": {
     "delete_cmd_postfix": "",
     "delete_cmd_prefix": "del ",
     "library": "var_list.py",
     "varRefreshCmd": "print(var_dic_list())"
    },
    "r": {
     "delete_cmd_postfix": ") ",
     "delete_cmd_prefix": "rm(",
     "library": "var_list.r",
     "varRefreshCmd": "cat(var_dic_list()) "
    }
   },
   "types_to_exclude": [
    "module",
    "function",
    "builtin_function_or_method",
    "instance",
    "_Feature"
   ],
   "window_display": false
  }
 },
 "nbformat": 4,
 "nbformat_minor": 5
}
